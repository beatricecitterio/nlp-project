{
 "cells": [
  {
   "cell_type": "markdown",
   "metadata": {},
   "source": [
    "## **Data Loading and Exploration**\n",
    "In this notebook we load and explore the relevant data we have found."
   ]
  },
  {
   "cell_type": "code",
   "execution_count": 2,
   "metadata": {},
   "outputs": [],
   "source": [
    "## IMPORTS\n",
    "import pandas as pd"
   ]
  },
  {
   "cell_type": "markdown",
   "metadata": {},
   "source": [
    "### **Evalita Dataset**\n",
    "The first dataset, which was downloaded from [this link](https://codalab.lisn.upsaclay.fr/competitions/8507#learn_the_details-get_starting_kit), was created for EVALITA 2023 Task - PoliticIT competition. Each row corresponds to a tweet, and for each tweet we know the ideology of the user (both binary and multiclass) $\\to$ we can use this dataset for text classification: determine the ideology of a user given a tweet. In total we have 103840 tweets and 1298 distinct users.\n",
    "\n",
    "We are also provided with a test df, <code>politicIT_phase_2_test_public.csv</code> in the <code>test_data</code> folder, and the corresponding evaluation df is <code>politicIT_phase_2_test_codalab.csv</code> in the same folder.\n",
    "\n",
    "Evalita also had a dataset for hate speech recognition in political text but it is not available anymore.\n"
   ]
  },
  {
   "cell_type": "code",
   "execution_count": 9,
   "metadata": {},
   "outputs": [
    {
     "data": {
      "text/html": [
       "<div>\n",
       "<style scoped>\n",
       "    .dataframe tbody tr th:only-of-type {\n",
       "        vertical-align: middle;\n",
       "    }\n",
       "\n",
       "    .dataframe tbody tr th {\n",
       "        vertical-align: top;\n",
       "    }\n",
       "\n",
       "    .dataframe thead th {\n",
       "        text-align: right;\n",
       "    }\n",
       "</style>\n",
       "<table border=\"1\" class=\"dataframe\">\n",
       "  <thead>\n",
       "    <tr style=\"text-align: right;\">\n",
       "      <th></th>\n",
       "      <th>label</th>\n",
       "      <th>gender</th>\n",
       "      <th>ideology_binary</th>\n",
       "      <th>ideology_multiclass</th>\n",
       "      <th>tweet</th>\n",
       "    </tr>\n",
       "  </thead>\n",
       "  <tbody>\n",
       "    <tr>\n",
       "      <th>0</th>\n",
       "      <td>74d04bfa28fcdf090458ee8d6962f5ed</td>\n",
       "      <td>female</td>\n",
       "      <td>left</td>\n",
       "      <td>moderate_left</td>\n",
       "      <td>E adesso non mi resta che leggere il libro</td>\n",
       "    </tr>\n",
       "    <tr>\n",
       "      <th>1</th>\n",
       "      <td>b4d9fbd1bfa9f85b42607826924d68b8</td>\n",
       "      <td>female</td>\n",
       "      <td>left</td>\n",
       "      <td>moderate_left</td>\n",
       "      <td>Cronicità: dati ancora impietosi rispetto alle...</td>\n",
       "    </tr>\n",
       "    <tr>\n",
       "      <th>2</th>\n",
       "      <td>b4d9fbd1bfa9f85b42607826924d68b8</td>\n",
       "      <td>female</td>\n",
       "      <td>left</td>\n",
       "      <td>moderate_left</td>\n",
       "      <td>È incredibile come i leghisti non accettino il...</td>\n",
       "    </tr>\n",
       "    <tr>\n",
       "      <th>3</th>\n",
       "      <td>b4d9fbd1bfa9f85b42607826924d68b8</td>\n",
       "      <td>female</td>\n",
       "      <td>left</td>\n",
       "      <td>moderate_left</td>\n",
       "      <td>Al lavoro con il consorzio agriturismo Mantova...</td>\n",
       "    </tr>\n",
       "    <tr>\n",
       "      <th>4</th>\n",
       "      <td>b4d9fbd1bfa9f85b42607826924d68b8</td>\n",
       "      <td>female</td>\n",
       "      <td>left</td>\n",
       "      <td>moderate_left</td>\n",
       "      <td>Ma come, se per l’assessore leghista [POLITICI...</td>\n",
       "    </tr>\n",
       "  </tbody>\n",
       "</table>\n",
       "</div>"
      ],
      "text/plain": [
       "                              label  gender ideology_binary  \\\n",
       "0  74d04bfa28fcdf090458ee8d6962f5ed  female            left   \n",
       "1  b4d9fbd1bfa9f85b42607826924d68b8  female            left   \n",
       "2  b4d9fbd1bfa9f85b42607826924d68b8  female            left   \n",
       "3  b4d9fbd1bfa9f85b42607826924d68b8  female            left   \n",
       "4  b4d9fbd1bfa9f85b42607826924d68b8  female            left   \n",
       "\n",
       "  ideology_multiclass                                              tweet  \n",
       "0       moderate_left         E adesso non mi resta che leggere il libro  \n",
       "1       moderate_left  Cronicità: dati ancora impietosi rispetto alle...  \n",
       "2       moderate_left  È incredibile come i leghisti non accettino il...  \n",
       "3       moderate_left  Al lavoro con il consorzio agriturismo Mantova...  \n",
       "4       moderate_left  Ma come, se per l’assessore leghista [POLITICI...  "
      ]
     },
     "execution_count": 9,
     "metadata": {},
     "output_type": "execute_result"
    }
   ],
   "source": [
    "df = pd.read_csv('train_data/politicIT_phase_2_train_public.csv')\n",
    "df.head()"
   ]
  },
  {
   "cell_type": "code",
   "execution_count": 10,
   "metadata": {},
   "outputs": [
    {
     "data": {
      "text/plain": [
       "(103840, 5)"
      ]
     },
     "execution_count": 10,
     "metadata": {},
     "output_type": "execute_result"
    }
   ],
   "source": [
    "df.shape"
   ]
  },
  {
   "cell_type": "code",
   "execution_count": 11,
   "metadata": {},
   "outputs": [
    {
     "data": {
      "text/plain": [
       "1298"
      ]
     },
     "execution_count": 11,
     "metadata": {},
     "output_type": "execute_result"
    }
   ],
   "source": [
    "len(df.label.value_counts())"
   ]
  },
  {
   "cell_type": "markdown",
   "metadata": {},
   "source": [
    "### **UniPD Paper** on \"Predicting Twitter Users' Political Orientation: An Application to the Italian Political Scenario\"\n",
    "Another interesting dataset is the one created by the University of Padova: more than 9 millions manually annotated tweets. The issue here is that I found the dataset only at [this link](https://spritz.math.unipd.it/projects/politicalorientation/) and it has all the tweets but it is missing the labels (it should contain an additional file that is not there). On top of this, the folder is huge so for the moment I won't add it to the repository. However, if we need more data in the past remember this paper."
   ]
  },
  {
   "cell_type": "markdown",
   "metadata": {},
   "source": [
    "### **ITA-ELECTION-2022**\n",
    "A lot of data, but I am not sure how to combine it all together. Can be found [here](https://github.com/frapierri/ita-election-2022)."
   ]
  },
  {
   "cell_type": "markdown",
   "metadata": {},
   "source": [
    "###\n",
    "List of 34 politicians' interviews from La Stampa and La Repubblica\n"
   ]
  },
  {
   "cell_type": "markdown",
   "metadata": {},
   "source": [
    "## **Other data that could be interesting**\n",
    "1. tweets from politicians to do sentiment analysis + topic modeling + stance detection (rilevare la posizione su un tema). _Politoscope dovrebbe avere questi dati, ho mandato mail per accesso_\n",
    "2. text from media (journals)"
   ]
  },
  {
   "cell_type": "markdown",
   "metadata": {},
   "source": [
    "## **Other Tools**\n",
    "[Sentita](https://nicgian.github.io/Sentita/) is a sentiment analysis tool for italian language. We might use it to compare our performance or do fine tuning or take inspiration."
   ]
  },
  {
   "cell_type": "code",
   "execution_count": null,
   "metadata": {},
   "outputs": [],
   "source": []
  },
  {
   "cell_type": "code",
   "execution_count": null,
   "metadata": {},
   "outputs": [],
   "source": []
  }
 ],
 "metadata": {
  "kernelspec": {
   "display_name": "base",
   "language": "python",
   "name": "python3"
  },
  "language_info": {
   "codemirror_mode": {
    "name": "ipython",
    "version": 3
   },
   "file_extension": ".py",
   "mimetype": "text/x-python",
   "name": "python",
   "nbconvert_exporter": "python",
   "pygments_lexer": "ipython3",
   "version": "3.8.8"
  }
 },
 "nbformat": 4,
 "nbformat_minor": 2
}
