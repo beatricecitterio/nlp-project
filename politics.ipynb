{
 "cells": [
  {
   "cell_type": "markdown",
   "metadata": {},
   "source": [
    "## **DATASET CREATION**"
   ]
  },
  {
   "cell_type": "code",
   "execution_count": 1,
   "metadata": {},
   "outputs": [
    {
     "name": "stderr",
     "output_type": "stream",
     "text": [
      "/Users/filippofocaccia/anaconda3/lib/python3.11/site-packages/pandas/core/arrays/masked.py:60: UserWarning: Pandas requires version '1.3.6' or newer of 'bottleneck' (version '1.3.5' currently installed).\n",
      "  from pandas.core import (\n"
     ]
    }
   ],
   "source": [
    "import pandas as pd\n",
    "import numpy as np\n",
    "from nltk.corpus import stopwords\n",
    "from nltk.tokenize import word_tokenize\n",
    "import gensim\n",
    "from gensim import corpora\n",
    "from gensim.models.ldamodel import LdaModel\n",
    "from nltk.corpus import stopwords\n",
    "from langdetect import detect\n",
    "import re\n",
    "import re\n",
    "import nltk\n",
    "from nltk.corpus import stopwords\n",
    "from nltk.stem import WordNetLemmatizer\n",
    "from langdetect import detect\n",
    "import spacy\n",
    "from tqdm import tqdm\n",
    "import pyLDAvis.gensim_models as gensimvis\n",
    "import pickle \n",
    "import pyLDAvis\n",
    "import os\n"
   ]
  },
  {
   "cell_type": "code",
   "execution_count": 8,
   "metadata": {},
   "outputs": [],
   "source": [
    "politicians= pd.read_csv('politicians_data/politicians_classified.csv')"
   ]
  },
  {
   "cell_type": "code",
   "execution_count": 9,
   "metadata": {},
   "outputs": [],
   "source": [
    "#drop the last column\n",
    "politicians.drop(politicians.columns[-1], axis=1, inplace=True)\n"
   ]
  },
  {
   "cell_type": "code",
   "execution_count": 10,
   "metadata": {},
   "outputs": [
    {
     "name": "stderr",
     "output_type": "stream",
     "text": [
      "[nltk_data] Downloading package stopwords to\n",
      "[nltk_data]     /Users/filippofocaccia/nltk_data...\n",
      "[nltk_data]   Package stopwords is already up-to-date!\n",
      "[nltk_data] Downloading package punkt to\n",
      "[nltk_data]     /Users/filippofocaccia/nltk_data...\n",
      "[nltk_data]   Package punkt is already up-to-date!\n",
      "[nltk_data] Downloading package wordnet to\n",
      "[nltk_data]     /Users/filippofocaccia/nltk_data...\n",
      "[nltk_data]   Package wordnet is already up-to-date!\n",
      "Processing tweets: 100%|██████████| 17245/17245 [04:39<00:00, 61.75it/s] \n"
     ]
    }
   ],
   "source": [
    "# Download NLTK resources\n",
    "nltk.download('stopwords')\n",
    "nltk.download('punkt')\n",
    "nltk.download('wordnet')\n",
    "\n",
    "# Load stopwords\n",
    "stop_words_italian = set(stopwords.words('italian'))\n",
    "stop_words_english = set(stopwords.words('english'))\n",
    "lemmatizer = WordNetLemmatizer()\n",
    "\n",
    "# Load spaCy models for Italian and English\n",
    "# You need to install these models first using:\n",
    "nlp_it = spacy.load('it_core_news_sm')\n",
    "nlp_en = spacy.load('en_core_web_sm')\n",
    "\n",
    "def preprocess_text(text):\n",
    "    try:\n",
    "        # Detect language\n",
    "        lang = detect(text)\n",
    "    except:\n",
    "        lang = 'unknown'\n",
    "    \n",
    "    # Remove URLs, mentions, hashtags, and punctuation\n",
    "    text = re.sub(r\"http\\S+|www\\S+|https\\S+\", '', text, flags=re.MULTILINE)\n",
    "    text = re.sub(r'\\@\\w+|\\#', '', text)\n",
    "    text = re.sub(r'[^\\w\\s]', '', text)\n",
    "    \n",
    "    if lang == 'it':  # Italian\n",
    "        # Process with spaCy for Italian\n",
    "        doc = nlp_it(text.lower())\n",
    "        # Get lemmas and filter stopwords, short words, verbs, and adverbs\n",
    "        true_tokens = [token.lemma_ for token in doc \n",
    "                      if token.text not in stop_words_italian and len(token.text) > 2 and token.pos_ not in ('VERB', 'ADV','AUX')]\n",
    "    \n",
    "    elif lang == 'en':  # English\n",
    "        # Process with spaCy for English\n",
    "        doc = nlp_en(text.lower())\n",
    "        # Get lemmas and filter stopwords, short words, verbs, and adverbs\n",
    "        true_tokens = [token.lemma_ for token in doc \n",
    "                      if token.text not in stop_words_english and len(token.text) > 2 and token.pos_ not in ('VERB', 'ADV')]\n",
    "    \n",
    "    else: \n",
    "        # Fallback to NLTK for spacy errors or mislablings\n",
    "        tokens = word_tokenize(text.lower())\n",
    "        true_tokens = [lemmatizer.lemmatize(word) for word in tokens if len(word) > 2]\n",
    "    \n",
    "    return true_tokens\n",
    "\n",
    "# Apply preprocessing to the tweets\n",
    "politicians_tweets = politicians['Content']\n",
    "\n",
    "# Method 1: Using tqdm with apply (simpler)\n",
    "tqdm.pandas(desc=\"Processing tweets\")\n",
    "politicians['processed_tweet'] = politicians_tweets.progress_apply(lambda x: preprocess_text(x))\n"
   ]
  },
  {
   "cell_type": "markdown",
   "metadata": {},
   "source": [
    "### Let's perform topic modeling on all the politicians' tweets using LDA, initially we perform it on the whole dataset"
   ]
  },
  {
   "cell_type": "code",
   "execution_count": 11,
   "metadata": {},
   "outputs": [],
   "source": [
    "dictionary = corpora.Dictionary(politicians['processed_tweet'])\n",
    "corpus = [dictionary.doc2bow(text) for text in politicians['processed_tweet']]\n"
   ]
  },
  {
   "cell_type": "code",
   "execution_count": 12,
   "metadata": {},
   "outputs": [],
   "source": [
    "num_topics = 3  # Numero di topic da identificare"
   ]
  },
  {
   "cell_type": "code",
   "execution_count": 13,
   "metadata": {},
   "outputs": [],
   "source": [
    "lda_model = LdaModel(corpus=corpus, id2word=dictionary, num_topics=num_topics, passes=10, random_state=42)"
   ]
  },
  {
   "cell_type": "code",
   "execution_count": 14,
   "metadata": {},
   "outputs": [
    {
     "name": "stdout",
     "output_type": "stream",
     "text": [
      "Topic 0: 0.016*\"governo\" + 0.013*\"lavoro\" + 0.008*\"drago\" + 0.007*\"lavoratore\" + 0.007*\"proposta\" + 0.006*\"scuola\" + 0.006*\"impresa\" + 0.005*\"famiglia\" + 0.005*\"anno\" + 0.005*\"vaccino\"\n",
      "Topic 1: 0.009*\"paese\" + 0.008*\"politico\" + 0.008*\"Roma\" + 0.007*\"politica\" + 0.007*\"grande\" + 0.006*\"anno\" + 0.005*\"italiano\" + 0.005*\"cittadino\" + 0.005*\"ogni\" + 0.005*\"libertà\"\n",
      "Topic 2: 0.011*\"destra\" + 0.010*\"cosa\" + 0.009*\"governo\" + 0.008*\"salvino\" + 0.006*\"sinistra\" + 0.006*\"italiano\" + 0.006*\"conte\" + 0.006*\"parola\" + 0.006*\"drago\" + 0.005*\"ministro\"\n"
     ]
    }
   ],
   "source": [
    "for idx, topic in lda_model.print_topics(-1):\n",
    "    print(f\"Topic {idx}: {topic}\")"
   ]
  },
  {
   "cell_type": "code",
   "execution_count": 15,
   "metadata": {},
   "outputs": [
    {
     "name": "stderr",
     "output_type": "stream",
     "text": [
      "/Users/filippofocaccia/anaconda3/lib/python3.11/site-packages/pandas/core/arrays/masked.py:60: UserWarning: Pandas requires version '1.3.6' or newer of 'bottleneck' (version '1.3.5' currently installed).\n",
      "  from pandas.core import (\n",
      "/Users/filippofocaccia/anaconda3/lib/python3.11/site-packages/pandas/core/arrays/masked.py:60: UserWarning: Pandas requires version '1.3.6' or newer of 'bottleneck' (version '1.3.5' currently installed).\n",
      "  from pandas.core import (\n",
      "/Users/filippofocaccia/anaconda3/lib/python3.11/site-packages/pandas/core/arrays/masked.py:60: UserWarning: Pandas requires version '1.3.6' or newer of 'bottleneck' (version '1.3.5' currently installed).\n",
      "  from pandas.core import (\n",
      "/Users/filippofocaccia/anaconda3/lib/python3.11/site-packages/pandas/core/arrays/masked.py:60: UserWarning: Pandas requires version '1.3.6' or newer of 'bottleneck' (version '1.3.5' currently installed).\n",
      "  from pandas.core import (\n",
      "/Users/filippofocaccia/anaconda3/lib/python3.11/site-packages/pandas/core/arrays/masked.py:60: UserWarning: Pandas requires version '1.3.6' or newer of 'bottleneck' (version '1.3.5' currently installed).\n",
      "  from pandas.core import (\n",
      "/Users/filippofocaccia/anaconda3/lib/python3.11/site-packages/pandas/core/arrays/masked.py:60: UserWarning: Pandas requires version '1.3.6' or newer of 'bottleneck' (version '1.3.5' currently installed).\n",
      "  from pandas.core import (\n",
      "/Users/filippofocaccia/anaconda3/lib/python3.11/site-packages/pandas/core/arrays/masked.py:60: UserWarning: Pandas requires version '1.3.6' or newer of 'bottleneck' (version '1.3.5' currently installed).\n",
      "  from pandas.core import (\n",
      "/Users/filippofocaccia/anaconda3/lib/python3.11/site-packages/pandas/core/arrays/masked.py:60: UserWarning: Pandas requires version '1.3.6' or newer of 'bottleneck' (version '1.3.5' currently installed).\n",
      "  from pandas.core import (\n"
     ]
    },
    {
     "data": {
      "text/html": [
       "\n",
       "<link rel=\"stylesheet\" type=\"text/css\" href=\"https://cdn.jsdelivr.net/gh/bmabey/pyLDAvis@3.4.0/pyLDAvis/js/ldavis.v1.0.0.css\">\n",
       "\n",
       "\n",
       "<div id=\"ldavis_el287257095032165379737389\" style=\"background-color:white;\"></div>\n",
       "<script type=\"text/javascript\">\n",
       "\n",
       "var ldavis_el287257095032165379737389_data = {\"mdsDat\": {\"x\": [-0.03860602017301791, -0.15327736411660492, 0.19188338428962282], \"y\": [-0.1722567078402649, 0.11502856622060034, 0.057228141619664434], \"topics\": [1, 2, 3], \"cluster\": [1, 1, 1], \"Freq\": [42.31583672148427, 34.52594978259978, 23.158213495915952]}, \"tinfo\": {\"Term\": [\"destra\", \"lavoro\", \"salvino\", \"lavoratore\", \"Roma\", \"scuola\", \"impresa\", \"cosa\", \"vaccino\", \"drago\", \"governo\", \"conte\", \"sinistra\", \"melone\", \"democrazia\", \"proposta\", \"piano\", \"governodrago\", \"guerra\", \"migrante\", \"famiglia\", \"comune\", \"tassa\", \"libert\\u00e0\", \"politico\", \"sindaco\", \"parola\", \"valore\", \"citt\\u00e0\", \"grande\", \"citt\\u00e0\", \"guerra\", \"valore\", \"Roma\", \"ucraino\", \"democrazia\", \"internazionale\", \"sindaco\", \"popolo\", \"libero\", \"comune\", \"liberale\", \"Milano\", \"giornata\", \"sfida\", \"dovere\", \"quirinale\", \"memoria\", \"cuore\", \"violenza\", \"storico\", \"romano\", \"capitale\", \"mafia\", \"qualit\\u00e0\", \"gioco\", \"Ucraina\", \"limpegno\", \"abbraccio\", \"progetto\", \"manifestazione\", \"pensiero\", \"comunit\\u00e0\", \"civile\", \"candidato\", \"storia\", \"vittima\", \"centrodestra\", \"societ\\u00e0\", \"piazza\", \"forte\", \"libert\\u00e0\", \"donna\", \"pace\", \"forza\", \"grande\", \"politico\", \"bello\", \"ogni\", \"politica\", \"solidariet\\u00e0\", \"tanto\", \"paese\", \"grazie\", \"cittadino\", \"tutto\", \"persona\", \"anno\", \"partito\", \"litalia\", \"diritto\", \"italiano\", \"europeo\", \"presidente\", \"altro\", \"giorno\", \"Italia\", \"parte\", \"governo\", \"senza\", \"lavoratore\", \"scuola\", \"impresa\", \"vaccino\", \"tassa\", \"governodrago\", \"gas\", \"euro\", \"costo\", \"bolletta\", \"miliardo\", \"covid19\", \"azienda\", \"salute\", \"passo\", \"misura\", \"prezzo\", \"sindacato\", \"patrimoniale\", \"aumento\", \"manovra\", \"riapertura\", \"sanit\\u00e0\", \"nucleare\", \"fiscale\", \"chiusura\", \"aiuto\", \"sanitario\", \"stipendio\", \"personale\", \"norma\", \"reddito\", \"piano\", \"covid\", \"studente\", \"lavoro\", \"milione\", \"governo\", \"proposta\", \"crisi\", \"drago\", \"famiglia\", \"legge\", \"pubblico\", \"giovane\", \"nuovo\", \"mese\", \"anno\", \"diritto\", \"altro\", \"lega\", \"paese\", \"italiano\", \"senza\", \"primo\", \"parlamento\", \"tempo\", \"destra\", \"salvino\", \"migrante\", \"referendum\", \"maio\", \"fratoianni\", \"lamorgese\", \"firma\", \"libico\", \"dibattito\", \"guardia\", \"fratoianne\", \"mediterraneo\", \"illegale\", \"senatore\", \"ong\", \"clandestino\", \"vittoria\", \"sbarco\", \"destro\", \"costiero\", \"libia\", \"nave\", \"ministra\", \"ottimo\", \"dichiarazione\", \"raccolta\", \"inchiesta\", \"trump\", \"cartabia\", \"referendumgiustizia\", \"renzi\", \"minaccia\", \"melone\", \"elettore\", \"vicenda\", \"cosa\", \"conte\", \"sinistra\", \"parola\", \"berluscone\", \"ministro\", \"parlamentare\", \"vergogna\", \"voto\", \"governo\", \"drago\", \"dopo\", \"senato\", \"italiano\", \"parte\", \"nulla\", \"quando\", \"stesso\", \"Italia\", \"sinistraitaliano\", \"senza\", \"parlamento\", \"presidente\", \"politico\", \"altro\", \"volta\", \"politica\", \"giorno\"], \"Freq\": [539.0, 1286.0, 422.0, 559.0, 698.0, 485.0, 426.0, 930.0, 389.0, 864.0, 2008.0, 450.0, 549.0, 244.0, 372.0, 677.0, 314.0, 270.0, 333.0, 176.0, 588.0, 301.0, 237.0, 521.0, 903.0, 285.0, 499.0, 275.0, 267.0, 742.0, 266.53613529106127, 332.94248095252453, 274.9251147821223, 696.0835300286855, 216.6665106464686, 371.31569725380047, 222.10637102002474, 285.0085701515738, 187.31911462187668, 201.25202212632058, 300.32036316394056, 160.2262065865311, 154.4428522509881, 127.95382167282843, 146.7718408527409, 179.64598070687154, 152.1395356565284, 113.86841455526384, 117.52987388023962, 230.32979420396953, 107.5304401590125, 102.89799373598694, 95.67467257693261, 110.70308816255647, 110.5125547642993, 90.02620525333232, 138.39423504996336, 89.6316904907938, 78.62184767466246, 199.57336864557993, 83.92218473073147, 123.66549095912285, 174.39023258239087, 151.41204839764887, 268.3057139593803, 281.64101507887756, 189.6853777739242, 302.7984121985708, 155.71058434344292, 249.9589363788481, 255.85387292112335, 460.3876918672957, 369.6952093080516, 296.48238119526604, 448.6998711036301, 601.0355144448506, 704.6117594828028, 288.74096227143355, 464.10749896355054, 677.2023927746795, 315.9773974626959, 364.91315761293885, 808.2691318279458, 418.924305562149, 471.1176358258151, 446.1818801627375, 443.5670252752571, 564.3110434336359, 358.2621548740236, 404.9991377400243, 436.82436840361436, 495.0594533384255, 334.1181837198957, 339.5783044806863, 387.45793030758654, 357.79007713167806, 341.1936254917013, 335.21886945559106, 366.3583985690001, 311.6678523011929, 558.5374570178402, 484.8183677857561, 426.04779681776444, 388.82902063640125, 236.9361153677805, 269.61053178108074, 205.326851332936, 178.84874210212527, 198.9238320639935, 154.62730541298833, 165.44385600837728, 154.81160925853874, 143.2219743520092, 147.138614744061, 184.97292658575327, 128.82117227129072, 127.92378432248107, 141.17329961552872, 159.92457157971631, 119.60274383095484, 123.9627822606954, 118.97896032863852, 138.91965332340695, 117.03492735412489, 105.36795690268472, 104.30210481334991, 111.63530223217307, 109.37946059716819, 94.55218473564875, 134.72243761522893, 135.251803880799, 142.38184899226647, 306.43456607000934, 221.67771264811424, 174.7068560317107, 1000.8275375151212, 263.42067943145076, 1191.985191068315, 489.94850800901514, 308.4536517826906, 565.8550683768318, 408.84421534702005, 343.41425104398996, 272.79251948202557, 291.5196864064288, 317.9035270890551, 242.9232964612841, 401.69407978693687, 340.938743924883, 363.6489800429209, 237.08125289687425, 386.4790416490018, 339.5791707012812, 278.8692635680518, 231.32287726083072, 216.15723871095884, 214.36708090514148, 539.2021536487267, 421.80355120826886, 176.08972559052827, 117.67711442231301, 112.86424386794029, 105.05416340005827, 89.29291608750621, 135.7188641182042, 77.26643619090292, 115.84692802699298, 73.6334898550628, 82.5117882043981, 69.73453917408058, 67.26596464358063, 71.15749404855815, 63.638749996797095, 62.54935361227905, 69.0418319918434, 60.49098497964478, 61.20348027568737, 55.3822665773348, 59.50374407265219, 55.05495603911046, 65.73880684072729, 69.53135461032839, 64.09828244695326, 57.351620964262196, 55.993398389733855, 51.94264888138293, 60.91382757989316, 58.417456997448355, 87.90899771147546, 77.8132874331965, 234.8929012083375, 158.87786815046613, 128.29364574396632, 526.8679811956854, 289.64084521908626, 307.02425440059443, 278.3629227399491, 109.75338576568562, 247.55145088892937, 173.56093019189538, 97.33310891112582, 200.08928739622917, 450.1032877955345, 277.6597964381986, 241.37293648402363, 109.82122737494906, 294.11062402380963, 216.1630554945883, 150.6986950671223, 181.75674101338097, 132.2000998336521, 193.96238752593945, 141.17043373868827, 185.53987872234055, 147.12594613292973, 149.05709708164164, 157.4071296451125, 151.3284416690572, 131.2380091323766, 141.18461922910674, 137.15421516358924], \"Total\": [539.0, 1286.0, 422.0, 559.0, 698.0, 485.0, 426.0, 930.0, 389.0, 864.0, 2008.0, 450.0, 549.0, 244.0, 372.0, 677.0, 314.0, 270.0, 333.0, 176.0, 588.0, 301.0, 237.0, 521.0, 903.0, 285.0, 499.0, 275.0, 267.0, 742.0, 267.1669647143143, 333.76883736790313, 275.6679487420431, 698.0464309325739, 217.29780809415243, 372.4449163678244, 222.78392761726153, 285.8859918840333, 187.9623382469214, 201.94688779147157, 301.46316088800535, 160.84867273659145, 155.06149556714362, 128.61029753970885, 147.52592102996016, 180.5914571492693, 152.95123206298834, 114.48662875776638, 118.18328133102973, 231.65445571080957, 108.1634670858329, 103.53437198202413, 96.28480684854465, 111.43927568358085, 111.25271409339493, 90.66446878249118, 139.38588101521646, 90.30001155723669, 79.2405434967944, 201.15690691083898, 84.59606366973242, 125.5345333696641, 178.465971130013, 154.7414769396575, 280.867048414976, 298.15944345899396, 197.10684429561024, 324.22664819144575, 160.21826710257074, 265.1034087745755, 274.90769939595407, 521.25272553274, 412.69965344932166, 328.45963853087886, 525.852326221834, 742.0637501939469, 903.1041670436509, 323.5915023334671, 569.229177697921, 942.3768730755022, 370.14334591301133, 458.6620029631447, 1298.4363175627066, 555.2192787469044, 679.9363550799221, 701.2227219929804, 704.2594255381875, 1068.2209330799715, 511.82639301255074, 647.9082566577324, 778.6211158755027, 1128.7492480635162, 524.3108004092015, 570.7324964978816, 902.4353520195646, 687.3533262773849, 694.1833803226532, 689.721255563247, 2008.4468774328498, 776.0769945915852, 559.1801132253229, 485.4843373780926, 426.6712955577689, 389.47516366621505, 237.56159812105068, 270.44377438552885, 205.96730131893756, 179.48445607385815, 199.66438769975952, 155.24547361940273, 166.11281509306406, 155.48160725315998, 143.86303881579704, 147.80055978772603, 185.8122786902116, 129.44907589487707, 128.57126515073264, 141.89825585714664, 160.7631905386297, 120.23351238322944, 124.62048528010094, 119.61065754721882, 139.6582873457268, 117.70658177784033, 105.98669481951514, 104.9473018549483, 112.33116557710403, 110.0803961431508, 95.18347799350249, 135.6345474728238, 136.22026742233646, 143.66314343688893, 314.0340688188427, 230.74920202735893, 182.43008859704943, 1286.4792653291715, 299.51087100758883, 2008.4468774328498, 677.7298146111476, 395.94293271737547, 864.5426919344573, 588.4299552464819, 487.83355482318524, 376.46801756203945, 420.3861981001234, 609.5283689627028, 394.192603968312, 1068.2209330799715, 778.6211158755027, 902.4353520195646, 399.85807192821653, 1298.4363175627066, 1128.7492480635162, 776.0769945915852, 527.5209574845109, 511.303494341539, 485.41426119263264, 539.9463082811175, 422.5086957060242, 176.77684271636963, 118.37383457448449, 113.53584380209239, 105.76770163177734, 89.92388555192987, 136.8125047005447, 77.8998640913354, 116.83253909606876, 74.31149126669982, 83.27999815856161, 70.39035267235656, 67.90987652940085, 71.8513354927806, 64.26400318233902, 63.185131873800984, 69.75141076507107, 61.11876791923993, 61.89455481265286, 56.00974347032819, 60.18338960907879, 55.69055355719903, 66.50321688719077, 70.3473703686664, 64.88000532543941, 58.05606534907272, 56.70272798875294, 52.60250316371626, 61.69360555230364, 59.18791020199934, 89.56822068945196, 79.16417066712687, 244.72984561550274, 165.36952531544432, 135.264714867586, 930.7687928543951, 450.481488148424, 549.47920738002, 499.50714044245933, 141.86562963782967, 483.50677901149106, 292.3004319909828, 125.64882464133234, 429.05170057666714, 2008.4468774328498, 864.5426919344573, 677.109252384285, 163.9344060649313, 1128.7492480635162, 689.721255563247, 326.931835515721, 496.28509403759045, 251.4616061449796, 694.1833803226532, 338.34060530508697, 776.0769945915852, 511.303494341539, 570.7324964978816, 903.1041670436509, 902.4353520195646, 385.88775375230733, 942.3768730755022, 687.3533262773849], \"Category\": [\"Default\", \"Default\", \"Default\", \"Default\", \"Default\", \"Default\", \"Default\", \"Default\", \"Default\", \"Default\", \"Default\", \"Default\", \"Default\", \"Default\", \"Default\", \"Default\", \"Default\", \"Default\", \"Default\", \"Default\", \"Default\", \"Default\", \"Default\", \"Default\", \"Default\", \"Default\", \"Default\", \"Default\", \"Default\", \"Default\", \"Topic1\", \"Topic1\", \"Topic1\", \"Topic1\", \"Topic1\", \"Topic1\", \"Topic1\", \"Topic1\", \"Topic1\", \"Topic1\", \"Topic1\", \"Topic1\", \"Topic1\", \"Topic1\", \"Topic1\", \"Topic1\", \"Topic1\", \"Topic1\", \"Topic1\", \"Topic1\", \"Topic1\", \"Topic1\", \"Topic1\", \"Topic1\", \"Topic1\", \"Topic1\", \"Topic1\", \"Topic1\", \"Topic1\", \"Topic1\", \"Topic1\", \"Topic1\", \"Topic1\", \"Topic1\", \"Topic1\", \"Topic1\", \"Topic1\", \"Topic1\", \"Topic1\", \"Topic1\", \"Topic1\", \"Topic1\", \"Topic1\", \"Topic1\", \"Topic1\", \"Topic1\", \"Topic1\", \"Topic1\", \"Topic1\", \"Topic1\", \"Topic1\", \"Topic1\", \"Topic1\", \"Topic1\", \"Topic1\", \"Topic1\", \"Topic1\", \"Topic1\", \"Topic1\", \"Topic1\", \"Topic1\", \"Topic1\", \"Topic1\", \"Topic1\", \"Topic1\", \"Topic1\", \"Topic1\", \"Topic1\", \"Topic1\", \"Topic1\", \"Topic2\", \"Topic2\", \"Topic2\", \"Topic2\", \"Topic2\", \"Topic2\", \"Topic2\", \"Topic2\", \"Topic2\", \"Topic2\", \"Topic2\", \"Topic2\", \"Topic2\", \"Topic2\", \"Topic2\", \"Topic2\", \"Topic2\", \"Topic2\", \"Topic2\", \"Topic2\", \"Topic2\", \"Topic2\", \"Topic2\", \"Topic2\", \"Topic2\", \"Topic2\", \"Topic2\", \"Topic2\", \"Topic2\", \"Topic2\", \"Topic2\", \"Topic2\", \"Topic2\", \"Topic2\", \"Topic2\", \"Topic2\", \"Topic2\", \"Topic2\", \"Topic2\", \"Topic2\", \"Topic2\", \"Topic2\", \"Topic2\", \"Topic2\", \"Topic2\", \"Topic2\", \"Topic2\", \"Topic2\", \"Topic2\", \"Topic2\", \"Topic2\", \"Topic2\", \"Topic2\", \"Topic2\", \"Topic2\", \"Topic2\", \"Topic2\", \"Topic3\", \"Topic3\", \"Topic3\", \"Topic3\", \"Topic3\", \"Topic3\", \"Topic3\", \"Topic3\", \"Topic3\", \"Topic3\", \"Topic3\", \"Topic3\", \"Topic3\", \"Topic3\", \"Topic3\", \"Topic3\", \"Topic3\", \"Topic3\", \"Topic3\", \"Topic3\", \"Topic3\", \"Topic3\", \"Topic3\", \"Topic3\", \"Topic3\", \"Topic3\", \"Topic3\", \"Topic3\", \"Topic3\", \"Topic3\", \"Topic3\", \"Topic3\", \"Topic3\", \"Topic3\", \"Topic3\", \"Topic3\", \"Topic3\", \"Topic3\", \"Topic3\", \"Topic3\", \"Topic3\", \"Topic3\", \"Topic3\", \"Topic3\", \"Topic3\", \"Topic3\", \"Topic3\", \"Topic3\", \"Topic3\", \"Topic3\", \"Topic3\", \"Topic3\", \"Topic3\", \"Topic3\", \"Topic3\", \"Topic3\", \"Topic3\", \"Topic3\", \"Topic3\", \"Topic3\", \"Topic3\", \"Topic3\", \"Topic3\", \"Topic3\"], \"logprob\": [30.0, 29.0, 28.0, 27.0, 26.0, 25.0, 24.0, 23.0, 22.0, 21.0, 20.0, 19.0, 18.0, 17.0, 16.0, 15.0, 14.0, 13.0, 12.0, 11.0, 10.0, 9.0, 8.0, 7.0, 6.0, 5.0, 4.0, 3.0, 2.0, 1.0, -5.8449, -5.6225, -5.8139, -4.885, -6.0521, -5.5134, -6.0273, -5.7779, -6.1976, -6.1259, -5.7256, -6.3539, -6.3906, -6.5788, -6.4416, -6.2394, -6.4056, -6.6954, -6.6637, -5.9909, -6.7527, -6.7967, -6.8695, -6.7236, -6.7253, -6.9303, -6.5003, -6.9347, -7.0658, -6.1343, -7.0005, -6.6129, -6.2691, -6.4104, -5.8383, -5.7898, -6.1851, -5.7174, -6.3824, -5.9091, -5.8858, -5.2984, -5.5178, -5.7384, -5.3241, -5.0318, -4.8728, -5.7649, -5.2903, -4.9125, -5.6748, -5.5308, -4.7355, -5.3927, -5.2753, -5.3297, -5.3356, -5.0948, -5.5492, -5.4266, -5.3509, -5.2258, -5.6189, -5.6027, -5.4708, -5.5505, -5.598, -5.6157, -5.5268, -5.6885, -4.9017, -5.0432, -5.1724, -5.2638, -5.7592, -5.63, -5.9024, -6.0404, -5.9341, -6.186, -6.1184, -6.1848, -6.2626, -6.2356, -6.0068, -6.3686, -6.3756, -6.277, -6.1523, -6.4428, -6.407, -6.448, -6.2931, -6.4645, -6.5695, -6.5797, -6.5117, -6.5322, -6.6778, -6.3238, -6.3198, -6.2685, -5.502, -5.8258, -6.0639, -4.3184, -5.6532, -4.1436, -5.0327, -5.4954, -4.8886, -5.2137, -5.388, -5.6183, -5.5519, -5.4652, -5.7342, -5.2313, -5.3953, -5.3308, -5.7586, -5.2699, -5.3993, -5.5962, -5.7832, -5.851, -5.8593, -4.5375, -4.7831, -5.6566, -6.0597, -6.1014, -6.1731, -6.3357, -5.917, -6.4804, -6.0754, -6.5285, -6.4147, -6.5829, -6.619, -6.5627, -6.6744, -6.6917, -6.5929, -6.7251, -6.7134, -6.8134, -6.7416, -6.8193, -6.6419, -6.5858, -6.6672, -6.7784, -6.8024, -6.8775, -6.7182, -6.76, -6.3513, -6.4733, -5.3685, -5.7595, -5.9733, -4.5607, -5.159, -5.1007, -5.1987, -6.1294, -5.316, -5.6711, -6.2495, -5.5289, -4.7181, -5.2012, -5.3413, -6.1288, -5.1437, -5.4516, -5.8123, -5.625, -5.9433, -5.56, -5.8777, -5.6044, -5.8363, -5.8233, -5.7688, -5.8082, -5.9506, -5.8776, -5.9065], \"loglift\": [30.0, 29.0, 28.0, 27.0, 26.0, 25.0, 24.0, 23.0, 22.0, 21.0, 20.0, 19.0, 18.0, 17.0, 16.0, 15.0, 14.0, 13.0, 12.0, 11.0, 10.0, 9.0, 8.0, 7.0, 6.0, 5.0, 4.0, 3.0, 2.0, 1.0, 0.8576, 0.8575, 0.8573, 0.8572, 0.8571, 0.857, 0.857, 0.8569, 0.8566, 0.8566, 0.8562, 0.8561, 0.856, 0.8549, 0.8549, 0.8548, 0.8547, 0.8546, 0.8545, 0.8543, 0.8541, 0.8538, 0.8537, 0.8534, 0.8533, 0.8529, 0.8529, 0.8526, 0.8522, 0.8521, 0.852, 0.845, 0.8369, 0.8383, 0.8143, 0.803, 0.8216, 0.7916, 0.8315, 0.8012, 0.7882, 0.7358, 0.75, 0.7576, 0.7013, 0.6492, 0.6118, 0.7461, 0.6558, 0.5296, 0.7018, 0.6314, 0.386, 0.5783, 0.4931, 0.4079, 0.3977, 0.2219, 0.5033, 0.3901, 0.282, 0.0358, 0.4094, 0.3408, 0.0145, 0.2071, 0.1497, 0.1385, -0.8415, -0.0523, 1.0623, 1.0621, 1.062, 1.0618, 1.0608, 1.0604, 1.0603, 1.0599, 1.0597, 1.0595, 1.0594, 1.0591, 1.059, 1.059, 1.0589, 1.0586, 1.0584, 1.0583, 1.0582, 1.0582, 1.0582, 1.0582, 1.0582, 1.0577, 1.0576, 1.0573, 1.0572, 1.0571, 1.0568, 1.0567, 1.0563, 1.0545, 1.039, 1.0234, 1.0202, 0.8124, 0.9351, 0.5417, 0.739, 0.8138, 0.6396, 0.6993, 0.7124, 0.7413, 0.6974, 0.4125, 0.5794, 0.0854, 0.2376, 0.1546, 0.5408, -0.1484, -0.1377, 0.04, 0.2391, 0.2025, 0.2461, 1.4614, 1.4612, 1.4589, 1.4569, 1.4569, 1.4561, 1.4558, 1.4548, 1.4547, 1.4543, 1.4537, 1.4536, 1.4535, 1.4533, 1.4531, 1.453, 1.4527, 1.4526, 1.4525, 1.4516, 1.4516, 1.4515, 1.4513, 1.4513, 1.4512, 1.4507, 1.4506, 1.4502, 1.4502, 1.4501, 1.4497, 1.4441, 1.4456, 1.4218, 1.4228, 1.4099, 0.8938, 1.0211, 0.8808, 0.8781, 1.2062, 0.7934, 0.9416, 1.2075, 0.7, -0.0328, 0.327, 0.4313, 1.0622, 0.1179, 0.3026, 0.6884, 0.4583, 0.8198, 0.1877, 0.5887, 0.0318, 0.2171, 0.1202, -0.2842, -0.3228, 0.3843, -0.4355, -0.1489]}, \"token.table\": {\"Topic\": [1, 2, 3, 1, 1, 2, 1, 3, 1, 2, 1, 2, 3, 1, 2, 3, 2, 2, 1, 2, 3, 1, 2, 3, 2, 1, 3, 1, 3, 1, 2, 2, 1, 2, 1, 1, 2, 3, 1, 2, 1, 2, 1, 2, 3, 1, 2, 3, 3, 2, 2, 3, 2, 1, 2, 1, 1, 3, 3, 3, 1, 3, 3, 1, 2, 3, 1, 2, 3, 1, 2, 3, 1, 2, 1, 2, 3, 1, 2, 3, 2, 1, 2, 3, 1, 2, 2, 3, 2, 1, 2, 3, 1, 2, 3, 3, 3, 2, 1, 1, 1, 2, 3, 1, 2, 3, 1, 2, 3, 2, 1, 2, 3, 1, 2, 3, 3, 1, 2, 3, 2, 3, 1, 1, 2, 3, 3, 2, 1, 2, 3, 1, 2, 3, 1, 2, 3, 1, 1, 1, 2, 3, 3, 3, 1, 1, 2, 3, 1, 3, 1, 2, 3, 1, 3, 1, 1, 2, 3, 3, 2, 1, 2, 2, 3, 3, 1, 2, 3, 2, 3, 2, 3, 2, 1, 2, 3, 1, 2, 3, 1, 2, 3, 3, 3, 1, 2, 3, 1, 2, 3, 1, 2, 3, 1, 2, 3, 1, 2, 3, 1, 2, 3, 1, 2, 3, 2, 2, 1, 2, 1, 2, 3, 2, 1, 2, 1, 2, 3, 1, 2, 3, 1, 2, 3, 1, 1, 2, 3, 2, 1, 2, 3, 1, 3, 1, 2, 3, 1, 2, 1, 1, 2, 3, 1, 3, 1, 2, 3, 3, 1, 3, 2, 1, 2, 3, 2, 2, 3, 2, 2, 3, 3, 1, 2, 3, 1, 2, 1, 2, 1, 2, 3, 1, 2, 3, 1, 2, 3, 1, 2, 3, 1, 2, 3, 2, 1, 2, 3, 1, 1, 2, 1, 2, 3, 2, 1, 2, 3, 3, 1, 2, 3, 1, 2, 1, 1, 2, 3, 2, 3, 1, 3, 1, 2, 3, 1, 2, 3, 1, 2, 3], \"Freq\": [0.4912246672363501, 0.22904610583747703, 0.2794650599526449, 0.99315435748081, 0.997068345539938, 0.0014325694619826694, 0.9900572353159273, 0.007174327792144401, 0.9969643886048796, 0.9970518815913406, 0.42883958295065766, 0.4033529927494558, 0.16732500523397753, 0.5279806662970314, 0.3763266451266075, 0.09548586518137803, 0.9980578427877483, 0.9940009690960159, 0.8931013265675318, 0.09889011228429417, 0.009270948026652579, 0.021146771121791325, 0.20441878751064949, 0.7753816077990152, 0.9984188033719776, 0.9541881168061938, 0.0427248410510236, 0.9970420374941121, 0.9887572537527313, 0.934531451039422, 0.06476950650768272, 0.9909735473117965, 0.6927118935192648, 0.3059109848237942, 0.9993750547920741, 0.9758211113551895, 0.01938717439778522, 0.9970700089038234, 0.9951464686972187, 0.0033171548956573956, 0.9749757833286911, 0.022413236398360716, 0.002219847044348516, 0.35517552709576256, 0.6437556428610697, 0.24818193494819557, 0.18586785604345382, 0.5661986134965328, 0.9819720033021913, 0.9966724777141601, 0.9620835003957172, 0.039003385151177725, 0.9969024808678765, 0.21972863463659978, 0.7778898789433647, 0.9984491771681617, 0.9961204561954675, 0.002684960798370532, 0.9982474029980315, 0.9855471161338737, 0.00855925932738415, 0.9928740819765616, 0.9864364171823771, 0.5612485855956081, 0.4379537018034379, 0.0012843217061684396, 0.8965357661620498, 0.00969227855310324, 0.09449971589275659, 0.3352487049920992, 0.3086651072394217, 0.355924836577515, 0.9967248885489615, 0.0055373604919386745, 0.024290298438601633, 0.6546813769642155, 0.3215572840919645, 0.0060470633757488765, 0.036282380254493256, 0.9614830767440713, 0.9973008466334332, 0.6370267401307158, 0.28990438473014607, 0.07247609618253652, 0.30419933316450615, 0.6950699847166649, 0.0073092733898030785, 0.9940611810132186, 0.9906903897588714, 0.9312216448011483, 0.007275169100008971, 0.061838937350076256, 0.8538518850453589, 0.06275526103896847, 0.0836736813852913, 0.9966378702599332, 0.992741625090332, 0.9953036170657026, 0.9926711225310846, 0.9952546759366573, 0.5208383902626628, 0.27933232103472416, 0.1993152499049855, 0.3044819277570912, 0.6945993976958643, 0.002378765060602275, 0.1822303612370434, 0.5934934169250156, 0.22405372283243039, 0.9983590881818701, 0.8099034615865843, 0.1765346979498212, 0.013475931141207726, 0.7546567924400196, 0.22153409420076947, 0.023414172557804903, 0.9958083028426667, 0.9976964974502528, 0.002996085577928687, 0.9866017054381342, 0.9984266681054995, 0.9876068045810366, 0.9964812200518868, 0.43853849812012957, 0.3012183623451395, 0.26046528979256184, 0.9897259160204289, 0.9996778976557589, 0.2192029110767243, 0.7780926027936207, 0.002331945862518344, 0.23508341233855373, 0.5927103055769918, 0.17256122820595965, 0.1721898774069482, 0.7031086660783717, 0.12299276957639156, 0.9947237815385567, 0.9953112038426197, 0.8824893904005252, 0.11510731179137286, 0.001918455196522881, 0.9969528202005571, 0.9884484510745701, 0.9966776133018929, 0.6250884995496323, 0.2454051146380038, 0.12964798509177558, 0.9960581609949788, 0.995280399703318, 0.9929540023037067, 0.9950210009316982, 0.9944544577838171, 0.036775244872012794, 0.9602425049914451, 0.9957494708067961, 0.2536830955053604, 0.6164499220780257, 0.13191520966278739, 0.9956055176434164, 0.993300847424441, 0.12019597111414314, 0.8780983445283235, 0.012631977213591309, 0.985294222660122, 0.9924331948025255, 0.11168405975692976, 0.37641664584742995, 0.5129193855503441, 0.9965308682833568, 0.9876001671182928, 0.9910419539953393, 0.007341051511076588, 0.9939970920303002, 0.1865832365446305, 0.351755282010369, 0.46186997898752796, 0.4199968582851387, 0.5217148474010708, 0.057421445468671305, 0.8151374142072455, 0.18270321352921018, 0.001756761668550098, 0.9958918964075432, 0.9950620703112859, 0.9011761728897254, 0.09437993702561313, 0.0030445140976004237, 0.6222869686182961, 0.29728065580032464, 0.08009634249542426, 0.23947963238781472, 0.16421460506593008, 0.5952779433639965, 0.2894562654820023, 0.42244968475751693, 0.28750047990442124, 0.3163117945822454, 0.12612432315621178, 0.5565486005940774, 0.48570345961924716, 0.20008082814166, 0.31316999187390265, 0.6994559188182023, 0.05470604951650744, 0.24422343534155108, 0.9956284983105673, 0.9952527034573483, 0.9877760061038716, 0.015931871066191476, 0.6304494961649962, 0.18601099999462725, 0.18459106869695835, 0.995321638294617, 0.022290575116033353, 0.9744165693580294, 0.9430282362479228, 0.003772112944991691, 0.052809581229883676, 0.7183962375801635, 0.13158217645486006, 0.14962166838818766, 0.7806408449070131, 0.04539897112225183, 0.17384484063886677, 0.994880153886694, 0.5957256719852152, 0.14367501500819896, 0.26106801507587374, 0.9955568209579106, 0.5004540506957046, 0.4378972943587415, 0.060661097054024796, 0.994248733843617, 0.004971243669218086, 0.2759211649959543, 0.7230019831444793, 0.0014755142513152638, 0.2735956182068674, 0.7251612016550951, 0.9977284680607182, 0.4332187337138018, 0.1994821145937971, 0.36672469551586945, 0.993780814641646, 0.9818095604184863, 0.006960727546932028, 0.988423311664348, 0.996841915480492, 0.9799298505734502, 0.011164674170174348, 0.9824913269753427, 0.9948946226051992, 0.9948386997303957, 0.9945835131553236, 0.9987960112745747, 0.990185390123907, 0.9952864426577337, 0.9816951820639083, 0.9990023625052287, 0.32940004051749594, 0.6710000825356399, 0.9881514311885525, 0.40202196711705357, 0.3595004129027498, 0.23966694193516655, 0.9964350601827231, 0.9936697188297301, 0.9969008908824303, 0.0034978978627453693, 0.4222179781946667, 0.020018955862678163, 0.5587108590765633, 0.11822405993490312, 0.46402943524449475, 0.4167398112705335, 0.9736717468060604, 0.024965942225796418, 0.006241485556449104, 0.8537233033881535, 0.051331464444224414, 0.09455796081830814, 0.2346282635528212, 0.23860501378253005, 0.5249310303215661, 0.9980723756121307, 0.9458026776830352, 0.00670782040909954, 0.04695474286369678, 0.998488703346545, 0.038370863347337185, 0.9592715836834297, 0.7957929753106869, 0.20276368959970925, 0.002180254726878594, 0.9976359894633958, 0.44498074586704855, 0.440860553775687, 0.11330528251244293, 0.9885461123049397, 0.6360318712040605, 0.2452858337378888, 0.11836467558281843, 0.9986294933356006, 0.9987799898156734, 0.9975769807658411, 0.13529772402190723, 0.08754558613182233, 0.771992895889706, 0.051750377079879804, 0.9462926094606593, 0.9928580881134661, 0.004316774296145505, 0.9639442033532241, 0.03551373380775036, 0.9892273036942308, 0.453499750376449, 0.20472274445565414, 0.3394769559960847, 0.3962226458291889, 0.1375125653171891, 0.4661442892108105], \"Term\": [\"Italia\", \"Italia\", \"Italia\", \"Milano\", \"Roma\", \"Roma\", \"Ucraina\", \"Ucraina\", \"abbraccio\", \"aiuto\", \"altro\", \"altro\", \"altro\", \"anno\", \"anno\", \"anno\", \"aumento\", \"azienda\", \"bello\", \"bello\", \"bello\", \"berluscone\", \"berluscone\", \"berluscone\", \"bolletta\", \"candidato\", \"candidato\", \"capitale\", \"cartabia\", \"centrodestra\", \"centrodestra\", \"chiusura\", \"cittadino\", \"cittadino\", \"citt\\u00e0\", \"civile\", \"civile\", \"clandestino\", \"comune\", \"comune\", \"comunit\\u00e0\", \"comunit\\u00e0\", \"conte\", \"conte\", \"conte\", \"cosa\", \"cosa\", \"cosa\", \"costiero\", \"costo\", \"covid\", \"covid\", \"covid19\", \"crisi\", \"crisi\", \"cuore\", \"democrazia\", \"democrazia\", \"destra\", \"destro\", \"dibattito\", \"dibattito\", \"dichiarazione\", \"diritto\", \"diritto\", \"diritto\", \"donna\", \"donna\", \"donna\", \"dopo\", \"dopo\", \"dopo\", \"dovere\", \"dovere\", \"drago\", \"drago\", \"drago\", \"elettore\", \"elettore\", \"elettore\", \"euro\", \"europeo\", \"europeo\", \"europeo\", \"famiglia\", \"famiglia\", \"firma\", \"firma\", \"fiscale\", \"forte\", \"forte\", \"forte\", \"forza\", \"forza\", \"forza\", \"fratoianne\", \"fratoianni\", \"gas\", \"gioco\", \"giornata\", \"giorno\", \"giorno\", \"giorno\", \"giovane\", \"giovane\", \"giovane\", \"governo\", \"governo\", \"governo\", \"governodrago\", \"grande\", \"grande\", \"grande\", \"grazie\", \"grazie\", \"grazie\", \"guardia\", \"guerra\", \"guerra\", \"illegale\", \"impresa\", \"inchiesta\", \"internazionale\", \"italiano\", \"italiano\", \"italiano\", \"lamorgese\", \"lavoratore\", \"lavoro\", \"lavoro\", \"lavoro\", \"lega\", \"lega\", \"lega\", \"legge\", \"legge\", \"legge\", \"liberale\", \"libero\", \"libert\\u00e0\", \"libert\\u00e0\", \"libert\\u00e0\", \"libia\", \"libico\", \"limpegno\", \"litalia\", \"litalia\", \"litalia\", \"mafia\", \"maio\", \"manifestazione\", \"manovra\", \"mediterraneo\", \"melone\", \"melone\", \"memoria\", \"mese\", \"mese\", \"mese\", \"migrante\", \"miliardo\", \"milione\", \"milione\", \"minaccia\", \"minaccia\", \"ministra\", \"ministro\", \"ministro\", \"ministro\", \"misura\", \"nave\", \"norma\", \"norma\", \"nucleare\", \"nulla\", \"nulla\", \"nulla\", \"nuovo\", \"nuovo\", \"nuovo\", \"ogni\", \"ogni\", \"ogni\", \"ong\", \"ottimo\", \"pace\", \"pace\", \"pace\", \"paese\", \"paese\", \"paese\", \"parlamentare\", \"parlamentare\", \"parlamentare\", \"parlamento\", \"parlamento\", \"parlamento\", \"parola\", \"parola\", \"parola\", \"parte\", \"parte\", \"parte\", \"partito\", \"partito\", \"partito\", \"passo\", \"patrimoniale\", \"pensiero\", \"pensiero\", \"persona\", \"persona\", \"persona\", \"personale\", \"piano\", \"piano\", \"piazza\", \"piazza\", \"piazza\", \"politica\", \"politica\", \"politica\", \"politico\", \"politico\", \"politico\", \"popolo\", \"presidente\", \"presidente\", \"presidente\", \"prezzo\", \"primo\", \"primo\", \"primo\", \"progetto\", \"progetto\", \"proposta\", \"proposta\", \"proposta\", \"pubblico\", \"pubblico\", \"qualit\\u00e0\", \"quando\", \"quando\", \"quando\", \"quirinale\", \"raccolta\", \"reddito\", \"reddito\", \"referendum\", \"referendumgiustizia\", \"renzi\", \"renzi\", \"riapertura\", \"romano\", \"salute\", \"salvino\", \"sanitario\", \"sanit\\u00e0\", \"sbarco\", \"scuola\", \"senato\", \"senato\", \"senatore\", \"senza\", \"senza\", \"senza\", \"sfida\", \"sindacato\", \"sindaco\", \"sindaco\", \"sinistra\", \"sinistra\", \"sinistra\", \"sinistraitaliano\", \"sinistraitaliano\", \"sinistraitaliano\", \"societ\\u00e0\", \"societ\\u00e0\", \"societ\\u00e0\", \"solidariet\\u00e0\", \"solidariet\\u00e0\", \"solidariet\\u00e0\", \"stesso\", \"stesso\", \"stesso\", \"stipendio\", \"storia\", \"storia\", \"storia\", \"storico\", \"studente\", \"studente\", \"tanto\", \"tanto\", \"tanto\", \"tassa\", \"tempo\", \"tempo\", \"tempo\", \"trump\", \"tutto\", \"tutto\", \"tutto\", \"ucraino\", \"vaccino\", \"valore\", \"vergogna\", \"vergogna\", \"vergogna\", \"vicenda\", \"vicenda\", \"violenza\", \"violenza\", \"vittima\", \"vittima\", \"vittoria\", \"volta\", \"volta\", \"volta\", \"voto\", \"voto\", \"voto\"]}, \"R\": 30, \"lambda.step\": 0.01, \"plot.opts\": {\"xlab\": \"PC1\", \"ylab\": \"PC2\"}, \"topic.order\": [2, 1, 3]};\n",
       "\n",
       "function LDAvis_load_lib(url, callback){\n",
       "  var s = document.createElement('script');\n",
       "  s.src = url;\n",
       "  s.async = true;\n",
       "  s.onreadystatechange = s.onload = callback;\n",
       "  s.onerror = function(){console.warn(\"failed to load library \" + url);};\n",
       "  document.getElementsByTagName(\"head\")[0].appendChild(s);\n",
       "}\n",
       "\n",
       "if(typeof(LDAvis) !== \"undefined\"){\n",
       "   // already loaded: just create the visualization\n",
       "   !function(LDAvis){\n",
       "       new LDAvis(\"#\" + \"ldavis_el287257095032165379737389\", ldavis_el287257095032165379737389_data);\n",
       "   }(LDAvis);\n",
       "}else if(typeof define === \"function\" && define.amd){\n",
       "   // require.js is available: use it to load d3/LDAvis\n",
       "   require.config({paths: {d3: \"https://d3js.org/d3.v5\"}});\n",
       "   require([\"d3\"], function(d3){\n",
       "      window.d3 = d3;\n",
       "      LDAvis_load_lib(\"https://cdn.jsdelivr.net/gh/bmabey/pyLDAvis@3.4.0/pyLDAvis/js/ldavis.v3.0.0.js\", function(){\n",
       "        new LDAvis(\"#\" + \"ldavis_el287257095032165379737389\", ldavis_el287257095032165379737389_data);\n",
       "      });\n",
       "    });\n",
       "}else{\n",
       "    // require.js not available: dynamically load d3 & LDAvis\n",
       "    LDAvis_load_lib(\"https://d3js.org/d3.v5.js\", function(){\n",
       "         LDAvis_load_lib(\"https://cdn.jsdelivr.net/gh/bmabey/pyLDAvis@3.4.0/pyLDAvis/js/ldavis.v3.0.0.js\", function(){\n",
       "                 new LDAvis(\"#\" + \"ldavis_el287257095032165379737389\", ldavis_el287257095032165379737389_data);\n",
       "            })\n",
       "         });\n",
       "}\n",
       "</script>"
      ],
      "text/plain": [
       "PreparedData(topic_coordinates=              x         y  topics  cluster       Freq\n",
       "topic                                                \n",
       "1     -0.038606 -0.172257       1        1  42.315837\n",
       "0     -0.153277  0.115029       2        1  34.525950\n",
       "2      0.191883  0.057228       3        1  23.158213, topic_info=            Term         Freq        Total Category  logprob  loglift\n",
       "1248      destra   539.000000   539.000000  Default  30.0000  30.0000\n",
       "298       lavoro  1286.000000  1286.000000  Default  29.0000  29.0000\n",
       "3037     salvino   422.000000   422.000000  Default  28.0000  28.0000\n",
       "540   lavoratore   559.000000   559.000000  Default  27.0000  27.0000\n",
       "22          Roma   698.000000   698.000000  Default  26.0000  26.0000\n",
       "...          ...          ...          ...      ...      ...      ...\n",
       "802     politico   157.407130   903.104167   Topic3  -5.7688  -0.2842\n",
       "646        altro   151.328442   902.435352   Topic3  -5.8082  -0.3228\n",
       "232        volta   131.238009   385.887754   Topic3  -5.9506   0.3843\n",
       "444     politica   141.184619   942.376873   Topic3  -5.8776  -0.4355\n",
       "90        giorno   137.154215   687.353326   Topic3  -5.9065  -0.1489\n",
       "\n",
       "[221 rows x 6 columns], token_table=      Topic      Freq    Term\n",
       "term                         \n",
       "199       1  0.491225  Italia\n",
       "199       2  0.229046  Italia\n",
       "199       3  0.279465  Italia\n",
       "2640      1  0.993154  Milano\n",
       "22        1  0.997068    Roma\n",
       "...     ...       ...     ...\n",
       "232       2  0.204723   volta\n",
       "232       3  0.339477   volta\n",
       "811       1  0.396223    voto\n",
       "811       2  0.137513    voto\n",
       "811       3  0.466144    voto\n",
       "\n",
       "[322 rows x 3 columns], R=30, lambda_step=0.01, plot_opts={'xlab': 'PC1', 'ylab': 'PC2'}, topic_order=[2, 1, 3])"
      ]
     },
     "execution_count": 15,
     "metadata": {},
     "output_type": "execute_result"
    }
   ],
   "source": [
    "pyLDAvis.enable_notebook()\n",
    "LDAvis_data_filepath = os.path.join('./results/ldavis_prepared_total'+str(num_topics))\n",
    "\n",
    "if 1 == 1:\n",
    "    LDAvis_prepared = gensimvis.prepare(lda_model, corpus, dictionary)\n",
    "    with open(LDAvis_data_filepath, 'wb') as f:\n",
    "        pickle.dump(LDAvis_prepared, f)\n",
    "\n",
    "with open(LDAvis_data_filepath, 'rb') as f:\n",
    "    LDAvis_prepared = pickle.load(f)\n",
    "\n",
    "pyLDAvis.save_html(LDAvis_prepared, './results/ldavis_prepared_total'+ str(num_topics) +'.html')\n",
    "\n",
    "LDAvis_prepared"
   ]
  },
  {
   "cell_type": "markdown",
   "metadata": {},
   "source": [
    "### Then, we divide the politicians in separate datasets with respect to their belief"
   ]
  },
  {
   "cell_type": "code",
   "execution_count": 16,
   "metadata": {},
   "outputs": [],
   "source": [
    "right_wing=politicians[politicians['ideology_num'] == 3]\n",
    "left_wing=politicians[politicians['ideology_num'] == 0]"
   ]
  },
  {
   "cell_type": "markdown",
   "metadata": {},
   "source": [
    "### Let's perform topic modeling now on right wing politicians"
   ]
  },
  {
   "cell_type": "code",
   "execution_count": 17,
   "metadata": {},
   "outputs": [
    {
     "name": "stdout",
     "output_type": "stream",
     "text": [
      "Topic 0: 0.009*\"anno\" + 0.008*\"lega\" + 0.008*\"vita\" + 0.007*\"solidarietà\" + 0.006*\"famiglia\" + 0.006*\"donna\" + 0.005*\"tutto\" + 0.005*\"grazie\" + 0.005*\"italiano\" + 0.005*\"scuola\"\n",
      "Topic 1: 0.017*\"italiano\" + 0.011*\"sinistra\" + 0.009*\"ministro\" + 0.006*\"paese\" + 0.005*\"altro\" + 0.005*\"settembre\" + 0.005*\"litalia\" + 0.005*\"libertà\" + 0.005*\"Italia\" + 0.005*\"clandestino\"\n",
      "Topic 2: 0.019*\"governo\" + 0.012*\"lavoro\" + 0.010*\"italiano\" + 0.008*\"impresa\" + 0.008*\"paese\" + 0.007*\"presidente\" + 0.007*\"lega\" + 0.006*\"centrodestra\" + 0.006*\"drago\" + 0.006*\"famiglia\"\n"
     ]
    }
   ],
   "source": [
    "dictionary_right = corpora.Dictionary(right_wing['processed_tweet'])\n",
    "corpus_right = [dictionary_right.doc2bow(text) for text in right_wing['processed_tweet']]\n",
    "# 4. Applicazione di LDA\n",
    "lda_model_right= LdaModel(corpus=corpus_right, id2word=dictionary_right, num_topics=num_topics, passes=10, random_state=42)\n",
    "# 6. Stampa dei topic\n",
    "for idx, topic in lda_model_right.print_topics(-1):\n",
    "    print(f\"Topic {idx}: {topic}\")\n",
    "\n"
   ]
  },
  {
   "cell_type": "code",
   "execution_count": 18,
   "metadata": {},
   "outputs": [
    {
     "data": {
      "text/html": [
       "\n",
       "<link rel=\"stylesheet\" type=\"text/css\" href=\"https://cdn.jsdelivr.net/gh/bmabey/pyLDAvis@3.4.0/pyLDAvis/js/ldavis.v1.0.0.css\">\n",
       "\n",
       "\n",
       "<div id=\"ldavis_el287257178348006090790522\" style=\"background-color:white;\"></div>\n",
       "<script type=\"text/javascript\">\n",
       "\n",
       "var ldavis_el287257178348006090790522_data = {\"mdsDat\": {\"x\": [0.15642336800316356, -0.00472064085487343, -0.15170272714829025], \"y\": [0.07156730250045956, -0.1500302112732846, 0.07846290877282507], \"topics\": [1, 2, 3], \"cluster\": [1, 1, 1], \"Freq\": [43.84958994875207, 29.16304113857826, 26.987368912669673]}, \"tinfo\": {\"Term\": [\"governo\", \"impresa\", \"presidente\", \"sinistra\", \"centrodestra\", \"drago\", \"ministro\", \"solidariet\\u00e0\", \"lavoro\", \"settembre\", \"famiglia\", \"clandestino\", \"donna\", \"tassa\", \"referendumgiustizia\", \"vita\", \"sbarco\", \"confine\", \"italiano\", \"ragazzo\", \"25settembrevotolega\", \"vittima\", \"lamorgese\", \"firma\", \"conte\", \"scuola\", \"preghiera\", \"uomo\", \"figlio\", \"anno\", \"centrodestra\", \"impresa\", \"drago\", \"presidente\", \"maggioranza\", \"miliardo\", \"fiducia\", \"reddito\", \"progetto\", \"fiscale\", \"concreto\", \"squadra\", \"candidato\", \"crescita\", \"patrimoniale\", \"tax\", \"flat\", \"partita\", \"prezzo\", \"sviluppo\", \"liberale\", \"visione\", \"scelta\", \"coalizione\", \"stipendio\", \"positivo\", \"aumento\", \"necessit\\u00e0\", \"Lombardia\", \"dato\", \"tassa\", \"senato\", \"crisi\", \"importante\", \"conte\", \"programma\", \"bolletta\", \"governo\", \"cittadinanza\", \"economico\", \"settore\", \"taglio\", \"lavoro\", \"gas\", \"prossimo\", \"partito\", \"proposta\", \"piano\", \"europeo\", \"nuovo\", \"politico\", \"sostegno\", \"parlamento\", \"paese\", \"grande\", \"regione\", \"famiglia\", \"primo\", \"italiano\", \"lega\", \"cittadino\", \"Italia\", \"litalia\", \"forza\", \"vaccino\", \"politica\", \"tempo\", \"altro\", \"salvino\", \"anno\", \"referendumgiustizia\", \"sbarco\", \"confine\", \"settembre\", \"lamorgese\", \"clandestino\", \"firma\", \"nucleare\", \"gazebo\", \"palermo\", \"generazione\", \"ong\", \"dellinterno\", \"referendum\", \"testa\", \"illegale\", \"nonostante\", \"immigrazione\", \"mare\", \"lampedusa\", \"raccolta\", \"pulito\", \"cinese\", \"essere\", \"ius\", \"25settembrevotolega\", \"limmigrazione\", \"viminale\", \"sequestro\", \"arrivo\", \"umano\", \"gestione\", \"processo\", \"virus\", \"immigrato\", \"piazza\", \"sinistra\", \"letto\", \"straniero\", \"ministro\", \"difesa\", \"italiano\", \"democrazia\", \"amico\", \"mondo\", \"libert\\u00e0\", \"giustizia\", \"dovere\", \"altro\", \"persona\", \"diritto\", \"paese\", \"giorno\", \"litalia\", \"Italia\", \"casa\", \"sicurezza\", \"grazie\", \"anno\", \"dopo\", \"cittadino\", \"governo\", \"ragazzo\", \"preghiera\", \"abbraccio\", \"figlio\", \"memoria\", \"mamma\", \"bimbo\", \"vittima\", \"vicinanza\", \"carabiniere\", \"bar\", \"studente\", \"ristorante\", \"tragedia\", \"genitore\", \"pap\\u00e0\", \"povero\", \"insegnante\", \"fuoco\", \"gesto\", \"episodio\", \"strage\", \"padre\", \"pensiero\", \"terapia\", \"ennesimo\", \"ferito\", \"dolore\", \"rottamazione\", \"dialogo\", \"esattoriale\", \"chiuso\", \"divisa\", \"solidariet\\u00e0\", \"greenpass\", \"rosso\", \"donna\", \"uomo\", \"vita\", \"agente\", \"violenza\", \"zona\", \"anno\", \"scuola\", \"cartella\", \"due\", \"lega\", \"famiglia\", \"giorno\", \"tutto\", \"grazie\", \"polizia\", \"pubblico\", \"forza\", \"sicurezza\", \"senza\", \"giovane\", \"libert\\u00e0\", \"italiano\", \"lavoro\", \"parola\", \"dopo\", \"Roma\", \"sindaco\"], \"Freq\": [992.0, 354.0, 332.0, 454.0, 292.0, 279.0, 387.0, 231.0, 694.0, 148.0, 450.0, 139.0, 222.0, 229.0, 131.0, 330.0, 126.0, 124.0, 1092.0, 110.0, 124.0, 111.0, 102.0, 102.0, 178.0, 214.0, 90.0, 151.0, 90.0, 533.0, 292.2778222986815, 352.99062305454464, 278.2788949617729, 330.76294916815704, 103.20552659885844, 110.85958989592312, 88.95742388174475, 74.26527473229399, 77.36860564784159, 130.03599991801835, 104.7919891333977, 56.093295969409496, 56.45587795723097, 51.95705357885409, 55.75760901783867, 51.468463071102484, 50.424200862285765, 51.20692435075611, 49.360518878624546, 69.9845106212196, 45.4207221165398, 44.71610715735802, 99.92016511566523, 39.4825282020022, 40.27742947447958, 53.418795883194925, 73.91404347828143, 39.86503361703242, 40.220593630575564, 63.64971432705676, 225.73060652333422, 114.6734470589276, 116.51588162978736, 106.28391346836636, 173.41045670108673, 79.19348130680267, 103.51494940503488, 877.3801470770068, 100.08413311904788, 157.70776354320446, 70.26041138635269, 65.92410767351173, 566.611921085954, 100.11348279787374, 142.01177161256857, 140.3743606651831, 201.92791096348142, 124.69602307531493, 257.99850016366923, 264.81258795245856, 203.52662020287755, 148.89822629369405, 155.33320699551086, 342.44217035064014, 228.1397189248188, 128.29335213452498, 273.0191950043262, 201.69387696382663, 449.3349730193588, 315.7457745924459, 218.81901163682716, 239.23003795340432, 225.71255986388275, 190.46274733740603, 157.9981535916163, 137.4310798677847, 160.60013834058734, 174.66557959919916, 144.4962728205748, 142.13879804043484, 130.77941429329127, 126.11366882266587, 123.68170315449439, 147.709440461841, 101.60705285857465, 138.90349747918933, 101.60677078361633, 78.28830390709834, 65.18485020816371, 50.56908687955131, 45.25821834955683, 39.89095598351966, 41.89970343609761, 45.53174643664242, 75.3045502573298, 35.33614001619168, 38.326187463467804, 35.99573352092273, 37.04285570714552, 32.86803701992206, 37.980687950766146, 34.76486065497452, 32.25515512828927, 29.328842517846176, 32.88745435486561, 121.84471819591313, 33.72369377630931, 29.407534379344273, 28.395452954819127, 27.59670305830501, 65.54076533870143, 52.008437821258894, 102.75600763068894, 45.09982620858462, 72.69767695937631, 71.42231029468967, 319.3671577152692, 44.06119800454433, 50.45052724863126, 261.64215352927107, 95.00856503289137, 512.331110766902, 98.84612432213318, 112.8076500442857, 122.25379740422073, 144.88001707364484, 122.93891516674302, 69.92974591209448, 165.78634109968746, 114.9206947127035, 105.40725837146056, 179.81418264454166, 118.32184173017622, 144.93207400720328, 141.26225059192814, 102.24100222365718, 119.65886292887826, 123.38191388878893, 130.09669416791473, 106.05605898309878, 109.87574882373083, 104.43257656047203, 110.25362795760184, 90.04645936918597, 85.30620621886348, 89.53744870723327, 61.26176286865149, 60.72647942560878, 69.6124221184267, 110.41600235876474, 48.6068800954046, 46.230583397411614, 45.29809544204743, 55.519489601386546, 49.40249638892524, 42.31334828124489, 42.21825464834779, 40.25463834453294, 38.51823983216938, 38.26737262227045, 34.71263466963552, 34.35660455182162, 32.5864122995488, 32.51801236040448, 33.27375615207216, 83.74916218128335, 30.784586339791165, 32.258273355698826, 28.367402381510168, 27.682936396960155, 29.2681881087235, 32.631463006020475, 64.6928601737648, 47.48331410558778, 37.63449291057603, 199.72886642585567, 38.52267409812831, 50.03967332524653, 169.65440216571025, 116.90449178223004, 221.30593279847375, 46.862190582451156, 106.84556012205302, 50.92138746708093, 261.4312954864261, 129.3571243895722, 69.26412178431899, 100.71453975038828, 232.15477722244646, 176.63575747705553, 124.98825977492139, 141.45021274779967, 139.4984570449861, 53.031390016651194, 66.34818894954581, 106.38780291829234, 105.77323127598392, 102.84747714574615, 75.49077742843137, 88.85140674736452, 131.0288459189792, 110.18920547997622, 82.88586704705615, 86.41952347477522, 79.04438315863234, 74.61577504897926], \"Total\": [992.0, 354.0, 332.0, 454.0, 292.0, 279.0, 387.0, 231.0, 694.0, 148.0, 450.0, 139.0, 222.0, 229.0, 131.0, 330.0, 126.0, 124.0, 1092.0, 110.0, 124.0, 111.0, 102.0, 102.0, 178.0, 214.0, 90.0, 151.0, 90.0, 533.0, 292.88633038474876, 354.31371668412356, 279.4496618546105, 332.36118951641936, 103.84984968260264, 111.57696265460129, 89.59077061990713, 74.88490426311168, 78.03185776689675, 131.18958790440584, 105.9036127714579, 56.72254340854874, 57.09127373584595, 52.563981046922905, 56.42283740402344, 52.08612465822774, 51.04279493365963, 51.880696012060945, 50.01555792713141, 70.92955189939363, 46.05818448260185, 45.34386951500497, 101.38286062166404, 40.078150316454376, 40.88848888287654, 54.23472723341689, 75.07685201745701, 40.51244649753019, 40.8862902694177, 64.72126199979385, 229.97706759243889, 116.71854991932688, 118.7125781835474, 108.23259343447158, 178.2863318368532, 81.05408688133072, 106.56588723191442, 992.0003338455753, 103.84820457060817, 166.84783271274532, 72.05529154300397, 67.77694728652222, 694.0806083484721, 106.48462391709752, 156.08926259117894, 156.36583908545882, 237.6625709133003, 138.8716997024823, 323.83132144654763, 339.72328637194727, 253.75854421942353, 173.6992292602961, 184.88751073168152, 552.351370192248, 322.49824253890347, 148.63702185903713, 450.0734286698414, 299.98619268951296, 1092.6949297052402, 621.5376018523491, 363.3361075344092, 441.7420961892058, 406.28150791305103, 314.5476563548166, 220.5266873623936, 170.13404052132472, 244.48745346299495, 411.43392083840735, 203.0744690713417, 533.6667876947756, 131.39229165444493, 126.72381376765001, 124.28944749635639, 148.49380118152206, 102.21415113567463, 139.740687587482, 102.27689840332786, 78.94954699741334, 65.85506102265269, 51.237587342270274, 45.90319177286019, 40.48846569280258, 42.53300835088861, 46.24552416020571, 76.57557377776277, 35.933452268733625, 39.01167615255603, 36.640975866832974, 37.71140729740371, 33.47626170114063, 38.68761744982314, 35.42422235429364, 32.8788840666137, 29.922949716328695, 33.57329656783802, 124.44243088899779, 34.44328272411046, 30.084698017919617, 29.052280303913257, 28.298078840256927, 67.27286962612948, 53.353662822832426, 108.28898347444746, 46.79977895040945, 79.04061196661208, 78.97987543044626, 454.9418355783381, 46.71176383155699, 54.67148245174331, 387.0637114615198, 121.8586141164512, 1092.6949297052402, 136.0967638985276, 167.15316230227987, 193.03791659446938, 282.5642263555863, 223.42446443039603, 94.29275022818967, 411.43392083840735, 239.62561626789986, 207.3889298956606, 552.351370192248, 262.924160249103, 406.28150791305103, 441.7420961892058, 205.15541856088137, 314.4667942640935, 401.0633348605269, 533.6667876947756, 291.47492260679303, 363.3361075344092, 992.0003338455753, 110.9038019708595, 90.66748109191064, 85.93156266095585, 90.22727899292983, 61.88130274663, 61.3608112231525, 70.4448611029412, 111.841987006061, 49.24120377137147, 46.8481772891106, 45.92190898276211, 56.29975997258865, 50.10463434804378, 42.92995054962943, 42.85093486226801, 40.88583872594887, 39.16493430764949, 38.91960913054773, 35.337250157999286, 34.99954730579953, 33.205747201441206, 33.15423840282887, 33.93198078795105, 85.46637335097806, 31.42277778267462, 32.92848725998019, 28.98513745473103, 28.30513272452512, 29.964784074636448, 33.42570443905762, 67.4874493165919, 49.20515485050619, 38.734793018908164, 231.0824566103095, 40.00783378042232, 53.40942404001798, 222.92875401648718, 151.3964327125878, 330.409674170679, 51.33980877594182, 144.4543903689826, 57.4760732042718, 533.6667876947756, 214.9526554136209, 90.36139081107021, 157.96156832563264, 621.5376018523491, 450.0734286698414, 262.924160249103, 365.1892199770265, 401.0633348605269, 62.564574915366975, 104.80298366285939, 314.5476563548166, 314.4667942640935, 310.2305049633038, 154.9554686045136, 282.5642263555863, 1092.6949297052402, 694.0806083484721, 225.88705365685018, 291.47492260679303, 242.2468019224237, 184.1794298493009], \"Category\": [\"Default\", \"Default\", \"Default\", \"Default\", \"Default\", \"Default\", \"Default\", \"Default\", \"Default\", \"Default\", \"Default\", \"Default\", \"Default\", \"Default\", \"Default\", \"Default\", \"Default\", \"Default\", \"Default\", \"Default\", \"Default\", \"Default\", \"Default\", \"Default\", \"Default\", \"Default\", \"Default\", \"Default\", \"Default\", \"Default\", \"Topic1\", \"Topic1\", \"Topic1\", \"Topic1\", \"Topic1\", \"Topic1\", \"Topic1\", \"Topic1\", \"Topic1\", \"Topic1\", \"Topic1\", \"Topic1\", \"Topic1\", \"Topic1\", \"Topic1\", \"Topic1\", \"Topic1\", \"Topic1\", \"Topic1\", \"Topic1\", \"Topic1\", \"Topic1\", \"Topic1\", \"Topic1\", \"Topic1\", \"Topic1\", \"Topic1\", \"Topic1\", \"Topic1\", \"Topic1\", \"Topic1\", \"Topic1\", \"Topic1\", \"Topic1\", \"Topic1\", \"Topic1\", \"Topic1\", \"Topic1\", \"Topic1\", \"Topic1\", \"Topic1\", \"Topic1\", \"Topic1\", \"Topic1\", \"Topic1\", \"Topic1\", \"Topic1\", \"Topic1\", \"Topic1\", \"Topic1\", \"Topic1\", \"Topic1\", \"Topic1\", \"Topic1\", \"Topic1\", \"Topic1\", \"Topic1\", \"Topic1\", \"Topic1\", \"Topic1\", \"Topic1\", \"Topic1\", \"Topic1\", \"Topic1\", \"Topic1\", \"Topic1\", \"Topic1\", \"Topic1\", \"Topic1\", \"Topic1\", \"Topic2\", \"Topic2\", \"Topic2\", \"Topic2\", \"Topic2\", \"Topic2\", \"Topic2\", \"Topic2\", \"Topic2\", \"Topic2\", \"Topic2\", \"Topic2\", \"Topic2\", \"Topic2\", \"Topic2\", \"Topic2\", \"Topic2\", \"Topic2\", \"Topic2\", \"Topic2\", \"Topic2\", \"Topic2\", \"Topic2\", \"Topic2\", \"Topic2\", \"Topic2\", \"Topic2\", \"Topic2\", \"Topic2\", \"Topic2\", \"Topic2\", \"Topic2\", \"Topic2\", \"Topic2\", \"Topic2\", \"Topic2\", \"Topic2\", \"Topic2\", \"Topic2\", \"Topic2\", \"Topic2\", \"Topic2\", \"Topic2\", \"Topic2\", \"Topic2\", \"Topic2\", \"Topic2\", \"Topic2\", \"Topic2\", \"Topic2\", \"Topic2\", \"Topic2\", \"Topic2\", \"Topic2\", \"Topic2\", \"Topic2\", \"Topic2\", \"Topic2\", \"Topic2\", \"Topic2\", \"Topic2\", \"Topic2\", \"Topic3\", \"Topic3\", \"Topic3\", \"Topic3\", \"Topic3\", \"Topic3\", \"Topic3\", \"Topic3\", \"Topic3\", \"Topic3\", \"Topic3\", \"Topic3\", \"Topic3\", \"Topic3\", \"Topic3\", \"Topic3\", \"Topic3\", \"Topic3\", \"Topic3\", \"Topic3\", \"Topic3\", \"Topic3\", \"Topic3\", \"Topic3\", \"Topic3\", \"Topic3\", \"Topic3\", \"Topic3\", \"Topic3\", \"Topic3\", \"Topic3\", \"Topic3\", \"Topic3\", \"Topic3\", \"Topic3\", \"Topic3\", \"Topic3\", \"Topic3\", \"Topic3\", \"Topic3\", \"Topic3\", \"Topic3\", \"Topic3\", \"Topic3\", \"Topic3\", \"Topic3\", \"Topic3\", \"Topic3\", \"Topic3\", \"Topic3\", \"Topic3\", \"Topic3\", \"Topic3\", \"Topic3\", \"Topic3\", \"Topic3\", \"Topic3\", \"Topic3\", \"Topic3\", \"Topic3\", \"Topic3\", \"Topic3\", \"Topic3\", \"Topic3\"], \"logprob\": [30.0, 29.0, 28.0, 27.0, 26.0, 25.0, 24.0, 23.0, 22.0, 21.0, 20.0, 19.0, 18.0, 17.0, 16.0, 15.0, 14.0, 13.0, 12.0, 11.0, 10.0, 9.0, 8.0, 7.0, 6.0, 5.0, 4.0, 3.0, 2.0, 1.0, -5.0487, -4.8599, -5.0977, -4.925, -6.0896, -6.0181, -6.2382, -6.4187, -6.3778, -5.8585, -6.0744, -6.6993, -6.6929, -6.7759, -6.7053, -6.7854, -6.8059, -6.7905, -6.8272, -6.4781, -6.9104, -6.926, -6.122, -7.0505, -7.0306, -6.7482, -6.4235, -7.0409, -7.032, -6.573, -5.307, -5.9843, -5.9683, -6.0602, -5.5707, -6.3545, -6.0866, -3.9494, -6.1203, -5.6656, -6.4741, -6.5379, -4.3867, -6.1201, -5.7704, -5.782, -5.4184, -5.9005, -5.1734, -5.1473, -5.4106, -5.7231, -5.6808, -4.8903, -5.2964, -5.872, -5.1168, -5.4196, -4.6186, -4.9714, -5.3381, -5.2489, -5.3071, -5.4769, -5.6638, -5.8032, -5.6474, -5.5635, -5.7531, -5.7696, -5.445, -5.4813, -5.5008, -5.3232, -5.6974, -5.3847, -5.6974, -5.9581, -6.1413, -6.3952, -6.5061, -6.6323, -6.5832, -6.5001, -5.997, -6.7536, -6.6724, -6.7351, -6.7064, -6.826, -6.6814, -6.7699, -6.8448, -6.9399, -6.8254, -5.5157, -6.8003, -6.9372, -6.9723, -7.0008, -6.1358, -6.3671, -5.6861, -6.5096, -6.0322, -6.0499, -4.5522, -6.5329, -6.3975, -4.7515, -5.7645, -4.0795, -5.7249, -5.5928, -5.5124, -5.3426, -5.5068, -6.071, -5.2078, -5.5743, -5.6607, -5.1266, -5.5451, -5.3422, -5.3679, -5.6912, -5.5338, -5.5032, -5.4502, -5.6545, -5.6191, -5.67, -5.5382, -5.7406, -5.7947, -5.7463, -6.1258, -6.1346, -5.998, -5.5367, -6.3572, -6.4073, -6.4277, -6.2242, -6.341, -6.4959, -6.4981, -6.5457, -6.5898, -6.5964, -6.6939, -6.7042, -6.7571, -6.7592, -6.7362, -5.8131, -6.8139, -6.7672, -6.8957, -6.9201, -6.8645, -6.7557, -6.0713, -6.3806, -6.613, -4.944, -6.5897, -6.3281, -5.1072, -5.4796, -4.8414, -6.3937, -5.5696, -6.3107, -4.6748, -5.3784, -6.003, -5.6287, -4.7936, -5.0669, -5.4127, -5.289, -5.3029, -6.2701, -6.046, -5.5739, -5.5797, -5.6077, -5.9169, -5.754, -5.3655, -5.5388, -5.8235, -5.7817, -5.8709, -5.9286], \"loglift\": [30.0, 29.0, 28.0, 27.0, 26.0, 25.0, 24.0, 23.0, 22.0, 21.0, 20.0, 19.0, 18.0, 17.0, 16.0, 15.0, 14.0, 13.0, 12.0, 11.0, 10.0, 9.0, 8.0, 7.0, 6.0, 5.0, 4.0, 3.0, 2.0, 1.0, 0.8223, 0.8207, 0.8202, 0.8196, 0.8182, 0.818, 0.8173, 0.8161, 0.8159, 0.8156, 0.8139, 0.8132, 0.8132, 0.8128, 0.8125, 0.8125, 0.8122, 0.8113, 0.8112, 0.811, 0.8105, 0.8105, 0.8099, 0.8094, 0.8093, 0.8092, 0.8088, 0.8083, 0.808, 0.8077, 0.8058, 0.8067, 0.8057, 0.8062, 0.7967, 0.8012, 0.7954, 0.7016, 0.7875, 0.7681, 0.7992, 0.7967, 0.6215, 0.7627, 0.7299, 0.7165, 0.6615, 0.7167, 0.5971, 0.5753, 0.6038, 0.6703, 0.6502, 0.3463, 0.4783, 0.6772, 0.3245, 0.4274, -0.0642, 0.1471, 0.3173, 0.2111, 0.2366, 0.3227, 0.491, 0.6109, 0.4042, -0.0324, 0.4841, -0.4986, 1.2276, 1.2274, 1.2274, 1.227, 1.2263, 1.2263, 1.2257, 1.2239, 1.222, 1.2191, 1.2181, 1.2174, 1.2173, 1.2167, 1.2155, 1.2155, 1.2145, 1.2145, 1.2144, 1.2139, 1.2138, 1.2135, 1.2131, 1.2122, 1.2116, 1.2112, 1.2112, 1.2095, 1.2094, 1.2072, 1.2062, 1.2067, 1.1798, 1.1953, 1.1486, 1.1317, 0.8784, 1.1739, 1.1519, 0.8407, 0.9834, 0.4748, 0.9125, 0.839, 0.7755, 0.5643, 0.6349, 0.9334, 0.3233, 0.4974, 0.5555, 0.11, 0.4338, 0.2015, 0.0922, 0.5358, 0.266, 0.0534, -0.1792, 0.2213, 0.0363, -1.0189, 1.3039, 1.3029, 1.3025, 1.3021, 1.2997, 1.2994, 1.2979, 1.297, 1.2968, 1.2965, 1.2961, 1.2958, 1.2957, 1.2953, 1.2949, 1.2942, 1.2932, 1.2929, 1.292, 1.2913, 1.291, 1.2904, 1.2902, 1.2895, 1.2893, 1.2892, 1.2883, 1.2876, 1.2863, 1.2858, 1.2675, 1.2742, 1.281, 1.164, 1.272, 1.2446, 1.0367, 1.0513, 0.909, 1.2185, 1.0082, 1.1887, 0.5962, 0.802, 1.0439, 0.8597, 0.325, 0.3745, 0.5662, 0.3613, 0.2537, 1.1445, 0.8526, 0.2258, 0.2202, 0.2057, 0.5907, 0.1529, -0.8112, -0.5306, 0.3072, 0.0941, 0.1899, 0.4062]}, \"token.table\": {\"Topic\": [1, 2, 3, 1, 2, 3, 1, 1, 2, 3, 3, 2, 3, 1, 2, 3, 1, 2, 3, 1, 2, 3, 2, 1, 2, 3, 2, 3, 1, 3, 1, 3, 1, 3, 1, 2, 3, 1, 1, 3, 2, 1, 2, 1, 2, 3, 2, 3, 1, 1, 3, 2, 1, 2, 1, 1, 2, 1, 2, 2, 1, 2, 3, 3, 1, 2, 3, 1, 2, 3, 2, 3, 3, 1, 2, 3, 1, 2, 3, 1, 2, 3, 1, 2, 1, 2, 3, 1, 2, 3, 3, 1, 3, 2, 1, 2, 3, 1, 3, 3, 1, 3, 2, 1, 3, 1, 1, 2, 3, 3, 1, 2, 3, 2, 2, 3, 1, 2, 3, 1, 2, 3, 1, 2, 3, 1, 2, 3, 1, 2, 3, 1, 2, 3, 1, 2, 3, 1, 3, 2, 1, 2, 3, 2, 1, 3, 1, 3, 3, 1, 2, 3, 2, 2, 2, 1, 2, 3, 1, 2, 3, 1, 2, 3, 1, 1, 2, 3, 2, 1, 2, 3, 1, 3, 2, 3, 1, 1, 2, 3, 1, 2, 3, 1, 2, 2, 1, 2, 3, 2, 3, 1, 2, 3, 2, 3, 1, 2, 1, 2, 3, 1, 1, 2, 1, 2, 3, 1, 2, 3, 1, 2, 3, 1, 2, 3, 1, 2, 3, 1, 2, 3, 2, 3, 1, 3, 3, 1, 2, 1, 1, 2, 3, 2, 3, 1, 1, 2, 1, 2, 3, 1, 2, 3, 1, 3, 2, 2, 3, 1, 2, 2, 1, 3, 3, 2, 3, 3, 1, 2, 3, 2, 1, 2, 3, 1, 2, 3, 1, 2, 1, 2, 3, 2, 2, 1, 2, 3, 1, 2, 3, 1, 2, 3, 1, 2, 3, 1, 2, 3, 1, 2, 3, 1, 1, 3, 1, 2, 3, 1, 2, 1, 3, 1, 2, 1, 1, 2, 3, 3, 2, 3, 3, 1, 2, 3, 2, 3, 1, 2, 3, 1, 2, 3, 3, 2, 2, 3, 1, 2, 1, 1, 2, 3, 2, 3, 2, 3], \"Freq\": [0.00803584430853811, 0.9803730056416494, 0.00803584430853811, 0.5410396746467924, 0.3191907703983169, 0.13808962407303071, 0.9783230451190963, 0.48297851229205363, 0.18988898773875612, 0.3261136963339507, 0.9891592491500318, 0.07791224968244188, 0.9154689337686921, 0.4253416919134679, 0.4034669763293467, 0.17256720071917842, 0.23331894810026016, 0.6760266957776769, 0.09572059409241443, 0.2660836373449105, 0.24359769616083352, 0.48906922075367343, 0.9894664637150957, 0.9856566706179073, 0.013319684738079828, 0.9799244194506772, 0.014195499633943464, 0.9936849743760424, 0.9759220581879978, 0.028151597832346092, 0.9808854547387551, 0.9818951912712354, 0.23240014138236662, 0.7636004645420618, 0.33633038056717834, 0.4971840408384376, 0.16572801361281253, 0.9969738076079397, 0.02032307393479756, 0.9551844749354852, 0.9732690420747537, 0.9629439470184415, 0.028888318410553247, 0.6027476913487326, 0.3027499819559844, 0.09632953971326777, 0.9946995567270391, 0.007156111918899562, 0.9730988005199498, 0.9914675925796043, 0.009442548500758137, 0.9976711820497483, 0.9703492029793364, 0.028044774652581976, 0.9892705796690048, 0.9855737428185622, 0.01684741440715491, 0.9888558724365395, 0.01545087300682093, 0.9874683599501969, 0.24982225165434546, 0.7274236151111824, 0.02204313985185401, 0.9872641595382449, 0.18874332493245505, 0.7795919942862274, 0.03282492607520957, 0.20733990006908143, 0.50629510481985, 0.28448963032734426, 0.02581658302683729, 0.9810301550198169, 0.9892198801010837, 0.004485738075430336, 0.23325837992237747, 0.7625754728231572, 0.33965186134916137, 0.3636676495253647, 0.29505111187906946, 0.15907903803526577, 0.7423688441645736, 0.10605269202351052, 0.9948124401189481, 0.00357846201481636, 0.22157288238521813, 0.1392743832135657, 0.6393960320259152, 0.9469706464333987, 0.05394136593607967, 0.9718029178610756, 0.9938038677403327, 0.029635139870492877, 0.9631420457910185, 0.9691557909538226, 0.7967110742948504, 0.20072178228358634, 0.003088027419747482, 0.6065676900918839, 0.39326916170792475, 0.9660123242034088, 0.9934058986676931, 0.9974810390442159, 0.9972926593624699, 0.9909322994041825, 0.007622556149262942, 0.9795701835094464, 0.6040420144974022, 0.05722503295238547, 0.33699186071960335, 0.9904562421667963, 0.9391027203876302, 0.04695513601938151, 0.018782054407752605, 0.987016016546419, 0.9803239875490708, 0.9801419767152549, 0.018742855637121414, 0.9746284931303135, 0.9714411361648125, 0.07606756252849241, 0.4487986189181052, 0.4754222658030775, 0.3872080187962614, 0.12261587261881611, 0.48401002349532674, 0.15217671031093422, 0.5505216284777914, 0.299877635024488, 0.8840722831213509, 0.10483867439523431, 0.01008064176877253, 0.7069805968709922, 0.14263643621081423, 0.1488380203938931, 0.34408530524983205, 0.3066847285922416, 0.34657867702700473, 0.024995104845925105, 0.9748090889910791, 0.9740227501172817, 0.02530344781293988, 0.9235758451723056, 0.05060689562587976, 0.9825065830898576, 0.979372263348533, 0.01847872194997232, 0.9962922217733535, 0.002822357568763041, 0.9763715733253361, 0.4109106648102778, 0.46856628147630786, 0.11988707592460221, 0.9829240311066976, 0.9979048778149087, 0.9857731515725245, 0.8169079976879723, 0.024492832382179062, 0.15848303306115863, 0.5084165448047473, 0.11905957061883321, 0.37326784302120686, 0.04281576707768982, 0.941946875709176, 0.02140788353884491, 0.9770250500646291, 0.17341190224956893, 0.5131576699221938, 0.3149726387798293, 0.9871300674891781, 0.5562645495752335, 0.3568953968513666, 0.08860851232171861, 0.9918165535607414, 0.9941198426819957, 0.9811354879494861, 0.9857581739958118, 0.9948290163052086, 0.3177771419996011, 0.6768911479991503, 0.005167107999993514, 0.2279344948196598, 0.632000190181784, 0.1398688945484276, 0.9873508873979894, 0.9740673497698523, 0.9879727365953798, 0.7800466162624595, 0.14423503470513402, 0.07653287555782622, 0.9879356828063404, 0.9725338525394313, 0.6191710900997052, 0.325879521105108, 0.05431325351751799, 0.9953630263524476, 0.97833384972517, 0.8383475951760969, 0.15685213071036652, 0.4028561997104979, 0.23020354269171311, 0.36744027006561897, 0.9830245914230563, 0.8953362244517207, 0.1023241399373395, 0.9925059174001538, 0.011700508174055524, 0.982842686620664, 0.23369788619507345, 0.47991530200774013, 0.2879491812046441, 0.9001113997149821, 0.100812476768078, 0.007200891197719857, 0.012661453244259057, 0.8989631803423931, 0.08863017270981341, 0.8052474365518189, 0.1704538369343266, 0.017633155544930338, 0.8039138174736784, 0.06305206411558262, 0.13398563624561308, 0.14385137295625483, 0.8471247518535007, 0.9772336416830707, 0.995788725027498, 0.9926381423210157, 0.9959044871683127, 0.003008774885704872, 0.9796951594819556, 0.6733643245009976, 0.16000736423786083, 0.16667433774777168, 0.9511586192357648, 0.046172748506590526, 0.986776455201423, 0.9746578246654231, 0.024674881637099317, 0.8499445210230009, 0.09677586130459911, 0.05469939986781689, 0.9097358629460579, 0.05125272467301734, 0.03843954350476301, 0.36258509702588393, 0.6297530632554826, 0.9880245118706968, 0.9822264203600812, 0.9918505772137822, 0.9881831422258013, 0.9946908557170818, 0.9970143480298171, 0.8611582659493228, 0.1345559790545817, 0.9779534495677462, 0.056169862415145974, 0.9361643735857663, 0.9678027356301531, 0.7090994779329529, 0.2806852100151272, 0.004924301930089951, 0.9942882576989267, 0.9863600157542947, 0.009863600157542946, 0.009863600157542946, 0.3907837278788842, 0.004652187236653384, 0.6001321535282865, 0.9852761200296379, 0.017135236870080662, 0.3545750602862589, 0.31267073497970105, 0.332011192813497, 0.9637797689921256, 0.9966746007066084, 0.9714761886463628, 0.013878231266376611, 0.013878231266376611, 0.2830187530873501, 0.3815983187694608, 0.3370785149130237, 0.5375193097350973, 0.059724367748344144, 0.40721159828416464, 0.2857508143535303, 0.7011885367598166, 0.010990415936674243, 0.004327459620556007, 0.13415124823723623, 0.8654919241112015, 0.8578046122283985, 0.08059909108186294, 0.0633278572786066, 0.9872617946035219, 0.978270439745974, 0.9953478526348624, 0.07316428639978194, 0.9145535799972743, 0.9946756438618104, 0.9868947163135598, 0.01409849594733657, 0.9737824237050645, 0.029508558294092865, 0.9827066775219215, 0.017393038540211, 0.9791475241179002, 0.6585204995984327, 0.14724681978598494, 0.19632909304797994, 0.9865454993954187, 0.9794245906359723, 0.013058994541812965, 0.9783379543250497, 0.3340733880580452, 0.27656895240870955, 0.3861012107883965, 0.9810790050550321, 0.014864833409924729, 0.006605175446230018, 0.2245759651718206, 0.7728055272089122, 0.71646657322865, 0.18138394258953167, 0.09976116842424242, 0.9951015866205997, 0.9639451917624857, 0.25613620953638166, 0.7407182275781848, 0.02136762229282391, 0.9615430031770759, 0.9924164055983097, 0.14830074247368488, 0.18159274588614477, 0.6688666140139665, 0.008941185924618877, 0.9835304517080765, 0.10439126519092229, 0.8873257541228394], \"Term\": [\"25settembrevotolega\", \"25settembrevotolega\", \"25settembrevotolega\", \"Italia\", \"Italia\", \"Italia\", \"Lombardia\", \"Roma\", \"Roma\", \"Roma\", \"abbraccio\", \"agente\", \"agente\", \"altro\", \"altro\", \"altro\", \"amico\", \"amico\", \"amico\", \"anno\", \"anno\", \"anno\", \"arrivo\", \"aumento\", \"aumento\", \"bar\", \"bimbo\", \"bimbo\", \"bolletta\", \"bolletta\", \"candidato\", \"carabiniere\", \"cartella\", \"cartella\", \"casa\", \"casa\", \"casa\", \"centrodestra\", \"chiuso\", \"chiuso\", \"cinese\", \"cittadinanza\", \"cittadinanza\", \"cittadino\", \"cittadino\", \"cittadino\", \"clandestino\", \"clandestino\", \"coalizione\", \"concreto\", \"concreto\", \"confine\", \"conte\", \"conte\", \"crescita\", \"crisi\", \"crisi\", \"dato\", \"dato\", \"dellinterno\", \"democrazia\", \"democrazia\", \"democrazia\", \"dialogo\", \"difesa\", \"difesa\", \"difesa\", \"diritto\", \"diritto\", \"diritto\", \"divisa\", \"divisa\", \"dolore\", \"donna\", \"donna\", \"donna\", \"dopo\", \"dopo\", \"dopo\", \"dovere\", \"dovere\", \"dovere\", \"drago\", \"drago\", \"due\", \"due\", \"due\", \"economico\", \"economico\", \"ennesimo\", \"episodio\", \"esattoriale\", \"esattoriale\", \"essere\", \"europeo\", \"europeo\", \"europeo\", \"famiglia\", \"famiglia\", \"ferito\", \"fiducia\", \"figlio\", \"firma\", \"fiscale\", \"fiscale\", \"flat\", \"forza\", \"forza\", \"forza\", \"fuoco\", \"gas\", \"gas\", \"gas\", \"gazebo\", \"generazione\", \"genitore\", \"gestione\", \"gestione\", \"gesto\", \"giorno\", \"giorno\", \"giorno\", \"giovane\", \"giovane\", \"giovane\", \"giustizia\", \"giustizia\", \"giustizia\", \"governo\", \"governo\", \"governo\", \"grande\", \"grande\", \"grande\", \"grazie\", \"grazie\", \"grazie\", \"greenpass\", \"greenpass\", \"illegale\", \"immigrato\", \"immigrato\", \"immigrato\", \"immigrazione\", \"importante\", \"importante\", \"impresa\", \"impresa\", \"insegnante\", \"italiano\", \"italiano\", \"italiano\", \"ius\", \"lamorgese\", \"lampedusa\", \"lavoro\", \"lavoro\", \"lavoro\", \"lega\", \"lega\", \"lega\", \"letto\", \"letto\", \"letto\", \"liberale\", \"libert\\u00e0\", \"libert\\u00e0\", \"libert\\u00e0\", \"limmigrazione\", \"litalia\", \"litalia\", \"litalia\", \"maggioranza\", \"mamma\", \"mare\", \"memoria\", \"miliardo\", \"ministro\", \"ministro\", \"ministro\", \"mondo\", \"mondo\", \"mondo\", \"necessit\\u00e0\", \"nonostante\", \"nucleare\", \"nuovo\", \"nuovo\", \"nuovo\", \"ong\", \"padre\", \"paese\", \"paese\", \"paese\", \"palermo\", \"pap\\u00e0\", \"parlamento\", \"parlamento\", \"parola\", \"parola\", \"parola\", \"partita\", \"partito\", \"partito\", \"patrimoniale\", \"pensiero\", \"pensiero\", \"persona\", \"persona\", \"persona\", \"piano\", \"piano\", \"piano\", \"piazza\", \"piazza\", \"piazza\", \"politica\", \"politica\", \"politica\", \"politico\", \"politico\", \"politico\", \"polizia\", \"polizia\", \"positivo\", \"povero\", \"preghiera\", \"presidente\", \"presidente\", \"prezzo\", \"primo\", \"primo\", \"primo\", \"processo\", \"processo\", \"progetto\", \"programma\", \"programma\", \"proposta\", \"proposta\", \"proposta\", \"prossimo\", \"prossimo\", \"prossimo\", \"pubblico\", \"pubblico\", \"pulito\", \"raccolta\", \"ragazzo\", \"reddito\", \"referendum\", \"referendumgiustizia\", \"regione\", \"regione\", \"ristorante\", \"rosso\", \"rosso\", \"rottamazione\", \"salvino\", \"salvino\", \"salvino\", \"sbarco\", \"scelta\", \"scelta\", \"scelta\", \"scuola\", \"scuola\", \"scuola\", \"senato\", \"senato\", \"senza\", \"senza\", \"senza\", \"sequestro\", \"settembre\", \"settore\", \"settore\", \"settore\", \"sicurezza\", \"sicurezza\", \"sicurezza\", \"sindaco\", \"sindaco\", \"sindaco\", \"sinistra\", \"sinistra\", \"sinistra\", \"solidariet\\u00e0\", \"solidariet\\u00e0\", \"solidariet\\u00e0\", \"sostegno\", \"sostegno\", \"sostegno\", \"squadra\", \"stipendio\", \"strage\", \"straniero\", \"straniero\", \"studente\", \"sviluppo\", \"sviluppo\", \"taglio\", \"taglio\", \"tassa\", \"tassa\", \"tax\", \"tempo\", \"tempo\", \"tempo\", \"terapia\", \"testa\", \"testa\", \"tragedia\", \"tutto\", \"tutto\", \"tutto\", \"umano\", \"umano\", \"uomo\", \"uomo\", \"uomo\", \"vaccino\", \"vaccino\", \"vaccino\", \"vicinanza\", \"viminale\", \"violenza\", \"violenza\", \"virus\", \"virus\", \"visione\", \"vita\", \"vita\", \"vita\", \"vittima\", \"vittima\", \"zona\", \"zona\"]}, \"R\": 30, \"lambda.step\": 0.01, \"plot.opts\": {\"xlab\": \"PC1\", \"ylab\": \"PC2\"}, \"topic.order\": [3, 2, 1]};\n",
       "\n",
       "function LDAvis_load_lib(url, callback){\n",
       "  var s = document.createElement('script');\n",
       "  s.src = url;\n",
       "  s.async = true;\n",
       "  s.onreadystatechange = s.onload = callback;\n",
       "  s.onerror = function(){console.warn(\"failed to load library \" + url);};\n",
       "  document.getElementsByTagName(\"head\")[0].appendChild(s);\n",
       "}\n",
       "\n",
       "if(typeof(LDAvis) !== \"undefined\"){\n",
       "   // already loaded: just create the visualization\n",
       "   !function(LDAvis){\n",
       "       new LDAvis(\"#\" + \"ldavis_el287257178348006090790522\", ldavis_el287257178348006090790522_data);\n",
       "   }(LDAvis);\n",
       "}else if(typeof define === \"function\" && define.amd){\n",
       "   // require.js is available: use it to load d3/LDAvis\n",
       "   require.config({paths: {d3: \"https://d3js.org/d3.v5\"}});\n",
       "   require([\"d3\"], function(d3){\n",
       "      window.d3 = d3;\n",
       "      LDAvis_load_lib(\"https://cdn.jsdelivr.net/gh/bmabey/pyLDAvis@3.4.0/pyLDAvis/js/ldavis.v3.0.0.js\", function(){\n",
       "        new LDAvis(\"#\" + \"ldavis_el287257178348006090790522\", ldavis_el287257178348006090790522_data);\n",
       "      });\n",
       "    });\n",
       "}else{\n",
       "    // require.js not available: dynamically load d3 & LDAvis\n",
       "    LDAvis_load_lib(\"https://d3js.org/d3.v5.js\", function(){\n",
       "         LDAvis_load_lib(\"https://cdn.jsdelivr.net/gh/bmabey/pyLDAvis@3.4.0/pyLDAvis/js/ldavis.v3.0.0.js\", function(){\n",
       "                 new LDAvis(\"#\" + \"ldavis_el287257178348006090790522\", ldavis_el287257178348006090790522_data);\n",
       "            })\n",
       "         });\n",
       "}\n",
       "</script>"
      ],
      "text/plain": [
       "PreparedData(topic_coordinates=              x         y  topics  cluster       Freq\n",
       "topic                                                \n",
       "2      0.156423  0.071567       1        1  43.849590\n",
       "1     -0.004721 -0.150030       2        1  29.163041\n",
       "0     -0.151703  0.078463       3        1  26.987369, topic_info=             Term        Freq       Total Category  logprob  loglift\n",
       "26        governo  992.000000  992.000000  Default  30.0000  30.0000\n",
       "237       impresa  354.000000  354.000000  Default  29.0000  29.0000\n",
       "376    presidente  332.000000  332.000000  Default  28.0000  28.0000\n",
       "962      sinistra  454.000000  454.000000  Default  27.0000  27.0000\n",
       "924  centrodestra  292.000000  292.000000  Default  26.0000  26.0000\n",
       "..            ...         ...         ...      ...      ...      ...\n",
       "298        lavoro  110.189205  694.080608   Topic3  -5.5388  -0.5306\n",
       "530        parola   82.885867  225.887054   Topic3  -5.8235   0.3072\n",
       "242          dopo   86.419523  291.474923   Topic3  -5.7817   0.0941\n",
       "22           Roma   79.044383  242.246802   Topic3  -5.8709   0.1899\n",
       "462       sindaco   74.615775  184.179430   Topic3  -5.9286   0.4062\n",
       "\n",
       "[226 rows x 6 columns], token_table=      Topic      Freq                 Term\n",
       "term                                      \n",
       "9850      1  0.008036  25settembrevotolega\n",
       "9850      2  0.980373  25settembrevotolega\n",
       "9850      3  0.008036  25settembrevotolega\n",
       "199       1  0.541040               Italia\n",
       "199       2  0.319191               Italia\n",
       "...     ...       ...                  ...\n",
       "345       3  0.668867                 vita\n",
       "637       2  0.008941              vittima\n",
       "637       3  0.983530              vittima\n",
       "2119      2  0.104391                 zona\n",
       "2119      3  0.887326                 zona\n",
       "\n",
       "[338 rows x 3 columns], R=30, lambda_step=0.01, plot_opts={'xlab': 'PC1', 'ylab': 'PC2'}, topic_order=[3, 2, 1])"
      ]
     },
     "execution_count": 18,
     "metadata": {},
     "output_type": "execute_result"
    }
   ],
   "source": [
    "pyLDAvis.enable_notebook()\n",
    "LDAvis_data_filepath = os.path.join('./results/ldavis_prepared_right'+str(num_topics))\n",
    "\n",
    "if 1 == 1:\n",
    "    LDAvis_prepared_right = gensimvis.prepare(lda_model_right, corpus_right, dictionary_right)\n",
    "    with open(LDAvis_data_filepath, 'wb') as f:\n",
    "        pickle.dump(LDAvis_prepared, f)\n",
    "\n",
    "with open(LDAvis_data_filepath, 'rb') as f:\n",
    "    LDAvis_prepared = pickle.load(f)\n",
    "\n",
    "pyLDAvis.save_html(LDAvis_prepared_right, './results/ldavis_prepared_right'+ str(num_topics) +'.html')\n",
    "\n",
    "LDAvis_prepared_right"
   ]
  },
  {
   "cell_type": "markdown",
   "metadata": {},
   "source": [
    "### Topics:\n",
    "- Topic 1: \"Traditional Family Values\": \n",
    "    This topic centers around family, women, solidarity, life, and education. The prominence of words like \"famiglia\" (family), \"donna\" (woman), \"vita\" (life), and \"solidarietà\" (solidarity) suggests a focus on traditional social values and family structures. The appearance of \"scuola\" (school) indicates emphasis on education within this traditional values framework.\n",
    "\n",
    "\n",
    "- Topic 2: \"National Identity and Immigration\"\n",
    "    This topic features words related to national identity and immigration concerns. Key terms include \"italiano\" (Italian), \"sinistra\" (left/left-wing), \"paese\" (country), \"libertà\" (freedom), \"Italia\" (Italy), and importantly \"clandestino\" (illegal immigrant). This suggests rhetoric focused on opposition to immigration, criticism of left-wing policies, and emphasis on national sovereignty and Italian identity.\n",
    "\n",
    "\n",
    "- Topic 3: \"Economic Governance and Center-Right Coalition\":\n",
    "    This topic revolves around governance and economic issues. Prominent words include \"governo\" (government), \"lavoro\" (work), \"impresa\" (business/enterprise), \"presidente\" (president), \"centrodestra\" (center-right), and \"drago\" (possibly referring to Mario Draghi). This suggests rhetoric focused on economic policy, business interests, and center-right governance."
   ]
  },
  {
   "cell_type": "markdown",
   "metadata": {},
   "source": [
    "### Let's now proceed with left wing politicians"
   ]
  },
  {
   "cell_type": "code",
   "execution_count": 19,
   "metadata": {},
   "outputs": [
    {
     "name": "stdout",
     "output_type": "stream",
     "text": [
      "Topic 0: 0.009*\"politica\" + 0.009*\"cosa\" + 0.009*\"governo\" + 0.008*\"destra\" + 0.006*\"Roma\" + 0.006*\"politico\" + 0.006*\"voto\" + 0.006*\"partito\" + 0.005*\"persona\" + 0.005*\"serio\"\n",
      "Topic 1: 0.008*\"diritto\" + 0.006*\"anno\" + 0.006*\"libertà\" + 0.005*\"lavoro\" + 0.005*\"donna\" + 0.005*\"persona\" + 0.005*\"altro\" + 0.005*\"senza\" + 0.005*\"tutto\" + 0.004*\"italiano\"\n",
      "Topic 2: 0.015*\"governo\" + 0.009*\"lavoro\" + 0.008*\"drago\" + 0.007*\"paese\" + 0.007*\"lavoratore\" + 0.005*\"crisi\" + 0.005*\"proposta\" + 0.004*\"legge\" + 0.004*\"altro\" + 0.004*\"parlamento\"\n"
     ]
    }
   ],
   "source": [
    "dictionary_left = corpora.Dictionary(left_wing['processed_tweet'])\n",
    "corpus_left = [dictionary_left.doc2bow(text) for text in left_wing['processed_tweet']]\n",
    "lda_model_left = LdaModel(corpus=corpus_left, id2word=dictionary_left, num_topics=num_topics, passes=10, random_state=42)\n",
    "# 6. Stampa dei topic\n",
    "for idx, topic in lda_model_left.print_topics(-1):\n",
    "    print(f\"Topic {idx}: {topic}\")\n"
   ]
  },
  {
   "cell_type": "code",
   "execution_count": 20,
   "metadata": {},
   "outputs": [
    {
     "data": {
      "text/html": [
       "\n",
       "<link rel=\"stylesheet\" type=\"text/css\" href=\"https://cdn.jsdelivr.net/gh/bmabey/pyLDAvis@3.4.0/pyLDAvis/js/ldavis.v1.0.0.css\">\n",
       "\n",
       "\n",
       "<div id=\"ldavis_el287257273080329565773485\" style=\"background-color:white;\"></div>\n",
       "<script type=\"text/javascript\">\n",
       "\n",
       "var ldavis_el287257273080329565773485_data = {\"mdsDat\": {\"x\": [-0.010307131707550437, -0.1348648084623085, 0.14517194016985896], \"y\": [-0.15874326155161747, 0.08813577179921288, 0.07060748975240454], \"topics\": [1, 2, 3], \"cluster\": [1, 1, 1], \"Freq\": [36.103756235040045, 32.017969097731616, 31.878274667228336]}, \"tinfo\": {\"Term\": [\"lavoratore\", \"libert\\u00e0\", \"donna\", \"diritto\", \"candidato\", \"serio\", \"campagna\", \"governo\", \"Roma\", \"governodrago\", \"crisi\", \"persona\", \"elettorale\", \"solidariet\\u00e0\", \"piano\", \"sinistra\", \"lavoro\", \"democrazia\", \"proposta\", \"perch\\u00e9\", \"voto\", \"arma\", \"drago\", \"politica\", \"destra\", \"impresa\", \"classe\", \"elettore\", \"domanda\", \"dirigente\", \"impresa\", \"gas\", \"lavoratore\", \"covid19\", \"energetico\", \"prezzo\", \"azienda\", \"salariominimo\", \"investimento\", \"arma\", \"bolletta\", \"misura\", \"firma\", \"governodrago\", \"aumento\", \"sanitario\", \"brevetto\", \"licenziamente\", \"decreto\", \"aiuto\", \"trasporto\", \"minimo\", \"pandemia\", \"ambientale\", \"efficace\", \"guardia\", \"settore\", \"gkn\", \"delocalizzazione\", \"precario\", \"piano\", \"economico\", \"sicurezza\", \"energia\", \"salare\", \"sanit\\u00e0\", \"crisi\", \"libico\", \"costo\", \"rischio\", \"manovra\", \"nucleare\", \"tassa\", \"sociale\", \"governo\", \"lavoro\", \"legge\", \"drago\", \"sinistraitaliano\", \"pubblico\", \"parlamento\", \"paese\", \"scuola\", \"proposta\", \"vaccino\", \"nuovo\", \"Italia\", \"europeo\", \"mese\", \"futuro\", \"altro\", \"conte\", \"anno\", \"italiano\", \"litalia\", \"grande\", \"diritto\", \"dopo\", \"cosa\", \"politica\", \"donna\", \"vittima\", \"repubblica\", \"violenza\", \"vicenda\", \"comunit\\u00e0\", \"coloro\", \"umano\", \"costituzione\", \"tragedia\", \"resto\", \"troppo\", \"vergogna\", \"museo\", \"resistenza\", \"antifa\", \"dolore\", \"cgil\", \"strage\", \"uomo\", \"gesto\", \"ministra\", \"libert\\u00e0\", \"organizzazione\", \"trump\", \"manifestazione\", \"gioco\", \"leghista\", \"tweet\", \"bianco\", \"solidariet\\u00e0\", \"messaggio\", \"valore\", \"democrazia\", \"dovere\", \"consiglio\", \"istituzione\", \"raggio\", \"diritto\", \"vita\", \"fascista\", \"piazza\", \"amico\", \"popolo\", \"presidente\", \"ora\", \"parola\", \"pace\", \"persona\", \"anno\", \"tutto\", \"proprio\", \"senza\", \"storia\", \"lavoro\", \"altro\", \"italiano\", \"parlamentare\", \"parte\", \"grande\", \"Roma\", \"politico\", \"grazie\", \"paese\", \"giorno\", \"ministro\", \"tanto\", \"dopo\", \"buono\", \"cosa\", \"classe\", \"dirigente\", \"candidato\", \"lista\", \"elettore\", \"sovranista\", \"coalizione\", \"mafia\", \"domanda\", \"primario\", \"municipio\", \"facile\", \"alternativo\", \"cinque\", \"michetto\", \"quartiere\", \"palermo\", \"promessa\", \"riformista\", \"gualtiero\", \"sondaggio\", \"indipendente\", \"collegio\", \"parco\", \"populista\", \"campagna\", \"amministratore\", \"allitalio\", \"serio\", \"polo\", \"elettorale\", \"perch\\u00e9\", \"civico\", \"quirinale\", \"contenuto\", \"legislatura\", \"voto\", \"elezione\", \"italiasulserio\", \"sinistra\", \"confronto\", \"programma\", \"politica\", \"partito\", \"destra\", \"cosa\", \"Roma\", \"liberale\", \"modo\", \"ogni\", \"persona\", \"politico\", \"governo\", \"cittadino\", \"volta\", \"proposta\", \"drago\", \"conte\", \"giorno\", \"paese\", \"quando\", \"Italia\", \"due\", \"parte\", \"anno\", \"italiano\", \"dopo\", \"altro\"], \"Freq\": [309.0, 217.0, 189.0, 432.0, 187.0, 192.0, 179.0, 1018.0, 385.0, 166.0, 218.0, 382.0, 148.0, 145.0, 161.0, 247.0, 610.0, 173.0, 343.0, 135.0, 257.0, 136.0, 517.0, 530.0, 428.0, 119.0, 105.0, 107.0, 104.0, 101.0, 119.38260817219775, 101.87439654857758, 307.34353295868965, 87.4570848252993, 66.25379492598867, 67.3989087526834, 62.62088385174995, 60.27235203611303, 61.61868813264554, 135.28043923248723, 59.11052387147512, 56.76812606487169, 58.015299666186905, 164.19186448817405, 50.025506679115885, 42.63025837432836, 44.55057611896426, 42.26972876621684, 41.85700509994577, 39.41297780774213, 43.069655178867464, 39.18747050369885, 99.75352109159077, 37.54559756507304, 37.74537597619834, 39.56170959809529, 36.87541046351948, 36.71768085165343, 35.74144351294447, 41.55733748325782, 156.99502245063607, 80.17765598180289, 81.73261531932194, 68.22669398890237, 44.21847427212568, 83.81207784860169, 200.0065599258315, 45.12809569901214, 83.58390992411637, 77.13554129438214, 67.23911375352002, 48.46295991187262, 79.7651952699331, 138.386743479755, 621.8950763454881, 380.4571914664813, 184.01025005176805, 316.66238832862365, 166.82286192166612, 145.9845861982561, 173.1114498952043, 307.5539538515831, 150.97553723037885, 193.21621670673792, 122.63054444098412, 152.04157349712497, 167.3761562298724, 123.90178076051103, 123.03647910271306, 105.87330190148533, 174.2555214662721, 128.50054725559724, 166.08211459227084, 151.23319429572047, 117.96791349331063, 122.9884301621155, 126.39228404789365, 121.72871602635378, 129.24401018680936, 121.77316010115923, 188.63317657951333, 93.83187897748233, 93.87975631787948, 87.60581499689933, 83.35085416697424, 83.37807454647741, 66.93825850659202, 56.100193051600826, 61.66048555693397, 55.61889264666614, 58.285404414743276, 62.291828764027194, 73.00529526380666, 49.57471337635206, 43.189719690894215, 43.99817768194156, 40.940943229697034, 46.012718961573, 43.23177984115455, 69.73545353589134, 37.40937882483919, 45.63546230938412, 213.26990959450404, 38.43551505322178, 30.312127022250998, 38.76757824355332, 36.30730536952489, 34.27117222344176, 30.528747395927976, 30.706714406717012, 141.51263057150675, 56.17541372960169, 111.53182475104943, 159.80584494033866, 66.25307237125728, 66.54628504174653, 84.30894368653344, 61.400191737918625, 303.0462318616927, 128.38533544023431, 77.87405445185547, 122.28574022597844, 87.32173090539298, 74.1600075059639, 158.1565104190413, 130.07096380086924, 158.94680029074735, 106.60989678434491, 180.6078794332475, 214.67661810385613, 164.408802634454, 88.53317347118765, 165.95802382228896, 99.19048627842197, 199.73727672483565, 175.90043279326366, 163.53211985733415, 104.43090964505147, 146.46092245094502, 141.89999946748304, 147.62514062625587, 151.4795633236413, 116.97563777574226, 162.23164714686544, 135.68572250481571, 106.93506584117611, 108.46607227039028, 114.50757190209907, 106.4559786820515, 109.99842699877611, 104.99200182080673, 101.03768172019247, 186.36794167963922, 82.84336999562296, 106.51274869002934, 57.019818010660494, 92.81761776718379, 69.17652269172399, 103.42032755173761, 50.59026755152551, 40.776877585928766, 40.96589658920519, 36.12185826524482, 37.21884053680572, 37.93821116681582, 34.900945196187756, 35.13687068184103, 33.410706642506476, 32.45338001628888, 34.150960714744734, 31.77636093957454, 32.779165092196834, 28.22404182505794, 30.884588987778056, 87.6548441648738, 175.8738578775829, 26.39471011953899, 27.0496616413215, 187.9434658980336, 24.157260567645718, 143.63667868880881, 130.61380295253116, 41.00019153253683, 80.29662007408837, 44.48603358893981, 43.387299421578476, 202.60034117951875, 121.74552911049484, 98.53752800551344, 187.7034350661974, 117.72392776827303, 139.62379038979682, 334.72810293272533, 201.30599834781003, 275.86541718309036, 332.1717703522342, 235.24441610904253, 72.81838901025615, 149.91368334880147, 162.67447547333595, 196.53851153817462, 203.35184115636503, 315.1712721904788, 154.55074468217217, 125.06541808808768, 150.08561398051137, 176.83362660433193, 132.28995775427606, 149.68305787562392, 174.7323479026416, 128.9765191303773, 131.0203440926851, 118.4511207185679, 127.56756432039995, 131.67264033143516, 129.7577717857811, 126.8678951306322, 127.13523865121233], \"Total\": [309.0, 217.0, 189.0, 432.0, 187.0, 192.0, 179.0, 1018.0, 385.0, 166.0, 218.0, 382.0, 148.0, 145.0, 161.0, 247.0, 610.0, 173.0, 343.0, 135.0, 257.0, 136.0, 517.0, 530.0, 428.0, 119.0, 105.0, 107.0, 104.0, 101.0, 119.99857573576429, 102.48282778591972, 309.3179791314674, 88.1183955451258, 66.85333711694031, 68.02198473414265, 63.24366129855682, 60.8925726190183, 62.25973456984748, 136.7114984426609, 59.745819489754844, 57.388549455034855, 58.66319231769176, 166.22465270401602, 50.649142709400536, 43.25288210521065, 45.20532940378505, 42.901548171685114, 42.48447991466419, 40.015643709161296, 43.75429134574242, 39.82552222786848, 101.40474085816508, 38.170078408281576, 38.38809086252916, 40.23974258832485, 37.52323519329138, 37.379355126824876, 36.390769813962265, 42.31482799134504, 161.09879750353198, 82.22503657242447, 83.91104957318356, 70.02765944775449, 45.103944693392485, 86.95731209531021, 218.7152420433884, 46.14118286814113, 89.6110276919392, 82.23378606436641, 71.43561992351698, 50.02027175166318, 89.79742706383172, 172.56390570291862, 1018.4180227060107, 610.9220830939414, 261.66022342430546, 517.4185521807485, 232.20534010302077, 217.39917273741668, 278.840795497035, 644.5179489010902, 230.65301559420462, 343.60328747975944, 178.5305783017873, 279.3805995384558, 334.81454430140695, 209.03480757810408, 211.8381964123684, 161.0367715137516, 477.29119291074807, 262.287648804693, 512.4313730275621, 444.5230859388357, 258.5479848110376, 342.44683234619094, 432.4746951243708, 363.104183059085, 571.4142075378197, 530.9628486011103, 189.43433875041407, 94.45250838343543, 94.54911741660503, 88.2635511604339, 84.05683416255089, 84.13431131174366, 67.66574714328189, 56.72493996492681, 62.393805130112504, 56.28899842020121, 59.03001038342496, 63.097940193912144, 73.97730231381404, 50.23536168679584, 43.79502297768242, 44.647151646735125, 41.54898086911296, 46.7629395718118, 43.95303257817194, 70.90377338220235, 38.04654844676633, 46.434855044080756, 217.15108603000485, 39.1875426392974, 30.95005387017862, 39.58780265773745, 37.07593368639726, 34.998581308548125, 31.17874222813225, 31.37679532212268, 145.37644904855816, 57.642805605158685, 118.52452787566713, 173.61530325571746, 69.67044948640225, 69.99687910704624, 90.13969614079082, 65.59422595938489, 432.4746951243708, 157.77344466408488, 88.73253818066678, 152.92015832817125, 102.3763323775513, 86.85592049120508, 242.70519824237056, 192.3446440791043, 263.204837795661, 157.6155970788739, 382.6541944174756, 512.4313730275621, 335.7995561202097, 119.72019696118988, 377.9930526105436, 149.47543701912429, 610.9220830939414, 477.29119291074807, 444.5230859388357, 170.2247272048545, 364.40623003660824, 342.44683234619094, 385.2363828563748, 472.7484960590332, 236.01924236229203, 644.5179489010902, 376.35481845267884, 199.43762277403204, 236.07714426497768, 363.104183059085, 238.17103854547892, 571.4142075378197, 105.56964723972007, 101.63826130114316, 187.59170325514884, 83.45195936043773, 107.63128575042202, 57.634789823403985, 93.82040834641091, 69.94697868949883, 104.57802841177175, 51.2130623024517, 41.381884926211185, 41.57926054020647, 36.70402944293664, 37.827411088519675, 38.55981631043007, 35.47757880165067, 35.71832317102899, 33.99484319556829, 33.02198560605712, 34.753326960455844, 32.35071648895154, 33.43211153608512, 28.7873727276477, 31.53301108270932, 89.53153232236076, 179.67092194305837, 26.968735971395255, 27.65789338147344, 192.17569417926285, 24.716701180234026, 148.5732394600432, 135.9709899204405, 42.24345767347718, 86.89575753664472, 46.72408701635924, 45.61741292748975, 257.20843798103795, 146.2404360521426, 117.16550459740762, 247.79019235945879, 144.18053790567134, 175.82336992081053, 530.9628486011103, 287.7938451777435, 428.8060591655794, 571.4142075378197, 385.2363828563748, 89.63253619197836, 249.04302037153514, 287.7772361775533, 382.6541944174756, 472.7484960590332, 1018.4180227060107, 310.6386720408866, 222.63520863096744, 343.60328747975944, 517.4185521807485, 262.287648804693, 376.35481845267884, 644.5179489010902, 293.9693126208202, 334.81454430140695, 210.16184665426027, 364.40623003660824, 512.4313730275621, 444.5230859388357, 363.104183059085, 477.29119291074807], \"Category\": [\"Default\", \"Default\", \"Default\", \"Default\", \"Default\", \"Default\", \"Default\", \"Default\", \"Default\", \"Default\", \"Default\", \"Default\", \"Default\", \"Default\", \"Default\", \"Default\", \"Default\", \"Default\", \"Default\", \"Default\", \"Default\", \"Default\", \"Default\", \"Default\", \"Default\", \"Default\", \"Default\", \"Default\", \"Default\", \"Default\", \"Topic1\", \"Topic1\", \"Topic1\", \"Topic1\", \"Topic1\", \"Topic1\", \"Topic1\", \"Topic1\", \"Topic1\", \"Topic1\", \"Topic1\", \"Topic1\", \"Topic1\", \"Topic1\", \"Topic1\", \"Topic1\", \"Topic1\", \"Topic1\", \"Topic1\", \"Topic1\", \"Topic1\", \"Topic1\", \"Topic1\", \"Topic1\", \"Topic1\", \"Topic1\", \"Topic1\", \"Topic1\", \"Topic1\", \"Topic1\", \"Topic1\", \"Topic1\", \"Topic1\", \"Topic1\", \"Topic1\", \"Topic1\", \"Topic1\", \"Topic1\", \"Topic1\", \"Topic1\", \"Topic1\", \"Topic1\", \"Topic1\", \"Topic1\", \"Topic1\", \"Topic1\", \"Topic1\", \"Topic1\", \"Topic1\", \"Topic1\", \"Topic1\", \"Topic1\", \"Topic1\", \"Topic1\", \"Topic1\", \"Topic1\", \"Topic1\", \"Topic1\", \"Topic1\", \"Topic1\", \"Topic1\", \"Topic1\", \"Topic1\", \"Topic1\", \"Topic1\", \"Topic1\", \"Topic1\", \"Topic1\", \"Topic1\", \"Topic1\", \"Topic2\", \"Topic2\", \"Topic2\", \"Topic2\", \"Topic2\", \"Topic2\", \"Topic2\", \"Topic2\", \"Topic2\", \"Topic2\", \"Topic2\", \"Topic2\", \"Topic2\", \"Topic2\", \"Topic2\", \"Topic2\", \"Topic2\", \"Topic2\", \"Topic2\", \"Topic2\", \"Topic2\", \"Topic2\", \"Topic2\", \"Topic2\", \"Topic2\", \"Topic2\", \"Topic2\", \"Topic2\", \"Topic2\", \"Topic2\", \"Topic2\", \"Topic2\", \"Topic2\", \"Topic2\", \"Topic2\", \"Topic2\", \"Topic2\", \"Topic2\", \"Topic2\", \"Topic2\", \"Topic2\", \"Topic2\", \"Topic2\", \"Topic2\", \"Topic2\", \"Topic2\", \"Topic2\", \"Topic2\", \"Topic2\", \"Topic2\", \"Topic2\", \"Topic2\", \"Topic2\", \"Topic2\", \"Topic2\", \"Topic2\", \"Topic2\", \"Topic2\", \"Topic2\", \"Topic2\", \"Topic2\", \"Topic2\", \"Topic2\", \"Topic2\", \"Topic2\", \"Topic2\", \"Topic2\", \"Topic2\", \"Topic2\", \"Topic2\", \"Topic3\", \"Topic3\", \"Topic3\", \"Topic3\", \"Topic3\", \"Topic3\", \"Topic3\", \"Topic3\", \"Topic3\", \"Topic3\", \"Topic3\", \"Topic3\", \"Topic3\", \"Topic3\", \"Topic3\", \"Topic3\", \"Topic3\", \"Topic3\", \"Topic3\", \"Topic3\", \"Topic3\", \"Topic3\", \"Topic3\", \"Topic3\", \"Topic3\", \"Topic3\", \"Topic3\", \"Topic3\", \"Topic3\", \"Topic3\", \"Topic3\", \"Topic3\", \"Topic3\", \"Topic3\", \"Topic3\", \"Topic3\", \"Topic3\", \"Topic3\", \"Topic3\", \"Topic3\", \"Topic3\", \"Topic3\", \"Topic3\", \"Topic3\", \"Topic3\", \"Topic3\", \"Topic3\", \"Topic3\", \"Topic3\", \"Topic3\", \"Topic3\", \"Topic3\", \"Topic3\", \"Topic3\", \"Topic3\", \"Topic3\", \"Topic3\", \"Topic3\", \"Topic3\", \"Topic3\", \"Topic3\", \"Topic3\", \"Topic3\", \"Topic3\", \"Topic3\", \"Topic3\", \"Topic3\", \"Topic3\"], \"logprob\": [30.0, 29.0, 28.0, 27.0, 26.0, 25.0, 24.0, 23.0, 22.0, 21.0, 20.0, 19.0, 18.0, 17.0, 16.0, 15.0, 14.0, 13.0, 12.0, 11.0, 10.0, 9.0, 8.0, 7.0, 6.0, 5.0, 4.0, 3.0, 2.0, 1.0, -5.8407, -5.9993, -4.895, -6.1518, -6.4295, -6.4124, -6.4859, -6.5241, -6.502, -5.7156, -6.5436, -6.584, -6.5623, -5.522, -6.7105, -6.8704, -6.8264, -6.8789, -6.8887, -6.9489, -6.8602, -6.9546, -6.0203, -6.9974, -6.9921, -6.9451, -7.0154, -7.0197, -7.0467, -6.8959, -5.5668, -6.2387, -6.2195, -6.4002, -6.8339, -6.1944, -5.3246, -6.8135, -6.1971, -6.2774, -6.4147, -6.7422, -6.2439, -5.6929, -4.1902, -4.6816, -5.408, -4.8652, -5.5061, -5.6395, -5.4691, -4.8943, -5.6059, -5.3592, -5.8138, -5.5988, -5.5028, -5.8035, -5.8105, -5.9608, -5.4625, -5.7671, -5.5105, -5.6042, -5.8526, -5.8109, -5.7836, -5.8212, -5.7613, -5.8208, -5.2631, -5.9614, -5.9609, -6.03, -6.0798, -6.0795, -6.2991, -6.4758, -6.3813, -6.4844, -6.4375, -6.3711, -6.2124, -6.5994, -6.7373, -6.7187, -6.7908, -6.674, -6.7363, -6.2582, -6.881, -6.6822, -5.1403, -6.8539, -7.0913, -6.8453, -6.9109, -6.9686, -7.0842, -7.0784, -5.5505, -6.4744, -5.7886, -5.4289, -6.3094, -6.305, -6.0684, -6.3855, -4.789, -5.6479, -6.1478, -5.6965, -6.0333, -6.1967, -5.4393, -5.6348, -5.4343, -5.8337, -5.3066, -5.1338, -5.4005, -6.0195, -5.3912, -5.9059, -5.2059, -5.333, -5.4059, -5.8544, -5.5161, -5.5478, -5.5082, -5.4824, -5.7409, -5.4139, -5.5926, -5.8307, -5.8165, -5.7623, -5.8352, -5.8024, -5.8446, -5.883, -5.2708, -6.0816, -5.8303, -6.4551, -5.9679, -6.2619, -5.8597, -6.5748, -6.7904, -6.7858, -6.9116, -6.8817, -6.8626, -6.946, -6.9393, -6.9896, -7.0187, -6.9677, -7.0398, -7.0087, -7.1583, -7.0683, -6.0251, -5.3288, -7.2254, -7.2008, -5.2624, -7.3139, -5.5312, -5.6263, -6.7849, -6.1128, -6.7033, -6.7284, -5.1873, -5.6966, -5.9081, -5.2637, -5.7302, -5.5596, -4.6852, -5.1937, -4.8786, -4.6929, -5.0379, -6.2106, -5.4885, -5.4068, -5.2177, -5.1836, -4.7454, -5.458, -5.6697, -5.4873, -5.3233, -5.6135, -5.49, -5.3353, -5.6389, -5.6232, -5.724, -5.6499, -5.6182, -5.6329, -5.6554, -5.6533], \"loglift\": [30.0, 29.0, 28.0, 27.0, 26.0, 25.0, 24.0, 23.0, 22.0, 21.0, 20.0, 19.0, 18.0, 17.0, 16.0, 15.0, 14.0, 13.0, 12.0, 11.0, 10.0, 9.0, 8.0, 7.0, 6.0, 5.0, 4.0, 3.0, 2.0, 1.0, 1.0136, 1.0128, 1.0124, 1.0112, 1.0098, 1.0096, 1.0089, 1.0085, 1.0084, 1.0083, 1.0081, 1.0079, 1.0077, 1.0065, 1.0064, 1.0043, 1.0042, 1.0039, 1.0039, 1.0036, 1.003, 1.0026, 1.0024, 1.0023, 1.0019, 1.0018, 1.0014, 1.0009, 1.0008, 1.0007, 0.993, 0.9936, 0.9925, 0.9927, 0.9989, 0.9819, 0.9294, 0.9966, 0.9491, 0.9548, 0.9582, 0.9871, 0.9003, 0.7981, 0.5255, 0.5452, 0.6667, 0.5278, 0.6881, 0.6205, 0.5421, 0.2789, 0.595, 0.4431, 0.6432, 0.4104, 0.3254, 0.4958, 0.4754, 0.5994, 0.0112, 0.3053, -0.1079, -0.0594, 0.2341, -0.0053, -0.2114, -0.0741, -0.4676, -0.4538, 1.1346, 1.1323, 1.1318, 1.1314, 1.1304, 1.1298, 1.1281, 1.1278, 1.1271, 1.1269, 1.1262, 1.126, 1.1256, 1.1256, 1.125, 1.1242, 1.1241, 1.1227, 1.1223, 1.1223, 1.122, 1.1215, 1.1208, 1.1195, 1.118, 1.1179, 1.1179, 1.1179, 1.1178, 1.1173, 1.1119, 1.1131, 1.0781, 1.056, 1.0886, 1.0883, 1.072, 1.0728, 0.7832, 0.9327, 1.0083, 0.9153, 0.9798, 0.9808, 0.7106, 0.7477, 0.6345, 0.7479, 0.3881, 0.2688, 0.4247, 0.8371, 0.3157, 0.7288, 0.0209, 0.1407, 0.1389, 0.6503, 0.2274, 0.2579, 0.1797, 0.0008, 0.4369, -0.2406, 0.1187, 0.5156, 0.3612, -0.0152, 0.3336, -0.5088, 1.1378, 1.1373, 1.1367, 1.1359, 1.1328, 1.1325, 1.1325, 1.1322, 1.1321, 1.131, 1.1285, 1.1284, 1.1273, 1.127, 1.127, 1.1269, 1.1268, 1.1259, 1.1259, 1.1258, 1.1253, 1.1235, 1.1235, 1.1225, 1.1221, 1.1219, 1.1217, 1.121, 1.121, 1.1204, 1.1095, 1.103, 1.1134, 1.0643, 1.0942, 1.0931, 0.9046, 0.9599, 0.9701, 0.8655, 0.9405, 0.9127, 0.6819, 0.7858, 0.7022, 0.6008, 0.65, 0.9355, 0.6357, 0.5728, 0.477, 0.2996, -0.0296, 0.4451, 0.5665, 0.315, 0.0696, 0.4588, 0.2212, -0.162, 0.3194, 0.205, 0.5699, 0.0936, -0.2156, -0.0881, 0.0917, -0.1796]}, \"token.table\": {\"Topic\": [1, 2, 3, 1, 2, 3, 1, 3, 3, 1, 2, 3, 1, 1, 2, 3, 3, 1, 2, 3, 2, 1, 2, 1, 1, 2, 1, 1, 1, 2, 3, 1, 2, 3, 2, 3, 2, 3, 1, 2, 3, 2, 3, 3, 1, 3, 3, 2, 2, 2, 3, 1, 2, 1, 2, 3, 1, 2, 3, 1, 2, 3, 2, 1, 3, 1, 1, 3, 1, 1, 1, 2, 3, 1, 2, 3, 3, 1, 2, 3, 2, 2, 3, 2, 1, 2, 3, 1, 2, 3, 1, 2, 3, 1, 2, 3, 1, 3, 1, 1, 3, 1, 3, 1, 2, 3, 1, 1, 3, 1, 2, 3, 3, 1, 2, 3, 1, 1, 2, 3, 1, 2, 2, 1, 2, 3, 1, 1, 2, 3, 1, 2, 3, 1, 2, 3, 1, 2, 3, 3, 1, 1, 3, 1, 1, 2, 3, 1, 2, 3, 1, 3, 1, 2, 1, 2, 3, 1, 2, 3, 2, 2, 3, 1, 2, 3, 2, 3, 1, 3, 1, 3, 1, 2, 3, 3, 2, 1, 3, 1, 2, 3, 1, 2, 3, 1, 2, 1, 2, 1, 1, 2, 3, 3, 2, 1, 2, 1, 2, 3, 1, 2, 3, 1, 2, 3, 2, 1, 2, 1, 2, 3, 3, 1, 2, 3, 3, 1, 2, 3, 1, 2, 3, 1, 2, 3, 1, 2, 3, 1, 2, 3, 1, 2, 3, 1, 2, 3, 1, 3, 1, 2, 3, 1, 2, 3, 1, 2, 3, 3, 1, 2, 3, 1, 3, 1, 1, 2, 3, 1, 3, 1, 2, 3, 3, 1, 3, 1, 2, 3, 1, 2, 3, 1, 2, 3, 3, 2, 3, 2, 3, 2, 2, 2, 3, 1, 2, 3, 1, 2, 1, 1, 1, 3, 1, 2, 1, 2, 3, 1, 2, 3, 1, 1, 2, 1, 2, 3, 1, 2, 3, 1, 2, 3, 1, 2, 3, 3, 1, 2, 3, 2, 1, 2, 3, 1, 3, 2, 1, 2, 2, 1, 2, 3, 2, 2, 2, 3, 1, 2, 1, 2, 3, 2, 3, 2, 2, 1, 2, 3, 2, 1, 2, 3, 1, 2, 3], \"Freq\": [0.4987835888325782, 0.10752221076630428, 0.3912613780662739, 0.0051916176379053144, 0.3841797052049933, 0.6100150724538744, 0.9746188336605773, 0.9762131781911443, 0.9808187424208782, 0.3645573238820215, 0.36874763794963095, 0.2660849432931996, 0.9955441954700132, 0.13675035699041968, 0.8498057898690365, 0.009767882642172834, 0.964079296396288, 0.32394581740620976, 0.4195683779658741, 0.2575954692627692, 0.9855051974680126, 0.9874809473807447, 0.007314673684301813, 0.9871835400428198, 0.9961472613451874, 0.9879912744990559, 0.9875167920345835, 0.9954578496276181, 0.2981050946983317, 0.4450583103946924, 0.2519197983366183, 0.0055657308883678, 0.0111314617767356, 0.9795686363527328, 0.0053307261603135585, 0.9915150658183218, 0.9836849526826648, 0.9781266794446108, 0.2446572395532157, 0.257533936371806, 0.4989720017203741, 0.023672304661459004, 0.9705644911198191, 0.9946040622980717, 0.010658661773328925, 0.99125554491959, 0.9726486770746016, 0.9901612385676881, 0.986517851111413, 0.18032947010511388, 0.8184183643232091, 0.04285905369312394, 0.957185532479768, 0.49182643783603075, 0.003812608045240548, 0.5032642619717523, 0.02140223734387524, 0.02140223734387524, 0.9416984431305105, 0.22575567477723588, 0.19250483895733292, 0.5810146048530412, 0.9936883937549363, 0.9373846295879058, 0.0669560449705647, 0.9873080355332496, 0.914431011444206, 0.08229879102997854, 0.9885963082133208, 0.9892618426056946, 0.028799304590307426, 0.9215777468898376, 0.046078887344491885, 0.2728506220916565, 0.08395403756666353, 0.6436476213444204, 0.9937202654495234, 0.2913465259829017, 0.7006190267684066, 0.006936822047211946, 0.9867871399579606, 0.009562238026352346, 0.9849105167142918, 0.9977071804759414, 0.3359917227396632, 0.31671350913984647, 0.34976187531096087, 0.02870657523732992, 0.9473169828318875, 0.02870657523732992, 0.6126568107462509, 0.046384111854605746, 0.3420828249277174, 0.11419770230456093, 0.31880191893356596, 0.5614720363307579, 0.9729396706261767, 0.024323491765654418, 0.9898903317719304, 0.0336534359631075, 0.969218955737496, 0.009290978854594598, 0.9941347374416221, 0.11624691815017964, 0.047866378061838674, 0.8342425890777597, 0.9872356840549688, 0.9710448776419942, 0.028560143460058654, 0.593202641400612, 0.3683597047407026, 0.03827113815487819, 0.9860685223190457, 0.011269823004092561, 0.8790461943192198, 0.11269823004092562, 0.9886949159858156, 0.6582347559727886, 0.28564904504479505, 0.055887856639199034, 0.9952886957127264, 0.972492946417186, 0.970980267267227, 0.24179310464027426, 0.36136112341843185, 0.3985600625938587, 0.9898512126402995, 0.6107511710636275, 0.0795351203475142, 0.3093032457958885, 0.9866165898509813, 0.006015954816164521, 0.006015954816164521, 0.35917984452446383, 0.41466290993881194, 0.22777258433258682, 0.3008229298991404, 0.4957222929323863, 0.20337324838251744, 0.9783236016133644, 0.994042144086816, 0.9916784367677568, 0.9870749552980309, 0.9958282094897772, 0.01109389140205312, 0.931886877772462, 0.055469457010265594, 0.33968989412796635, 0.3689347194502416, 0.2924482532227525, 0.15362883522628779, 0.8449585937445828, 0.9925061610127675, 0.006465838182493599, 0.6220105812439054, 0.3273739901283713, 0.05074296846989755, 0.703202028921406, 0.15287000628726216, 0.14522650597289907, 0.9714679489507128, 0.04384290716308398, 0.9426225040063054, 0.1785066079769359, 0.011156662998558494, 0.81443639889477, 0.9808838808688654, 0.01842035457030733, 0.9752675853282237, 0.02167261300729386, 0.9789856494670713, 0.9945841971368741, 0.4563949708841919, 0.3210235812151519, 0.22046197746100793, 0.9864614782905412, 0.9851519251316021, 0.9379074482972779, 0.05599447452521062, 0.5806318316672494, 0.08969109594859949, 0.3304408798106297, 0.017348218732616754, 0.9715002490265383, 0.9854818729964062, 0.9792715278623312, 0.9906351587903538, 0.46129711495928916, 0.5365086010939558, 0.993229495104432, 0.14856870891142224, 0.24895297168941022, 0.6023055766679279, 0.9907716884600077, 0.9953148204990887, 0.9596109401065778, 0.019991894585553702, 0.5440606837092771, 0.17538798356417484, 0.2827683816646901, 0.11119712047083734, 0.323166631368371, 0.5664103323983277, 0.03119400609632998, 0.6758701320871495, 0.2963430579151348, 0.9696959145862204, 0.32357203820684455, 0.6788668252574974, 0.47787652853600615, 0.25135064163257465, 0.2715207548500035, 0.9798892247099769, 0.9861471875350493, 0.009861471875350494, 0.009861471875350494, 0.9830967273847949, 0.27610559741675206, 0.6109570666243025, 0.11161715640251679, 0.6204257152961664, 0.21517654865762997, 0.164968687304183, 0.23935730257705232, 0.6040922398373225, 0.15577221278824038, 0.2469771166946257, 0.40065176708239275, 0.35125634374346765, 0.17026076415823715, 0.13203895995944923, 0.698416603996034, 0.014709019925281432, 0.029418039850562863, 0.9634408051059338, 0.015679953565212987, 0.47301193255059176, 0.5148251420578264, 0.9745572433373246, 0.02482948390668343, 0.013078720437288196, 0.7978019466745799, 0.18310208612203474, 0.22977125484659547, 0.13936944966104972, 0.6309292653574547, 0.24960417850861882, 0.31940873690509697, 0.4294037986207595, 0.9710033642836136, 0.1381598391006069, 0.8519856744537425, 0.011513319925050575, 0.022338498494574456, 0.982893933761276, 0.9925598659786722, 0.21837191944720144, 0.6509955334463741, 0.12772697175213668, 0.9849756701728569, 0.995839688296837, 0.19906341242215825, 0.0056875260692045215, 0.796253649688633, 0.9707354674400149, 0.5616942766048739, 0.43654995591052376, 0.20046742829683253, 0.743400046600754, 0.05846966658657615, 0.6715756925917311, 0.22539184203421114, 0.1011963372398499, 0.3129578362441773, 0.24832523962853198, 0.43882131386411816, 0.9865385740013224, 0.06904825011128703, 0.9206433348171604, 0.929959902839168, 0.060980977235355276, 0.9941922523275866, 0.9818467276958033, 0.9825510722980633, 0.9690513581391162, 0.9363547963087848, 0.024320903800228177, 0.048641807600456353, 0.9755244313796304, 0.022171009804082507, 0.9853418474433198, 0.9941534045154372, 0.965991220013001, 0.034499686429035746, 0.654663021036149, 0.3425058189526873, 0.309529498470831, 0.4391615106509226, 0.25132737055323884, 0.01561071504287935, 0.010407143361919566, 0.9782714760204393, 0.9860557014714733, 0.9772252929393187, 0.023834763242422407, 0.238104662005392, 0.0040356722373795255, 0.7587063806273507, 0.7191910398180695, 0.07321106393357595, 0.21102012545560125, 0.7997037354820717, 0.18543854735816157, 0.011589909209885098, 0.02751477303358767, 0.9767744426923624, 0.9891589266942103, 0.9889859956920288, 0.020070187181430832, 0.6623161769872175, 0.31443293250908305, 0.9783170233708688, 0.1567284292395136, 0.45747757723966137, 0.38123131436638447, 0.8908941226471077, 0.11136176533088846, 0.9948658098684966, 0.9827607459167358, 0.9825994289110237, 0.9693036440529744, 0.20845769067944023, 0.4883865895918314, 0.30375263499004146, 0.9942671764362908, 0.9872200840516527, 0.9872535220751848, 0.01410362174393121, 0.6889576069824932, 0.3136717560245497, 0.00843707220710472, 0.9449520871957289, 0.05062243324262833, 0.9867891598740883, 0.01351765972430258, 0.9874271476783535, 0.99701404309062, 0.019014606712728456, 0.8112898864097475, 0.1711314604145561, 0.9952091438207396, 0.30543237261593464, 0.1302579236156192, 0.5614565673087034, 0.15162799597918003, 0.06220635732479181, 0.7892431585582961], \"Term\": [\"Italia\", \"Italia\", \"Italia\", \"Roma\", \"Roma\", \"Roma\", \"aiuto\", \"allitalio\", \"alternativo\", \"altro\", \"altro\", \"altro\", \"ambientale\", \"amico\", \"amico\", \"amico\", \"amministratore\", \"anno\", \"anno\", \"anno\", \"antifa\", \"arma\", \"arma\", \"aumento\", \"azienda\", \"bianco\", \"bolletta\", \"brevetto\", \"buono\", \"buono\", \"buono\", \"campagna\", \"campagna\", \"campagna\", \"candidato\", \"candidato\", \"cgil\", \"cinque\", \"cittadino\", \"cittadino\", \"cittadino\", \"civico\", \"civico\", \"classe\", \"coalizione\", \"coalizione\", \"collegio\", \"coloro\", \"comunit\\u00e0\", \"confronto\", \"confronto\", \"consiglio\", \"consiglio\", \"conte\", \"conte\", \"conte\", \"contenuto\", \"contenuto\", \"contenuto\", \"cosa\", \"cosa\", \"cosa\", \"costituzione\", \"costo\", \"costo\", \"covid19\", \"crisi\", \"crisi\", \"decreto\", \"delocalizzazione\", \"democrazia\", \"democrazia\", \"democrazia\", \"destra\", \"destra\", \"destra\", \"dirigente\", \"diritto\", \"diritto\", \"diritto\", \"dolore\", \"domanda\", \"domanda\", \"donna\", \"dopo\", \"dopo\", \"dopo\", \"dovere\", \"dovere\", \"dovere\", \"drago\", \"drago\", \"drago\", \"due\", \"due\", \"due\", \"economico\", \"economico\", \"efficace\", \"elettorale\", \"elettorale\", \"elettore\", \"elettore\", \"elezione\", \"elezione\", \"elezione\", \"energetico\", \"energia\", \"energia\", \"europeo\", \"europeo\", \"europeo\", \"facile\", \"fascista\", \"fascista\", \"fascista\", \"firma\", \"futuro\", \"futuro\", \"futuro\", \"gas\", \"gesto\", \"gioco\", \"giorno\", \"giorno\", \"giorno\", \"gkn\", \"governo\", \"governo\", \"governo\", \"governodrago\", \"governodrago\", \"governodrago\", \"grande\", \"grande\", \"grande\", \"grazie\", \"grazie\", \"grazie\", \"gualtiero\", \"guardia\", \"impresa\", \"indipendente\", \"investimento\", \"istituzione\", \"istituzione\", \"istituzione\", \"italiano\", \"italiano\", \"italiano\", \"italiasulserio\", \"italiasulserio\", \"lavoratore\", \"lavoratore\", \"lavoro\", \"lavoro\", \"lavoro\", \"legge\", \"legge\", \"legge\", \"leghista\", \"legislatura\", \"legislatura\", \"liberale\", \"liberale\", \"liberale\", \"libert\\u00e0\", \"libert\\u00e0\", \"libico\", \"libico\", \"licenziamente\", \"lista\", \"litalia\", \"litalia\", \"litalia\", \"mafia\", \"manifestazione\", \"manovra\", \"manovra\", \"mese\", \"mese\", \"mese\", \"messaggio\", \"messaggio\", \"michetto\", \"minimo\", \"ministra\", \"ministro\", \"ministro\", \"misura\", \"modo\", \"modo\", \"modo\", \"municipio\", \"museo\", \"nucleare\", \"nucleare\", \"nuovo\", \"nuovo\", \"nuovo\", \"ogni\", \"ogni\", \"ogni\", \"ora\", \"ora\", \"ora\", \"organizzazione\", \"pace\", \"pace\", \"paese\", \"paese\", \"paese\", \"palermo\", \"pandemia\", \"pandemia\", \"pandemia\", \"parco\", \"parlamentare\", \"parlamentare\", \"parlamentare\", \"parlamento\", \"parlamento\", \"parlamento\", \"parola\", \"parola\", \"parola\", \"parte\", \"parte\", \"parte\", \"partito\", \"partito\", \"partito\", \"perch\\u00e9\", \"perch\\u00e9\", \"perch\\u00e9\", \"persona\", \"persona\", \"persona\", \"piano\", \"piano\", \"piazza\", \"piazza\", \"piazza\", \"politica\", \"politica\", \"politica\", \"politico\", \"politico\", \"politico\", \"polo\", \"popolo\", \"popolo\", \"popolo\", \"populista\", \"populista\", \"precario\", \"presidente\", \"presidente\", \"presidente\", \"prezzo\", \"primario\", \"programma\", \"programma\", \"programma\", \"promessa\", \"proposta\", \"proposta\", \"proprio\", \"proprio\", \"proprio\", \"pubblico\", \"pubblico\", \"pubblico\", \"quando\", \"quando\", \"quando\", \"quartiere\", \"quirinale\", \"quirinale\", \"raggio\", \"raggio\", \"repubblica\", \"resistenza\", \"resto\", \"riformista\", \"rischio\", \"rischio\", \"rischio\", \"salare\", \"salare\", \"salariominimo\", \"sanitario\", \"sanit\\u00e0\", \"sanit\\u00e0\", \"scuola\", \"scuola\", \"senza\", \"senza\", \"senza\", \"serio\", \"serio\", \"serio\", \"settore\", \"sicurezza\", \"sicurezza\", \"sinistra\", \"sinistra\", \"sinistra\", \"sinistraitaliano\", \"sinistraitaliano\", \"sinistraitaliano\", \"sociale\", \"sociale\", \"sociale\", \"solidariet\\u00e0\", \"solidariet\\u00e0\", \"sondaggio\", \"sovranista\", \"storia\", \"storia\", \"storia\", \"strage\", \"tanto\", \"tanto\", \"tanto\", \"tassa\", \"tassa\", \"tragedia\", \"trasporto\", \"troppo\", \"trump\", \"tutto\", \"tutto\", \"tutto\", \"tweet\", \"umano\", \"uomo\", \"uomo\", \"vaccino\", \"vaccino\", \"valore\", \"valore\", \"valore\", \"vergogna\", \"vergogna\", \"vicenda\", \"violenza\", \"vita\", \"vita\", \"vita\", \"vittima\", \"volta\", \"volta\", \"volta\", \"voto\", \"voto\", \"voto\"]}, \"R\": 30, \"lambda.step\": 0.01, \"plot.opts\": {\"xlab\": \"PC1\", \"ylab\": \"PC2\"}, \"topic.order\": [3, 2, 1]};\n",
       "\n",
       "function LDAvis_load_lib(url, callback){\n",
       "  var s = document.createElement('script');\n",
       "  s.src = url;\n",
       "  s.async = true;\n",
       "  s.onreadystatechange = s.onload = callback;\n",
       "  s.onerror = function(){console.warn(\"failed to load library \" + url);};\n",
       "  document.getElementsByTagName(\"head\")[0].appendChild(s);\n",
       "}\n",
       "\n",
       "if(typeof(LDAvis) !== \"undefined\"){\n",
       "   // already loaded: just create the visualization\n",
       "   !function(LDAvis){\n",
       "       new LDAvis(\"#\" + \"ldavis_el287257273080329565773485\", ldavis_el287257273080329565773485_data);\n",
       "   }(LDAvis);\n",
       "}else if(typeof define === \"function\" && define.amd){\n",
       "   // require.js is available: use it to load d3/LDAvis\n",
       "   require.config({paths: {d3: \"https://d3js.org/d3.v5\"}});\n",
       "   require([\"d3\"], function(d3){\n",
       "      window.d3 = d3;\n",
       "      LDAvis_load_lib(\"https://cdn.jsdelivr.net/gh/bmabey/pyLDAvis@3.4.0/pyLDAvis/js/ldavis.v3.0.0.js\", function(){\n",
       "        new LDAvis(\"#\" + \"ldavis_el287257273080329565773485\", ldavis_el287257273080329565773485_data);\n",
       "      });\n",
       "    });\n",
       "}else{\n",
       "    // require.js not available: dynamically load d3 & LDAvis\n",
       "    LDAvis_load_lib(\"https://d3js.org/d3.v5.js\", function(){\n",
       "         LDAvis_load_lib(\"https://cdn.jsdelivr.net/gh/bmabey/pyLDAvis@3.4.0/pyLDAvis/js/ldavis.v3.0.0.js\", function(){\n",
       "                 new LDAvis(\"#\" + \"ldavis_el287257273080329565773485\", ldavis_el287257273080329565773485_data);\n",
       "            })\n",
       "         });\n",
       "}\n",
       "</script>"
      ],
      "text/plain": [
       "PreparedData(topic_coordinates=              x         y  topics  cluster       Freq\n",
       "topic                                                \n",
       "2     -0.010307 -0.158743       1        1  36.103756\n",
       "1     -0.134865  0.088136       2        1  32.017969\n",
       "0      0.145172  0.070607       3        1  31.878275, topic_info=            Term        Freq       Total Category  logprob  loglift\n",
       "1857  lavoratore  309.000000  309.000000  Default  30.0000  30.0000\n",
       "138      libertà  217.000000  217.000000  Default  29.0000  29.0000\n",
       "46         donna  189.000000  189.000000  Default  28.0000  28.0000\n",
       "45       diritto  432.000000  432.000000  Default  27.0000  27.0000\n",
       "189    candidato  187.000000  187.000000  Default  26.0000  26.0000\n",
       "...          ...         ...         ...      ...      ...      ...\n",
       "156        parte  127.567564  364.406230   Topic3  -5.6499   0.0936\n",
       "2           anno  131.672640  512.431373   Topic3  -5.6182  -0.2156\n",
       "149     italiano  129.757772  444.523086   Topic3  -5.6329  -0.0881\n",
       "5           dopo  126.867895  363.104183   Topic3  -5.6554   0.0917\n",
       "179        altro  127.135239  477.291193   Topic3  -5.6533  -0.1796\n",
       "\n",
       "[238 rows x 6 columns], token_table=      Topic      Freq    Term\n",
       "term                         \n",
       "106       1  0.498784  Italia\n",
       "106       2  0.107522  Italia\n",
       "106       3  0.391261  Italia\n",
       "443       1  0.005192    Roma\n",
       "443       2  0.384180    Roma\n",
       "...     ...       ...     ...\n",
       "677       2  0.130258   volta\n",
       "677       3  0.561457   volta\n",
       "188       1  0.151628    voto\n",
       "188       2  0.062206    voto\n",
       "188       3  0.789243    voto\n",
       "\n",
       "[357 rows x 3 columns], R=30, lambda_step=0.01, plot_opts={'xlab': 'PC1', 'ylab': 'PC2'}, topic_order=[3, 2, 1])"
      ]
     },
     "execution_count": 20,
     "metadata": {},
     "output_type": "execute_result"
    }
   ],
   "source": [
    "pyLDAvis.enable_notebook()\n",
    "LDAvis_data_filepath = os.path.join('./results/ldavis_prepared_left'+str(num_topics))\n",
    "\n",
    "if 1 == 1:\n",
    "    LDAvis_prepared_left = gensimvis.prepare(lda_model_left, corpus_left, dictionary_left)\n",
    "    with open(LDAvis_data_filepath, 'wb') as f:\n",
    "        pickle.dump(LDAvis_prepared, f)\n",
    "\n",
    "with open(LDAvis_data_filepath, 'rb') as f:\n",
    "    LDAvis_prepared = pickle.load(f)\n",
    "\n",
    "pyLDAvis.save_html(LDAvis_prepared_left, './results/ldavis_prepared_left'+ str(num_topics) +'.html')\n",
    "\n",
    "LDAvis_prepared_left"
   ]
  },
  {
   "cell_type": "markdown",
   "metadata": {},
   "source": [
    "### Topics:\n",
    "- Topic 0: \"Political Opposition and Governance Critique\": \n",
    "    This topic focuses on political discourse and critique of right-wing governance. Key terms include \"politica\" (politics), \"governo\" (government), \"destra\" (right/right-wing), \"Roma\" (Rome), \"politico\" (political), \"voto\" (vote), and \"partito\" (party). This suggests rhetoric centered on political opposition, electoral strategy, and criticism of right-wing politics, with a focus on serious (\"serio\") political engagement.\n",
    "- Topic 1: \"Rights and Social Justice\": \n",
    "    This topic emphasizes rights, freedoms, and social concerns. Prominent words include \"diritto\" (right/rights), \"libertà\" (freedom), \"lavoro\" (work), \"donna\" (woman), and \"persona\" (person). The presence of \"senza\" (without) suggests discourse around inequality and exclusion. This topic reflects left-wing emphasis on individual rights, gender equality, and social justice concerns.\n",
    "- Topic 2: \"Economic Policy and Labor Rights\": \n",
    "    This topic centers on economic governance and labor issues. Key terms include \"governo\" (government), \"lavoro\" (work), \"drago\" (likely referring to Mario Draghi or economic policies), \"paese\" (country), \"lavoratore\" (worker), \"crisi\" (crisis), and \"proposta\" (proposal). This suggests rhetoric focused on labor rights, economic crisis management, legislative proposals, and parliamentary action to address workers' concerns."
   ]
  }
 ],
 "metadata": {
  "kernelspec": {
   "display_name": "Python 3",
   "language": "python",
   "name": "python3"
  },
  "language_info": {
   "codemirror_mode": {
    "name": "ipython",
    "version": 3
   },
   "file_extension": ".py",
   "mimetype": "text/x-python",
   "name": "python",
   "nbconvert_exporter": "python",
   "pygments_lexer": "ipython3",
   "version": "3.11.5"
  }
 },
 "nbformat": 4,
 "nbformat_minor": 2
}
