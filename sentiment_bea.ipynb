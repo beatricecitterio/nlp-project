{
 "cells": [
  {
   "cell_type": "markdown",
   "id": "3e5807f8",
   "metadata": {},
   "source": [
    "## **Introduction - Sentiment Analysis Part II**\n",
    "So far we have tried:\n",
    "- roberta pre trained\n",
    "- zero shot learning\n",
    "- Vader on translated tweets\n",
    "\n",
    "Issue: none of them works well (not good classification and very imbalanced data). Potential solutions:\n",
    "1. Fine-tune a model on domain-specific data: collect an Italian political sentiment dataset, fine-tune an Italian language model like AlBERTo, UmBERTo, or BERTino on this dataset. You can manually label a subset of your tweets (even ~1,000) and use active learning to scale up.\n",
    "2. Use a weak supervision framework: if labeling is too expensive, use Snorkel or Skweak to create heuristic rules (e.g., hashtags, emojis, known party slogans). Combine weak labels into a probabilistic label model. Train a classifier on this noisy but large-scale data.\n",
    "3. Refine your zero-shot prompt setup - If you use a zero-shot pipeline (e.g., HuggingFace pipeline(\"zero-shot-classification\")), try:\n",
    "    - Framing labels in political terms: instead of generic \"positive/negative/neutral\", try \"supportive\", \"opposing\", \"neutral toward the politician\" or their policies.\n",
    "    - Use prompt engineering to improve performance: candidate_labels = [\"support\", \"oppose\", \"neutral\"], hypothesis_template = \"This tweet expresses a {} opinion about politics.\"\n",
    "4. Use sentiment + emotion + toxicity hybrid: often political tweets are more emotional than classically \"positive\" or \"negative\". Use an emotion classifier (anger, joy, fear, etc.). Combine with toxicity detection (like HateBERT, ToxicBERT, or Italian-specific versions).\n",
    "Fuse signals into a sentiment interpretation model.\n",
    "\n",
    "For sure, what we will do first is to consider only a filtered subset of the data, which should be the ones that are most expressive."
   ]
  },
  {
   "cell_type": "code",
   "execution_count": 1,
   "id": "fd11a4e2",
   "metadata": {},
   "outputs": [],
   "source": [
    "import torch\n",
    "import pandas as pd\n",
    "import numpy as np\n"
   ]
  },
  {
   "cell_type": "markdown",
   "id": "306c758d",
   "metadata": {},
   "source": [
    "## **Load the Data**"
   ]
  },
  {
   "cell_type": "code",
   "execution_count": 2,
   "id": "75772cd7",
   "metadata": {},
   "outputs": [],
   "source": [
    "politicians_cleaned = pd.read_csv('politicians_data/politicians_classified.csv')"
   ]
  },
  {
   "cell_type": "code",
   "execution_count": 3,
   "id": "820c570f",
   "metadata": {},
   "outputs": [
    {
     "data": {
      "text/html": [
       "<div>\n",
       "<style scoped>\n",
       "    .dataframe tbody tr th:only-of-type {\n",
       "        vertical-align: middle;\n",
       "    }\n",
       "\n",
       "    .dataframe tbody tr th {\n",
       "        vertical-align: top;\n",
       "    }\n",
       "\n",
       "    .dataframe thead th {\n",
       "        text-align: right;\n",
       "    }\n",
       "</style>\n",
       "<table border=\"1\" class=\"dataframe\">\n",
       "  <thead>\n",
       "    <tr style=\"text-align: right;\">\n",
       "      <th></th>\n",
       "      <th>Unnamed: 0</th>\n",
       "      <th>Date</th>\n",
       "      <th>ID</th>\n",
       "      <th>Content</th>\n",
       "      <th>Likes</th>\n",
       "      <th>politician</th>\n",
       "      <th>party</th>\n",
       "      <th>ideology_num</th>\n",
       "      <th>classification</th>\n",
       "    </tr>\n",
       "  </thead>\n",
       "  <tbody>\n",
       "    <tr>\n",
       "      <th>0</th>\n",
       "      <td>1</td>\n",
       "      <td>2022-12-29 20:55:30+00:00</td>\n",
       "      <td>1608567407500754944</td>\n",
       "      <td>Congratulations to @netanyahu on the formation...</td>\n",
       "      <td>6021</td>\n",
       "      <td>Meloni</td>\n",
       "      <td>FdI</td>\n",
       "      <td>3</td>\n",
       "      <td>1</td>\n",
       "    </tr>\n",
       "    <tr>\n",
       "      <th>1</th>\n",
       "      <td>6</td>\n",
       "      <td>2022-12-27 18:00:00+00:00</td>\n",
       "      <td>1607798465198710784</td>\n",
       "      <td>Vogliamo restituire a questa Nazione l’ottimis...</td>\n",
       "      <td>14890</td>\n",
       "      <td>Meloni</td>\n",
       "      <td>FdI</td>\n",
       "      <td>3</td>\n",
       "      <td>1</td>\n",
       "    </tr>\n",
       "    <tr>\n",
       "      <th>2</th>\n",
       "      <td>7</td>\n",
       "      <td>2022-12-27 17:05:06+00:00</td>\n",
       "      <td>1607784649056727041</td>\n",
       "      <td>Cordiale conversazione telefonica con @Zelensk...</td>\n",
       "      <td>8589</td>\n",
       "      <td>Meloni</td>\n",
       "      <td>FdI</td>\n",
       "      <td>3</td>\n",
       "      <td>1</td>\n",
       "    </tr>\n",
       "    <tr>\n",
       "      <th>3</th>\n",
       "      <td>9</td>\n",
       "      <td>2022-12-25 00:08:43+00:00</td>\n",
       "      <td>1606804094102155264</td>\n",
       "      <td>Franco Frattini era un uomo garbato e intellig...</td>\n",
       "      <td>3260</td>\n",
       "      <td>Meloni</td>\n",
       "      <td>FdI</td>\n",
       "      <td>3</td>\n",
       "      <td>1</td>\n",
       "    </tr>\n",
       "    <tr>\n",
       "      <th>4</th>\n",
       "      <td>11</td>\n",
       "      <td>2022-12-24 07:18:01+00:00</td>\n",
       "      <td>1606549741168377856</td>\n",
       "      <td>Proteggere la libertà religiosa è un obiettivo...</td>\n",
       "      <td>5901</td>\n",
       "      <td>Meloni</td>\n",
       "      <td>FdI</td>\n",
       "      <td>3</td>\n",
       "      <td>1</td>\n",
       "    </tr>\n",
       "  </tbody>\n",
       "</table>\n",
       "</div>"
      ],
      "text/plain": [
       "   Unnamed: 0                       Date                   ID  \\\n",
       "0           1  2022-12-29 20:55:30+00:00  1608567407500754944   \n",
       "1           6  2022-12-27 18:00:00+00:00  1607798465198710784   \n",
       "2           7  2022-12-27 17:05:06+00:00  1607784649056727041   \n",
       "3           9  2022-12-25 00:08:43+00:00  1606804094102155264   \n",
       "4          11  2022-12-24 07:18:01+00:00  1606549741168377856   \n",
       "\n",
       "                                             Content  Likes politician party  \\\n",
       "0  Congratulations to @netanyahu on the formation...   6021     Meloni   FdI   \n",
       "1  Vogliamo restituire a questa Nazione l’ottimis...  14890     Meloni   FdI   \n",
       "2  Cordiale conversazione telefonica con @Zelensk...   8589     Meloni   FdI   \n",
       "3  Franco Frattini era un uomo garbato e intellig...   3260     Meloni   FdI   \n",
       "4  Proteggere la libertà religiosa è un obiettivo...   5901     Meloni   FdI   \n",
       "\n",
       "   ideology_num  classification  \n",
       "0             3               1  \n",
       "1             3               1  \n",
       "2             3               1  \n",
       "3             3               1  \n",
       "4             3               1  "
      ]
     },
     "execution_count": 3,
     "metadata": {},
     "output_type": "execute_result"
    }
   ],
   "source": [
    "politicians_cleaned.head()"
   ]
  },
  {
   "cell_type": "code",
   "execution_count": 4,
   "id": "cff091c8",
   "metadata": {},
   "outputs": [],
   "source": [
    "data = politicians_cleaned.drop(columns=['Unnamed: 0', 'classification'])"
   ]
  },
  {
   "cell_type": "markdown",
   "id": "132053d8",
   "metadata": {},
   "source": [
    "## **Active Learning**\n",
    "Active learning is a technique used to minimize labeling effort by selectively choosing which examples a human should label next.\n",
    "How it works:\n",
    "- Start with a small labeled set (e.g., 200 tweets).\n",
    "- Train an initial model (using transfer learning).\n",
    "- Use that model to predict on the unlabeled tweets.\n",
    "- Select the most uncertain predictions (e.g., low confidence margin between classes).\n",
    "- Manually label these tweets (they’re the most informative).\n",
    "- Retrain the model with the new labeled data.\n",
    "- Repeat \n",
    "Goal: Reach high model performance with far fewer labels than random sampling would require"
   ]
  },
  {
   "cell_type": "markdown",
   "id": "fb677ede",
   "metadata": {},
   "source": [
    "SET OF LABELS:\n",
    "1. Neutral / Informational: Factual updates, announcements, or descriptive statements with no clear emotional tone or stance.\n",
    "2. Supportive / Affirmative / Celebratory: Positive endorsement or praise — for allies, institutions, values, events. Celebrating some achievement.\n",
    "3. Attacking / Critical / Angry / Outraged: Expressing indignation, moral outrage, or rhetorical escalation. Direct attack, blame, or disapproval — usually aimed at political opponents.\n",
    "4. Call to Action / Propaganda"
   ]
  },
  {
   "cell_type": "markdown",
   "id": "0dcbb518",
   "metadata": {},
   "source": [
    "### **Part 1 - Label 100 random tweets**"
   ]
  },
  {
   "cell_type": "code",
   "execution_count": 6,
   "id": "8debbe47",
   "metadata": {},
   "outputs": [
    {
     "data": {
      "application/vnd.jupyter.widget-view+json": {
       "model_id": "992037bf3ea643e2aa414b33fb4c1ce0",
       "version_major": 2,
       "version_minor": 0
      },
      "text/plain": [
       "HTML(value='<b>Tweet 1</b>: Alla fine di questa avventura a me interesserà una sola cosa: sapere che abbiamo f…"
      ]
     },
     "metadata": {},
     "output_type": "display_data"
    },
    {
     "data": {
      "application/vnd.jupyter.widget-view+json": {
       "model_id": "977d0742cc4f41c498177c35f06d535a",
       "version_major": 2,
       "version_minor": 0
      },
      "text/plain": [
       "Dropdown(description='Tone:', layout=Layout(width='70%'), options=('', 'Neutral / Informational', 'Supportive …"
      ]
     },
     "metadata": {},
     "output_type": "display_data"
    },
    {
     "data": {
      "application/vnd.jupyter.widget-view+json": {
       "model_id": "64015f048e814618a25af39365135ad4",
       "version_major": 2,
       "version_minor": 0
      },
      "text/plain": [
       "HTML(value='<b>Tweet 2</b>: #Salvini: Ho ricordato all’avvocato Conte che mettere sullo stesso piano USA e Cin…"
      ]
     },
     "metadata": {},
     "output_type": "display_data"
    },
    {
     "data": {
      "application/vnd.jupyter.widget-view+json": {
       "model_id": "0238618df6ba44bcba8cbc285069ee04",
       "version_major": 2,
       "version_minor": 0
      },
      "text/plain": [
       "Dropdown(description='Tone:', layout=Layout(width='70%'), options=('', 'Neutral / Informational', 'Supportive …"
      ]
     },
     "metadata": {},
     "output_type": "display_data"
    },
    {
     "data": {
      "application/vnd.jupyter.widget-view+json": {
       "model_id": "14ff4451f73f45ca93c072cfca2d457c",
       "version_major": 2,
       "version_minor": 0
      },
      "text/plain": [
       "HTML(value='<b>Tweet 3</b>: Dobbiamo spingere sulla ripartenza. Dobbiamo correre veloci, facendo investimenti …"
      ]
     },
     "metadata": {},
     "output_type": "display_data"
    },
    {
     "data": {
      "application/vnd.jupyter.widget-view+json": {
       "model_id": "e3b012a753264ad6be55f4c718a5e11b",
       "version_major": 2,
       "version_minor": 0
      },
      "text/plain": [
       "Dropdown(description='Tone:', layout=Layout(width='70%'), options=('', 'Neutral / Informational', 'Supportive …"
      ]
     },
     "metadata": {},
     "output_type": "display_data"
    },
    {
     "data": {
      "application/vnd.jupyter.widget-view+json": {
       "model_id": "0fcb0608d71b433da96caa8a3113899d",
       "version_major": 2,
       "version_minor": 0
      },
      "text/plain": [
       "HTML(value='<b>Tweet 4</b>: Si mettano l’animo in pace: il #25settembre, se gli italiani lo vorranno, si volte…"
      ]
     },
     "metadata": {},
     "output_type": "display_data"
    },
    {
     "data": {
      "application/vnd.jupyter.widget-view+json": {
       "model_id": "cc38ccd48e8641d7b73ed400221f290f",
       "version_major": 2,
       "version_minor": 0
      },
      "text/plain": [
       "Dropdown(description='Tone:', layout=Layout(width='70%'), options=('', 'Neutral / Informational', 'Supportive …"
      ]
     },
     "metadata": {},
     "output_type": "display_data"
    },
    {
     "data": {
      "application/vnd.jupyter.widget-view+json": {
       "model_id": "1c4925a155ab47b4abe877c22e503f78",
       "version_major": 2,
       "version_minor": 0
      },
      "text/plain": [
       "HTML(value='<b>Tweet 5</b>: L’#Ucraina nella #UE? Per le scelte e la storia di domani serve una Confederazione…"
      ]
     },
     "metadata": {},
     "output_type": "display_data"
    },
    {
     "data": {
      "application/vnd.jupyter.widget-view+json": {
       "model_id": "43c9ac2b5aee44b9a6ec65b11dd87ab5",
       "version_major": 2,
       "version_minor": 0
      },
      "text/plain": [
       "Dropdown(description='Tone:', layout=Layout(width='70%'), options=('', 'Neutral / Informational', 'Supportive …"
      ]
     },
     "metadata": {},
     "output_type": "display_data"
    },
    {
     "data": {
      "application/vnd.jupyter.widget-view+json": {
       "model_id": "3ab504edf94543739ef75e28022bb21d",
       "version_major": 2,
       "version_minor": 0
      },
      "text/plain": [
       "HTML(value='<b>Tweet 6</b>: La crisi Ucraina evidenzia i limiti del bipopulismo. I 5S sono tornati ad essere q…"
      ]
     },
     "metadata": {},
     "output_type": "display_data"
    },
    {
     "data": {
      "application/vnd.jupyter.widget-view+json": {
       "model_id": "264ab7baf03d41f3bff17c5fe0d2137f",
       "version_major": 2,
       "version_minor": 0
      },
      "text/plain": [
       "Dropdown(description='Tone:', layout=Layout(width='70%'), options=('', 'Neutral / Informational', 'Supportive …"
      ]
     },
     "metadata": {},
     "output_type": "display_data"
    },
    {
     "data": {
      "application/vnd.jupyter.widget-view+json": {
       "model_id": "2a3cfe74a0eb48d9a24e9e974af0300f",
       "version_major": 2,
       "version_minor": 0
      },
      "text/plain": [
       "HTML(value='<b>Tweet 7</b>: Sono intervenuto in aula per chiedere al Governo di ripristinare l’unità di missio…"
      ]
     },
     "metadata": {},
     "output_type": "display_data"
    },
    {
     "data": {
      "application/vnd.jupyter.widget-view+json": {
       "model_id": "bfb127e9f93046448b1089f300cf266f",
       "version_major": 2,
       "version_minor": 0
      },
      "text/plain": [
       "Dropdown(description='Tone:', layout=Layout(width='70%'), options=('', 'Neutral / Informational', 'Supportive …"
      ]
     },
     "metadata": {},
     "output_type": "display_data"
    },
    {
     "data": {
      "application/vnd.jupyter.widget-view+json": {
       "model_id": "85655a7bf76a4482b8084f0a1d3b1148",
       "version_major": 2,
       "version_minor": 0
      },
      "text/plain": [
       "HTML(value='<b>Tweet 8</b>: La nomina del Generale #Figliuolo è una vittoria politica di @forza_italia. Ora se…"
      ]
     },
     "metadata": {},
     "output_type": "display_data"
    },
    {
     "data": {
      "application/vnd.jupyter.widget-view+json": {
       "model_id": "558e3983e6914a15843526eaf48c19ed",
       "version_major": 2,
       "version_minor": 0
      },
      "text/plain": [
       "Dropdown(description='Tone:', layout=Layout(width='70%'), options=('', 'Neutral / Informational', 'Supportive …"
      ]
     },
     "metadata": {},
     "output_type": "display_data"
    },
    {
     "data": {
      "application/vnd.jupyter.widget-view+json": {
       "model_id": "31e017296bbe4cb590c22d3dbdc2215b",
       "version_major": 2,
       "version_minor": 0
      },
      "text/plain": [
       "HTML(value='<b>Tweet 9</b>: Con quale credibilità chi trentasette giorni fa ha fatto cadere il Governo Draghi …"
      ]
     },
     "metadata": {},
     "output_type": "display_data"
    },
    {
     "data": {
      "application/vnd.jupyter.widget-view+json": {
       "model_id": "255f616514554fc996ab5d0e6c1dcae7",
       "version_major": 2,
       "version_minor": 0
      },
      "text/plain": [
       "Dropdown(description='Tone:', layout=Layout(width='70%'), options=('', 'Neutral / Informational', 'Supportive …"
      ]
     },
     "metadata": {},
     "output_type": "display_data"
    },
    {
     "data": {
      "application/vnd.jupyter.widget-view+json": {
       "model_id": "7afcb7917b5141bc8e50d1c23023fa97",
       "version_major": 2,
       "version_minor": 0
      },
      "text/plain": [
       "HTML(value='<b>Tweet 10</b>: Stefano, beh ti dirò da qualche parte però si. Anche perché altrimenti diventano …"
      ]
     },
     "metadata": {},
     "output_type": "display_data"
    },
    {
     "data": {
      "application/vnd.jupyter.widget-view+json": {
       "model_id": "dc15742a161641eab89f231352ea8db0",
       "version_major": 2,
       "version_minor": 0
      },
      "text/plain": [
       "Dropdown(description='Tone:', layout=Layout(width='70%'), options=('', 'Neutral / Informational', 'Supportive …"
      ]
     },
     "metadata": {},
     "output_type": "display_data"
    },
    {
     "data": {
      "application/vnd.jupyter.widget-view+json": {
       "model_id": "e0cac4abe02449f89022226418174a20",
       "version_major": 2,
       "version_minor": 0
      },
      "text/plain": [
       "HTML(value=\"<b>Tweet 11</b>: Salute, sicurezza e lavoro per gli Italiani, taglio delle tasse, giustizia e buro…"
      ]
     },
     "metadata": {},
     "output_type": "display_data"
    },
    {
     "data": {
      "application/vnd.jupyter.widget-view+json": {
       "model_id": "2c7587c96db5477381ef69b5835d83ec",
       "version_major": 2,
       "version_minor": 0
      },
      "text/plain": [
       "Dropdown(description='Tone:', layout=Layout(width='70%'), options=('', 'Neutral / Informational', 'Supportive …"
      ]
     },
     "metadata": {},
     "output_type": "display_data"
    },
    {
     "data": {
      "application/vnd.jupyter.widget-view+json": {
       "model_id": "996ac73486374ffebeaa36d5bc9f4317",
       "version_major": 2,
       "version_minor": 0
      },
      "text/plain": [
       "HTML(value='<b>Tweet 12</b>: I #rider sono cittadini non schiavi. È ora di restituire diritti e salari decenti…"
      ]
     },
     "metadata": {},
     "output_type": "display_data"
    },
    {
     "data": {
      "application/vnd.jupyter.widget-view+json": {
       "model_id": "ef8cefb9ce3746eab9424ebb4291abde",
       "version_major": 2,
       "version_minor": 0
      },
      "text/plain": [
       "Dropdown(description='Tone:', layout=Layout(width='70%'), options=('', 'Neutral / Informational', 'Supportive …"
      ]
     },
     "metadata": {},
     "output_type": "display_data"
    },
    {
     "data": {
      "application/vnd.jupyter.widget-view+json": {
       "model_id": "9e7207879a514b1e8415d10b88a8c74b",
       "version_major": 2,
       "version_minor": 0
      },
      "text/plain": [
       "HTML(value='<b>Tweet 13</b>: #Salvini: non sono io che dal nulla chiedo le elezioni, è nei fatti che questo go…"
      ]
     },
     "metadata": {},
     "output_type": "display_data"
    },
    {
     "data": {
      "application/vnd.jupyter.widget-view+json": {
       "model_id": "4ecdae7bf8164999b21b52695ba82308",
       "version_major": 2,
       "version_minor": 0
      },
      "text/plain": [
       "Dropdown(description='Tone:', layout=Layout(width='70%'), options=('', 'Neutral / Informational', 'Supportive …"
      ]
     },
     "metadata": {},
     "output_type": "display_data"
    },
    {
     "data": {
      "application/vnd.jupyter.widget-view+json": {
       "model_id": "f09771615cff4b1ba1e55e4a3597e844",
       "version_major": 2,
       "version_minor": 0
      },
      "text/plain": [
       "HTML(value='<b>Tweet 14</b>: ...sufficienti per azzerare simboli, storia, merito, cuore e passione. Il calcio …"
      ]
     },
     "metadata": {},
     "output_type": "display_data"
    },
    {
     "data": {
      "application/vnd.jupyter.widget-view+json": {
       "model_id": "e9c27d3de0d34a2595775b24ae4805bd",
       "version_major": 2,
       "version_minor": 0
      },
      "text/plain": [
       "Dropdown(description='Tone:', layout=Layout(width='70%'), options=('', 'Neutral / Informational', 'Supportive …"
      ]
     },
     "metadata": {},
     "output_type": "display_data"
    },
    {
     "data": {
      "application/vnd.jupyter.widget-view+json": {
       "model_id": "1c8bf25dc6b044c09628ca0b97677834",
       "version_major": 2,
       "version_minor": 0
      },
      "text/plain": [
       "HTML(value='<b>Tweet 15</b>: E dal 25 settembre si cambia questa vergogna come abbiamo già dimostrato di saper…"
      ]
     },
     "metadata": {},
     "output_type": "display_data"
    },
    {
     "data": {
      "application/vnd.jupyter.widget-view+json": {
       "model_id": "dba56ff3a42044709aae67cf9c503bf5",
       "version_major": 2,
       "version_minor": 0
      },
      "text/plain": [
       "Dropdown(description='Tone:', layout=Layout(width='70%'), options=('', 'Neutral / Informational', 'Supportive …"
      ]
     },
     "metadata": {},
     "output_type": "display_data"
    },
    {
     "data": {
      "application/vnd.jupyter.widget-view+json": {
       "model_id": "dde0434987e541c0865d05f3ec655f97",
       "version_major": 2,
       "version_minor": 0
      },
      "text/plain": [
       "HTML(value='<b>Tweet 16</b>: Grazie @AranchaGlezLaya per il tuo impegno e la tua visione europeista. E grazie …"
      ]
     },
     "metadata": {},
     "output_type": "display_data"
    },
    {
     "data": {
      "application/vnd.jupyter.widget-view+json": {
       "model_id": "37fcc1c6968b41b797ad20c43d2e5f85",
       "version_major": 2,
       "version_minor": 0
      },
      "text/plain": [
       "Dropdown(description='Tone:', layout=Layout(width='70%'), options=('', 'Neutral / Informational', 'Supportive …"
      ]
     },
     "metadata": {},
     "output_type": "display_data"
    },
    {
     "data": {
      "application/vnd.jupyter.widget-view+json": {
       "model_id": "6dc84a10230349db9682dc7d04f64df9",
       "version_major": 2,
       "version_minor": 0
      },
      "text/plain": [
       "HTML(value='<b>Tweet 17</b>: Un grande riformatore, un appassionato studioso. Una persona di valori e visione.…"
      ]
     },
     "metadata": {},
     "output_type": "display_data"
    },
    {
     "data": {
      "application/vnd.jupyter.widget-view+json": {
       "model_id": "52c7445bf5b0446ba39874673ba28176",
       "version_major": 2,
       "version_minor": 0
      },
      "text/plain": [
       "Dropdown(description='Tone:', layout=Layout(width='70%'), options=('', 'Neutral / Informational', 'Supportive …"
      ]
     },
     "metadata": {},
     "output_type": "display_data"
    },
    {
     "data": {
      "application/vnd.jupyter.widget-view+json": {
       "model_id": "10a183572b404cc99ba78c8af160d044",
       "version_major": 2,
       "version_minor": 0
      },
      "text/plain": [
       "HTML(value='<b>Tweet 18</b>: Secondo i media francesi, l’algerino che questa mattina a Cannes ha aggredito un …"
      ]
     },
     "metadata": {},
     "output_type": "display_data"
    },
    {
     "data": {
      "application/vnd.jupyter.widget-view+json": {
       "model_id": "f7c1420db4ff453d94a13b6ef09d6303",
       "version_major": 2,
       "version_minor": 0
      },
      "text/plain": [
       "Dropdown(description='Tone:', layout=Layout(width='70%'), options=('', 'Neutral / Informational', 'Supportive …"
      ]
     },
     "metadata": {},
     "output_type": "display_data"
    },
    {
     "data": {
      "application/vnd.jupyter.widget-view+json": {
       "model_id": "e27e18bfe2b64810b224cc990e3ed10a",
       "version_major": 2,
       "version_minor": 0
      },
      "text/plain": [
       "HTML(value='<b>Tweet 19</b>: @GIOVANNISETTAN1 @EnricoMichetti Fascistello. Qui parliamo di storia e cultura. N…"
      ]
     },
     "metadata": {},
     "output_type": "display_data"
    },
    {
     "data": {
      "application/vnd.jupyter.widget-view+json": {
       "model_id": "08dfdb78ca7b44cbb5f9e55450c83b34",
       "version_major": 2,
       "version_minor": 0
      },
      "text/plain": [
       "Dropdown(description='Tone:', layout=Layout(width='70%'), options=('', 'Neutral / Informational', 'Supportive …"
      ]
     },
     "metadata": {},
     "output_type": "display_data"
    },
    {
     "data": {
      "application/vnd.jupyter.widget-view+json": {
       "model_id": "53e7334c5d734f709774af5db776efab",
       "version_major": 2,
       "version_minor": 0
      },
      "text/plain": [
       "HTML(value='<b>Tweet 20</b>: @AugustoMinzolin No certo che dovrebbero votare. Sono i cittadini che non dovrebb…"
      ]
     },
     "metadata": {},
     "output_type": "display_data"
    },
    {
     "data": {
      "application/vnd.jupyter.widget-view+json": {
       "model_id": "17280bbcacd24a6786b03d55579cd317",
       "version_major": 2,
       "version_minor": 0
      },
      "text/plain": [
       "Dropdown(description='Tone:', layout=Layout(width='70%'), options=('', 'Neutral / Informational', 'Supportive …"
      ]
     },
     "metadata": {},
     "output_type": "display_data"
    },
    {
     "data": {
      "application/vnd.jupyter.widget-view+json": {
       "model_id": "2c66050d3b3e4f58b317d2e12eab03ea",
       "version_major": 2,
       "version_minor": 0
      },
      "text/plain": [
       "HTML(value='<b>Tweet 21</b>: Questa mattina a Confcommercio. Parlare all’Italia seria, che studia, lavora e pr…"
      ]
     },
     "metadata": {},
     "output_type": "display_data"
    },
    {
     "data": {
      "application/vnd.jupyter.widget-view+json": {
       "model_id": "3547fe4a0f424824bcc107b4870d0aa0",
       "version_major": 2,
       "version_minor": 0
      },
      "text/plain": [
       "Dropdown(description='Tone:', layout=Layout(width='70%'), options=('', 'Neutral / Informational', 'Supportive …"
      ]
     },
     "metadata": {},
     "output_type": "display_data"
    },
    {
     "data": {
      "application/vnd.jupyter.widget-view+json": {
       "model_id": "a9d52834d1bb4c4ab2570c46ad4909ea",
       "version_major": 2,
       "version_minor": 0
      },
      "text/plain": [
       "HTML(value=\"<b>Tweet 22</b>: Durante il CAE ho ribadito il nostro sostegno all'Ucraina vittima dell'aggression…"
      ]
     },
     "metadata": {},
     "output_type": "display_data"
    },
    {
     "data": {
      "application/vnd.jupyter.widget-view+json": {
       "model_id": "a16bca20ba174e39bf147999eeaad211",
       "version_major": 2,
       "version_minor": 0
      },
      "text/plain": [
       "Dropdown(description='Tone:', layout=Layout(width='70%'), options=('', 'Neutral / Informational', 'Supportive …"
      ]
     },
     "metadata": {},
     "output_type": "display_data"
    },
    {
     "data": {
      "application/vnd.jupyter.widget-view+json": {
       "model_id": "3d3d2949f6384a30aec62afdb8a77fd8",
       "version_major": 2,
       "version_minor": 0
      },
      "text/plain": [
       "HTML(value='<b>Tweet 23</b>: Dobbiamo ripartire dall’istruzione. Per questo, tra i nostri #emendamenti, vi sar…"
      ]
     },
     "metadata": {},
     "output_type": "display_data"
    },
    {
     "data": {
      "application/vnd.jupyter.widget-view+json": {
       "model_id": "1bc975e63c70469192b9d4fd208efdac",
       "version_major": 2,
       "version_minor": 0
      },
      "text/plain": [
       "Dropdown(description='Tone:', layout=Layout(width='70%'), options=('', 'Neutral / Informational', 'Supportive …"
      ]
     },
     "metadata": {},
     "output_type": "display_data"
    },
    {
     "data": {
      "application/vnd.jupyter.widget-view+json": {
       "model_id": "610c71f06945443faedc0147df9f162f",
       "version_major": 2,
       "version_minor": 0
      },
      "text/plain": [
       "HTML(value=\"<b>Tweet 24</b>: #GovernoDraghi Non nascerà una maggioranza politica. Noi siamo nel centrodestra. …"
      ]
     },
     "metadata": {},
     "output_type": "display_data"
    },
    {
     "data": {
      "application/vnd.jupyter.widget-view+json": {
       "model_id": "cb1cf8c2435c4631a57cafa8acdf540e",
       "version_major": 2,
       "version_minor": 0
      },
      "text/plain": [
       "Dropdown(description='Tone:', layout=Layout(width='70%'), options=('', 'Neutral / Informational', 'Supportive …"
      ]
     },
     "metadata": {},
     "output_type": "display_data"
    },
    {
     "data": {
      "application/vnd.jupyter.widget-view+json": {
       "model_id": "f476e5f033794d51a9b1b1919219fc92",
       "version_major": 2,
       "version_minor": 0
      },
      "text/plain": [
       "HTML(value='<b>Tweet 25</b>: Gli italiani sono esausti di sacrifici che non portano a nulla e non ne possono p…"
      ]
     },
     "metadata": {},
     "output_type": "display_data"
    },
    {
     "data": {
      "application/vnd.jupyter.widget-view+json": {
       "model_id": "d94b58ed2cc64722a3bed4d625cc1328",
       "version_major": 2,
       "version_minor": 0
      },
      "text/plain": [
       "Dropdown(description='Tone:', layout=Layout(width='70%'), options=('', 'Neutral / Informational', 'Supportive …"
      ]
     },
     "metadata": {},
     "output_type": "display_data"
    },
    {
     "data": {
      "application/vnd.jupyter.widget-view+json": {
       "model_id": "35b653e8f2854e1184497971d28fba85",
       "version_major": 2,
       "version_minor": 0
      },
      "text/plain": [
       "HTML(value='<b>Tweet 26</b>: Vittoria! Abbiamo votato al  Parlamento europeo per difendere la produzione vinic…"
      ]
     },
     "metadata": {},
     "output_type": "display_data"
    },
    {
     "data": {
      "application/vnd.jupyter.widget-view+json": {
       "model_id": "4a52c354f4c84175be2a188d5f92f05c",
       "version_major": 2,
       "version_minor": 0
      },
      "text/plain": [
       "Dropdown(description='Tone:', layout=Layout(width='70%'), options=('', 'Neutral / Informational', 'Supportive …"
      ]
     },
     "metadata": {},
     "output_type": "display_data"
    },
    {
     "data": {
      "application/vnd.jupyter.widget-view+json": {
       "model_id": "60c789073a7a4a8c83ee6516f27c9499",
       "version_major": 2,
       "version_minor": 0
      },
      "text/plain": [
       "HTML(value='<b>Tweet 27</b>: Da tempo, insieme a @Piu_Europa e liste civiche, stiamo lavorando per questo. Ma …"
      ]
     },
     "metadata": {},
     "output_type": "display_data"
    },
    {
     "data": {
      "application/vnd.jupyter.widget-view+json": {
       "model_id": "187f01ab13764bf8a93c9529605f7222",
       "version_major": 2,
       "version_minor": 0
      },
      "text/plain": [
       "Dropdown(description='Tone:', layout=Layout(width='70%'), options=('', 'Neutral / Informational', 'Supportive …"
      ]
     },
     "metadata": {},
     "output_type": "display_data"
    },
    {
     "data": {
      "application/vnd.jupyter.widget-view+json": {
       "model_id": "12c7b0cb52c84dbfad4a3852ffdda28d",
       "version_major": 2,
       "version_minor": 0
      },
      "text/plain": [
       "HTML(value='<b>Tweet 28</b>: Mentre la sinistra litiga per le poltrone, @forza_italia lavora per un vero piano…"
      ]
     },
     "metadata": {},
     "output_type": "display_data"
    },
    {
     "data": {
      "application/vnd.jupyter.widget-view+json": {
       "model_id": "9ee1bc7eba984d15b5366ba33a7fad11",
       "version_major": 2,
       "version_minor": 0
      },
      "text/plain": [
       "Dropdown(description='Tone:', layout=Layout(width='70%'), options=('', 'Neutral / Informational', 'Supportive …"
      ]
     },
     "metadata": {},
     "output_type": "display_data"
    },
    {
     "data": {
      "application/vnd.jupyter.widget-view+json": {
       "model_id": "4efd099abba34340b85d769c897f1a9b",
       "version_major": 2,
       "version_minor": 0
      },
      "text/plain": [
       "HTML(value='<b>Tweet 29</b>: Cordiale e fruttuoso incontro col Primo Ministro della Repubblica ellenica @kmits…"
      ]
     },
     "metadata": {},
     "output_type": "display_data"
    },
    {
     "data": {
      "application/vnd.jupyter.widget-view+json": {
       "model_id": "45435fefe3f341eca18a822eed90083e",
       "version_major": 2,
       "version_minor": 0
      },
      "text/plain": [
       "Dropdown(description='Tone:', layout=Layout(width='70%'), options=('', 'Neutral / Informational', 'Supportive …"
      ]
     },
     "metadata": {},
     "output_type": "display_data"
    },
    {
     "data": {
      "application/vnd.jupyter.widget-view+json": {
       "model_id": "cdbee762757e42ec8e9d575fd5d01fea",
       "version_major": 2,
       "version_minor": 0
      },
      "text/plain": [
       "HTML(value='<b>Tweet 30</b>: .\\u2066@gualtierieurope\\u2069 Atac va conferita a una newco fatta con Ferrovie e …"
      ]
     },
     "metadata": {},
     "output_type": "display_data"
    },
    {
     "data": {
      "application/vnd.jupyter.widget-view+json": {
       "model_id": "4840c59d571d483caf7a01357c9838ba",
       "version_major": 2,
       "version_minor": 0
      },
      "text/plain": [
       "Dropdown(description='Tone:', layout=Layout(width='70%'), options=('', 'Neutral / Informational', 'Supportive …"
      ]
     },
     "metadata": {},
     "output_type": "display_data"
    },
    {
     "data": {
      "application/vnd.jupyter.widget-view+json": {
       "model_id": "ea27bb15ec4a43108f5485dc03b8960a",
       "version_major": 2,
       "version_minor": 0
      },
      "text/plain": [
       "HTML(value='<b>Tweet 31</b>: Da tempo FDI sostiene che la priorità sia mettere in sicurezza il sistema produtt…"
      ]
     },
     "metadata": {},
     "output_type": "display_data"
    },
    {
     "data": {
      "application/vnd.jupyter.widget-view+json": {
       "model_id": "83ff4b4af3e24b15ba57758292359a50",
       "version_major": 2,
       "version_minor": 0
      },
      "text/plain": [
       "Dropdown(description='Tone:', layout=Layout(width='70%'), options=('', 'Neutral / Informational', 'Supportive …"
      ]
     },
     "metadata": {},
     "output_type": "display_data"
    },
    {
     "data": {
      "application/vnd.jupyter.widget-view+json": {
       "model_id": "5e4e1b6ebda54c98bc61d0137516da05",
       "version_major": 2,
       "version_minor": 0
      },
      "text/plain": [
       "HTML(value='<b>Tweet 32</b>: Ti sbagli. Un museo cura le opere che ha all’interno per metterle a disposizione …"
      ]
     },
     "metadata": {},
     "output_type": "display_data"
    },
    {
     "data": {
      "application/vnd.jupyter.widget-view+json": {
       "model_id": "45f9c8e01d8041fe860ebefdc6248eae",
       "version_major": 2,
       "version_minor": 0
      },
      "text/plain": [
       "Dropdown(description='Tone:', layout=Layout(width='70%'), options=('', 'Neutral / Informational', 'Supportive …"
      ]
     },
     "metadata": {},
     "output_type": "display_data"
    },
    {
     "data": {
      "application/vnd.jupyter.widget-view+json": {
       "model_id": "a3437585b6d34632837fab488bc76a6b",
       "version_major": 2,
       "version_minor": 0
      },
      "text/plain": [
       "HTML(value='<b>Tweet 33</b>: E aggiungo Oscar che ciò è fattibile, mandando il paese in recessione profonda, s…"
      ]
     },
     "metadata": {},
     "output_type": "display_data"
    },
    {
     "data": {
      "application/vnd.jupyter.widget-view+json": {
       "model_id": "68f3e4c1d0e143bf97f5a8dc200d9d98",
       "version_major": 2,
       "version_minor": 0
      },
      "text/plain": [
       "Dropdown(description='Tone:', layout=Layout(width='70%'), options=('', 'Neutral / Informational', 'Supportive …"
      ]
     },
     "metadata": {},
     "output_type": "display_data"
    },
    {
     "data": {
      "application/vnd.jupyter.widget-view+json": {
       "model_id": "9bc930bf4d8246f28f330de2c632fbd4",
       "version_major": 2,
       "version_minor": 0
      },
      "text/plain": [
       "HTML(value='<b>Tweet 34</b>: In molti mi chiedono cosa ne sarà del “campo largo” di Letta dopo il broncio di C…"
      ]
     },
     "metadata": {},
     "output_type": "display_data"
    },
    {
     "data": {
      "application/vnd.jupyter.widget-view+json": {
       "model_id": "e452adaebcbc40ada49c574991f5d7c9",
       "version_major": 2,
       "version_minor": 0
      },
      "text/plain": [
       "Dropdown(description='Tone:', layout=Layout(width='70%'), options=('', 'Neutral / Informational', 'Supportive …"
      ]
     },
     "metadata": {},
     "output_type": "display_data"
    },
    {
     "data": {
      "application/vnd.jupyter.widget-view+json": {
       "model_id": "c3d114a4d79049bca3458c94ff88ed40",
       "version_major": 2,
       "version_minor": 0
      },
      "text/plain": [
       "HTML(value='<b>Tweet 35</b>: La libertà vince!\\nGrazie alla battaglia della Lega e grazie anche alle vostre pr…"
      ]
     },
     "metadata": {},
     "output_type": "display_data"
    },
    {
     "data": {
      "application/vnd.jupyter.widget-view+json": {
       "model_id": "5c5e839acf264475a5986d5c5ee35e6a",
       "version_major": 2,
       "version_minor": 0
      },
      "text/plain": [
       "Dropdown(description='Tone:', layout=Layout(width='70%'), options=('', 'Neutral / Informational', 'Supportive …"
      ]
     },
     "metadata": {},
     "output_type": "display_data"
    },
    {
     "data": {
      "application/vnd.jupyter.widget-view+json": {
       "model_id": "ad5ef6df3e4e4e14a7700b64793a778e",
       "version_major": 2,
       "version_minor": 0
      },
      "text/plain": [
       "HTML(value='<b>Tweet 36</b>: Il Ponte sullo stretto fa parte di una delle grandi direttrici di traffico europe…"
      ]
     },
     "metadata": {},
     "output_type": "display_data"
    },
    {
     "data": {
      "application/vnd.jupyter.widget-view+json": {
       "model_id": "31503f96d04a42ee851b4acf34ab3ce7",
       "version_major": 2,
       "version_minor": 0
      },
      "text/plain": [
       "Dropdown(description='Tone:', layout=Layout(width='70%'), options=('', 'Neutral / Informational', 'Supportive …"
      ]
     },
     "metadata": {},
     "output_type": "display_data"
    },
    {
     "data": {
      "application/vnd.jupyter.widget-view+json": {
       "model_id": "7627e2dd929b447aab23498b6ae4418e",
       "version_major": 2,
       "version_minor": 0
      },
      "text/plain": [
       "HTML(value='<b>Tweet 37</b>: @EgidioBruno2 @F_Carpano Sono d’accordo ma vista la pressione mediatica ho deciso…"
      ]
     },
     "metadata": {},
     "output_type": "display_data"
    },
    {
     "data": {
      "application/vnd.jupyter.widget-view+json": {
       "model_id": "50fcd75ac0534baa993c22a26fc5fe47",
       "version_major": 2,
       "version_minor": 0
      },
      "text/plain": [
       "Dropdown(description='Tone:', layout=Layout(width='70%'), options=('', 'Neutral / Informational', 'Supportive …"
      ]
     },
     "metadata": {},
     "output_type": "display_data"
    },
    {
     "data": {
      "application/vnd.jupyter.widget-view+json": {
       "model_id": "d0c22c705f8b451599b8cabe193f6a68",
       "version_major": 2,
       "version_minor": 0
      },
      "text/plain": [
       "HTML(value=\"<b>Tweet 38</b>: Ho deciso di sostenere l'iniziativa #1Euroafamiglia. Una campagna per raccogliere…"
      ]
     },
     "metadata": {},
     "output_type": "display_data"
    },
    {
     "data": {
      "application/vnd.jupyter.widget-view+json": {
       "model_id": "0969f39fc5b14c17b50cf97c45114d55",
       "version_major": 2,
       "version_minor": 0
      },
      "text/plain": [
       "Dropdown(description='Tone:', layout=Layout(width='70%'), options=('', 'Neutral / Informational', 'Supportive …"
      ]
     },
     "metadata": {},
     "output_type": "display_data"
    },
    {
     "data": {
      "application/vnd.jupyter.widget-view+json": {
       "model_id": "ad93c1f34af74feba7fc3fd01e775a16",
       "version_major": 2,
       "version_minor": 0
      },
      "text/plain": [
       "HTML(value='<b>Tweet 39</b>: Da ministro ho portato in Calabria più poliziotti e vigili del fuoco, telecamere …"
      ]
     },
     "metadata": {},
     "output_type": "display_data"
    },
    {
     "data": {
      "application/vnd.jupyter.widget-view+json": {
       "model_id": "0c3a25ec58fc4fbab7702e5b2f714b3c",
       "version_major": 2,
       "version_minor": 0
      },
      "text/plain": [
       "Dropdown(description='Tone:', layout=Layout(width='70%'), options=('', 'Neutral / Informational', 'Supportive …"
      ]
     },
     "metadata": {},
     "output_type": "display_data"
    },
    {
     "data": {
      "application/vnd.jupyter.widget-view+json": {
       "model_id": "4fce4b6d226f41c58d0b8af5b2292f13",
       "version_major": 2,
       "version_minor": 0
      },
      "text/plain": [
       "HTML(value='<b>Tweet 40</b>: Ecco. Spiegalo a tutti gli altri grandi musei del mondo che combattono per avere …"
      ]
     },
     "metadata": {},
     "output_type": "display_data"
    },
    {
     "data": {
      "application/vnd.jupyter.widget-view+json": {
       "model_id": "5604fc3bf211452dbe005e2534044079",
       "version_major": 2,
       "version_minor": 0
      },
      "text/plain": [
       "Dropdown(description='Tone:', layout=Layout(width='70%'), options=('', 'Neutral / Informational', 'Supportive …"
      ]
     },
     "metadata": {},
     "output_type": "display_data"
    },
    {
     "data": {
      "application/vnd.jupyter.widget-view+json": {
       "model_id": "a099a8581c044851939617094bc450e2",
       "version_major": 2,
       "version_minor": 0
      },
      "text/plain": [
       "HTML(value=\"<b>Tweet 41</b>: L'idea di utilizzare il green pass per poter partecipare alla vita sociale è ragg…"
      ]
     },
     "metadata": {},
     "output_type": "display_data"
    },
    {
     "data": {
      "application/vnd.jupyter.widget-view+json": {
       "model_id": "81c361799d96469295975bbd72a084db",
       "version_major": 2,
       "version_minor": 0
      },
      "text/plain": [
       "Dropdown(description='Tone:', layout=Layout(width='70%'), options=('', 'Neutral / Informational', 'Supportive …"
      ]
     },
     "metadata": {},
     "output_type": "display_data"
    },
    {
     "data": {
      "application/vnd.jupyter.widget-view+json": {
       "model_id": "519d1fd1692a4bb0b80f106e44d33d5f",
       "version_major": 2,
       "version_minor": 0
      },
      "text/plain": [
       "HTML(value=\"<b>Tweet 42</b>: Lo stesso impegno e la stessa carica ce li saremmo aspettati nelle misure per il …"
      ]
     },
     "metadata": {},
     "output_type": "display_data"
    },
    {
     "data": {
      "application/vnd.jupyter.widget-view+json": {
       "model_id": "bea327238f284d698b1af6e78863d1c5",
       "version_major": 2,
       "version_minor": 0
      },
      "text/plain": [
       "Dropdown(description='Tone:', layout=Layout(width='70%'), options=('', 'Neutral / Informational', 'Supportive …"
      ]
     },
     "metadata": {},
     "output_type": "display_data"
    },
    {
     "data": {
      "application/vnd.jupyter.widget-view+json": {
       "model_id": "7c1aad0a11c5449ca0bcb09072b8f416",
       "version_major": 2,
       "version_minor": 0
      },
      "text/plain": [
       "HTML(value='<b>Tweet 43</b>: Sono giorni di apprensione per la vicenda della famiglia Langone, rapita in Mali.…"
      ]
     },
     "metadata": {},
     "output_type": "display_data"
    },
    {
     "data": {
      "application/vnd.jupyter.widget-view+json": {
       "model_id": "1e2fe4d2b18347d6b6081f9281bd88f6",
       "version_major": 2,
       "version_minor": 0
      },
      "text/plain": [
       "Dropdown(description='Tone:', layout=Layout(width='70%'), options=('', 'Neutral / Informational', 'Supportive …"
      ]
     },
     "metadata": {},
     "output_type": "display_data"
    },
    {
     "data": {
      "application/vnd.jupyter.widget-view+json": {
       "model_id": "fef2abf542f94ba0bad9389279936b82",
       "version_major": 2,
       "version_minor": 0
      },
      "text/plain": [
       "HTML(value='<b>Tweet 44</b>: Dopo le intimidazioni ai parlamentari con una lettera del Ministro Lavrov e le mi…"
      ]
     },
     "metadata": {},
     "output_type": "display_data"
    },
    {
     "data": {
      "application/vnd.jupyter.widget-view+json": {
       "model_id": "e83675a2f8654ba6b85fa1f148552c85",
       "version_major": 2,
       "version_minor": 0
      },
      "text/plain": [
       "Dropdown(description='Tone:', layout=Layout(width='70%'), options=('', 'Neutral / Informational', 'Supportive …"
      ]
     },
     "metadata": {},
     "output_type": "display_data"
    },
    {
     "data": {
      "application/vnd.jupyter.widget-view+json": {
       "model_id": "38d4a1c83b6e48a2829b7bba427e0b4f",
       "version_major": 2,
       "version_minor": 0
      },
      "text/plain": [
       "HTML(value='<b>Tweet 45</b>: @narendramodi This meeting with @narendramodi confirms our common will to exploit…"
      ]
     },
     "metadata": {},
     "output_type": "display_data"
    },
    {
     "data": {
      "application/vnd.jupyter.widget-view+json": {
       "model_id": "5b965d470b5b46e1bc728aa17fb76f6b",
       "version_major": 2,
       "version_minor": 0
      },
      "text/plain": [
       "Dropdown(description='Tone:', layout=Layout(width='70%'), options=('', 'Neutral / Informational', 'Supportive …"
      ]
     },
     "metadata": {},
     "output_type": "display_data"
    },
    {
     "data": {
      "application/vnd.jupyter.widget-view+json": {
       "model_id": "3af1e163a21f410eba7c9f34fd55d03a",
       "version_major": 2,
       "version_minor": 0
      },
      "text/plain": [
       "HTML(value='<b>Tweet 46</b>: Non “buon Natale” ma “buone vacanze”.\\nNon “il periodo natalizio è stressanti” ma…"
      ]
     },
     "metadata": {},
     "output_type": "display_data"
    },
    {
     "data": {
      "application/vnd.jupyter.widget-view+json": {
       "model_id": "d9e9805160e24105839a0cf18c813abf",
       "version_major": 2,
       "version_minor": 0
      },
      "text/plain": [
       "Dropdown(description='Tone:', layout=Layout(width='70%'), options=('', 'Neutral / Informational', 'Supportive …"
      ]
     },
     "metadata": {},
     "output_type": "display_data"
    },
    {
     "data": {
      "application/vnd.jupyter.widget-view+json": {
       "model_id": "f921d94b81ac49deb09cfd56c632b125",
       "version_major": 2,
       "version_minor": 0
      },
      "text/plain": [
       "HTML(value='<b>Tweet 47</b>: La sua colpa? Essere se stessa.\\nUna legge contro #omotransfobia nel nostro Paese…"
      ]
     },
     "metadata": {},
     "output_type": "display_data"
    },
    {
     "data": {
      "application/vnd.jupyter.widget-view+json": {
       "model_id": "ac1644b61af44cbf91c602ec60d48191",
       "version_major": 2,
       "version_minor": 0
      },
      "text/plain": [
       "Dropdown(description='Tone:', layout=Layout(width='70%'), options=('', 'Neutral / Informational', 'Supportive …"
      ]
     },
     "metadata": {},
     "output_type": "display_data"
    },
    {
     "data": {
      "application/vnd.jupyter.widget-view+json": {
       "model_id": "d82f5d7bb09a4eb995ce0e799c20e167",
       "version_major": 2,
       "version_minor": 0
      },
      "text/plain": [
       "HTML(value='<b>Tweet 48</b>: La drammatica notizia dei licenziamenti collettivi improvvisi della #Caterpillar …"
      ]
     },
     "metadata": {},
     "output_type": "display_data"
    },
    {
     "data": {
      "application/vnd.jupyter.widget-view+json": {
       "model_id": "15d46bf5b8814519b9e838a5e14b320a",
       "version_major": 2,
       "version_minor": 0
      },
      "text/plain": [
       "Dropdown(description='Tone:', layout=Layout(width='70%'), options=('', 'Neutral / Informational', 'Supportive …"
      ]
     },
     "metadata": {},
     "output_type": "display_data"
    },
    {
     "data": {
      "application/vnd.jupyter.widget-view+json": {
       "model_id": "68e2df635a0641cbafd7aaedf57dd807",
       "version_major": 2,
       "version_minor": 0
      },
      "text/plain": [
       "HTML(value='<b>Tweet 49</b>: Non sono io a sentire imbarazzo nella scelta di sostenere una maggioranza europei…"
      ]
     },
     "metadata": {},
     "output_type": "display_data"
    },
    {
     "data": {
      "application/vnd.jupyter.widget-view+json": {
       "model_id": "a57a5534e2ca4799bd8b88d9f6d31ea9",
       "version_major": 2,
       "version_minor": 0
      },
      "text/plain": [
       "Dropdown(description='Tone:', layout=Layout(width='70%'), options=('', 'Neutral / Informational', 'Supportive …"
      ]
     },
     "metadata": {},
     "output_type": "display_data"
    },
    {
     "data": {
      "application/vnd.jupyter.widget-view+json": {
       "model_id": "ee588dcb69e54663a909b4cd5f7c644b",
       "version_major": 2,
       "version_minor": 0
      },
      "text/plain": [
       "HTML(value=\"<b>Tweet 50</b>: Basta paghe da 3 o 4 euro l'ora, sono una vergogna. #Alziamoisalari! https://t.co…"
      ]
     },
     "metadata": {},
     "output_type": "display_data"
    },
    {
     "data": {
      "application/vnd.jupyter.widget-view+json": {
       "model_id": "46bdc9d418c14403b79760979606bd43",
       "version_major": 2,
       "version_minor": 0
      },
      "text/plain": [
       "Dropdown(description='Tone:', layout=Layout(width='70%'), options=('', 'Neutral / Informational', 'Supportive …"
      ]
     },
     "metadata": {},
     "output_type": "display_data"
    },
    {
     "data": {
      "application/vnd.jupyter.widget-view+json": {
       "model_id": "0d55959a6d334c248aec663d090f0870",
       "version_major": 2,
       "version_minor": 0
      },
      "text/plain": [
       "HTML(value='<b>Tweet 51</b>: In riunione coi colleghi del @EPPGroup e il Commissario @OliverVarhelyi per discu…"
      ]
     },
     "metadata": {},
     "output_type": "display_data"
    },
    {
     "data": {
      "application/vnd.jupyter.widget-view+json": {
       "model_id": "1ad172c3f3b94964be6574203b4757af",
       "version_major": 2,
       "version_minor": 0
      },
      "text/plain": [
       "Dropdown(description='Tone:', layout=Layout(width='70%'), options=('', 'Neutral / Informational', 'Supportive …"
      ]
     },
     "metadata": {},
     "output_type": "display_data"
    },
    {
     "data": {
      "application/vnd.jupyter.widget-view+json": {
       "model_id": "c40c2d2304dd4a1889600cc6dfe3825d",
       "version_major": 2,
       "version_minor": 0
      },
      "text/plain": [
       "HTML(value=\"<b>Tweet 52</b>: La rigenerazione urbana ha 3 effetti. Ripartenza dell'edilizia, risparmio energet…"
      ]
     },
     "metadata": {},
     "output_type": "display_data"
    },
    {
     "data": {
      "application/vnd.jupyter.widget-view+json": {
       "model_id": "0828bba2558d4802822ba6e137cf731b",
       "version_major": 2,
       "version_minor": 0
      },
      "text/plain": [
       "Dropdown(description='Tone:', layout=Layout(width='70%'), options=('', 'Neutral / Informational', 'Supportive …"
      ]
     },
     "metadata": {},
     "output_type": "display_data"
    },
    {
     "data": {
      "application/vnd.jupyter.widget-view+json": {
       "model_id": "9e54d6b9a69c442b869ee51649b5cca9",
       "version_major": 2,
       "version_minor": 0
      },
      "text/plain": [
       "HTML(value='<b>Tweet 53</b>: @PM_ViktorOrban Thanks @PM_ViktorOrban. Ready to cooperate to find common and eff…"
      ]
     },
     "metadata": {},
     "output_type": "display_data"
    },
    {
     "data": {
      "application/vnd.jupyter.widget-view+json": {
       "model_id": "f7ec1ca3da8f406cbadbfe35ff6b2e0a",
       "version_major": 2,
       "version_minor": 0
      },
      "text/plain": [
       "Dropdown(description='Tone:', layout=Layout(width='70%'), options=('', 'Neutral / Informational', 'Supportive …"
      ]
     },
     "metadata": {},
     "output_type": "display_data"
    },
    {
     "data": {
      "application/vnd.jupyter.widget-view+json": {
       "model_id": "cf61880054b0436f9bc2652ed4b3fb08",
       "version_major": 2,
       "version_minor": 0
      },
      "text/plain": [
       "HTML(value='<b>Tweet 54</b>: È inaccettabile essere licenziati per un post social, in particolare come è tocca…"
      ]
     },
     "metadata": {},
     "output_type": "display_data"
    },
    {
     "data": {
      "application/vnd.jupyter.widget-view+json": {
       "model_id": "b7af013eb51b46f5bc0497fc336ecb9c",
       "version_major": 2,
       "version_minor": 0
      },
      "text/plain": [
       "Dropdown(description='Tone:', layout=Layout(width='70%'), options=('', 'Neutral / Informational', 'Supportive …"
      ]
     },
     "metadata": {},
     "output_type": "display_data"
    },
    {
     "data": {
      "application/vnd.jupyter.widget-view+json": {
       "model_id": "031cf217058346f1b1b00b373686e5a4",
       "version_major": 2,
       "version_minor": 0
      },
      "text/plain": [
       "HTML(value='<b>Tweet 55</b>: .@GiuseppeConteIT ieri mi ha attaccato spiegando la sua magnifica storia di coere…"
      ]
     },
     "metadata": {},
     "output_type": "display_data"
    },
    {
     "data": {
      "application/vnd.jupyter.widget-view+json": {
       "model_id": "0713a231faf144668ec5af9b07993453",
       "version_major": 2,
       "version_minor": 0
      },
      "text/plain": [
       "Dropdown(description='Tone:', layout=Layout(width='70%'), options=('', 'Neutral / Informational', 'Supportive …"
      ]
     },
     "metadata": {},
     "output_type": "display_data"
    },
    {
     "data": {
      "application/vnd.jupyter.widget-view+json": {
       "model_id": "8bd02b8ea60f4db8b20429cf52065f69",
       "version_major": 2,
       "version_minor": 0
      },
      "text/plain": [
       "HTML(value='<b>Tweet 56</b>: Alla fine #Draghi dovrà scegliere se preservare la sua impeccabile dignitas o rim…"
      ]
     },
     "metadata": {},
     "output_type": "display_data"
    },
    {
     "data": {
      "application/vnd.jupyter.widget-view+json": {
       "model_id": "27c0acc949554000952295eff361cc17",
       "version_major": 2,
       "version_minor": 0
      },
      "text/plain": [
       "Dropdown(description='Tone:', layout=Layout(width='70%'), options=('', 'Neutral / Informational', 'Supportive …"
      ]
     },
     "metadata": {},
     "output_type": "display_data"
    },
    {
     "data": {
      "application/vnd.jupyter.widget-view+json": {
       "model_id": "aff847aed55e47f8884126997b33ee8f",
       "version_major": 2,
       "version_minor": 0
      },
      "text/plain": [
       "HTML(value='<b>Tweet 57</b>: Il Governo Conte ha dimenticato di tutelare i non garantiti. Ci batteremo per un …"
      ]
     },
     "metadata": {},
     "output_type": "display_data"
    },
    {
     "data": {
      "application/vnd.jupyter.widget-view+json": {
       "model_id": "b2b42e550754428f8e641d2a9bed639f",
       "version_major": 2,
       "version_minor": 0
      },
      "text/plain": [
       "Dropdown(description='Tone:', layout=Layout(width='70%'), options=('', 'Neutral / Informational', 'Supportive …"
      ]
     },
     "metadata": {},
     "output_type": "display_data"
    },
    {
     "data": {
      "application/vnd.jupyter.widget-view+json": {
       "model_id": "cdc05b911c25401cb48eca1d9acfb867",
       "version_major": 2,
       "version_minor": 0
      },
      "text/plain": [
       "HTML(value='<b>Tweet 58</b>: La proposta di @EnricoLetta su #tassasuccessione è buonsenso, indica la strada gi…"
      ]
     },
     "metadata": {},
     "output_type": "display_data"
    },
    {
     "data": {
      "application/vnd.jupyter.widget-view+json": {
       "model_id": "9ae0617ee1c74de1ad7ebe79e1e09dd0",
       "version_major": 2,
       "version_minor": 0
      },
      "text/plain": [
       "Dropdown(description='Tone:', layout=Layout(width='70%'), options=('', 'Neutral / Informational', 'Supportive …"
      ]
     },
     "metadata": {},
     "output_type": "display_data"
    },
    {
     "data": {
      "application/vnd.jupyter.widget-view+json": {
       "model_id": "e4929f2d80334a6e924714daa7fa57a8",
       "version_major": 2,
       "version_minor": 0
      },
      "text/plain": [
       "HTML(value='<b>Tweet 59</b>: Se non si interverrà presto con un tetto al costo delle bollette elettriche e gas…"
      ]
     },
     "metadata": {},
     "output_type": "display_data"
    },
    {
     "data": {
      "application/vnd.jupyter.widget-view+json": {
       "model_id": "5b0f278203b44c96be068a00048bd844",
       "version_major": 2,
       "version_minor": 0
      },
      "text/plain": [
       "Dropdown(description='Tone:', layout=Layout(width='70%'), options=('', 'Neutral / Informational', 'Supportive …"
      ]
     },
     "metadata": {},
     "output_type": "display_data"
    },
    {
     "data": {
      "application/vnd.jupyter.widget-view+json": {
       "model_id": "ddc16b1955a64af48c62efa822d4baed",
       "version_major": 2,
       "version_minor": 0
      },
      "text/plain": [
       "HTML(value='<b>Tweet 60</b>: E infatti siete sempre lì a fare accordi per mandare i rifiuti da qualche altra p…"
      ]
     },
     "metadata": {},
     "output_type": "display_data"
    },
    {
     "data": {
      "application/vnd.jupyter.widget-view+json": {
       "model_id": "357a50a6d00b4b42ac23b3bb76c9227a",
       "version_major": 2,
       "version_minor": 0
      },
      "text/plain": [
       "Dropdown(description='Tone:', layout=Layout(width='70%'), options=('', 'Neutral / Informational', 'Supportive …"
      ]
     },
     "metadata": {},
     "output_type": "display_data"
    },
    {
     "data": {
      "application/vnd.jupyter.widget-view+json": {
       "model_id": "22bd3135af7a43849000e4c76082c38c",
       "version_major": 2,
       "version_minor": 0
      },
      "text/plain": [
       "HTML(value='<b>Tweet 61</b>: Dipende dal modo in cui si intende la politica. La ns idea era che l’alleanza con…"
      ]
     },
     "metadata": {},
     "output_type": "display_data"
    },
    {
     "data": {
      "application/vnd.jupyter.widget-view+json": {
       "model_id": "2ec0057b5682412588da276bca60d952",
       "version_major": 2,
       "version_minor": 0
      },
      "text/plain": [
       "Dropdown(description='Tone:', layout=Layout(width='70%'), options=('', 'Neutral / Informational', 'Supportive …"
      ]
     },
     "metadata": {},
     "output_type": "display_data"
    },
    {
     "data": {
      "application/vnd.jupyter.widget-view+json": {
       "model_id": "b13682d0113d4dc99b5b18cd47a4aa76",
       "version_major": 2,
       "version_minor": 0
      },
      "text/plain": [
       "HTML(value='<b>Tweet 62</b>: Per il PD ai clandestini tutto è concesso, mentre coi disabili bisogna usare il p…"
      ]
     },
     "metadata": {},
     "output_type": "display_data"
    },
    {
     "data": {
      "application/vnd.jupyter.widget-view+json": {
       "model_id": "3b6bac982f314c2fbc392b2a3e2484d9",
       "version_major": 2,
       "version_minor": 0
      },
      "text/plain": [
       "Dropdown(description='Tone:', layout=Layout(width='70%'), options=('', 'Neutral / Informational', 'Supportive …"
      ]
     },
     "metadata": {},
     "output_type": "display_data"
    },
    {
     "data": {
      "application/vnd.jupyter.widget-view+json": {
       "model_id": "d4a56fa03da040a7afce7e3f4a98b7ed",
       "version_major": 2,
       "version_minor": 0
      },
      "text/plain": [
       "HTML(value='<b>Tweet 63</b>: Il Green pass va abolito subito! https://t.co/Y2CfmAIcPG')"
      ]
     },
     "metadata": {},
     "output_type": "display_data"
    },
    {
     "data": {
      "application/vnd.jupyter.widget-view+json": {
       "model_id": "d6c26e7f5ac24ed5b6acf65dc7a50df3",
       "version_major": 2,
       "version_minor": 0
      },
      "text/plain": [
       "Dropdown(description='Tone:', layout=Layout(width='70%'), options=('', 'Neutral / Informational', 'Supportive …"
      ]
     },
     "metadata": {},
     "output_type": "display_data"
    },
    {
     "data": {
      "application/vnd.jupyter.widget-view+json": {
       "model_id": "7d5843ec10f443c49805436b09ecd260",
       "version_major": 2,
       "version_minor": 0
      },
      "text/plain": [
       "HTML(value='<b>Tweet 64</b>: Picchiato, umiliato e derubato dal branco mentre stava facendo il suo lavoro.\\nCh…"
      ]
     },
     "metadata": {},
     "output_type": "display_data"
    },
    {
     "data": {
      "application/vnd.jupyter.widget-view+json": {
       "model_id": "02bb763c352f48e89d3d5a8a61779c38",
       "version_major": 2,
       "version_minor": 0
      },
      "text/plain": [
       "Dropdown(description='Tone:', layout=Layout(width='70%'), options=('', 'Neutral / Informational', 'Supportive …"
      ]
     },
     "metadata": {},
     "output_type": "display_data"
    },
    {
     "data": {
      "application/vnd.jupyter.widget-view+json": {
       "model_id": "0638fe26e49d4218bb1f40a6f04d8453",
       "version_major": 2,
       "version_minor": 0
      },
      "text/plain": [
       "HTML(value='<b>Tweet 65</b>: Per la legge italiana @CaroRackete aveva il dovere di sbarcare a #Lampedusa. I va…"
      ]
     },
     "metadata": {},
     "output_type": "display_data"
    },
    {
     "data": {
      "application/vnd.jupyter.widget-view+json": {
       "model_id": "46b6b8ac986649eebd0378620806e7b0",
       "version_major": 2,
       "version_minor": 0
      },
      "text/plain": [
       "Dropdown(description='Tone:', layout=Layout(width='70%'), options=('', 'Neutral / Informational', 'Supportive …"
      ]
     },
     "metadata": {},
     "output_type": "display_data"
    },
    {
     "data": {
      "application/vnd.jupyter.widget-view+json": {
       "model_id": "c7e480bf7ba34c85afb9d61ffc4212af",
       "version_major": 2,
       "version_minor": 0
      },
      "text/plain": [
       "HTML(value='<b>Tweet 66</b>: Per una giustizia più giusta e garantista, proponiamo un sistema di valutazione d…"
      ]
     },
     "metadata": {},
     "output_type": "display_data"
    },
    {
     "data": {
      "application/vnd.jupyter.widget-view+json": {
       "model_id": "ecf73743655646e09c0c84b152ba6c5e",
       "version_major": 2,
       "version_minor": 0
      },
      "text/plain": [
       "Dropdown(description='Tone:', layout=Layout(width='70%'), options=('', 'Neutral / Informational', 'Supportive …"
      ]
     },
     "metadata": {},
     "output_type": "display_data"
    },
    {
     "data": {
      "application/vnd.jupyter.widget-view+json": {
       "model_id": "15c57378b24e4f8eac2d1016140c96f8",
       "version_major": 2,
       "version_minor": 0
      },
      "text/plain": [
       "HTML(value='<b>Tweet 67</b>: Oggi in Puglia presentiamo la #CartadiTaranto. Per il Sud e per le isole protagon…"
      ]
     },
     "metadata": {},
     "output_type": "display_data"
    },
    {
     "data": {
      "application/vnd.jupyter.widget-view+json": {
       "model_id": "9b6fbf5bfedb49f7ac4268d2bc436429",
       "version_major": 2,
       "version_minor": 0
      },
      "text/plain": [
       "Dropdown(description='Tone:', layout=Layout(width='70%'), options=('', 'Neutral / Informational', 'Supportive …"
      ]
     },
     "metadata": {},
     "output_type": "display_data"
    },
    {
     "data": {
      "application/vnd.jupyter.widget-view+json": {
       "model_id": "5c89db80e0704279875d3ab82edf2128",
       "version_major": 2,
       "version_minor": 0
      },
      "text/plain": [
       "HTML(value='<b>Tweet 68</b>: Le stesse cose le diceva Salvini prima di andare al Governo, le stesse cose le di…"
      ]
     },
     "metadata": {},
     "output_type": "display_data"
    },
    {
     "data": {
      "application/vnd.jupyter.widget-view+json": {
       "model_id": "032d4d1bb606423cbe18a092ed1a173f",
       "version_major": 2,
       "version_minor": 0
      },
      "text/plain": [
       "Dropdown(description='Tone:', layout=Layout(width='70%'), options=('', 'Neutral / Informational', 'Supportive …"
      ]
     },
     "metadata": {},
     "output_type": "display_data"
    },
    {
     "data": {
      "application/vnd.jupyter.widget-view+json": {
       "model_id": "2c1513d4665a47c5a1cfa565aa02dcd7",
       "version_major": 2,
       "version_minor": 0
      },
      "text/plain": [
       "HTML(value='<b>Tweet 69</b>: Ne ho parlato col bravo governatore del Piemonte @Alberto_Cirio, perché patrimoni…"
      ]
     },
     "metadata": {},
     "output_type": "display_data"
    },
    {
     "data": {
      "application/vnd.jupyter.widget-view+json": {
       "model_id": "21cd5b7917dc4654aaaf9bc83a89c808",
       "version_major": 2,
       "version_minor": 0
      },
      "text/plain": [
       "Dropdown(description='Tone:', layout=Layout(width='70%'), options=('', 'Neutral / Informational', 'Supportive …"
      ]
     },
     "metadata": {},
     "output_type": "display_data"
    },
    {
     "data": {
      "application/vnd.jupyter.widget-view+json": {
       "model_id": "e058afc4091443ffa8298c6d41b9754c",
       "version_major": 2,
       "version_minor": 0
      },
      "text/plain": [
       "HTML(value='<b>Tweet 70</b>: Infinita tristezza per questa notizia, lo sport italiano è in lutto. Un pensiero …"
      ]
     },
     "metadata": {},
     "output_type": "display_data"
    },
    {
     "data": {
      "application/vnd.jupyter.widget-view+json": {
       "model_id": "2eb1e5bbe7b8425a8643dd9e9f044b75",
       "version_major": 2,
       "version_minor": 0
      },
      "text/plain": [
       "Dropdown(description='Tone:', layout=Layout(width='70%'), options=('', 'Neutral / Informational', 'Supportive …"
      ]
     },
     "metadata": {},
     "output_type": "display_data"
    },
    {
     "data": {
      "application/vnd.jupyter.widget-view+json": {
       "model_id": "83ee044a57984310a33770d4c94a555e",
       "version_major": 2,
       "version_minor": 0
      },
      "text/plain": [
       "HTML(value='<b>Tweet 71</b>: #IlMostro tra Varese e Verona: bello che tanta gente voglia discutere di contenut…"
      ]
     },
     "metadata": {},
     "output_type": "display_data"
    },
    {
     "data": {
      "application/vnd.jupyter.widget-view+json": {
       "model_id": "45a671bdcd2643bcad94087900acdce5",
       "version_major": 2,
       "version_minor": 0
      },
      "text/plain": [
       "Dropdown(description='Tone:', layout=Layout(width='70%'), options=('', 'Neutral / Informational', 'Supportive …"
      ]
     },
     "metadata": {},
     "output_type": "display_data"
    },
    {
     "data": {
      "application/vnd.jupyter.widget-view+json": {
       "model_id": "3c92b9ea6ad646e1b69eae808121bfe8",
       "version_major": 2,
       "version_minor": 0
      },
      "text/plain": [
       "HTML(value='<b>Tweet 72</b>: ...giustizia e riapertura in sicurezza delle scuole. Chi volesse discutere di que…"
      ]
     },
     "metadata": {},
     "output_type": "display_data"
    },
    {
     "data": {
      "application/vnd.jupyter.widget-view+json": {
       "model_id": "a77c3041b90c443d9a5875179b3db349",
       "version_major": 2,
       "version_minor": 0
      },
      "text/plain": [
       "Dropdown(description='Tone:', layout=Layout(width='70%'), options=('', 'Neutral / Informational', 'Supportive …"
      ]
     },
     "metadata": {},
     "output_type": "display_data"
    },
    {
     "data": {
      "application/vnd.jupyter.widget-view+json": {
       "model_id": "84ae2d031b704a468711ef6e0e51d377",
       "version_major": 2,
       "version_minor": 0
      },
      "text/plain": [
       "HTML(value='<b>Tweet 73</b>: @GP_ArieteRosso Ma invece il Parlamentare che abbandona gli elettori le va bene? …"
      ]
     },
     "metadata": {},
     "output_type": "display_data"
    },
    {
     "data": {
      "application/vnd.jupyter.widget-view+json": {
       "model_id": "e16a1108ffb848078146e64010199c37",
       "version_major": 2,
       "version_minor": 0
      },
      "text/plain": [
       "Dropdown(description='Tone:', layout=Layout(width='70%'), options=('', 'Neutral / Informational', 'Supportive …"
      ]
     },
     "metadata": {},
     "output_type": "display_data"
    },
    {
     "data": {
      "application/vnd.jupyter.widget-view+json": {
       "model_id": "098fa3c96553442988a81e7a7d623695",
       "version_major": 2,
       "version_minor": 0
      },
      "text/plain": [
       "HTML(value='<b>Tweet 74</b>: L’assassinio di #AlikaOgorchukwu lascia sgomenti. La ferocia inaudita. L’indiffer…"
      ]
     },
     "metadata": {},
     "output_type": "display_data"
    },
    {
     "data": {
      "application/vnd.jupyter.widget-view+json": {
       "model_id": "c7318686a83342b9be04d08c4bdad377",
       "version_major": 2,
       "version_minor": 0
      },
      "text/plain": [
       "Dropdown(description='Tone:', layout=Layout(width='70%'), options=('', 'Neutral / Informational', 'Supportive …"
      ]
     },
     "metadata": {},
     "output_type": "display_data"
    },
    {
     "data": {
      "application/vnd.jupyter.widget-view+json": {
       "model_id": "a85e6dbdf97540e29545f37d2603456f",
       "version_major": 2,
       "version_minor": 0
      },
      "text/plain": [
       "HTML(value='<b>Tweet 75</b>: Richiedenti asilo fuori dal territorio nazionale: bene ha fatto la #Danimarca, go…"
      ]
     },
     "metadata": {},
     "output_type": "display_data"
    },
    {
     "data": {
      "application/vnd.jupyter.widget-view+json": {
       "model_id": "b89e3a68baa74c8b8d735778e6aef98f",
       "version_major": 2,
       "version_minor": 0
      },
      "text/plain": [
       "Dropdown(description='Tone:', layout=Layout(width='70%'), options=('', 'Neutral / Informational', 'Supportive …"
      ]
     },
     "metadata": {},
     "output_type": "display_data"
    },
    {
     "data": {
      "application/vnd.jupyter.widget-view+json": {
       "model_id": "60b30995b54b47f78950962e2c8eadba",
       "version_major": 2,
       "version_minor": 0
      },
      "text/plain": [
       "HTML(value=\"<b>Tweet 76</b>: Bene l'annuncio del Gen.Figliuolo sulla possibilità di fare la seconda dose di va…"
      ]
     },
     "metadata": {},
     "output_type": "display_data"
    },
    {
     "data": {
      "application/vnd.jupyter.widget-view+json": {
       "model_id": "6194c8f0b39d457a81629ecc70b20884",
       "version_major": 2,
       "version_minor": 0
      },
      "text/plain": [
       "Dropdown(description='Tone:', layout=Layout(width='70%'), options=('', 'Neutral / Informational', 'Supportive …"
      ]
     },
     "metadata": {},
     "output_type": "display_data"
    },
    {
     "data": {
      "application/vnd.jupyter.widget-view+json": {
       "model_id": "54ec13fc7db7424e9359fc2293d9005c",
       "version_major": 2,
       "version_minor": 0
      },
      "text/plain": [
       "HTML(value=\"<b>Tweet 77</b>: Il Capo dipartimento per le libertà civili e l'immigrazione ha rassegnato le dimi…"
      ]
     },
     "metadata": {},
     "output_type": "display_data"
    },
    {
     "data": {
      "application/vnd.jupyter.widget-view+json": {
       "model_id": "294c0b84ed7a4864a0753f54a0adec3a",
       "version_major": 2,
       "version_minor": 0
      },
      "text/plain": [
       "Dropdown(description='Tone:', layout=Layout(width='70%'), options=('', 'Neutral / Informational', 'Supportive …"
      ]
     },
     "metadata": {},
     "output_type": "display_data"
    },
    {
     "data": {
      "application/vnd.jupyter.widget-view+json": {
       "model_id": "394c52e207414348803e05633adc3c55",
       "version_major": 2,
       "version_minor": 0
      },
      "text/plain": [
       "HTML(value='<b>Tweet 78</b>: Non vediamo l\\'ora di riportare sicurezza in questo Paese.\\n\\nP.S. Sarà un caso c…"
      ]
     },
     "metadata": {},
     "output_type": "display_data"
    },
    {
     "data": {
      "application/vnd.jupyter.widget-view+json": {
       "model_id": "d347834a13584144944e07e0f2c8c132",
       "version_major": 2,
       "version_minor": 0
      },
      "text/plain": [
       "Dropdown(description='Tone:', layout=Layout(width='70%'), options=('', 'Neutral / Informational', 'Supportive …"
      ]
     },
     "metadata": {},
     "output_type": "display_data"
    },
    {
     "data": {
      "application/vnd.jupyter.widget-view+json": {
       "model_id": "ffc8befb332f487eabcde58c2ddbd0fb",
       "version_major": 2,
       "version_minor": 0
      },
      "text/plain": [
       "HTML(value='<b>Tweet 79</b>: Stamani a #Milano, bello scambio, utile e intenso, con l’Assemblea degli imprendi…"
      ]
     },
     "metadata": {},
     "output_type": "display_data"
    },
    {
     "data": {
      "application/vnd.jupyter.widget-view+json": {
       "model_id": "0a67a2a425fa4d09939042227f7a5ca5",
       "version_major": 2,
       "version_minor": 0
      },
      "text/plain": [
       "Dropdown(description='Tone:', layout=Layout(width='70%'), options=('', 'Neutral / Informational', 'Supportive …"
      ]
     },
     "metadata": {},
     "output_type": "display_data"
    },
    {
     "data": {
      "application/vnd.jupyter.widget-view+json": {
       "model_id": "4ca5bfbc27ef48b9865918ba806eb6d2",
       "version_major": 2,
       "version_minor": 0
      },
      "text/plain": [
       "HTML(value='<b>Tweet 80</b>: Alla @Stampa_Estera per sottolineare l’importanza di andare avanti con Draghi anc…"
      ]
     },
     "metadata": {},
     "output_type": "display_data"
    },
    {
     "data": {
      "application/vnd.jupyter.widget-view+json": {
       "model_id": "eb364ebc4f1c49aabf6bb0e314255e90",
       "version_major": 2,
       "version_minor": 0
      },
      "text/plain": [
       "Dropdown(description='Tone:', layout=Layout(width='70%'), options=('', 'Neutral / Informational', 'Supportive …"
      ]
     },
     "metadata": {},
     "output_type": "display_data"
    },
    {
     "data": {
      "application/vnd.jupyter.widget-view+json": {
       "model_id": "d9dc954185b0449a81bd332edb59fdb3",
       "version_major": 2,
       "version_minor": 0
      },
      "text/plain": [
       "HTML(value='<b>Tweet 81</b>: Oggi delle piazze si riempiono per chiedere di tutelare il lavoro e altre di tute…"
      ]
     },
     "metadata": {},
     "output_type": "display_data"
    },
    {
     "data": {
      "application/vnd.jupyter.widget-view+json": {
       "model_id": "d31f7ee8b08f4ef3b03bbfd80d54e52a",
       "version_major": 2,
       "version_minor": 0
      },
      "text/plain": [
       "Dropdown(description='Tone:', layout=Layout(width='70%'), options=('', 'Neutral / Informational', 'Supportive …"
      ]
     },
     "metadata": {},
     "output_type": "display_data"
    },
    {
     "data": {
      "application/vnd.jupyter.widget-view+json": {
       "model_id": "19d938dd07dd4e329acd1bb4188dfa91",
       "version_major": 2,
       "version_minor": 0
      },
      "text/plain": [
       "HTML(value='<b>Tweet 82</b>: @GiannachiFranco Franco, ho solo rappresentato le mie idee cercando di sostanziar…"
      ]
     },
     "metadata": {},
     "output_type": "display_data"
    },
    {
     "data": {
      "application/vnd.jupyter.widget-view+json": {
       "model_id": "8bf4de8cd13745d2bea4278ec6eec9f5",
       "version_major": 2,
       "version_minor": 0
      },
      "text/plain": [
       "Dropdown(description='Tone:', layout=Layout(width='70%'), options=('', 'Neutral / Informational', 'Supportive …"
      ]
     },
     "metadata": {},
     "output_type": "display_data"
    },
    {
     "data": {
      "application/vnd.jupyter.widget-view+json": {
       "model_id": "549087be48804ad6824c7a5d4929ac97",
       "version_major": 2,
       "version_minor": 0
      },
      "text/plain": [
       "HTML(value='<b>Tweet 83</b>: Mosca apprezza. Noi no.')"
      ]
     },
     "metadata": {},
     "output_type": "display_data"
    },
    {
     "data": {
      "application/vnd.jupyter.widget-view+json": {
       "model_id": "a2221ae38d874a3d9597fccbff56e4e0",
       "version_major": 2,
       "version_minor": 0
      },
      "text/plain": [
       "Dropdown(description='Tone:', layout=Layout(width='70%'), options=('', 'Neutral / Informational', 'Supportive …"
      ]
     },
     "metadata": {},
     "output_type": "display_data"
    },
    {
     "data": {
      "application/vnd.jupyter.widget-view+json": {
       "model_id": "e70118aee0f64264b183000ab73abd00",
       "version_major": 2,
       "version_minor": 0
      },
      "text/plain": [
       "HTML(value='<b>Tweet 84</b>: @lageloni Chiara ma quel politico non è il segretario del PD e non è un membro di…"
      ]
     },
     "metadata": {},
     "output_type": "display_data"
    },
    {
     "data": {
      "application/vnd.jupyter.widget-view+json": {
       "model_id": "764f947fa78b4015b508fac1d5312430",
       "version_major": 2,
       "version_minor": 0
      },
      "text/plain": [
       "Dropdown(description='Tone:', layout=Layout(width='70%'), options=('', 'Neutral / Informational', 'Supportive …"
      ]
     },
     "metadata": {},
     "output_type": "display_data"
    },
    {
     "data": {
      "application/vnd.jupyter.widget-view+json": {
       "model_id": "02a38e5c5aac41e5a90e63f041902125",
       "version_major": 2,
       "version_minor": 0
      },
      "text/plain": [
       "HTML(value='<b>Tweet 85</b>: Giorgia Meloni: “quello alle società di serie A NON è un regalo”. Ecco i numeri: …"
      ]
     },
     "metadata": {},
     "output_type": "display_data"
    },
    {
     "data": {
      "application/vnd.jupyter.widget-view+json": {
       "model_id": "6d2194dad56b44d5b74de4b6ef93ee88",
       "version_major": 2,
       "version_minor": 0
      },
      "text/plain": [
       "Dropdown(description='Tone:', layout=Layout(width='70%'), options=('', 'Neutral / Informational', 'Supportive …"
      ]
     },
     "metadata": {},
     "output_type": "display_data"
    },
    {
     "data": {
      "application/vnd.jupyter.widget-view+json": {
       "model_id": "0f11f7dcd0b24f91964b82b6e60e27ab",
       "version_major": 2,
       "version_minor": 0
      },
      "text/plain": [
       "HTML(value=\"<b>Tweet 86</b>: Il messaggio che esce dalla risoluzione @UN contro l’aggressione all’Ucraina è in…"
      ]
     },
     "metadata": {},
     "output_type": "display_data"
    },
    {
     "data": {
      "application/vnd.jupyter.widget-view+json": {
       "model_id": "8eee3ae4ed04416f8d2d16c862a79511",
       "version_major": 2,
       "version_minor": 0
      },
      "text/plain": [
       "Dropdown(description='Tone:', layout=Layout(width='70%'), options=('', 'Neutral / Informational', 'Supportive …"
      ]
     },
     "metadata": {},
     "output_type": "display_data"
    },
    {
     "data": {
      "application/vnd.jupyter.widget-view+json": {
       "model_id": "67f0de5f26df422abeb5a68d708f325b",
       "version_major": 2,
       "version_minor": 0
      },
      "text/plain": [
       "HTML(value='<b>Tweet 87</b>: Lo stop alla vendita di auto #Diesel, prevista entro il 2035 anche se gli ultimi …"
      ]
     },
     "metadata": {},
     "output_type": "display_data"
    },
    {
     "data": {
      "application/vnd.jupyter.widget-view+json": {
       "model_id": "3c68e9d77c1e4e5a884ea02e2c81aeca",
       "version_major": 2,
       "version_minor": 0
      },
      "text/plain": [
       "Dropdown(description='Tone:', layout=Layout(width='70%'), options=('', 'Neutral / Informational', 'Supportive …"
      ]
     },
     "metadata": {},
     "output_type": "display_data"
    },
    {
     "data": {
      "application/vnd.jupyter.widget-view+json": {
       "model_id": "2a15fabe293847a29dbe69a046ff94e3",
       "version_major": 2,
       "version_minor": 0
      },
      "text/plain": [
       "HTML(value='<b>Tweet 88</b>: Domani Torino e Milano per continuare a raccontare il Paese a cui il Governo Melo…"
      ]
     },
     "metadata": {},
     "output_type": "display_data"
    },
    {
     "data": {
      "application/vnd.jupyter.widget-view+json": {
       "model_id": "2edebc879e1547ef83d7e2c755465b94",
       "version_major": 2,
       "version_minor": 0
      },
      "text/plain": [
       "Dropdown(description='Tone:', layout=Layout(width='70%'), options=('', 'Neutral / Informational', 'Supportive …"
      ]
     },
     "metadata": {},
     "output_type": "display_data"
    },
    {
     "data": {
      "application/vnd.jupyter.widget-view+json": {
       "model_id": "d75a9090b14a4a0890917ad1e94ac60c",
       "version_major": 2,
       "version_minor": 0
      },
      "text/plain": [
       "HTML(value=\"<b>Tweet 89</b>: Il 13 ottobre 2020 era stato firmato il decreto che obbligava all'utilizzo delle …"
      ]
     },
     "metadata": {},
     "output_type": "display_data"
    },
    {
     "data": {
      "application/vnd.jupyter.widget-view+json": {
       "model_id": "8b7e48d78ab94e5a8644a80ea0e48455",
       "version_major": 2,
       "version_minor": 0
      },
      "text/plain": [
       "Dropdown(description='Tone:', layout=Layout(width='70%'), options=('', 'Neutral / Informational', 'Supportive …"
      ]
     },
     "metadata": {},
     "output_type": "display_data"
    },
    {
     "data": {
      "application/vnd.jupyter.widget-view+json": {
       "model_id": "8caf9a71c8d94efd81e244264769d1c2",
       "version_major": 2,
       "version_minor": 0
      },
      "text/plain": [
       "HTML(value='<b>Tweet 90</b>: Ho telefonato al presidente della Repubblica, Sergio Mattarella. Gli ho assicurat…"
      ]
     },
     "metadata": {},
     "output_type": "display_data"
    },
    {
     "data": {
      "application/vnd.jupyter.widget-view+json": {
       "model_id": "899f327d8ec24616a99de532f73cdf4c",
       "version_major": 2,
       "version_minor": 0
      },
      "text/plain": [
       "Dropdown(description='Tone:', layout=Layout(width='70%'), options=('', 'Neutral / Informational', 'Supportive …"
      ]
     },
     "metadata": {},
     "output_type": "display_data"
    },
    {
     "data": {
      "application/vnd.jupyter.widget-view+json": {
       "model_id": "dc74b3cb652c46a9909e213650af3821",
       "version_major": 2,
       "version_minor": 0
      },
      "text/plain": [
       "HTML(value='<b>Tweet 91</b>: E lo dice un esponente del PD... non male😉 https://t.co/rspXy07J49')"
      ]
     },
     "metadata": {},
     "output_type": "display_data"
    },
    {
     "data": {
      "application/vnd.jupyter.widget-view+json": {
       "model_id": "1b902f32f2424d559947878117a7ccf3",
       "version_major": 2,
       "version_minor": 0
      },
      "text/plain": [
       "Dropdown(description='Tone:', layout=Layout(width='70%'), options=('', 'Neutral / Informational', 'Supportive …"
      ]
     },
     "metadata": {},
     "output_type": "display_data"
    },
    {
     "data": {
      "application/vnd.jupyter.widget-view+json": {
       "model_id": "3bfe74ff26fa4affa086aba456da47ef",
       "version_major": 2,
       "version_minor": 0
      },
      "text/plain": [
       "HTML(value='<b>Tweet 92</b>: Prima del #25settembre gli elettori italiani hanno diritto di sapere se qualcuno …"
      ]
     },
     "metadata": {},
     "output_type": "display_data"
    },
    {
     "data": {
      "application/vnd.jupyter.widget-view+json": {
       "model_id": "1d2d31e55f73407680368186d81e4786",
       "version_major": 2,
       "version_minor": 0
      },
      "text/plain": [
       "Dropdown(description='Tone:', layout=Layout(width='70%'), options=('', 'Neutral / Informational', 'Supportive …"
      ]
     },
     "metadata": {},
     "output_type": "display_data"
    },
    {
     "data": {
      "application/vnd.jupyter.widget-view+json": {
       "model_id": "e87da517b54a4d789e7305d0920ab85e",
       "version_major": 2,
       "version_minor": 0
      },
      "text/plain": [
       "HTML(value='<b>Tweet 93</b>: Eppure, la sinistra vuole la cittadinanza facile per tutti. Follia. La Lega farà …"
      ]
     },
     "metadata": {},
     "output_type": "display_data"
    },
    {
     "data": {
      "application/vnd.jupyter.widget-view+json": {
       "model_id": "5d23996ffdd04de886acbbbe23a14e51",
       "version_major": 2,
       "version_minor": 0
      },
      "text/plain": [
       "Dropdown(description='Tone:', layout=Layout(width='70%'), options=('', 'Neutral / Informational', 'Supportive …"
      ]
     },
     "metadata": {},
     "output_type": "display_data"
    },
    {
     "data": {
      "application/vnd.jupyter.widget-view+json": {
       "model_id": "e4a24e3da9d648b4a15b088aa79db8c6",
       "version_major": 2,
       "version_minor": 0
      },
      "text/plain": [
       "HTML(value='<b>Tweet 94</b>: ...parti civili contro di me... Ma vi pare normale?!? Come sempre andrò in quel T…"
      ]
     },
     "metadata": {},
     "output_type": "display_data"
    },
    {
     "data": {
      "application/vnd.jupyter.widget-view+json": {
       "model_id": "6e01b1bf10e749f5a2dab33af0926c5f",
       "version_major": 2,
       "version_minor": 0
      },
      "text/plain": [
       "Dropdown(description='Tone:', layout=Layout(width='70%'), options=('', 'Neutral / Informational', 'Supportive …"
      ]
     },
     "metadata": {},
     "output_type": "display_data"
    },
    {
     "data": {
      "application/vnd.jupyter.widget-view+json": {
       "model_id": "22a2d7369d8549a1a3465d2ae26a92a1",
       "version_major": 2,
       "version_minor": 0
      },
      "text/plain": [
       "HTML(value='<b>Tweet 95</b>: Ha ragione Porro: tutto ciò è completamente folle.\\n#BastaCoprifuoco https://t.co…"
      ]
     },
     "metadata": {},
     "output_type": "display_data"
    },
    {
     "data": {
      "application/vnd.jupyter.widget-view+json": {
       "model_id": "5e528675143442aca6364bb03174854e",
       "version_major": 2,
       "version_minor": 0
      },
      "text/plain": [
       "Dropdown(description='Tone:', layout=Layout(width='70%'), options=('', 'Neutral / Informational', 'Supportive …"
      ]
     },
     "metadata": {},
     "output_type": "display_data"
    },
    {
     "data": {
      "application/vnd.jupyter.widget-view+json": {
       "model_id": "ec355f8d38f84cf7b6384d63d5ec5739",
       "version_major": 2,
       "version_minor": 0
      },
      "text/plain": [
       "HTML(value='<b>Tweet 96</b>: Fa benissimo #Macron a comportarsi così. I contatti non vanno mai recisi o resi i…"
      ]
     },
     "metadata": {},
     "output_type": "display_data"
    },
    {
     "data": {
      "application/vnd.jupyter.widget-view+json": {
       "model_id": "649c6dc165b5473fa6665cfd0d937d05",
       "version_major": 2,
       "version_minor": 0
      },
      "text/plain": [
       "Dropdown(description='Tone:', layout=Layout(width='70%'), options=('', 'Neutral / Informational', 'Supportive …"
      ]
     },
     "metadata": {},
     "output_type": "display_data"
    },
    {
     "data": {
      "application/vnd.jupyter.widget-view+json": {
       "model_id": "ec437656215b4519860216c516c22e61",
       "version_major": 2,
       "version_minor": 0
      },
      "text/plain": [
       "HTML(value='<b>Tweet 97</b>: Parliamo delle scuole aperte/chiuse senza parlare di come aprirle, e quindi finia…"
      ]
     },
     "metadata": {},
     "output_type": "display_data"
    },
    {
     "data": {
      "application/vnd.jupyter.widget-view+json": {
       "model_id": "b1ec064838a545a2ad392fe535fbc242",
       "version_major": 2,
       "version_minor": 0
      },
      "text/plain": [
       "Dropdown(description='Tone:', layout=Layout(width='70%'), options=('', 'Neutral / Informational', 'Supportive …"
      ]
     },
     "metadata": {},
     "output_type": "display_data"
    },
    {
     "data": {
      "application/vnd.jupyter.widget-view+json": {
       "model_id": "fe4e34564a3143a98a8951e5ade6ae83",
       "version_major": 2,
       "version_minor": 0
      },
      "text/plain": [
       "HTML(value='<b>Tweet 98</b>: Presentazione de “La libertà che non libera” a #Treviso.\\nPerché la politica non …"
      ]
     },
     "metadata": {},
     "output_type": "display_data"
    },
    {
     "data": {
      "application/vnd.jupyter.widget-view+json": {
       "model_id": "add0be374af8451cacb82ce951645976",
       "version_major": 2,
       "version_minor": 0
      },
      "text/plain": [
       "Dropdown(description='Tone:', layout=Layout(width='70%'), options=('', 'Neutral / Informational', 'Supportive …"
      ]
     },
     "metadata": {},
     "output_type": "display_data"
    },
    {
     "data": {
      "application/vnd.jupyter.widget-view+json": {
       "model_id": "53e234ac75ac4138bc73b75f92dc36e0",
       "version_major": 2,
       "version_minor": 0
      },
      "text/plain": [
       "HTML(value='<b>Tweet 99</b>: Busta con proiettile alla consigliera della Lega in Campania, Carmela Rescigno, i…"
      ]
     },
     "metadata": {},
     "output_type": "display_data"
    },
    {
     "data": {
      "application/vnd.jupyter.widget-view+json": {
       "model_id": "582fb60a546846f293126a1c5c14c086",
       "version_major": 2,
       "version_minor": 0
      },
      "text/plain": [
       "Dropdown(description='Tone:', layout=Layout(width='70%'), options=('', 'Neutral / Informational', 'Supportive …"
      ]
     },
     "metadata": {},
     "output_type": "display_data"
    },
    {
     "data": {
      "application/vnd.jupyter.widget-view+json": {
       "model_id": "6171275ba9c442ce810edc1401f06df0",
       "version_major": 2,
       "version_minor": 0
      },
      "text/plain": [
       "HTML(value='<b>Tweet 100</b>: Partecipare alla vita pubblica è un dovere. Pericle sosteneva“un uomo che non si…"
      ]
     },
     "metadata": {},
     "output_type": "display_data"
    },
    {
     "data": {
      "application/vnd.jupyter.widget-view+json": {
       "model_id": "6695a782e1934b6dabdb561d43716902",
       "version_major": 2,
       "version_minor": 0
      },
      "text/plain": [
       "Dropdown(description='Tone:', layout=Layout(width='70%'), options=('', 'Neutral / Informational', 'Supportive …"
      ]
     },
     "metadata": {},
     "output_type": "display_data"
    },
    {
     "data": {
      "application/vnd.jupyter.widget-view+json": {
       "model_id": "239991f2a4f740379b777ddacc571e81",
       "version_major": 2,
       "version_minor": 0
      },
      "text/plain": [
       "Button(button_style='success', description='💾 Save Labels', style=ButtonStyle())"
      ]
     },
     "metadata": {},
     "output_type": "display_data"
    }
   ],
   "source": [
    "import pandas as pd\n",
    "import ipywidgets as widgets\n",
    "from IPython.display import display\n",
    "\n",
    "# Load your tweets\n",
    "df = data.sample(n=100, random_state=42).reset_index(drop=True)  \n",
    "\n",
    "# Define tone labels\n",
    "tone_labels = [\n",
    "    \"Neutral / Informational\",\n",
    "    \"Supportive / Positive / Celebratory\",\n",
    "    \"Critical / Angry\",\n",
    "    \"Call to Action / Propaganda\",\n",
    "]\n",
    "\n",
    "# Store dropdowns and layout\n",
    "dropdowns = []\n",
    "for i, row in df.iterrows():\n",
    "    tweet_display = widgets.HTML(value=f\"<b>Tweet {i+1}</b>: {row['Content']}\")\n",
    "    dropdown = widgets.Dropdown(\n",
    "        options=[\"\"] + tone_labels,\n",
    "        description='Tone:',\n",
    "        layout=widgets.Layout(width='70%')\n",
    "    )\n",
    "    dropdowns.append(dropdown)\n",
    "    display(tweet_display, dropdown)\n",
    "\n",
    "# Save button logic\n",
    "def save_labels(_):\n",
    "    for i, dropdown in enumerate(dropdowns):\n",
    "        df.at[i, 'tone_label'] = dropdown.value\n",
    "    df.to_csv(\"labeled_tweets_with_tone.csv\", index=False)\n",
    "    print(\"✅ Labels saved to labeled_tweets_with_tone.csv\")\n",
    "\n",
    "save_button = widgets.Button(description=\"💾 Save Labels\", button_style='success')\n",
    "save_button.on_click(save_labels)\n",
    "display(save_button)\n"
   ]
  },
  {
   "cell_type": "markdown",
   "id": "2136d5e0",
   "metadata": {},
   "source": [
    "### **Part 2 - Fine Tune Model on 100 labeled tweets**"
   ]
  },
  {
   "cell_type": "code",
   "execution_count": 19,
   "id": "6ff965a9",
   "metadata": {},
   "outputs": [],
   "source": [
    "import pandas as pd\n",
    "from sklearn.model_selection import train_test_split\n",
    "\n",
    "# LOAD AND PREPROCESS LABELED DATA\n",
    "df = pd.read_csv(\"labeled_tweets_with_tone.csv\")\n",
    "df = df.dropna(subset=[\"tone_label\"])  # Remove unlabeled rows\n",
    "\n",
    "# Label encoding\n",
    "labels = df[\"tone_label\"].unique().tolist()\n",
    "label2id = {l: i for i, l in enumerate(labels)}\n",
    "id2label = {i: l for l, i in label2id.items()}\n",
    "df[\"label_id\"] = df[\"tone_label\"].map(label2id)\n",
    "\n",
    "# Split\n",
    "train_texts, val_texts, train_labels, val_labels = train_test_split(\n",
    "    df[\"Content\"].tolist(), df[\"label_id\"].tolist(), test_size=0.2, random_state=42\n",
    ")\n"
   ]
  },
  {
   "cell_type": "code",
   "execution_count": 20,
   "id": "a7adc6bd",
   "metadata": {},
   "outputs": [
    {
     "name": "stderr",
     "output_type": "stream",
     "text": [
      "Asking to truncate to max_length but no maximum length is provided and the model has no predefined maximum length. Default to no truncation.\n"
     ]
    }
   ],
   "source": [
    "# TOKENIZE\n",
    "from transformers import AutoTokenizer\n",
    "\n",
    "model_name = \"Musixmatch/umberto-commoncrawl-cased-v1\"  # You can swap for AlBERTo if preferred\n",
    "tokenizer = AutoTokenizer.from_pretrained(model_name)\n",
    "\n",
    "train_encodings = tokenizer(train_texts, truncation=True, padding=True)\n",
    "val_encodings = tokenizer(val_texts, truncation=True, padding=True)"
   ]
  },
  {
   "cell_type": "code",
   "execution_count": 21,
   "id": "1ca08aa4",
   "metadata": {},
   "outputs": [],
   "source": [
    "import torch\n",
    "\n",
    "# CONVERT TO PYTORCH\n",
    "class TweetDataset(torch.utils.data.Dataset):\n",
    "    def __init__(self, encodings, labels):\n",
    "        self.encodings = encodings\n",
    "        self.labels = labels\n",
    "    def __getitem__(self, idx):\n",
    "        item = {k: torch.tensor(v[idx]) for k, v in self.encodings.items()}\n",
    "        item[\"labels\"] = torch.tensor(self.labels[idx])\n",
    "        return item\n",
    "    def __len__(self):\n",
    "        return len(self.labels)\n",
    "\n",
    "train_dataset = TweetDataset(train_encodings, train_labels)\n",
    "val_dataset = TweetDataset(val_encodings, val_labels)\n"
   ]
  },
  {
   "cell_type": "code",
   "execution_count": 22,
   "id": "84c43c5c",
   "metadata": {},
   "outputs": [
    {
     "name": "stdout",
     "output_type": "stream",
     "text": [
      "CUDA available: False\n",
      "GPU name: None\n"
     ]
    }
   ],
   "source": [
    "import torch\n",
    "print(\"CUDA available:\", torch.cuda.is_available())\n",
    "print(\"GPU name:\", torch.cuda.get_device_name(0) if torch.cuda.is_available() else \"None\")"
   ]
  },
  {
   "cell_type": "code",
   "execution_count": 23,
   "id": "b26fbf08",
   "metadata": {},
   "outputs": [
    {
     "name": "stderr",
     "output_type": "stream",
     "text": [
      "Some weights of CamembertForSequenceClassification were not initialized from the model checkpoint at Musixmatch/umberto-commoncrawl-cased-v1 and are newly initialized: ['classifier.dense.bias', 'classifier.dense.weight', 'classifier.out_proj.bias', 'classifier.out_proj.weight']\n",
      "You should probably TRAIN this model on a down-stream task to be able to use it for predictions and inference.\n"
     ]
    },
    {
     "name": "stdout",
     "output_type": "stream",
     "text": [
      "Using device: cpu\n",
      "Epoch 1\n",
      "Train loss: 1.5308\n",
      "Validation accuracy: 22.50%\n",
      "Epoch 2\n",
      "Train loss: 1.4023\n",
      "Validation accuracy: 37.50%\n",
      "Epoch 3\n",
      "Train loss: 1.0970\n",
      "Validation accuracy: 40.00%\n",
      "Epoch 4\n",
      "Train loss: 0.7557\n",
      "Validation accuracy: 40.00%\n",
      "Epoch 5\n",
      "Train loss: 0.4504\n",
      "Validation accuracy: 40.00%\n"
     ]
    }
   ],
   "source": [
    "from transformers import AutoModelForSequenceClassification, Trainer, TrainingArguments\n",
    "\n",
    "model = AutoModelForSequenceClassification.from_pretrained(\n",
    "    model_name,\n",
    "    num_labels=len(label2id),\n",
    "    id2label=id2label,\n",
    "    label2id=label2id\n",
    ")\n",
    "\n",
    "import torch\n",
    "from torch.utils.data import DataLoader\n",
    "from torch.optim import AdamW\n",
    "\n",
    "# Prepare data loaders\n",
    "train_loader = DataLoader(train_dataset, batch_size=8, shuffle=True)\n",
    "val_loader = DataLoader(val_dataset, batch_size=8)\n",
    "\n",
    "device = torch.device(\"cuda\" if torch.cuda.is_available() else \"cpu\")\n",
    "print(f\"Using device: {device}\")\n",
    "model.to(device)\n",
    "\n",
    "\n",
    "# Optimizer\n",
    "optimizer = AdamW(model.parameters(), lr=5e-5)\n",
    "\n",
    "# Training loop\n",
    "for epoch in range(5):  \n",
    "    print(f\"Epoch {epoch + 1}\")\n",
    "    model.train()\n",
    "    total_loss = 0\n",
    "    for batch in train_loader:\n",
    "        batch = {k: v.to(device) for k, v in batch.items()}\n",
    "        outputs = model(**batch)\n",
    "        loss = outputs.loss\n",
    "        loss.backward()\n",
    "        optimizer.step()\n",
    "        optimizer.zero_grad()\n",
    "        total_loss += loss.item()\n",
    "    print(f\"Train loss: {total_loss / len(train_loader):.4f}\")\n",
    "\n",
    "    # Optional: evaluation loop\n",
    "    model.eval()\n",
    "    correct = 0\n",
    "    total = 0\n",
    "    with torch.no_grad():\n",
    "        for batch in val_loader:\n",
    "            batch = {k: v.to(device) for k, v in batch.items()}\n",
    "            outputs = model(**batch)\n",
    "            predictions = torch.argmax(outputs.logits, dim=-1)\n",
    "            correct += (predictions == batch[\"labels\"]).sum().item()\n",
    "            total += batch[\"labels\"].size(0)\n",
    "    print(f\"Validation accuracy: {correct / total:.2%}\")\n"
   ]
  },
  {
   "cell_type": "markdown",
   "id": "7281d9cd",
   "metadata": {},
   "source": [
    "## 200 labels\n",
    "Epoch 1\n",
    "Train loss: 1.5308\n",
    "Validation accuracy: 22.50%\n",
    "Epoch 2\n",
    "Train loss: 1.4023\n",
    "Validation accuracy: 37.50%\n",
    "Epoch 3\n",
    "Train loss: 1.0970\n",
    "Validation accuracy: 40.00%\n",
    "Epoch 4\n",
    "Train loss: 0.7557\n",
    "Validation accuracy: 40.00%\n",
    "Epoch 5\n",
    "Train loss: 0.4504\n",
    "Validation accuracy: 40.00%\n"
   ]
  },
  {
   "cell_type": "markdown",
   "id": "22b43886",
   "metadata": {},
   "source": [
    "### **Phase 3**"
   ]
  },
  {
   "cell_type": "code",
   "execution_count": 13,
   "id": "8df76f7e",
   "metadata": {},
   "outputs": [],
   "source": [
    "all_df = data\n",
    "\n",
    "# Exclude already labeled ones (assuming tone_label exists only for labeled rows)\n",
    "unlabeled_df = all_df[~all_df[\"Content\"].isin(df[\"Content\"])].reset_index(drop=True)\n",
    "\n",
    "# Take a reasonable subset if the dataset is huge\n",
    "texts_to_predict = unlabeled_df[\"Content\"].tolist()\n"
   ]
  },
  {
   "cell_type": "code",
   "execution_count": 14,
   "id": "f74ef4f0",
   "metadata": {},
   "outputs": [],
   "source": [
    "from torch.nn.functional import softmax\n",
    "\n",
    "device = torch.device(\"cpu\")\n",
    "model.to(device)\n",
    "\n",
    "# Make sure inputs are also on CPU\n",
    "predict_encodings = tokenizer(texts_to_predict, truncation=True, padding=True, return_tensors=\"pt\")\n",
    "predict_encodings = {k: v.to(device) for k, v in predict_encodings.items()}\n",
    "\n",
    "batch_size = 32\n",
    "all_probs = []\n",
    "\n",
    "model.eval()\n",
    "with torch.no_grad():\n",
    "    for i in range(0, len(texts_to_predict), batch_size):\n",
    "        batch_texts = texts_to_predict[i:i+batch_size]\n",
    "        batch_enc = tokenizer(batch_texts, truncation=True, padding=True, return_tensors=\"pt\")\n",
    "        batch_enc = {k: v.to(\"cpu\") for k, v in batch_enc.items()}  # or \"mps\" if you fix it\n",
    "        outputs = model(**batch_enc)\n",
    "        batch_probs = softmax(outputs.logits, dim=1).numpy()\n",
    "        all_probs.append(batch_probs)\n",
    "\n",
    "import numpy as np\n",
    "probs = np.vstack(all_probs)\n",
    "\n",
    "\n"
   ]
  },
  {
   "cell_type": "code",
   "execution_count": 15,
   "id": "ed46be20",
   "metadata": {},
   "outputs": [],
   "source": [
    "import numpy as np\n",
    "\n",
    "# Margin = difference between top two probabilities\n",
    "sorted_probs = np.sort(probs, axis=1)\n",
    "margins = sorted_probs[:, -1] - sorted_probs[:, -2]\n",
    "\n",
    "# Lower margin = higher uncertainty\n",
    "uncertainty_indices = np.argsort(margins)  # ascending = most uncertain first\n"
   ]
  },
  {
   "cell_type": "markdown",
   "id": "334716fe",
   "metadata": {},
   "source": [
    "## PRENDERE AVERAGE CERTAINTY!!!!!!!!!!!!!!!!!!!!!!!!!!!!"
   ]
  },
  {
   "cell_type": "code",
   "execution_count": 16,
   "id": "978021b6",
   "metadata": {},
   "outputs": [],
   "source": [
    "K = 100  # or any number you want to label next\n",
    "uncertain_samples = unlabeled_df.iloc[uncertainty_indices[:K]].copy()\n",
    "\n",
    "# Save for annotation\n",
    "uncertain_samples.to_csv(\"next_batch_to_label.csv\", index=False)"
   ]
  },
  {
   "cell_type": "code",
   "execution_count": 17,
   "id": "090404a6",
   "metadata": {},
   "outputs": [],
   "source": [
    "# Get predicted label indices\n",
    "predicted_ids = np.argmax(probs, axis=1)\n",
    "\n",
    "# Get prediction confidences (max prob per row)\n",
    "confidences = np.max(probs, axis=1)\n",
    "\n",
    "# Map back to label names\n",
    "id2label = {v: k for k, v in label2id.items()}\n",
    "predicted_labels = [id2label[i] for i in predicted_ids]\n",
    "\n",
    "# Attach to DataFrame\n",
    "unlabeled_df[\"model_prediction\"] = predicted_labels\n",
    "unlabeled_df[\"model_confidence\"] = confidences"
   ]
  },
  {
   "cell_type": "markdown",
   "id": "50c516fc",
   "metadata": {},
   "source": [
    "## **Label New Batch**"
   ]
  },
  {
   "cell_type": "code",
   "execution_count": 18,
   "id": "962c4e49",
   "metadata": {},
   "outputs": [
    {
     "data": {
      "application/vnd.jupyter.widget-view+json": {
       "model_id": "7954fc66302445a4bfeead11af6e7630",
       "version_major": 2,
       "version_minor": 0
      },
      "text/plain": [
       "HTML(value='<b>Tweet 1</b>: Fuori dal recinto. Intervista a Nicola Fratoianni\\n#governo #sinistra #Draghi #Pd …"
      ]
     },
     "metadata": {},
     "output_type": "display_data"
    },
    {
     "data": {
      "application/vnd.jupyter.widget-view+json": {
       "model_id": "c6573f4384044ea29bc85d6331750236",
       "version_major": 2,
       "version_minor": 0
      },
      "text/plain": [
       "Dropdown(description='Tone:', layout=Layout(width='70%'), options=('', 'Neutral / Informational', 'Supportive …"
      ]
     },
     "metadata": {},
     "output_type": "display_data"
    },
    {
     "data": {
      "application/vnd.jupyter.widget-view+json": {
       "model_id": "23fe669d4f264799b767f4f204258e07",
       "version_major": 2,
       "version_minor": 0
      },
      "text/plain": [
       "HTML(value='<b>Tweet 2</b>: @UnaDonnaPdR @OGiannino @marattin @matteorenzi Poi però mi raccomando. Torna a tuo…"
      ]
     },
     "metadata": {},
     "output_type": "display_data"
    },
    {
     "data": {
      "application/vnd.jupyter.widget-view+json": {
       "model_id": "aee216186090428a803dbdfc69965d3a",
       "version_major": 2,
       "version_minor": 0
      },
      "text/plain": [
       "Dropdown(description='Tone:', layout=Layout(width='70%'), options=('', 'Neutral / Informational', 'Supportive …"
      ]
     },
     "metadata": {},
     "output_type": "display_data"
    },
    {
     "data": {
      "application/vnd.jupyter.widget-view+json": {
       "model_id": "47e8e8ff11dd4e019824ab67ef3dbd81",
       "version_major": 2,
       "version_minor": 0
      },
      "text/plain": [
       "HTML(value='<b>Tweet 3</b>: Ho chiesto un incontro urgente al ministro Cartabia, bisogna intervenire subito pe…"
      ]
     },
     "metadata": {},
     "output_type": "display_data"
    },
    {
     "data": {
      "application/vnd.jupyter.widget-view+json": {
       "model_id": "6fa10e96245f491ca4e562552a6d84d1",
       "version_major": 2,
       "version_minor": 0
      },
      "text/plain": [
       "Dropdown(description='Tone:', layout=Layout(width='70%'), options=('', 'Neutral / Informational', 'Supportive …"
      ]
     },
     "metadata": {},
     "output_type": "display_data"
    },
    {
     "data": {
      "application/vnd.jupyter.widget-view+json": {
       "model_id": "086e1344ca1d494ca74e6780510f8a6b",
       "version_major": 2,
       "version_minor": 0
      },
      "text/plain": [
       "HTML(value=\"<b>Tweet 4</b>: Tutto ciò che Draghi ha detto, dall'europeismo all'atlantismo, dalla scelta di lav…"
      ]
     },
     "metadata": {},
     "output_type": "display_data"
    },
    {
     "data": {
      "application/vnd.jupyter.widget-view+json": {
       "model_id": "c725715018d3489c9940a3ec59b198fa",
       "version_major": 2,
       "version_minor": 0
      },
      "text/plain": [
       "Dropdown(description='Tone:', layout=Layout(width='70%'), options=('', 'Neutral / Informational', 'Supportive …"
      ]
     },
     "metadata": {},
     "output_type": "display_data"
    },
    {
     "data": {
      "application/vnd.jupyter.widget-view+json": {
       "model_id": "2ca9feb49e4f4681a7c30ac20f9122bd",
       "version_major": 2,
       "version_minor": 0
      },
      "text/plain": [
       "HTML(value='<b>Tweet 5</b>: Ha ragione la madre di Giovanni, la soldatessa Usa sia processata in Italia.\\nSe l…"
      ]
     },
     "metadata": {},
     "output_type": "display_data"
    },
    {
     "data": {
      "application/vnd.jupyter.widget-view+json": {
       "model_id": "0a863863555d4fd3999e9be8d16a4969",
       "version_major": 2,
       "version_minor": 0
      },
      "text/plain": [
       "Dropdown(description='Tone:', layout=Layout(width='70%'), options=('', 'Neutral / Informational', 'Supportive …"
      ]
     },
     "metadata": {},
     "output_type": "display_data"
    },
    {
     "data": {
      "application/vnd.jupyter.widget-view+json": {
       "model_id": "df28fe943aab43e58fe780b46069a192",
       "version_major": 2,
       "version_minor": 0
      },
      "text/plain": [
       "HTML(value='<b>Tweet 6</b>: @alba54239901 Alba fai benissimo a sognarlo. E credimi vorrei che lo fosse e mi ba…"
      ]
     },
     "metadata": {},
     "output_type": "display_data"
    },
    {
     "data": {
      "application/vnd.jupyter.widget-view+json": {
       "model_id": "0397a6f7671e428e939410551147ef36",
       "version_major": 2,
       "version_minor": 0
      },
      "text/plain": [
       "Dropdown(description='Tone:', layout=Layout(width='70%'), options=('', 'Neutral / Informational', 'Supportive …"
      ]
     },
     "metadata": {},
     "output_type": "display_data"
    },
    {
     "data": {
      "application/vnd.jupyter.widget-view+json": {
       "model_id": "955f04c41fcc4461a00f1bd8768ad6a6",
       "version_major": 2,
       "version_minor": 0
      },
      "text/plain": [
       "HTML(value='<b>Tweet 7</b>: Anche il Senato ha votato #fiducia al Governo. Abbiamo presentato in campagna elet…"
      ]
     },
     "metadata": {},
     "output_type": "display_data"
    },
    {
     "data": {
      "application/vnd.jupyter.widget-view+json": {
       "model_id": "ba96c28a809d48658fd71889e0e33d04",
       "version_major": 2,
       "version_minor": 0
      },
      "text/plain": [
       "Dropdown(description='Tone:', layout=Layout(width='70%'), options=('', 'Neutral / Informational', 'Supportive …"
      ]
     },
     "metadata": {},
     "output_type": "display_data"
    },
    {
     "data": {
      "application/vnd.jupyter.widget-view+json": {
       "model_id": "06531bb12a1c47b6a9857846e4ca33ba",
       "version_major": 2,
       "version_minor": 0
      },
      "text/plain": [
       "HTML(value='<b>Tweet 8</b>: Ieri l’Italia, col verdetto sul processo per le minacce a @robertosaviano @RosCapa…"
      ]
     },
     "metadata": {},
     "output_type": "display_data"
    },
    {
     "data": {
      "application/vnd.jupyter.widget-view+json": {
       "model_id": "f69a230c6e4e4530bbf74d9758e585ce",
       "version_major": 2,
       "version_minor": 0
      },
      "text/plain": [
       "Dropdown(description='Tone:', layout=Layout(width='70%'), options=('', 'Neutral / Informational', 'Supportive …"
      ]
     },
     "metadata": {},
     "output_type": "display_data"
    },
    {
     "data": {
      "application/vnd.jupyter.widget-view+json": {
       "model_id": "ff2bc7bba06c4dc09b7df61c5e0a352d",
       "version_major": 2,
       "version_minor": 0
      },
      "text/plain": [
       "HTML(value='<b>Tweet 9</b>: Choc a Manfredonia, sparatoria terrorizza il luna park: “È stato un incubo”. \\nLe …"
      ]
     },
     "metadata": {},
     "output_type": "display_data"
    },
    {
     "data": {
      "application/vnd.jupyter.widget-view+json": {
       "model_id": "819154c187f7432ab1217e38af0231a3",
       "version_major": 2,
       "version_minor": 0
      },
      "text/plain": [
       "Dropdown(description='Tone:', layout=Layout(width='70%'), options=('', 'Neutral / Informational', 'Supportive …"
      ]
     },
     "metadata": {},
     "output_type": "display_data"
    },
    {
     "data": {
      "application/vnd.jupyter.widget-view+json": {
       "model_id": "d475f17cb2db4f0bb209010a69d7fd2b",
       "version_major": 2,
       "version_minor": 0
      },
      "text/plain": [
       "HTML(value='<b>Tweet 10</b>: Ecco il simbolo per le suppletive nelle province di Siena e Arezzo. Scelto per pr…"
      ]
     },
     "metadata": {},
     "output_type": "display_data"
    },
    {
     "data": {
      "application/vnd.jupyter.widget-view+json": {
       "model_id": "a9f723f2332444518d505aa2e55db848",
       "version_major": 2,
       "version_minor": 0
      },
      "text/plain": [
       "Dropdown(description='Tone:', layout=Layout(width='70%'), options=('', 'Neutral / Informational', 'Supportive …"
      ]
     },
     "metadata": {},
     "output_type": "display_data"
    },
    {
     "data": {
      "application/vnd.jupyter.widget-view+json": {
       "model_id": "2b6113436ffb430caaeddde1f2e77717",
       "version_major": 2,
       "version_minor": 0
      },
      "text/plain": [
       "HTML(value='<b>Tweet 11</b>: Fermare le partenze dei barconi, in accordo con le autorità nordafricane, è l’uni…"
      ]
     },
     "metadata": {},
     "output_type": "display_data"
    },
    {
     "data": {
      "application/vnd.jupyter.widget-view+json": {
       "model_id": "d97cbe2fbbcb4b138fdd330adf9c16a8",
       "version_major": 2,
       "version_minor": 0
      },
      "text/plain": [
       "Dropdown(description='Tone:', layout=Layout(width='70%'), options=('', 'Neutral / Informational', 'Supportive …"
      ]
     },
     "metadata": {},
     "output_type": "display_data"
    },
    {
     "data": {
      "application/vnd.jupyter.widget-view+json": {
       "model_id": "ecedd04d0c614d06a4f64311d4c8f5df",
       "version_major": 2,
       "version_minor": 0
      },
      "text/plain": [
       "HTML(value='<b>Tweet 12</b>: Il #cognome del padre non è più automatico. Sarà frutto di una scelta. Una decisi…"
      ]
     },
     "metadata": {},
     "output_type": "display_data"
    },
    {
     "data": {
      "application/vnd.jupyter.widget-view+json": {
       "model_id": "3e2e233fb836471aad90e348fcfa30eb",
       "version_major": 2,
       "version_minor": 0
      },
      "text/plain": [
       "Dropdown(description='Tone:', layout=Layout(width='70%'), options=('', 'Neutral / Informational', 'Supportive …"
      ]
     },
     "metadata": {},
     "output_type": "display_data"
    },
    {
     "data": {
      "application/vnd.jupyter.widget-view+json": {
       "model_id": "c35c77e926ab443886e69d3f5fc5dda0",
       "version_major": 2,
       "version_minor": 0
      },
      "text/plain": [
       "HTML(value='<b>Tweet 13</b>: E completiamo il decreto sulle delocalizzazioni preparato dal Ministro @AndreaOrl…"
      ]
     },
     "metadata": {},
     "output_type": "display_data"
    },
    {
     "data": {
      "application/vnd.jupyter.widget-view+json": {
       "model_id": "a6d656061a6c4e50b4447372c38b13ac",
       "version_major": 2,
       "version_minor": 0
      },
      "text/plain": [
       "Dropdown(description='Tone:', layout=Layout(width='70%'), options=('', 'Neutral / Informational', 'Supportive …"
      ]
     },
     "metadata": {},
     "output_type": "display_data"
    },
    {
     "data": {
      "application/vnd.jupyter.widget-view+json": {
       "model_id": "f15a390472d4411292955ff622ad1506",
       "version_major": 2,
       "version_minor": 0
      },
      "text/plain": [
       "HTML(value='<b>Tweet 14</b>: Palermo, ci rivediamo presto.\\nA testa alta. #primalitalia 🇮🇹 https://t.co/b4qY3I…"
      ]
     },
     "metadata": {},
     "output_type": "display_data"
    },
    {
     "data": {
      "application/vnd.jupyter.widget-view+json": {
       "model_id": "cbebd507f5fa4f31a0a570a16583f08f",
       "version_major": 2,
       "version_minor": 0
      },
      "text/plain": [
       "Dropdown(description='Tone:', layout=Layout(width='70%'), options=('', 'Neutral / Informational', 'Supportive …"
      ]
     },
     "metadata": {},
     "output_type": "display_data"
    },
    {
     "data": {
      "application/vnd.jupyter.widget-view+json": {
       "model_id": "a65240b43da1405cb55d61f49b9e10d9",
       "version_major": 2,
       "version_minor": 0
      },
      "text/plain": [
       "HTML(value='<b>Tweet 15</b>: In #Congo bisogna agire con una presenza militare e diplomatica coordinata anche …"
      ]
     },
     "metadata": {},
     "output_type": "display_data"
    },
    {
     "data": {
      "application/vnd.jupyter.widget-view+json": {
       "model_id": "52f5d04d5f9641549136aeaa80ef0eb6",
       "version_major": 2,
       "version_minor": 0
      },
      "text/plain": [
       "Dropdown(description='Tone:', layout=Layout(width='70%'), options=('', 'Neutral / Informational', 'Supportive …"
      ]
     },
     "metadata": {},
     "output_type": "display_data"
    },
    {
     "data": {
      "application/vnd.jupyter.widget-view+json": {
       "model_id": "c131704f70af414d935fc2d6d9c11e76",
       "version_major": 2,
       "version_minor": 0
      },
      "text/plain": [
       "HTML(value='<b>Tweet 16</b>: La moglie di Clinton: “Italiani, non cedete ai populismi e alle ingerenze esterne…"
      ]
     },
     "metadata": {},
     "output_type": "display_data"
    },
    {
     "data": {
      "application/vnd.jupyter.widget-view+json": {
       "model_id": "49d159a0756247fa9a9ad21645785fe9",
       "version_major": 2,
       "version_minor": 0
      },
      "text/plain": [
       "Dropdown(description='Tone:', layout=Layout(width='70%'), options=('', 'Neutral / Informational', 'Supportive …"
      ]
     },
     "metadata": {},
     "output_type": "display_data"
    },
    {
     "data": {
      "application/vnd.jupyter.widget-view+json": {
       "model_id": "7b4fdaf073834ae6b1d6e1fe60640c55",
       "version_major": 2,
       "version_minor": 0
      },
      "text/plain": [
       "HTML(value='<b>Tweet 17</b>: I 5S a Napoli sono passati dal 60% al 10%. Ma possono fare ancora peggio, certo, …"
      ]
     },
     "metadata": {},
     "output_type": "display_data"
    },
    {
     "data": {
      "application/vnd.jupyter.widget-view+json": {
       "model_id": "8568637ecf6f45b6ab7079e73f39781d",
       "version_major": 2,
       "version_minor": 0
      },
      "text/plain": [
       "Dropdown(description='Tone:', layout=Layout(width='70%'), options=('', 'Neutral / Informational', 'Supportive …"
      ]
     },
     "metadata": {},
     "output_type": "display_data"
    },
    {
     "data": {
      "application/vnd.jupyter.widget-view+json": {
       "model_id": "a5684af2a0ed400dbc79f97c6d862c5c",
       "version_major": 2,
       "version_minor": 0
      },
      "text/plain": [
       "HTML(value='<b>Tweet 18</b>: @paolacecconi Come vuoi. Ma tutti i tuoi “Grazie a Presidente” rivolti a Draghi s…"
      ]
     },
     "metadata": {},
     "output_type": "display_data"
    },
    {
     "data": {
      "application/vnd.jupyter.widget-view+json": {
       "model_id": "aa62da5c1c8c49d3923e94e96e80edd8",
       "version_major": 2,
       "version_minor": 0
      },
      "text/plain": [
       "Dropdown(description='Tone:', layout=Layout(width='70%'), options=('', 'Neutral / Informational', 'Supportive …"
      ]
     },
     "metadata": {},
     "output_type": "display_data"
    },
    {
     "data": {
      "application/vnd.jupyter.widget-view+json": {
       "model_id": "19a858e03d5540d0ab336658f8c4b4e4",
       "version_major": 2,
       "version_minor": 0
      },
      "text/plain": [
       "HTML(value='<b>Tweet 19</b>: Per una volta sono d’accordo con Calenda. https://t.co/8N2JS3zF6h')"
      ]
     },
     "metadata": {},
     "output_type": "display_data"
    },
    {
     "data": {
      "application/vnd.jupyter.widget-view+json": {
       "model_id": "6c53f295eb4648c99bcf8f8b74ba182f",
       "version_major": 2,
       "version_minor": 0
      },
      "text/plain": [
       "Dropdown(description='Tone:', layout=Layout(width='70%'), options=('', 'Neutral / Informational', 'Supportive …"
      ]
     },
     "metadata": {},
     "output_type": "display_data"
    },
    {
     "data": {
      "application/vnd.jupyter.widget-view+json": {
       "model_id": "2f1aea7cfbed4a8faee1f444ee0b3bf7",
       "version_major": 2,
       "version_minor": 0
      },
      "text/plain": [
       "HTML(value=\"<b>Tweet 20</b>: ...rimborsi sui conti correnti a tutte le attività economiche chiuse seguendo l'e…"
      ]
     },
     "metadata": {},
     "output_type": "display_data"
    },
    {
     "data": {
      "application/vnd.jupyter.widget-view+json": {
       "model_id": "bb3ca231139042e9bddd521d34f34b30",
       "version_major": 2,
       "version_minor": 0
      },
      "text/plain": [
       "Dropdown(description='Tone:', layout=Layout(width='70%'), options=('', 'Neutral / Informational', 'Supportive …"
      ]
     },
     "metadata": {},
     "output_type": "display_data"
    },
    {
     "data": {
      "application/vnd.jupyter.widget-view+json": {
       "model_id": "d7077170561a42c99f67ac81d66aa831",
       "version_major": 2,
       "version_minor": 0
      },
      "text/plain": [
       "HTML(value='<b>Tweet 21</b>: Il 25 settembre #IoVotoPiùEuropa\\nhttps://t.co/vCIWyLpzwV')"
      ]
     },
     "metadata": {},
     "output_type": "display_data"
    },
    {
     "data": {
      "application/vnd.jupyter.widget-view+json": {
       "model_id": "a4a0c0f91b3e4aa08338fb3594afb11c",
       "version_major": 2,
       "version_minor": 0
      },
      "text/plain": [
       "Dropdown(description='Tone:', layout=Layout(width='70%'), options=('', 'Neutral / Informational', 'Supportive …"
      ]
     },
     "metadata": {},
     "output_type": "display_data"
    },
    {
     "data": {
      "application/vnd.jupyter.widget-view+json": {
       "model_id": "3805261f7a3f47b6b986b77616d4d89d",
       "version_major": 2,
       "version_minor": 0
      },
      "text/plain": [
       "HTML(value='<b>Tweet 22</b>: «Ero paralizzata. (...) ci ha salvato mio padre perché ha messo a rischio la sua …"
      ]
     },
     "metadata": {},
     "output_type": "display_data"
    },
    {
     "data": {
      "application/vnd.jupyter.widget-view+json": {
       "model_id": "7b27e9f45cc74e4b9ae2433db37adcb3",
       "version_major": 2,
       "version_minor": 0
      },
      "text/plain": [
       "Dropdown(description='Tone:', layout=Layout(width='70%'), options=('', 'Neutral / Informational', 'Supportive …"
      ]
     },
     "metadata": {},
     "output_type": "display_data"
    },
    {
     "data": {
      "application/vnd.jupyter.widget-view+json": {
       "model_id": "101eb10236d44a86b64d64e1a2cdc69f",
       "version_major": 2,
       "version_minor": 0
      },
      "text/plain": [
       "HTML(value='<b>Tweet 23</b>: Il 29 giugno la Corte d’Appello di Parigi ha negato l’estradizione di 10 ex terro…"
      ]
     },
     "metadata": {},
     "output_type": "display_data"
    },
    {
     "data": {
      "application/vnd.jupyter.widget-view+json": {
       "model_id": "af4079fc6a724e7bb1063ef720f56c4b",
       "version_major": 2,
       "version_minor": 0
      },
      "text/plain": [
       "Dropdown(description='Tone:', layout=Layout(width='70%'), options=('', 'Neutral / Informational', 'Supportive …"
      ]
     },
     "metadata": {},
     "output_type": "display_data"
    },
    {
     "data": {
      "application/vnd.jupyter.widget-view+json": {
       "model_id": "29830cd3782d4461a0d4f8effe7ebd35",
       "version_major": 2,
       "version_minor": 0
      },
      "text/plain": [
       "HTML(value='<b>Tweet 24</b>: Leggere per credere il documento del @MinisteroSalute , pagina 94, codice 10:\\nht…"
      ]
     },
     "metadata": {},
     "output_type": "display_data"
    },
    {
     "data": {
      "application/vnd.jupyter.widget-view+json": {
       "model_id": "6542ed9688044e0481adab49e5ee91d4",
       "version_major": 2,
       "version_minor": 0
      },
      "text/plain": [
       "Dropdown(description='Tone:', layout=Layout(width='70%'), options=('', 'Neutral / Informational', 'Supportive …"
      ]
     },
     "metadata": {},
     "output_type": "display_data"
    },
    {
     "data": {
      "application/vnd.jupyter.widget-view+json": {
       "model_id": "f9c5e5d828294ecf8bb671245f16fd93",
       "version_major": 2,
       "version_minor": 0
      },
      "text/plain": [
       "HTML(value='<b>Tweet 25</b>: Sin da subito, @forza_italia  sta imprimendo una forte spinta a questo Esecutivo,…"
      ]
     },
     "metadata": {},
     "output_type": "display_data"
    },
    {
     "data": {
      "application/vnd.jupyter.widget-view+json": {
       "model_id": "c4bece85d3494ed6bfbc8f741590747f",
       "version_major": 2,
       "version_minor": 0
      },
      "text/plain": [
       "Dropdown(description='Tone:', layout=Layout(width='70%'), options=('', 'Neutral / Informational', 'Supportive …"
      ]
     },
     "metadata": {},
     "output_type": "display_data"
    },
    {
     "data": {
      "application/vnd.jupyter.widget-view+json": {
       "model_id": "515a1dfe23b44c98996eb8fec0da7983",
       "version_major": 2,
       "version_minor": 0
      },
      "text/plain": [
       "HTML(value='<b>Tweet 26</b>: 2018. Questo scrivevo in Orizzonti selvaggi. Era abbastanza chiaro a cosa andavam…"
      ]
     },
     "metadata": {},
     "output_type": "display_data"
    },
    {
     "data": {
      "application/vnd.jupyter.widget-view+json": {
       "model_id": "caebe38ef0f04f44b9306fe914e669ae",
       "version_major": 2,
       "version_minor": 0
      },
      "text/plain": [
       "Dropdown(description='Tone:', layout=Layout(width='70%'), options=('', 'Neutral / Informational', 'Supportive …"
      ]
     },
     "metadata": {},
     "output_type": "display_data"
    },
    {
     "data": {
      "application/vnd.jupyter.widget-view+json": {
       "model_id": "a89795f3858e4ecb8599c7317582d7ac",
       "version_major": 2,
       "version_minor": 0
      },
      "text/plain": [
       "HTML(value='<b>Tweet 27</b>: La scomparsa di Regeni, 5 anni fa, e la detenzione egiziana di Zaki mostrano lo s…"
      ]
     },
     "metadata": {},
     "output_type": "display_data"
    },
    {
     "data": {
      "application/vnd.jupyter.widget-view+json": {
       "model_id": "2aacb1876f04464dbfab8a5f3a95c4f1",
       "version_major": 2,
       "version_minor": 0
      },
      "text/plain": [
       "Dropdown(description='Tone:', layout=Layout(width='70%'), options=('', 'Neutral / Informational', 'Supportive …"
      ]
     },
     "metadata": {},
     "output_type": "display_data"
    },
    {
     "data": {
      "application/vnd.jupyter.widget-view+json": {
       "model_id": "a3a871c012784271be10b373edf0652b",
       "version_major": 2,
       "version_minor": 0
      },
      "text/plain": [
       "HTML(value='<b>Tweet 28</b>: Letta ha detto che si ritira se perde alle elezioni suppletive della Camera a Sie…"
      ]
     },
     "metadata": {},
     "output_type": "display_data"
    },
    {
     "data": {
      "application/vnd.jupyter.widget-view+json": {
       "model_id": "351f5b997df142b7a138011be08de776",
       "version_major": 2,
       "version_minor": 0
      },
      "text/plain": [
       "Dropdown(description='Tone:', layout=Layout(width='70%'), options=('', 'Neutral / Informational', 'Supportive …"
      ]
     },
     "metadata": {},
     "output_type": "display_data"
    },
    {
     "data": {
      "application/vnd.jupyter.widget-view+json": {
       "model_id": "1f53c2f646f64ea5947b3031464b5dee",
       "version_major": 2,
       "version_minor": 0
      },
      "text/plain": [
       "HTML(value='<b>Tweet 29</b>: Qualcosa non ha funzionato: mascherine, ventilatori cinesi, banchi a rotelle, doc…"
      ]
     },
     "metadata": {},
     "output_type": "display_data"
    },
    {
     "data": {
      "application/vnd.jupyter.widget-view+json": {
       "model_id": "2970f1ab69d64eb7bfff9722a7954166",
       "version_major": 2,
       "version_minor": 0
      },
      "text/plain": [
       "Dropdown(description='Tone:', layout=Layout(width='70%'), options=('', 'Neutral / Informational', 'Supportive …"
      ]
     },
     "metadata": {},
     "output_type": "display_data"
    },
    {
     "data": {
      "application/vnd.jupyter.widget-view+json": {
       "model_id": "2d7f3ce9a6f248fe937de7c98cea4b4a",
       "version_major": 2,
       "version_minor": 0
      },
      "text/plain": [
       "HTML(value='<b>Tweet 30</b>: #Salvini: se la stagione di Conte e Casalino è stata archiviata è stato anche gra…"
      ]
     },
     "metadata": {},
     "output_type": "display_data"
    },
    {
     "data": {
      "application/vnd.jupyter.widget-view+json": {
       "model_id": "ae3a1b9837d349bc90e67ec6a2447f86",
       "version_major": 2,
       "version_minor": 0
      },
      "text/plain": [
       "Dropdown(description='Tone:', layout=Layout(width='70%'), options=('', 'Neutral / Informational', 'Supportive …"
      ]
     },
     "metadata": {},
     "output_type": "display_data"
    },
    {
     "data": {
      "application/vnd.jupyter.widget-view+json": {
       "model_id": "45061abea2c54a439d0724d50bc6e30d",
       "version_major": 2,
       "version_minor": 0
      },
      "text/plain": [
       "HTML(value='<b>Tweet 31</b>: Fare politica è un dovere morale e non farla è immorale perché è nel farla che si…"
      ]
     },
     "metadata": {},
     "output_type": "display_data"
    },
    {
     "data": {
      "application/vnd.jupyter.widget-view+json": {
       "model_id": "d9bd485d0f464741a76581f5fd06db08",
       "version_major": 2,
       "version_minor": 0
      },
      "text/plain": [
       "Dropdown(description='Tone:', layout=Layout(width='70%'), options=('', 'Neutral / Informational', 'Supportive …"
      ]
     },
     "metadata": {},
     "output_type": "display_data"
    },
    {
     "data": {
      "application/vnd.jupyter.widget-view+json": {
       "model_id": "bf4a0717ea0f4822a2cf092fc9301160",
       "version_major": 2,
       "version_minor": 0
      },
      "text/plain": [
       "HTML(value='<b>Tweet 32</b>: @veighp Documento su sito @Azione_it e rapporto su politica industriale al Parlam…"
      ]
     },
     "metadata": {},
     "output_type": "display_data"
    },
    {
     "data": {
      "application/vnd.jupyter.widget-view+json": {
       "model_id": "de081f3260bb4719b49be753868d85bf",
       "version_major": 2,
       "version_minor": 0
      },
      "text/plain": [
       "Dropdown(description='Tone:', layout=Layout(width='70%'), options=('', 'Neutral / Informational', 'Supportive …"
      ]
     },
     "metadata": {},
     "output_type": "display_data"
    },
    {
     "data": {
      "application/vnd.jupyter.widget-view+json": {
       "model_id": "b30fd78bd2fd4957a7d9ebc10a442e4b",
       "version_major": 2,
       "version_minor": 0
      },
      "text/plain": [
       "HTML(value='<b>Tweet 33</b>: Il modo migliore per ricordare Roberto Maroni è dire la verità: al di là delle di…"
      ]
     },
     "metadata": {},
     "output_type": "display_data"
    },
    {
     "data": {
      "application/vnd.jupyter.widget-view+json": {
       "model_id": "af161bb0eda44b01872f1cfe7c79485e",
       "version_major": 2,
       "version_minor": 0
      },
      "text/plain": [
       "Dropdown(description='Tone:', layout=Layout(width='70%'), options=('', 'Neutral / Informational', 'Supportive …"
      ]
     },
     "metadata": {},
     "output_type": "display_data"
    },
    {
     "data": {
      "application/vnd.jupyter.widget-view+json": {
       "model_id": "3a900800859a46c68f2f865aff314534",
       "version_major": 2,
       "version_minor": 0
      },
      "text/plain": [
       "HTML(value='<b>Tweet 34</b>: Richiesta internazionale per aumentare #spesemilitari ?\\nCi sono tantissimi altri…"
      ]
     },
     "metadata": {},
     "output_type": "display_data"
    },
    {
     "data": {
      "application/vnd.jupyter.widget-view+json": {
       "model_id": "13236b17640b4a029493a992aa4c7591",
       "version_major": 2,
       "version_minor": 0
      },
      "text/plain": [
       "Dropdown(description='Tone:', layout=Layout(width='70%'), options=('', 'Neutral / Informational', 'Supportive …"
      ]
     },
     "metadata": {},
     "output_type": "display_data"
    },
    {
     "data": {
      "application/vnd.jupyter.widget-view+json": {
       "model_id": "e865fca3e6c34ca38341e511fff8ec35",
       "version_major": 2,
       "version_minor": 0
      },
      "text/plain": [
       "HTML(value='<b>Tweet 35</b>: @noiconlitalia_ non ha dubbi da che parte stare: aiutare l’#Ucraina vuol dire aiu…"
      ]
     },
     "metadata": {},
     "output_type": "display_data"
    },
    {
     "data": {
      "application/vnd.jupyter.widget-view+json": {
       "model_id": "34df8fccc685472ca571e789c7007b66",
       "version_major": 2,
       "version_minor": 0
      },
      "text/plain": [
       "Dropdown(description='Tone:', layout=Layout(width='70%'), options=('', 'Neutral / Informational', 'Supportive …"
      ]
     },
     "metadata": {},
     "output_type": "display_data"
    },
    {
     "data": {
      "application/vnd.jupyter.widget-view+json": {
       "model_id": "f7372313859e40d3a44c628f98fcc983",
       "version_major": 2,
       "version_minor": 0
      },
      "text/plain": [
       "HTML(value='<b>Tweet 36</b>: Per mia curiosità personale hai rivolto la stessa domanda a Speranza?')"
      ]
     },
     "metadata": {},
     "output_type": "display_data"
    },
    {
     "data": {
      "application/vnd.jupyter.widget-view+json": {
       "model_id": "3fc43d35ff6c4708a9d0c9f826c2f1a4",
       "version_major": 2,
       "version_minor": 0
      },
      "text/plain": [
       "Dropdown(description='Tone:', layout=Layout(width='70%'), options=('', 'Neutral / Informational', 'Supportive …"
      ]
     },
     "metadata": {},
     "output_type": "display_data"
    },
    {
     "data": {
      "application/vnd.jupyter.widget-view+json": {
       "model_id": "36df5d7a639e404a8e9995773d89714e",
       "version_major": 2,
       "version_minor": 0
      },
      "text/plain": [
       "HTML(value='<b>Tweet 37</b>: Aiutiamo #Draghi a implementare subito il  piano sulla riduzione dei costi energe…"
      ]
     },
     "metadata": {},
     "output_type": "display_data"
    },
    {
     "data": {
      "application/vnd.jupyter.widget-view+json": {
       "model_id": "6dd0a7d2cddf4765b068b72c3979f375",
       "version_major": 2,
       "version_minor": 0
      },
      "text/plain": [
       "Dropdown(description='Tone:', layout=Layout(width='70%'), options=('', 'Neutral / Informational', 'Supportive …"
      ]
     },
     "metadata": {},
     "output_type": "display_data"
    },
    {
     "data": {
      "application/vnd.jupyter.widget-view+json": {
       "model_id": "98e6babcbf164021a7cb47f6a0b5e723",
       "version_major": 2,
       "version_minor": 0
      },
      "text/plain": [
       "HTML(value='<b>Tweet 38</b>: .@gualtierieurope bene che finalmente, dopo il mio intervento, ti occupi di musei…"
      ]
     },
     "metadata": {},
     "output_type": "display_data"
    },
    {
     "data": {
      "application/vnd.jupyter.widget-view+json": {
       "model_id": "6f26345134d94c7f900959663a0ea234",
       "version_major": 2,
       "version_minor": 0
      },
      "text/plain": [
       "Dropdown(description='Tone:', layout=Layout(width='70%'), options=('', 'Neutral / Informational', 'Supportive …"
      ]
     },
     "metadata": {},
     "output_type": "display_data"
    },
    {
     "data": {
      "application/vnd.jupyter.widget-view+json": {
       "model_id": "014cc7b0b32a4df4aedb1d48c4226313",
       "version_major": 2,
       "version_minor": 0
      },
      "text/plain": [
       "HTML(value='<b>Tweet 39</b>: In questo momento la priorità sono i vaccini, punto. Mesi fa avevo chiesto un pia…"
      ]
     },
     "metadata": {},
     "output_type": "display_data"
    },
    {
     "data": {
      "application/vnd.jupyter.widget-view+json": {
       "model_id": "e760bba4e518403bafa671d623b10a93",
       "version_major": 2,
       "version_minor": 0
      },
      "text/plain": [
       "Dropdown(description='Tone:', layout=Layout(width='70%'), options=('', 'Neutral / Informational', 'Supportive …"
      ]
     },
     "metadata": {},
     "output_type": "display_data"
    },
    {
     "data": {
      "application/vnd.jupyter.widget-view+json": {
       "model_id": "b7e29bc7031b4a14a8517b3b0c29ee63",
       "version_major": 2,
       "version_minor": 0
      },
      "text/plain": [
       "HTML(value='<b>Tweet 40</b>: Io sono per il #votoai16enni. Partecipo ad assemblea con gli studenti del Liceo D…"
      ]
     },
     "metadata": {},
     "output_type": "display_data"
    },
    {
     "data": {
      "application/vnd.jupyter.widget-view+json": {
       "model_id": "8be6dce3aaa4405389369fcc4f3d33aa",
       "version_major": 2,
       "version_minor": 0
      },
      "text/plain": [
       "Dropdown(description='Tone:', layout=Layout(width='70%'), options=('', 'Neutral / Informational', 'Supportive …"
      ]
     },
     "metadata": {},
     "output_type": "display_data"
    },
    {
     "data": {
      "application/vnd.jupyter.widget-view+json": {
       "model_id": "19fcc308ac464e6eb73eefaedb7e3354",
       "version_major": 2,
       "version_minor": 0
      },
      "text/plain": [
       "HTML(value='<b>Tweet 41</b>: @nnamobbene No siete tutti coltissimi. A patto di non presumere che non lo siano …"
      ]
     },
     "metadata": {},
     "output_type": "display_data"
    },
    {
     "data": {
      "application/vnd.jupyter.widget-view+json": {
       "model_id": "a1e7e8d9144a4d378a2ed8fda3f71280",
       "version_major": 2,
       "version_minor": 0
      },
      "text/plain": [
       "Dropdown(description='Tone:', layout=Layout(width='70%'), options=('', 'Neutral / Informational', 'Supportive …"
      ]
     },
     "metadata": {},
     "output_type": "display_data"
    },
    {
     "data": {
      "application/vnd.jupyter.widget-view+json": {
       "model_id": "dc745a731b9d440f8c33fc79668432b5",
       "version_major": 2,
       "version_minor": 0
      },
      "text/plain": [
       "HTML(value='<b>Tweet 42</b>: Non ho ben capito quando avresti dimostrato una qualsiasi capacità di Governo. Co…"
      ]
     },
     "metadata": {},
     "output_type": "display_data"
    },
    {
     "data": {
      "application/vnd.jupyter.widget-view+json": {
       "model_id": "dab31aceaefe4e8aadb6cab434150e56",
       "version_major": 2,
       "version_minor": 0
      },
      "text/plain": [
       "Dropdown(description='Tone:', layout=Layout(width='70%'), options=('', 'Neutral / Informational', 'Supportive …"
      ]
     },
     "metadata": {},
     "output_type": "display_data"
    },
    {
     "data": {
      "application/vnd.jupyter.widget-view+json": {
       "model_id": "b70369abd3ee4ddf87fccc03fb2a162a",
       "version_major": 2,
       "version_minor": 0
      },
      "text/plain": [
       "HTML(value='<b>Tweet 43</b>: Ottimi presupposti della Lamorgese sul fronte immigrazione 🤦🏼\\u200d♀️ https://t.c…"
      ]
     },
     "metadata": {},
     "output_type": "display_data"
    },
    {
     "data": {
      "application/vnd.jupyter.widget-view+json": {
       "model_id": "4bd274a2c15c4f0cb37ec22a564cb775",
       "version_major": 2,
       "version_minor": 0
      },
      "text/plain": [
       "Dropdown(description='Tone:', layout=Layout(width='70%'), options=('', 'Neutral / Informational', 'Supportive …"
      ]
     },
     "metadata": {},
     "output_type": "display_data"
    },
    {
     "data": {
      "application/vnd.jupyter.widget-view+json": {
       "model_id": "d1bee0c4b4164b1eb2d824abfa3d19b9",
       "version_major": 2,
       "version_minor": 0
      },
      "text/plain": [
       "HTML(value='<b>Tweet 44</b>: Essendo stato per cinque anni in tre consigli EU su Commercio, Competitività ed E…"
      ]
     },
     "metadata": {},
     "output_type": "display_data"
    },
    {
     "data": {
      "application/vnd.jupyter.widget-view+json": {
       "model_id": "aaad2d0c344541439ba57f5fc56d95c4",
       "version_major": 2,
       "version_minor": 0
      },
      "text/plain": [
       "Dropdown(description='Tone:', layout=Layout(width='70%'), options=('', 'Neutral / Informational', 'Supportive …"
      ]
     },
     "metadata": {},
     "output_type": "display_data"
    },
    {
     "data": {
      "application/vnd.jupyter.widget-view+json": {
       "model_id": "f0c08f4da9c7441aaeada78b1b73a058",
       "version_major": 2,
       "version_minor": 0
      },
      "text/plain": [
       "HTML(value=\"<b>Tweet 45</b>: Paderno Dugnano, all'inaugurazione del prolungamento della Tangenziale Nord di Mi…"
      ]
     },
     "metadata": {},
     "output_type": "display_data"
    },
    {
     "data": {
      "application/vnd.jupyter.widget-view+json": {
       "model_id": "b3dc3d4436974acba4c009380c1e7780",
       "version_major": 2,
       "version_minor": 0
      },
      "text/plain": [
       "Dropdown(description='Tone:', layout=Layout(width='70%'), options=('', 'Neutral / Informational', 'Supportive …"
      ]
     },
     "metadata": {},
     "output_type": "display_data"
    },
    {
     "data": {
      "application/vnd.jupyter.widget-view+json": {
       "model_id": "68aad71d9af14f5d8549e2d129a08c26",
       "version_major": 2,
       "version_minor": 0
      },
      "text/plain": [
       "HTML(value='<b>Tweet 46</b>: Con @BeppeSala e @YoramGutgeld abbiamo esperienze diverse. Ma condividiamo un pri…"
      ]
     },
     "metadata": {},
     "output_type": "display_data"
    },
    {
     "data": {
      "application/vnd.jupyter.widget-view+json": {
       "model_id": "e2151029113c4e5a82bea9d58f539b12",
       "version_major": 2,
       "version_minor": 0
      },
      "text/plain": [
       "Dropdown(description='Tone:', layout=Layout(width='70%'), options=('', 'Neutral / Informational', 'Supportive …"
      ]
     },
     "metadata": {},
     "output_type": "display_data"
    },
    {
     "data": {
      "application/vnd.jupyter.widget-view+json": {
       "model_id": "27169f43bc4a43c3bb205839d8a9f93b",
       "version_major": 2,
       "version_minor": 0
      },
      "text/plain": [
       "HTML(value='<b>Tweet 47</b>: Per quanto ci riguarda, nel futuro dell’Italia e dell’Occidente non c’è spazio pe…"
      ]
     },
     "metadata": {},
     "output_type": "display_data"
    },
    {
     "data": {
      "application/vnd.jupyter.widget-view+json": {
       "model_id": "a56b53c1b23d4e22ae854cbe3ecc5537",
       "version_major": 2,
       "version_minor": 0
      },
      "text/plain": [
       "Dropdown(description='Tone:', layout=Layout(width='70%'), options=('', 'Neutral / Informational', 'Supportive …"
      ]
     },
     "metadata": {},
     "output_type": "display_data"
    },
    {
     "data": {
      "application/vnd.jupyter.widget-view+json": {
       "model_id": "8d586085be1042339cca5726efb71937",
       "version_major": 2,
       "version_minor": 0
      },
      "text/plain": [
       "HTML(value='<b>Tweet 48</b>: Sottoscrivo, e non vedo l’ora di votare 5 SÌ per cambiare la Giustizia italiana d…"
      ]
     },
     "metadata": {},
     "output_type": "display_data"
    },
    {
     "data": {
      "application/vnd.jupyter.widget-view+json": {
       "model_id": "679bfa6f433d476890069e4ac318ff7b",
       "version_major": 2,
       "version_minor": 0
      },
      "text/plain": [
       "Dropdown(description='Tone:', layout=Layout(width='70%'), options=('', 'Neutral / Informational', 'Supportive …"
      ]
     },
     "metadata": {},
     "output_type": "display_data"
    },
    {
     "data": {
      "application/vnd.jupyter.widget-view+json": {
       "model_id": "b6677d857cb549108b4ca73d14ed6948",
       "version_major": 2,
       "version_minor": 0
      },
      "text/plain": [
       "HTML(value='<b>Tweet 49</b>: La mia solidarietà a #Orban e agli amici ungheresi. Senza #Fidesz il PPE sarà anc…"
      ]
     },
     "metadata": {},
     "output_type": "display_data"
    },
    {
     "data": {
      "application/vnd.jupyter.widget-view+json": {
       "model_id": "4ce7f5e34fcd43258421080e21c298d7",
       "version_major": 2,
       "version_minor": 0
      },
      "text/plain": [
       "Dropdown(description='Tone:', layout=Layout(width='70%'), options=('', 'Neutral / Informational', 'Supportive …"
      ]
     },
     "metadata": {},
     "output_type": "display_data"
    },
    {
     "data": {
      "application/vnd.jupyter.widget-view+json": {
       "model_id": "a3399146a0e140b393842cf929d2f509",
       "version_major": 2,
       "version_minor": 0
      },
      "text/plain": [
       "HTML(value=\"<b>Tweet 50</b>: Non mi sono pentita affatto di aver sostenuto all'epoca la missione in Afghanista…"
      ]
     },
     "metadata": {},
     "output_type": "display_data"
    },
    {
     "data": {
      "application/vnd.jupyter.widget-view+json": {
       "model_id": "e45926e4a12d45399aa297fbed16b578",
       "version_major": 2,
       "version_minor": 0
      },
      "text/plain": [
       "Dropdown(description='Tone:', layout=Layout(width='70%'), options=('', 'Neutral / Informational', 'Supportive …"
      ]
     },
     "metadata": {},
     "output_type": "display_data"
    },
    {
     "data": {
      "application/vnd.jupyter.widget-view+json": {
       "model_id": "539906bead264fb89bd4b13763deda9b",
       "version_major": 2,
       "version_minor": 0
      },
      "text/plain": [
       "HTML(value='<b>Tweet 51</b>: @giallideilimoni Verifica le competenze attribuite alla Regione che impattano sul…"
      ]
     },
     "metadata": {},
     "output_type": "display_data"
    },
    {
     "data": {
      "application/vnd.jupyter.widget-view+json": {
       "model_id": "5b7060825bbc4a168e043fe186f0fc35",
       "version_major": 2,
       "version_minor": 0
      },
      "text/plain": [
       "Dropdown(description='Tone:', layout=Layout(width='70%'), options=('', 'Neutral / Informational', 'Supportive …"
      ]
     },
     "metadata": {},
     "output_type": "display_data"
    },
    {
     "data": {
      "application/vnd.jupyter.widget-view+json": {
       "model_id": "16b33825ffff4162ab8fa13b778412d4",
       "version_major": 2,
       "version_minor": 0
      },
      "text/plain": [
       "HTML(value='<b>Tweet 52</b>: Ripetere quello che gli elettori vogliono sentirsi dire, questa è la strategia po…"
      ]
     },
     "metadata": {},
     "output_type": "display_data"
    },
    {
     "data": {
      "application/vnd.jupyter.widget-view+json": {
       "model_id": "98b5ee8a0d344296945cf9fc92e4a0d1",
       "version_major": 2,
       "version_minor": 0
      },
      "text/plain": [
       "Dropdown(description='Tone:', layout=Layout(width='70%'), options=('', 'Neutral / Informational', 'Supportive …"
      ]
     },
     "metadata": {},
     "output_type": "display_data"
    },
    {
     "data": {
      "application/vnd.jupyter.widget-view+json": {
       "model_id": "a792aa9ef9e542d7a18ae933d8abc2fd",
       "version_major": 2,
       "version_minor": 0
      },
      "text/plain": [
       "HTML(value=\"<b>Tweet 53</b>: #Kazakistan Un bilancio sempre più drammatico per le rivolte del gas. 12 poliziot…"
      ]
     },
     "metadata": {},
     "output_type": "display_data"
    },
    {
     "data": {
      "application/vnd.jupyter.widget-view+json": {
       "model_id": "f54538280b7241c7b1791f738ed97687",
       "version_major": 2,
       "version_minor": 0
      },
      "text/plain": [
       "Dropdown(description='Tone:', layout=Layout(width='70%'), options=('', 'Neutral / Informational', 'Supportive …"
      ]
     },
     "metadata": {},
     "output_type": "display_data"
    },
    {
     "data": {
      "application/vnd.jupyter.widget-view+json": {
       "model_id": "fe5bfd76457e44e1b8b93fe67e39eebb",
       "version_major": 2,
       "version_minor": 0
      },
      "text/plain": [
       "HTML(value='<b>Tweet 54</b>: Gli ultimi dati ci dicono che l’#export italiano è aumentato, è il momento di acc…"
      ]
     },
     "metadata": {},
     "output_type": "display_data"
    },
    {
     "data": {
      "application/vnd.jupyter.widget-view+json": {
       "model_id": "b79ec8ca7eaf48f4bd90984a2357b35a",
       "version_major": 2,
       "version_minor": 0
      },
      "text/plain": [
       "Dropdown(description='Tone:', layout=Layout(width='70%'), options=('', 'Neutral / Informational', 'Supportive …"
      ]
     },
     "metadata": {},
     "output_type": "display_data"
    },
    {
     "data": {
      "application/vnd.jupyter.widget-view+json": {
       "model_id": "b433ca0468724590a5c3c89cc0d8af10",
       "version_major": 2,
       "version_minor": 0
      },
      "text/plain": [
       "HTML(value='<b>Tweet 55</b>: Perché se avessimo seguito questa linea Putin sarebbe a Kiev. E voi avreste la pa…"
      ]
     },
     "metadata": {},
     "output_type": "display_data"
    },
    {
     "data": {
      "application/vnd.jupyter.widget-view+json": {
       "model_id": "cc08099a83d9483da4019e4608afa6f5",
       "version_major": 2,
       "version_minor": 0
      },
      "text/plain": [
       "Dropdown(description='Tone:', layout=Layout(width='70%'), options=('', 'Neutral / Informational', 'Supportive …"
      ]
     },
     "metadata": {},
     "output_type": "display_data"
    },
    {
     "data": {
      "application/vnd.jupyter.widget-view+json": {
       "model_id": "8ccab55fa695471f8f47f01ce81a9512",
       "version_major": 2,
       "version_minor": 0
      },
      "text/plain": [
       "HTML(value='<b>Tweet 56</b>: Onore a questo imprenditore👏🏻👏🏻 https://t.co/fvbHgGhpKT')"
      ]
     },
     "metadata": {},
     "output_type": "display_data"
    },
    {
     "data": {
      "application/vnd.jupyter.widget-view+json": {
       "model_id": "b65e110b18d14287bd5e66eabb99ea7d",
       "version_major": 2,
       "version_minor": 0
      },
      "text/plain": [
       "Dropdown(description='Tone:', layout=Layout(width='70%'), options=('', 'Neutral / Informational', 'Supportive …"
      ]
     },
     "metadata": {},
     "output_type": "display_data"
    },
    {
     "data": {
      "application/vnd.jupyter.widget-view+json": {
       "model_id": "8df688ea28434b638c8377396ff5c0ad",
       "version_major": 2,
       "version_minor": 0
      },
      "text/plain": [
       "HTML(value='<b>Tweet 57</b>: Una preghiera per il reporter americano Brent Renaud, assassinato dalle forze rus…"
      ]
     },
     "metadata": {},
     "output_type": "display_data"
    },
    {
     "data": {
      "application/vnd.jupyter.widget-view+json": {
       "model_id": "e1e2294e6d1743ac83fb347d3f375890",
       "version_major": 2,
       "version_minor": 0
      },
      "text/plain": [
       "Dropdown(description='Tone:', layout=Layout(width='70%'), options=('', 'Neutral / Informational', 'Supportive …"
      ]
     },
     "metadata": {},
     "output_type": "display_data"
    },
    {
     "data": {
      "application/vnd.jupyter.widget-view+json": {
       "model_id": "c3e473cbebc24587aba180decf98df0b",
       "version_major": 2,
       "version_minor": 0
      },
      "text/plain": [
       "HTML(value=\"<b>Tweet 58</b>: - Mondadori Edizioni Piemme: https://t.co/PQOQA9Flg0\\nLavoriamo per un'Italia che…"
      ]
     },
     "metadata": {},
     "output_type": "display_data"
    },
    {
     "data": {
      "application/vnd.jupyter.widget-view+json": {
       "model_id": "4e05d2e5a0de4e959c657e667040bbf6",
       "version_major": 2,
       "version_minor": 0
      },
      "text/plain": [
       "Dropdown(description='Tone:', layout=Layout(width='70%'), options=('', 'Neutral / Informational', 'Supportive …"
      ]
     },
     "metadata": {},
     "output_type": "display_data"
    },
    {
     "data": {
      "application/vnd.jupyter.widget-view+json": {
       "model_id": "69e3aff22cc8439fa9e44f60b2ee0987",
       "version_major": 2,
       "version_minor": 0
      },
      "text/plain": [
       "HTML(value='<b>Tweet 59</b>: Belle le immagini di Milano con La Scala che applaude il Presidente Mattarella. S…"
      ]
     },
     "metadata": {},
     "output_type": "display_data"
    },
    {
     "data": {
      "application/vnd.jupyter.widget-view+json": {
       "model_id": "43f491cbf0754955a8ae68a7b995f671",
       "version_major": 2,
       "version_minor": 0
      },
      "text/plain": [
       "Dropdown(description='Tone:', layout=Layout(width='70%'), options=('', 'Neutral / Informational', 'Supportive …"
      ]
     },
     "metadata": {},
     "output_type": "display_data"
    },
    {
     "data": {
      "application/vnd.jupyter.widget-view+json": {
       "model_id": "80df9ba1eddc44bea2701fad435f058b",
       "version_major": 2,
       "version_minor": 0
      },
      "text/plain": [
       "HTML(value='<b>Tweet 60</b>: Buonasera Amici, qui Le Castella di Isola di Capo Rizzuto (Crotone). Prosegue la …"
      ]
     },
     "metadata": {},
     "output_type": "display_data"
    },
    {
     "data": {
      "application/vnd.jupyter.widget-view+json": {
       "model_id": "bca49fe5dd1d4b769156240ab9b98423",
       "version_major": 2,
       "version_minor": 0
      },
      "text/plain": [
       "Dropdown(description='Tone:', layout=Layout(width='70%'), options=('', 'Neutral / Informational', 'Supportive …"
      ]
     },
     "metadata": {},
     "output_type": "display_data"
    },
    {
     "data": {
      "application/vnd.jupyter.widget-view+json": {
       "model_id": "f3b1354f08c14c1bb5bc42077178ce16",
       "version_major": 2,
       "version_minor": 0
      },
      "text/plain": [
       "HTML(value='<b>Tweet 61</b>: La mia intervista al #Tg2.\\n\\n#5gennaio #Governo #RecoveryPlan #centrodestra http…"
      ]
     },
     "metadata": {},
     "output_type": "display_data"
    },
    {
     "data": {
      "application/vnd.jupyter.widget-view+json": {
       "model_id": "5f337c60fd894fb1b0861f1256bd45cd",
       "version_major": 2,
       "version_minor": 0
      },
      "text/plain": [
       "Dropdown(description='Tone:', layout=Layout(width='70%'), options=('', 'Neutral / Informational', 'Supportive …"
      ]
     },
     "metadata": {},
     "output_type": "display_data"
    },
    {
     "data": {
      "application/vnd.jupyter.widget-view+json": {
       "model_id": "9bb0362f32044825ac00624d9202033d",
       "version_major": 2,
       "version_minor": 0
      },
      "text/plain": [
       "HTML(value='<b>Tweet 62</b>: I fatti in politica contano sempre. \\n\\nIl servizio del TG4. https://t.co/SRgMCnX…"
      ]
     },
     "metadata": {},
     "output_type": "display_data"
    },
    {
     "data": {
      "application/vnd.jupyter.widget-view+json": {
       "model_id": "2acbd5fa389a45d4ba1657eab1115627",
       "version_major": 2,
       "version_minor": 0
      },
      "text/plain": [
       "Dropdown(description='Tone:', layout=Layout(width='70%'), options=('', 'Neutral / Informational', 'Supportive …"
      ]
     },
     "metadata": {},
     "output_type": "display_data"
    },
    {
     "data": {
      "application/vnd.jupyter.widget-view+json": {
       "model_id": "2844c2975caa4f499139cb8f39202eba",
       "version_major": 2,
       "version_minor": 0
      },
      "text/plain": [
       "HTML(value=\"<b>Tweet 63</b>: Bene l'Europa che si apre a Ucraina, Moldavia e Balcani occidentali, ma dobbiamo …"
      ]
     },
     "metadata": {},
     "output_type": "display_data"
    },
    {
     "data": {
      "application/vnd.jupyter.widget-view+json": {
       "model_id": "b144272aed0a4b939d3f61d9faa0ecf0",
       "version_major": 2,
       "version_minor": 0
      },
      "text/plain": [
       "Dropdown(description='Tone:', layout=Layout(width='70%'), options=('', 'Neutral / Informational', 'Supportive …"
      ]
     },
     "metadata": {},
     "output_type": "display_data"
    },
    {
     "data": {
      "application/vnd.jupyter.widget-view+json": {
       "model_id": "4dd8358b3ce94a858a29c5292c9457ee",
       "version_major": 2,
       "version_minor": 0
      },
      "text/plain": [
       "HTML(value='<b>Tweet 64</b>: Mi ricorderò di questa risposta quando da sindaco vi chiederò maggiore solerzia n…"
      ]
     },
     "metadata": {},
     "output_type": "display_data"
    },
    {
     "data": {
      "application/vnd.jupyter.widget-view+json": {
       "model_id": "22d46696584d4cf3abe446784ffd66db",
       "version_major": 2,
       "version_minor": 0
      },
      "text/plain": [
       "Dropdown(description='Tone:', layout=Layout(width='70%'), options=('', 'Neutral / Informational', 'Supportive …"
      ]
     },
     "metadata": {},
     "output_type": "display_data"
    },
    {
     "data": {
      "application/vnd.jupyter.widget-view+json": {
       "model_id": "0adfe315fef2423c8e90d94752a24146",
       "version_major": 2,
       "version_minor": 0
      },
      "text/plain": [
       "HTML(value='<b>Tweet 65</b>: @fr4nthe1 Certo, basta poi assumersene la responsabilità')"
      ]
     },
     "metadata": {},
     "output_type": "display_data"
    },
    {
     "data": {
      "application/vnd.jupyter.widget-view+json": {
       "model_id": "ee2bd247cf29417b9335c9a48c0ef8b7",
       "version_major": 2,
       "version_minor": 0
      },
      "text/plain": [
       "Dropdown(description='Tone:', layout=Layout(width='70%'), options=('', 'Neutral / Informational', 'Supportive …"
      ]
     },
     "metadata": {},
     "output_type": "display_data"
    },
    {
     "data": {
      "application/vnd.jupyter.widget-view+json": {
       "model_id": "bb364d853ac742338e8afd530765f1aa",
       "version_major": 2,
       "version_minor": 0
      },
      "text/plain": [
       "HTML(value='<b>Tweet 66</b>: Pienamente d’accordo con le parole del professor Giulio Tremonti. \\nC’è la sensaz…"
      ]
     },
     "metadata": {},
     "output_type": "display_data"
    },
    {
     "data": {
      "application/vnd.jupyter.widget-view+json": {
       "model_id": "768ebcc9cb47481e9018f8800741a333",
       "version_major": 2,
       "version_minor": 0
      },
      "text/plain": [
       "Dropdown(description='Tone:', layout=Layout(width='70%'), options=('', 'Neutral / Informational', 'Supportive …"
      ]
     },
     "metadata": {},
     "output_type": "display_data"
    },
    {
     "data": {
      "application/vnd.jupyter.widget-view+json": {
       "model_id": "4ec4e25fee35484683c7173f827af728",
       "version_major": 2,
       "version_minor": 0
      },
      "text/plain": [
       "HTML(value='<b>Tweet 67</b>: Mentre a sinistra gettano fango, la Lega non molla su temi concreti: nel prossimo…"
      ]
     },
     "metadata": {},
     "output_type": "display_data"
    },
    {
     "data": {
      "application/vnd.jupyter.widget-view+json": {
       "model_id": "23ff9e3d76924d2e8a22a758b632a087",
       "version_major": 2,
       "version_minor": 0
      },
      "text/plain": [
       "Dropdown(description='Tone:', layout=Layout(width='70%'), options=('', 'Neutral / Informational', 'Supportive …"
      ]
     },
     "metadata": {},
     "output_type": "display_data"
    },
    {
     "data": {
      "application/vnd.jupyter.widget-view+json": {
       "model_id": "cbc96b34cb4545c292b2652276db281d",
       "version_major": 2,
       "version_minor": 0
      },
      "text/plain": [
       "HTML(value='<b>Tweet 68</b>: #AlleanzaVerdiSinistra presenta un esposto contro le compagnie energetiche per il…"
      ]
     },
     "metadata": {},
     "output_type": "display_data"
    },
    {
     "data": {
      "application/vnd.jupyter.widget-view+json": {
       "model_id": "4f1e28e755824abbb817adf60cf95877",
       "version_major": 2,
       "version_minor": 0
      },
      "text/plain": [
       "Dropdown(description='Tone:', layout=Layout(width='70%'), options=('', 'Neutral / Informational', 'Supportive …"
      ]
     },
     "metadata": {},
     "output_type": "display_data"
    },
    {
     "data": {
      "application/vnd.jupyter.widget-view+json": {
       "model_id": "0d57489328704900965a2f70e2572ede",
       "version_major": 2,
       "version_minor": 0
      },
      "text/plain": [
       "HTML(value='<b>Tweet 69</b>: Per quanto concerne @Azione_it ogni considerazione politica, incompatibilità, age…"
      ]
     },
     "metadata": {},
     "output_type": "display_data"
    },
    {
     "data": {
      "application/vnd.jupyter.widget-view+json": {
       "model_id": "f19fa6057edf48ac9bc4dba1999febba",
       "version_major": 2,
       "version_minor": 0
      },
      "text/plain": [
       "Dropdown(description='Tone:', layout=Layout(width='70%'), options=('', 'Neutral / Informational', 'Supportive …"
      ]
     },
     "metadata": {},
     "output_type": "display_data"
    },
    {
     "data": {
      "application/vnd.jupyter.widget-view+json": {
       "model_id": "71ce395a8b6746a186dbefe5d1165a29",
       "version_major": 2,
       "version_minor": 0
      },
      "text/plain": [
       "HTML(value='<b>Tweet 70</b>: Il tempo è finito, la casa brucia. Difendere l’#ambiente è nostro interesse nazio…"
      ]
     },
     "metadata": {},
     "output_type": "display_data"
    },
    {
     "data": {
      "application/vnd.jupyter.widget-view+json": {
       "model_id": "b98b1628ffdc4ae1b41570a0228c2c4e",
       "version_major": 2,
       "version_minor": 0
      },
      "text/plain": [
       "Dropdown(description='Tone:', layout=Layout(width='70%'), options=('', 'Neutral / Informational', 'Supportive …"
      ]
     },
     "metadata": {},
     "output_type": "display_data"
    },
    {
     "data": {
      "application/vnd.jupyter.widget-view+json": {
       "model_id": "055cab8249614a04acb8a686d32a9ea7",
       "version_major": 2,
       "version_minor": 0
      },
      "text/plain": [
       "HTML(value='<b>Tweet 71</b>: Non ci sono parole. Mi stringo al dolore dei familiari della vittima e alle due r…"
      ]
     },
     "metadata": {},
     "output_type": "display_data"
    },
    {
     "data": {
      "application/vnd.jupyter.widget-view+json": {
       "model_id": "1ede757bb5594d039238c274875aafe3",
       "version_major": 2,
       "version_minor": 0
      },
      "text/plain": [
       "Dropdown(description='Tone:', layout=Layout(width='70%'), options=('', 'Neutral / Informational', 'Supportive …"
      ]
     },
     "metadata": {},
     "output_type": "display_data"
    },
    {
     "data": {
      "application/vnd.jupyter.widget-view+json": {
       "model_id": "7b99391a48ae4112886bdfd0b5e862cd",
       "version_major": 2,
       "version_minor": 0
      },
      "text/plain": [
       "HTML(value='<b>Tweet 72</b>: Il gruppo di @FratellidItalia si è dimostrato compatto contro tutti i totalitaris…"
      ]
     },
     "metadata": {},
     "output_type": "display_data"
    },
    {
     "data": {
      "application/vnd.jupyter.widget-view+json": {
       "model_id": "12e85063dfa541f09f43615342feb954",
       "version_major": 2,
       "version_minor": 0
      },
      "text/plain": [
       "Dropdown(description='Tone:', layout=Layout(width='70%'), options=('', 'Neutral / Informational', 'Supportive …"
      ]
     },
     "metadata": {},
     "output_type": "display_data"
    },
    {
     "data": {
      "application/vnd.jupyter.widget-view+json": {
       "model_id": "93265ac91851420c81e2e224391f2712",
       "version_major": 2,
       "version_minor": 0
      },
      "text/plain": [
       "HTML(value=\"<b>Tweet 73</b>: Durante il mio intervento a Radio Anch'io di questa mattina ho ribadito che sulla…"
      ]
     },
     "metadata": {},
     "output_type": "display_data"
    },
    {
     "data": {
      "application/vnd.jupyter.widget-view+json": {
       "model_id": "8b447ea328b54dba8887c1a40c169583",
       "version_major": 2,
       "version_minor": 0
      },
      "text/plain": [
       "Dropdown(description='Tone:', layout=Layout(width='70%'), options=('', 'Neutral / Informational', 'Supportive …"
      ]
     },
     "metadata": {},
     "output_type": "display_data"
    },
    {
     "data": {
      "application/vnd.jupyter.widget-view+json": {
       "model_id": "5b3aa738ecec4598a3713ba9ba5dc9a4",
       "version_major": 2,
       "version_minor": 0
      },
      "text/plain": [
       "HTML(value='<b>Tweet 74</b>: La tutela dell’#ambiente è ora nella nostra #Costituzione “anche nell’interesse d…"
      ]
     },
     "metadata": {},
     "output_type": "display_data"
    },
    {
     "data": {
      "application/vnd.jupyter.widget-view+json": {
       "model_id": "3f8a2a21c504431e8b9d7574a8210623",
       "version_major": 2,
       "version_minor": 0
      },
      "text/plain": [
       "Dropdown(description='Tone:', layout=Layout(width='70%'), options=('', 'Neutral / Informational', 'Supportive …"
      ]
     },
     "metadata": {},
     "output_type": "display_data"
    },
    {
     "data": {
      "application/vnd.jupyter.widget-view+json": {
       "model_id": "e8b4db7598154782950dc9c14972a47f",
       "version_major": 2,
       "version_minor": 0
      },
      "text/plain": [
       "HTML(value='<b>Tweet 75</b>: Si tratta di una situazione potenzialmente disastrosa, frutto anche di una timide…"
      ]
     },
     "metadata": {},
     "output_type": "display_data"
    },
    {
     "data": {
      "application/vnd.jupyter.widget-view+json": {
       "model_id": "a295f1d27cc4482fb5047781710c7c57",
       "version_major": 2,
       "version_minor": 0
      },
      "text/plain": [
       "Dropdown(description='Tone:', layout=Layout(width='70%'), options=('', 'Neutral / Informational', 'Supportive …"
      ]
     },
     "metadata": {},
     "output_type": "display_data"
    },
    {
     "data": {
      "application/vnd.jupyter.widget-view+json": {
       "model_id": "dfded1f70d524a3ea1345dbfa363f899",
       "version_major": 2,
       "version_minor": 0
      },
      "text/plain": [
       "HTML(value=\"<b>Tweet 76</b>: Ognuno di noi ricorda esattamente cosa stesse facendo l'#11settembre di 21 anni f…"
      ]
     },
     "metadata": {},
     "output_type": "display_data"
    },
    {
     "data": {
      "application/vnd.jupyter.widget-view+json": {
       "model_id": "8d98384dab4e446a97cd4a963fb4b6e4",
       "version_major": 2,
       "version_minor": 0
      },
      "text/plain": [
       "Dropdown(description='Tone:', layout=Layout(width='70%'), options=('', 'Neutral / Informational', 'Supportive …"
      ]
     },
     "metadata": {},
     "output_type": "display_data"
    },
    {
     "data": {
      "application/vnd.jupyter.widget-view+json": {
       "model_id": "462c8d16fdcb4da8b6136a9b6e5a491c",
       "version_major": 2,
       "version_minor": 0
      },
      "text/plain": [
       "HTML(value='<b>Tweet 77</b>: Il profilo di questo anonimo “signore” è ancora attivo, dopo mesi dalla denuncia …"
      ]
     },
     "metadata": {},
     "output_type": "display_data"
    },
    {
     "data": {
      "application/vnd.jupyter.widget-view+json": {
       "model_id": "94ac71042d154992b2688ce0584e2173",
       "version_major": 2,
       "version_minor": 0
      },
      "text/plain": [
       "Dropdown(description='Tone:', layout=Layout(width='70%'), options=('', 'Neutral / Informational', 'Supportive …"
      ]
     },
     "metadata": {},
     "output_type": "display_data"
    },
    {
     "data": {
      "application/vnd.jupyter.widget-view+json": {
       "model_id": "8528471935e84d049118deb3745252a5",
       "version_major": 2,
       "version_minor": 0
      },
      "text/plain": [
       "HTML(value='<b>Tweet 78</b>: Io ho sempre difeso l’interesse nazionale italiano, nel mio Paese e nel mondo, a …"
      ]
     },
     "metadata": {},
     "output_type": "display_data"
    },
    {
     "data": {
      "application/vnd.jupyter.widget-view+json": {
       "model_id": "eb77fa5400f94eef81add84a06f0950c",
       "version_major": 2,
       "version_minor": 0
      },
      "text/plain": [
       "Dropdown(description='Tone:', layout=Layout(width='70%'), options=('', 'Neutral / Informational', 'Supportive …"
      ]
     },
     "metadata": {},
     "output_type": "display_data"
    },
    {
     "data": {
      "application/vnd.jupyter.widget-view+json": {
       "model_id": "683c6b314ebc4245b954c38b37935f9d",
       "version_major": 2,
       "version_minor": 0
      },
      "text/plain": [
       "HTML(value='<b>Tweet 79</b>: Dopo Catania, sabato prossimo sarò in tribunale a Palermo per un altro processo, …"
      ]
     },
     "metadata": {},
     "output_type": "display_data"
    },
    {
     "data": {
      "application/vnd.jupyter.widget-view+json": {
       "model_id": "d8c0a6657b62446b96c764300d92ba89",
       "version_major": 2,
       "version_minor": 0
      },
      "text/plain": [
       "Dropdown(description='Tone:', layout=Layout(width='70%'), options=('', 'Neutral / Informational', 'Supportive …"
      ]
     },
     "metadata": {},
     "output_type": "display_data"
    },
    {
     "data": {
      "application/vnd.jupyter.widget-view+json": {
       "model_id": "48e694f5b99547bb9610488cfd9674a3",
       "version_major": 2,
       "version_minor": 0
      },
      "text/plain": [
       "HTML(value=\"<b>Tweet 80</b>: Credo che il risultato delle elezioni americane ci indichi che in America stia to…"
      ]
     },
     "metadata": {},
     "output_type": "display_data"
    },
    {
     "data": {
      "application/vnd.jupyter.widget-view+json": {
       "model_id": "a43af8e7b65241c7b207719c258478a9",
       "version_major": 2,
       "version_minor": 0
      },
      "text/plain": [
       "Dropdown(description='Tone:', layout=Layout(width='70%'), options=('', 'Neutral / Informational', 'Supportive …"
      ]
     },
     "metadata": {},
     "output_type": "display_data"
    },
    {
     "data": {
      "application/vnd.jupyter.widget-view+json": {
       "model_id": "f7986779681f485cbfee0280219a210e",
       "version_major": 2,
       "version_minor": 0
      },
      "text/plain": [
       "HTML(value=\"<b>Tweet 81</b>: Su #DdlZan come temevo l'iter si è bloccato. L'aula del Senato ha votato a scruti…"
      ]
     },
     "metadata": {},
     "output_type": "display_data"
    },
    {
     "data": {
      "application/vnd.jupyter.widget-view+json": {
       "model_id": "7722407c0d5a4db7920e3802201b71b6",
       "version_major": 2,
       "version_minor": 0
      },
      "text/plain": [
       "Dropdown(description='Tone:', layout=Layout(width='70%'), options=('', 'Neutral / Informational', 'Supportive …"
      ]
     },
     "metadata": {},
     "output_type": "display_data"
    },
    {
     "data": {
      "application/vnd.jupyter.widget-view+json": {
       "model_id": "db40bc2b8bbe4e08b2884cd713ea25a9",
       "version_major": 2,
       "version_minor": 0
      },
      "text/plain": [
       "HTML(value=\"<b>Tweet 82</b>: Ci tengo a essere sincero con tutti voi: vi spiego quello che è successo in quest…"
      ]
     },
     "metadata": {},
     "output_type": "display_data"
    },
    {
     "data": {
      "application/vnd.jupyter.widget-view+json": {
       "model_id": "a7b81ea10a1241559442b495930173ee",
       "version_major": 2,
       "version_minor": 0
      },
      "text/plain": [
       "Dropdown(description='Tone:', layout=Layout(width='70%'), options=('', 'Neutral / Informational', 'Supportive …"
      ]
     },
     "metadata": {},
     "output_type": "display_data"
    },
    {
     "data": {
      "application/vnd.jupyter.widget-view+json": {
       "model_id": "2110c7e92e994d69b7fea1d4b9693753",
       "version_major": 2,
       "version_minor": 0
      },
      "text/plain": [
       "HTML(value='<b>Tweet 83</b>: \"La più grande sofferenza è essere soli\". Don Puglisi ha sfidato la mafia ed è st…"
      ]
     },
     "metadata": {},
     "output_type": "display_data"
    },
    {
     "data": {
      "application/vnd.jupyter.widget-view+json": {
       "model_id": "108cd178251d48d9a23b368dbb1f30a2",
       "version_major": 2,
       "version_minor": 0
      },
      "text/plain": [
       "Dropdown(description='Tone:', layout=Layout(width='70%'), options=('', 'Neutral / Informational', 'Supportive …"
      ]
     },
     "metadata": {},
     "output_type": "display_data"
    },
    {
     "data": {
      "application/vnd.jupyter.widget-view+json": {
       "model_id": "a4ab70c30be64b078c201aec71175c4c",
       "version_major": 2,
       "version_minor": 0
      },
      "text/plain": [
       "HTML(value='<b>Tweet 84</b>: La scarcerazione di Zaki è un piccolissimo spiraglio. E a me parrebbe meno piccol…"
      ]
     },
     "metadata": {},
     "output_type": "display_data"
    },
    {
     "data": {
      "application/vnd.jupyter.widget-view+json": {
       "model_id": "f3dd893b6cfb486d80cd7227979d094d",
       "version_major": 2,
       "version_minor": 0
      },
      "text/plain": [
       "Dropdown(description='Tone:', layout=Layout(width='70%'), options=('', 'Neutral / Informational', 'Supportive …"
      ]
     },
     "metadata": {},
     "output_type": "display_data"
    },
    {
     "data": {
      "application/vnd.jupyter.widget-view+json": {
       "model_id": "42ffae9667114d519acd3d624a30cb24",
       "version_major": 2,
       "version_minor": 0
      },
      "text/plain": [
       "HTML(value='<b>Tweet 85</b>: Preoccupato per sentenza Tar su #Report. La tutela delle fonti è fondamento del g…"
      ]
     },
     "metadata": {},
     "output_type": "display_data"
    },
    {
     "data": {
      "application/vnd.jupyter.widget-view+json": {
       "model_id": "c03e504f863d48b8afb8f3958e02de60",
       "version_major": 2,
       "version_minor": 0
      },
      "text/plain": [
       "Dropdown(description='Tone:', layout=Layout(width='70%'), options=('', 'Neutral / Informational', 'Supportive …"
      ]
     },
     "metadata": {},
     "output_type": "display_data"
    },
    {
     "data": {
      "application/vnd.jupyter.widget-view+json": {
       "model_id": "fcce296991cf4e0b82753ebbf436e559",
       "version_major": 2,
       "version_minor": 0
      },
      "text/plain": [
       "HTML(value='<b>Tweet 86</b>: Mancano poche ore e la Calabria potrà riprendere il suo sogno.  Parliamo di un gr…"
      ]
     },
     "metadata": {},
     "output_type": "display_data"
    },
    {
     "data": {
      "application/vnd.jupyter.widget-view+json": {
       "model_id": "d1fbf320997d46cca561fd24e86f527f",
       "version_major": 2,
       "version_minor": 0
      },
      "text/plain": [
       "Dropdown(description='Tone:', layout=Layout(width='70%'), options=('', 'Neutral / Informational', 'Supportive …"
      ]
     },
     "metadata": {},
     "output_type": "display_data"
    },
    {
     "data": {
      "application/vnd.jupyter.widget-view+json": {
       "model_id": "ace21d0ffe0b40de89320c9da3b42a02",
       "version_major": 2,
       "version_minor": 0
      },
      "text/plain": [
       "HTML(value='<b>Tweet 87</b>: Deprimente è la banalità di questo tweet. Non siamo mai stato moderati nelle idee…"
      ]
     },
     "metadata": {},
     "output_type": "display_data"
    },
    {
     "data": {
      "application/vnd.jupyter.widget-view+json": {
       "model_id": "560dfbff9e2547d5949e7da76c059105",
       "version_major": 2,
       "version_minor": 0
      },
      "text/plain": [
       "Dropdown(description='Tone:', layout=Layout(width='70%'), options=('', 'Neutral / Informational', 'Supportive …"
      ]
     },
     "metadata": {},
     "output_type": "display_data"
    },
    {
     "data": {
      "application/vnd.jupyter.widget-view+json": {
       "model_id": "6628bb1ddfae4c69949104c564049bd1",
       "version_major": 2,
       "version_minor": 0
      },
      "text/plain": [
       "HTML(value='<b>Tweet 88</b>: Quando l’Europa agisce unita riesce a ottenere dei risultati. E ora sta facendo t…"
      ]
     },
     "metadata": {},
     "output_type": "display_data"
    },
    {
     "data": {
      "application/vnd.jupyter.widget-view+json": {
       "model_id": "557758f36ab24533b231348c6af05ceb",
       "version_major": 2,
       "version_minor": 0
      },
      "text/plain": [
       "Dropdown(description='Tone:', layout=Layout(width='70%'), options=('', 'Neutral / Informational', 'Supportive …"
      ]
     },
     "metadata": {},
     "output_type": "display_data"
    },
    {
     "data": {
      "application/vnd.jupyter.widget-view+json": {
       "model_id": "f75f7f89841a4685b8988e8fa983e71a",
       "version_major": 2,
       "version_minor": 0
      },
      "text/plain": [
       "HTML(value='<b>Tweet 89</b>: Grande dolore per la tragedia di Stresa. Siamo vicini alle famiglie di chi ha per…"
      ]
     },
     "metadata": {},
     "output_type": "display_data"
    },
    {
     "data": {
      "application/vnd.jupyter.widget-view+json": {
       "model_id": "73ef437f59d84fa8b2dae98b89e2ae9a",
       "version_major": 2,
       "version_minor": 0
      },
      "text/plain": [
       "Dropdown(description='Tone:', layout=Layout(width='70%'), options=('', 'Neutral / Informational', 'Supportive …"
      ]
     },
     "metadata": {},
     "output_type": "display_data"
    },
    {
     "data": {
      "application/vnd.jupyter.widget-view+json": {
       "model_id": "b13b20ffb68f4c5fb6fea477bb7ac759",
       "version_major": 2,
       "version_minor": 0
      },
      "text/plain": [
       "HTML(value='<b>Tweet 90</b>: Il tutto nell\\'ambito delle inchieste, meritorie, sui \"LADRI DI CASE\".\\nUna giorn…"
      ]
     },
     "metadata": {},
     "output_type": "display_data"
    },
    {
     "data": {
      "application/vnd.jupyter.widget-view+json": {
       "model_id": "77e71b02106b4cc281bff7a343344559",
       "version_major": 2,
       "version_minor": 0
      },
      "text/plain": [
       "Dropdown(description='Tone:', layout=Layout(width='70%'), options=('', 'Neutral / Informational', 'Supportive …"
      ]
     },
     "metadata": {},
     "output_type": "display_data"
    },
    {
     "data": {
      "application/vnd.jupyter.widget-view+json": {
       "model_id": "11c6c6f32f654bf6b79f5e94c03dfdae",
       "version_major": 2,
       "version_minor": 0
      },
      "text/plain": [
       "HTML(value='<b>Tweet 91</b>: Questa sera dalle 21:30 sarò in diretta a @QRepubblica su @rete4. Vi aspetto! htt…"
      ]
     },
     "metadata": {},
     "output_type": "display_data"
    },
    {
     "data": {
      "application/vnd.jupyter.widget-view+json": {
       "model_id": "06d816d26b4948e38c8a8434169bdea6",
       "version_major": 2,
       "version_minor": 0
      },
      "text/plain": [
       "Dropdown(description='Tone:', layout=Layout(width='70%'), options=('', 'Neutral / Informational', 'Supportive …"
      ]
     },
     "metadata": {},
     "output_type": "display_data"
    },
    {
     "data": {
      "application/vnd.jupyter.widget-view+json": {
       "model_id": "a88278677f164117b714ceaaf5c61d42",
       "version_major": 2,
       "version_minor": 0
      },
      "text/plain": [
       "HTML(value='<b>Tweet 92</b>: Oggi la prima udienza del processo per l’omicidio del giovane e coraggioso #Willy…"
      ]
     },
     "metadata": {},
     "output_type": "display_data"
    },
    {
     "data": {
      "application/vnd.jupyter.widget-view+json": {
       "model_id": "baf0af2777714575b0da981cb4f5b4c0",
       "version_major": 2,
       "version_minor": 0
      },
      "text/plain": [
       "Dropdown(description='Tone:', layout=Layout(width='70%'), options=('', 'Neutral / Informational', 'Supportive …"
      ]
     },
     "metadata": {},
     "output_type": "display_data"
    },
    {
     "data": {
      "application/vnd.jupyter.widget-view+json": {
       "model_id": "bde25763bc0e4c749a25fd139fdaa614",
       "version_major": 2,
       "version_minor": 0
      },
      "text/plain": [
       "HTML(value='<b>Tweet 93</b>: Gli agenti hanno tutte le ragioni per protestare e chiedere maggiori attenzioni e…"
      ]
     },
     "metadata": {},
     "output_type": "display_data"
    },
    {
     "data": {
      "application/vnd.jupyter.widget-view+json": {
       "model_id": "2fc922bf28774e2a93595feb4b3edf5b",
       "version_major": 2,
       "version_minor": 0
      },
      "text/plain": [
       "Dropdown(description='Tone:', layout=Layout(width='70%'), options=('', 'Neutral / Informational', 'Supportive …"
      ]
     },
     "metadata": {},
     "output_type": "display_data"
    },
    {
     "data": {
      "application/vnd.jupyter.widget-view+json": {
       "model_id": "b1c52e6503844f1695aab668eda40314",
       "version_major": 2,
       "version_minor": 0
      },
      "text/plain": [
       "HTML(value=\"<b>Tweet 94</b>: …rispetto dell'Ambiente.\\nOttima l'apertura di Bruxelles, avanti per l'Italia dei…"
      ]
     },
     "metadata": {},
     "output_type": "display_data"
    },
    {
     "data": {
      "application/vnd.jupyter.widget-view+json": {
       "model_id": "ecc561234d414c3d927d1bd31ad25754",
       "version_major": 2,
       "version_minor": 0
      },
      "text/plain": [
       "Dropdown(description='Tone:', layout=Layout(width='70%'), options=('', 'Neutral / Informational', 'Supportive …"
      ]
     },
     "metadata": {},
     "output_type": "display_data"
    },
    {
     "data": {
      "application/vnd.jupyter.widget-view+json": {
       "model_id": "702d7a25c47e47babef6ae738b980fb6",
       "version_major": 2,
       "version_minor": 0
      },
      "text/plain": [
       "HTML(value='<b>Tweet 95</b>: Siamo ancora più determinati a lavorare per il bene del territorio e aspettiamo l…"
      ]
     },
     "metadata": {},
     "output_type": "display_data"
    },
    {
     "data": {
      "application/vnd.jupyter.widget-view+json": {
       "model_id": "31e04451eafd471a833c5e6b43cfed5e",
       "version_major": 2,
       "version_minor": 0
      },
      "text/plain": [
       "Dropdown(description='Tone:', layout=Layout(width='70%'), options=('', 'Neutral / Informational', 'Supportive …"
      ]
     },
     "metadata": {},
     "output_type": "display_data"
    },
    {
     "data": {
      "application/vnd.jupyter.widget-view+json": {
       "model_id": "1f9b43e6e01e4cc38fba630150c6dee1",
       "version_major": 2,
       "version_minor": 0
      },
      "text/plain": [
       "HTML(value='<b>Tweet 96</b>: Approfondita, meditata e obiettiva analisi del Foglio: “Salvini merda”, anzi “Sal…"
      ]
     },
     "metadata": {},
     "output_type": "display_data"
    },
    {
     "data": {
      "application/vnd.jupyter.widget-view+json": {
       "model_id": "899b8cc21196482a96fe5ccd30d783aa",
       "version_major": 2,
       "version_minor": 0
      },
      "text/plain": [
       "Dropdown(description='Tone:', layout=Layout(width='70%'), options=('', 'Neutral / Informational', 'Supportive …"
      ]
     },
     "metadata": {},
     "output_type": "display_data"
    },
    {
     "data": {
      "application/vnd.jupyter.widget-view+json": {
       "model_id": "37b968973b274c6989d3b978bf9ca7cf",
       "version_major": 2,
       "version_minor": 0
      },
      "text/plain": [
       "HTML(value='<b>Tweet 97</b>: A Cosenza oltre 200 arresti tra amministratori locali, imprenditori ed esponenti …"
      ]
     },
     "metadata": {},
     "output_type": "display_data"
    },
    {
     "data": {
      "application/vnd.jupyter.widget-view+json": {
       "model_id": "bf0a9ec615214645bbf4ee2728ed50d4",
       "version_major": 2,
       "version_minor": 0
      },
      "text/plain": [
       "Dropdown(description='Tone:', layout=Layout(width='70%'), options=('', 'Neutral / Informational', 'Supportive …"
      ]
     },
     "metadata": {},
     "output_type": "display_data"
    },
    {
     "data": {
      "application/vnd.jupyter.widget-view+json": {
       "model_id": "f8ce488e0fc948d2bcf000e431c89b70",
       "version_major": 2,
       "version_minor": 0
      },
      "text/plain": [
       "HTML(value='<b>Tweet 98</b>: Esiste una responsabilità dei cittadini sulla qualità dei politici che votano. Se…"
      ]
     },
     "metadata": {},
     "output_type": "display_data"
    },
    {
     "data": {
      "application/vnd.jupyter.widget-view+json": {
       "model_id": "d29f37391cff4cafbaac0cfa8837c67e",
       "version_major": 2,
       "version_minor": 0
      },
      "text/plain": [
       "Dropdown(description='Tone:', layout=Layout(width='70%'), options=('', 'Neutral / Informational', 'Supportive …"
      ]
     },
     "metadata": {},
     "output_type": "display_data"
    },
    {
     "data": {
      "application/vnd.jupyter.widget-view+json": {
       "model_id": "11c0d224a6b04c71ae4859b3da2221c1",
       "version_major": 2,
       "version_minor": 0
      },
      "text/plain": [
       "HTML(value='<b>Tweet 99</b>: @TheG_Ralpha @pontrafab Perché quello di Draghi è un governo istituzionale fatto …"
      ]
     },
     "metadata": {},
     "output_type": "display_data"
    },
    {
     "data": {
      "application/vnd.jupyter.widget-view+json": {
       "model_id": "6b28c14430aa416185b0f59e69a722ed",
       "version_major": 2,
       "version_minor": 0
      },
      "text/plain": [
       "Dropdown(description='Tone:', layout=Layout(width='70%'), options=('', 'Neutral / Informational', 'Supportive …"
      ]
     },
     "metadata": {},
     "output_type": "display_data"
    },
    {
     "data": {
      "application/vnd.jupyter.widget-view+json": {
       "model_id": "bd61eedcfcb645ed9b633c58062e983f",
       "version_major": 2,
       "version_minor": 0
      },
      "text/plain": [
       "HTML(value='<b>Tweet 100</b>: Nostre sedi e nostri militanti oggetto di intimidazioni intollerabili. Solidarie…"
      ]
     },
     "metadata": {},
     "output_type": "display_data"
    },
    {
     "data": {
      "application/vnd.jupyter.widget-view+json": {
       "model_id": "cd8ec2c2737247c4b9b5d933fc3dcd58",
       "version_major": 2,
       "version_minor": 0
      },
      "text/plain": [
       "Dropdown(description='Tone:', layout=Layout(width='70%'), options=('', 'Neutral / Informational', 'Supportive …"
      ]
     },
     "metadata": {},
     "output_type": "display_data"
    },
    {
     "data": {
      "application/vnd.jupyter.widget-view+json": {
       "model_id": "e6681c9de3d24fbc92b197510dcac3f7",
       "version_major": 2,
       "version_minor": 0
      },
      "text/plain": [
       "Button(button_style='success', description='💾 Save Labels', style=ButtonStyle())"
      ]
     },
     "metadata": {},
     "output_type": "display_data"
    }
   ],
   "source": [
    "import pandas as pd\n",
    "import ipywidgets as widgets\n",
    "from IPython.display import display\n",
    "import os\n",
    "\n",
    "# 📥 Load the next batch to label\n",
    "df = pd.read_csv(\"next_batch_to_label.csv\").reset_index(drop=True)\n",
    "\n",
    "# 📦 Define tone labels\n",
    "tone_labels = [\n",
    "    \"Neutral / Informational\",\n",
    "    \"Supportive / Affirmative / Celebratory\",\n",
    "    \"Critical / Angry\",\n",
    "    \"Call to Action / Propaganda\",\n",
    "]\n",
    "\n",
    "# 🧠 Interactive widgets\n",
    "dropdowns = []\n",
    "for i, row in df.iterrows():\n",
    "    tweet_display = widgets.HTML(value=f\"<b>Tweet {i+1}</b>: {row['Content']}\")\n",
    "    dropdown = widgets.Dropdown(\n",
    "        options=[\"\"] + tone_labels,\n",
    "        description='Tone:',\n",
    "        layout=widgets.Layout(width='70%')\n",
    "    )\n",
    "    dropdowns.append(dropdown)\n",
    "    display(tweet_display, dropdown)\n",
    "\n",
    "# 💾 Save button logic — append to existing file\n",
    "def save_labels(_):\n",
    "    for i, dropdown in enumerate(dropdowns):\n",
    "        df.at[i, 'tone_label'] = dropdown.value\n",
    "\n",
    "    labeled_path = \"labeled_tweets_with_tone.csv\"\n",
    "\n",
    "    if os.path.exists(labeled_path):\n",
    "        existing = pd.read_csv(labeled_path)\n",
    "        combined = pd.concat([existing, df], ignore_index=True).drop_duplicates(subset=[\"Content\"])\n",
    "    else:\n",
    "        combined = df\n",
    "\n",
    "    combined.to_csv(labeled_path, index=False)\n",
    "    print(f\"✅ Appended {len(df)} tweets. Total labeled: {len(combined)}\")\n",
    "\n",
    "# 🖱️ Save button UI\n",
    "save_button = widgets.Button(description=\"💾 Save Labels\", button_style='success')\n",
    "save_button.on_click(save_labels)\n",
    "display(save_button)\n"
   ]
  },
  {
   "cell_type": "code",
   "execution_count": null,
   "id": "146bd925",
   "metadata": {},
   "outputs": [],
   "source": []
  }
 ],
 "metadata": {
  "kernelspec": {
   "display_name": "venv",
   "language": "python",
   "name": "python3"
  },
  "language_info": {
   "codemirror_mode": {
    "name": "ipython",
    "version": 3
   },
   "file_extension": ".py",
   "mimetype": "text/x-python",
   "name": "python",
   "nbconvert_exporter": "python",
   "pygments_lexer": "ipython3",
   "version": "3.12.9"
  }
 },
 "nbformat": 4,
 "nbformat_minor": 5
}
