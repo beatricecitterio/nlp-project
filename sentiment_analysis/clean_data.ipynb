{
 "cells": [
  {
   "cell_type": "code",
   "execution_count": 1,
   "id": "ae8a7c24",
   "metadata": {},
   "outputs": [],
   "source": [
    "import pandas as pd"
   ]
  },
  {
   "cell_type": "code",
   "execution_count": 2,
   "id": "683a9b7e",
   "metadata": {},
   "outputs": [],
   "source": [
    "df = pd.read_csv('results_sentiment/350_fine_new.csv')"
   ]
  },
  {
   "cell_type": "code",
   "execution_count": 3,
   "id": "9ee9fd36",
   "metadata": {},
   "outputs": [],
   "source": [
    "italian_to_numeric = {\n",
    "    'Critico / Negativo': 1,\n",
    "    'Supporto / Positivo': 3,\n",
    "    'Esortativo / Propaganda': 0,\n",
    "    'Neutrale / Informativo': 2,\n",
    "    'Generico': None\n",
    "}\n",
    "\n",
    "# Function to map all variations (with or without \"Accezione:\")\n",
    "def map_label(label):\n",
    "    if 'Critico / Negativo' in label:\n",
    "        return 1\n",
    "    elif 'Supporto / Positivo' in label:\n",
    "        return 3\n",
    "    elif 'Esortativo / Propaganda' in label:\n",
    "        return 0\n",
    "    elif 'Neutrale / Informativo' in label:\n",
    "        return 2\n",
    "    elif 'Generico' in label:\n",
    "        return None\n",
    "    else:\n",
    "        return None  # Fallback for safety\n",
    "\n",
    "# Apply the function\n",
    "df['label_id'] = df['tone'].apply(map_label)\n",
    "\n",
    "# Optionally filter out rows where the result is None\n",
    "df = df[df['label_id'].notnull()]\n",
    "\n"
   ]
  },
  {
   "cell_type": "code",
   "execution_count": 4,
   "id": "48d3966c",
   "metadata": {},
   "outputs": [],
   "source": [
    "df = df.drop(columns=['original_tweet', 'party', 'topic', 'tone'])"
   ]
  },
  {
   "cell_type": "code",
   "execution_count": 5,
   "id": "0eea75e0",
   "metadata": {},
   "outputs": [
    {
     "data": {
      "text/html": [
       "<div>\n",
       "<style scoped>\n",
       "    .dataframe tbody tr th:only-of-type {\n",
       "        vertical-align: middle;\n",
       "    }\n",
       "\n",
       "    .dataframe tbody tr th {\n",
       "        vertical-align: top;\n",
       "    }\n",
       "\n",
       "    .dataframe thead th {\n",
       "        text-align: right;\n",
       "    }\n",
       "</style>\n",
       "<table border=\"1\" class=\"dataframe\">\n",
       "  <thead>\n",
       "    <tr style=\"text-align: right;\">\n",
       "      <th></th>\n",
       "      <th>generated_tweet</th>\n",
       "      <th>label_id</th>\n",
       "    </tr>\n",
       "  </thead>\n",
       "  <tbody>\n",
       "    <tr>\n",
       "      <th>0</th>\n",
       "      <td>#Salvini: L'Europa non è in vendita. Se Conte...</td>\n",
       "      <td>0.0</td>\n",
       "    </tr>\n",
       "    <tr>\n",
       "      <th>2</th>\n",
       "      <td>Il silenzio è d’oro. Non ho mai visto l’Itali...</td>\n",
       "      <td>1.0</td>\n",
       "    </tr>\n",
       "    <tr>\n",
       "      <th>3</th>\n",
       "      <td>Il #governoDraghi sta facendo solo il suo dov...</td>\n",
       "      <td>1.0</td>\n",
       "    </tr>\n",
       "    <tr>\n",
       "      <th>5</th>\n",
       "      <td>È una follia. Per giorni hanno bloccato il tr...</td>\n",
       "      <td>1.0</td>\n",
       "    </tr>\n",
       "    <tr>\n",
       "      <th>7</th>\n",
       "      <td>Il 30% dei fondi è destinato a privati cittad...</td>\n",
       "      <td>1.0</td>\n",
       "    </tr>\n",
       "  </tbody>\n",
       "</table>\n",
       "</div>"
      ],
      "text/plain": [
       "                                     generated_tweet  label_id\n",
       "0   #Salvini: L'Europa non è in vendita. Se Conte...       0.0\n",
       "2   Il silenzio è d’oro. Non ho mai visto l’Itali...       1.0\n",
       "3   Il #governoDraghi sta facendo solo il suo dov...       1.0\n",
       "5   È una follia. Per giorni hanno bloccato il tr...       1.0\n",
       "7   Il 30% dei fondi è destinato a privati cittad...       1.0"
      ]
     },
     "execution_count": 5,
     "metadata": {},
     "output_type": "execute_result"
    }
   ],
   "source": [
    "df.head()"
   ]
  },
  {
   "cell_type": "code",
   "execution_count": 6,
   "id": "1d7e36f1",
   "metadata": {},
   "outputs": [],
   "source": [
    "df = df.rename(columns ={'generated_tweet':'content'})"
   ]
  },
  {
   "cell_type": "code",
   "execution_count": 7,
   "id": "ca34955e",
   "metadata": {},
   "outputs": [],
   "source": [
    "df.to_csv('350m_fine_new_cleaned.csv')"
   ]
  },
  {
   "cell_type": "code",
   "execution_count": 54,
   "id": "75a53a59",
   "metadata": {},
   "outputs": [],
   "source": [
    "labeled_data = pd.read_csv('final_tone_labeled_data.csv')"
   ]
  },
  {
   "cell_type": "code",
   "execution_count": 55,
   "id": "f60ac31e",
   "metadata": {},
   "outputs": [],
   "source": [
    "labeled_data = labeled_data.drop(columns=['Date', 'Unnamed: 0', 'ID', 'Likes', 'politician', 'party', 'ideology_num'])"
   ]
  },
  {
   "cell_type": "code",
   "execution_count": 56,
   "id": "a0b98923",
   "metadata": {},
   "outputs": [],
   "source": [
    "labeled_data.rename(columns={'Content': 'content'}).to_csv('labeled_data_cleaned.csv')"
   ]
  },
  {
   "cell_type": "code",
   "execution_count": 57,
   "id": "fdd1cdc0",
   "metadata": {},
   "outputs": [
    {
     "ename": "AttributeError",
     "evalue": "'NoneType' object has no attribute 'head'",
     "output_type": "error",
     "traceback": [
      "\u001b[0;31m---------------------------------------------------------------------------\u001b[0m",
      "\u001b[0;31mAttributeError\u001b[0m                            Traceback (most recent call last)",
      "Cell \u001b[0;32mIn[57], line 1\u001b[0m\n\u001b[0;32m----> 1\u001b[0m \u001b[43mgen_1b_base\u001b[49m\u001b[38;5;241;43m.\u001b[39;49m\u001b[43mhead\u001b[49m()\n",
      "\u001b[0;31mAttributeError\u001b[0m: 'NoneType' object has no attribute 'head'"
     ]
    }
   ],
   "source": [
    "gen_1b_base.head()"
   ]
  },
  {
   "cell_type": "code",
   "execution_count": 15,
   "id": "29349449",
   "metadata": {},
   "outputs": [],
   "source": [
    "df = pd.read_csv('labeled_tweets_with_tone.csv')"
   ]
  },
  {
   "cell_type": "code",
   "execution_count": 27,
   "id": "8dbe600d",
   "metadata": {},
   "outputs": [
    {
     "data": {
      "text/plain": [
       "array(['Call to Action / Propaganda', 'Critical / Angry',\n",
       "       'Neutral / Informational', 'Supportive / Positive / Celebratory',\n",
       "       'Supportive / Affirmative / Celebratory'], dtype=object)"
      ]
     },
     "execution_count": 27,
     "metadata": {},
     "output_type": "execute_result"
    }
   ],
   "source": [
    "df.tone_label.unique()"
   ]
  },
  {
   "cell_type": "code",
   "execution_count": 33,
   "id": "b34c5555",
   "metadata": {},
   "outputs": [],
   "source": [
    "df_angry = df[df['tone_label'] == 'Call to Action / Propaganda']"
   ]
  },
  {
   "cell_type": "code",
   "execution_count": 34,
   "id": "c05fa80a",
   "metadata": {},
   "outputs": [],
   "source": [
    "df_angry.to_csv('df_pos')"
   ]
  },
  {
   "cell_type": "code",
   "execution_count": 18,
   "id": "dda37d7e",
   "metadata": {},
   "outputs": [
    {
     "data": {
      "text/html": [
       "<div>\n",
       "<style scoped>\n",
       "    .dataframe tbody tr th:only-of-type {\n",
       "        vertical-align: middle;\n",
       "    }\n",
       "\n",
       "    .dataframe tbody tr th {\n",
       "        vertical-align: top;\n",
       "    }\n",
       "\n",
       "    .dataframe thead th {\n",
       "        text-align: right;\n",
       "    }\n",
       "</style>\n",
       "<table border=\"1\" class=\"dataframe\">\n",
       "  <thead>\n",
       "    <tr style=\"text-align: right;\">\n",
       "      <th></th>\n",
       "      <th>Date</th>\n",
       "      <th>ID</th>\n",
       "      <th>Content</th>\n",
       "      <th>Likes</th>\n",
       "      <th>politician</th>\n",
       "      <th>party</th>\n",
       "      <th>ideology_num</th>\n",
       "      <th>tone_label</th>\n",
       "    </tr>\n",
       "  </thead>\n",
       "  <tbody>\n",
       "    <tr>\n",
       "      <th>0</th>\n",
       "      <td>2022-10-25 13:50:21+00:00</td>\n",
       "      <td>1584905203320426496</td>\n",
       "      <td>Alla fine di questa avventura a me interesserà...</td>\n",
       "      <td>10836</td>\n",
       "      <td>Meloni</td>\n",
       "      <td>FdI</td>\n",
       "      <td>3</td>\n",
       "      <td>Call to Action / Propaganda</td>\n",
       "    </tr>\n",
       "    <tr>\n",
       "      <th>1</th>\n",
       "      <td>2021-01-19 21:56:41+00:00</td>\n",
       "      <td>1351649807501299713</td>\n",
       "      <td>#Salvini: Ho ricordato all’avvocato Conte che ...</td>\n",
       "      <td>1161</td>\n",
       "      <td>Salvini</td>\n",
       "      <td>Lega</td>\n",
       "      <td>3</td>\n",
       "      <td>Critical / Angry</td>\n",
       "    </tr>\n",
       "    <tr>\n",
       "      <th>2</th>\n",
       "      <td>2021-10-20 11:35:18+00:00</td>\n",
       "      <td>1450787707022630918</td>\n",
       "      <td>Dobbiamo spingere sulla ripartenza. Dobbiamo c...</td>\n",
       "      <td>726</td>\n",
       "      <td>Conte</td>\n",
       "      <td>M5S</td>\n",
       "      <td>0</td>\n",
       "      <td>Call to Action / Propaganda</td>\n",
       "    </tr>\n",
       "    <tr>\n",
       "      <th>3</th>\n",
       "      <td>2022-09-07 10:21:03+00:00</td>\n",
       "      <td>1567457912909402113</td>\n",
       "      <td>Si mettano l’animo in pace: il #25settembre, s...</td>\n",
       "      <td>597</td>\n",
       "      <td>Meloni</td>\n",
       "      <td>FdI</td>\n",
       "      <td>3</td>\n",
       "      <td>Call to Action / Propaganda</td>\n",
       "    </tr>\n",
       "    <tr>\n",
       "      <th>4</th>\n",
       "      <td>2022-04-20 07:23:08+00:00</td>\n",
       "      <td>1516678839488888833</td>\n",
       "      <td>L’#Ucraina nella #UE? Per le scelte e la stori...</td>\n",
       "      <td>291</td>\n",
       "      <td>Letta</td>\n",
       "      <td>PD</td>\n",
       "      <td>0</td>\n",
       "      <td>Neutral / Informational</td>\n",
       "    </tr>\n",
       "  </tbody>\n",
       "</table>\n",
       "</div>"
      ],
      "text/plain": [
       "                        Date                   ID  \\\n",
       "0  2022-10-25 13:50:21+00:00  1584905203320426496   \n",
       "1  2021-01-19 21:56:41+00:00  1351649807501299713   \n",
       "2  2021-10-20 11:35:18+00:00  1450787707022630918   \n",
       "3  2022-09-07 10:21:03+00:00  1567457912909402113   \n",
       "4  2022-04-20 07:23:08+00:00  1516678839488888833   \n",
       "\n",
       "                                             Content  Likes politician party  \\\n",
       "0  Alla fine di questa avventura a me interesserà...  10836     Meloni   FdI   \n",
       "1  #Salvini: Ho ricordato all’avvocato Conte che ...   1161    Salvini  Lega   \n",
       "2  Dobbiamo spingere sulla ripartenza. Dobbiamo c...    726      Conte   M5S   \n",
       "3  Si mettano l’animo in pace: il #25settembre, s...    597     Meloni   FdI   \n",
       "4  L’#Ucraina nella #UE? Per le scelte e la stori...    291      Letta    PD   \n",
       "\n",
       "   ideology_num                   tone_label  \n",
       "0             3  Call to Action / Propaganda  \n",
       "1             3             Critical / Angry  \n",
       "2             0  Call to Action / Propaganda  \n",
       "3             3  Call to Action / Propaganda  \n",
       "4             0      Neutral / Informational  "
      ]
     },
     "execution_count": 18,
     "metadata": {},
     "output_type": "execute_result"
    }
   ],
   "source": [
    "df.head()"
   ]
  },
  {
   "cell_type": "code",
   "execution_count": 35,
   "id": "8ec1e467",
   "metadata": {},
   "outputs": [],
   "source": [
    "final = pd.read_csv('final_tone_labeled_data.csv')"
   ]
  },
  {
   "cell_type": "code",
   "execution_count": 38,
   "id": "5ca01368",
   "metadata": {},
   "outputs": [
    {
     "data": {
      "text/html": [
       "<div>\n",
       "<style scoped>\n",
       "    .dataframe tbody tr th:only-of-type {\n",
       "        vertical-align: middle;\n",
       "    }\n",
       "\n",
       "    .dataframe tbody tr th {\n",
       "        vertical-align: top;\n",
       "    }\n",
       "\n",
       "    .dataframe thead th {\n",
       "        text-align: right;\n",
       "    }\n",
       "</style>\n",
       "<table border=\"1\" class=\"dataframe\">\n",
       "  <thead>\n",
       "    <tr style=\"text-align: right;\">\n",
       "      <th></th>\n",
       "      <th>Unnamed: 0</th>\n",
       "      <th>Date</th>\n",
       "      <th>ID</th>\n",
       "      <th>Content</th>\n",
       "      <th>Likes</th>\n",
       "      <th>politician</th>\n",
       "      <th>party</th>\n",
       "      <th>ideology_num</th>\n",
       "      <th>label_id</th>\n",
       "    </tr>\n",
       "  </thead>\n",
       "  <tbody>\n",
       "    <tr>\n",
       "      <th>0</th>\n",
       "      <td>0</td>\n",
       "      <td>2022-09-22 13:47:33+00:00</td>\n",
       "      <td>1572945698181586945</td>\n",
       "      <td>Ormai Letta e il Pd hanno detto di tutto contr...</td>\n",
       "      <td>2349</td>\n",
       "      <td>Meloni</td>\n",
       "      <td>FdI</td>\n",
       "      <td>3</td>\n",
       "      <td>1.0</td>\n",
       "    </tr>\n",
       "    <tr>\n",
       "      <th>1</th>\n",
       "      <td>1</td>\n",
       "      <td>2022-09-21 12:19:11+00:00</td>\n",
       "      <td>1572561076071591936</td>\n",
       "      <td>Pd imbarazzante. Oggi se la prende col Ministr...</td>\n",
       "      <td>3702</td>\n",
       "      <td>Meloni</td>\n",
       "      <td>FdI</td>\n",
       "      <td>3</td>\n",
       "      <td>1.0</td>\n",
       "    </tr>\n",
       "    <tr>\n",
       "      <th>2</th>\n",
       "      <td>2</td>\n",
       "      <td>2022-09-11 19:36:41+00:00</td>\n",
       "      <td>1569047296272207874</td>\n",
       "      <td>Cosa intendono? Inviteranno alla sovversione d...</td>\n",
       "      <td>1661</td>\n",
       "      <td>Meloni</td>\n",
       "      <td>FdI</td>\n",
       "      <td>3</td>\n",
       "      <td>1.0</td>\n",
       "    </tr>\n",
       "    <tr>\n",
       "      <th>3</th>\n",
       "      <td>3</td>\n",
       "      <td>2022-08-09 20:38:08+00:00</td>\n",
       "      <td>1557103962754539520</td>\n",
       "      <td>Com'è mai possibile che questo soggetto si tro...</td>\n",
       "      <td>1371</td>\n",
       "      <td>Meloni</td>\n",
       "      <td>FdI</td>\n",
       "      <td>3</td>\n",
       "      <td>1.0</td>\n",
       "    </tr>\n",
       "    <tr>\n",
       "      <th>4</th>\n",
       "      <td>4</td>\n",
       "      <td>2022-08-07 14:02:07+00:00</td>\n",
       "      <td>1556279522194079749</td>\n",
       "      <td>Colpo di scena nella telenovela del centrosini...</td>\n",
       "      <td>2995</td>\n",
       "      <td>Meloni</td>\n",
       "      <td>FdI</td>\n",
       "      <td>3</td>\n",
       "      <td>1.0</td>\n",
       "    </tr>\n",
       "    <tr>\n",
       "      <th>...</th>\n",
       "      <td>...</td>\n",
       "      <td>...</td>\n",
       "      <td>...</td>\n",
       "      <td>...</td>\n",
       "      <td>...</td>\n",
       "      <td>...</td>\n",
       "      <td>...</td>\n",
       "      <td>...</td>\n",
       "      <td>...</td>\n",
       "    </tr>\n",
       "    <tr>\n",
       "      <th>9601</th>\n",
       "      <td>8323</td>\n",
       "      <td>2021-01-19 21:37:25+00:00</td>\n",
       "      <td>1351644960047640577</td>\n",
       "      <td>Maggioranza risicatissima.\\nConte ha la maggio...</td>\n",
       "      <td>141</td>\n",
       "      <td>Lupi</td>\n",
       "      <td>NcI</td>\n",
       "      <td>3</td>\n",
       "      <td>1.0</td>\n",
       "    </tr>\n",
       "    <tr>\n",
       "      <th>9602</th>\n",
       "      <td>8324</td>\n",
       "      <td>2021-01-16 13:46:55+00:00</td>\n",
       "      <td>1350439392243015680</td>\n",
       "      <td>Altro che responsabili e #avanticonConte, con ...</td>\n",
       "      <td>53</td>\n",
       "      <td>Lupi</td>\n",
       "      <td>NcI</td>\n",
       "      <td>3</td>\n",
       "      <td>0.0</td>\n",
       "    </tr>\n",
       "    <tr>\n",
       "      <th>9603</th>\n",
       "      <td>8325</td>\n",
       "      <td>2021-01-13 14:40:00+00:00</td>\n",
       "      <td>1349365587122782209</td>\n",
       "      <td>Oltre al dannato Covid, oggi c’è un altro viru...</td>\n",
       "      <td>15</td>\n",
       "      <td>Lupi</td>\n",
       "      <td>NcI</td>\n",
       "      <td>3</td>\n",
       "      <td>1.0</td>\n",
       "    </tr>\n",
       "    <tr>\n",
       "      <th>9604</th>\n",
       "      <td>8326</td>\n",
       "      <td>2021-01-12 11:36:03+00:00</td>\n",
       "      <td>1348956904836517889</td>\n",
       "      <td>L'improvvisazione, le liti, l'incertezza di qu...</td>\n",
       "      <td>57</td>\n",
       "      <td>Lupi</td>\n",
       "      <td>NcI</td>\n",
       "      <td>3</td>\n",
       "      <td>1.0</td>\n",
       "    </tr>\n",
       "    <tr>\n",
       "      <th>9605</th>\n",
       "      <td>8327</td>\n",
       "      <td>2021-01-08 17:18:50+00:00</td>\n",
       "      <td>1347593620573061126</td>\n",
       "      <td>L'agonia del Governo rischia di mandare ancora...</td>\n",
       "      <td>44</td>\n",
       "      <td>Lupi</td>\n",
       "      <td>NcI</td>\n",
       "      <td>3</td>\n",
       "      <td>1.0</td>\n",
       "    </tr>\n",
       "  </tbody>\n",
       "</table>\n",
       "<p>9606 rows × 9 columns</p>\n",
       "</div>"
      ],
      "text/plain": [
       "      Unnamed: 0                       Date                   ID  \\\n",
       "0              0  2022-09-22 13:47:33+00:00  1572945698181586945   \n",
       "1              1  2022-09-21 12:19:11+00:00  1572561076071591936   \n",
       "2              2  2022-09-11 19:36:41+00:00  1569047296272207874   \n",
       "3              3  2022-08-09 20:38:08+00:00  1557103962754539520   \n",
       "4              4  2022-08-07 14:02:07+00:00  1556279522194079749   \n",
       "...          ...                        ...                  ...   \n",
       "9601        8323  2021-01-19 21:37:25+00:00  1351644960047640577   \n",
       "9602        8324  2021-01-16 13:46:55+00:00  1350439392243015680   \n",
       "9603        8325  2021-01-13 14:40:00+00:00  1349365587122782209   \n",
       "9604        8326  2021-01-12 11:36:03+00:00  1348956904836517889   \n",
       "9605        8327  2021-01-08 17:18:50+00:00  1347593620573061126   \n",
       "\n",
       "                                                Content  Likes politician  \\\n",
       "0     Ormai Letta e il Pd hanno detto di tutto contr...   2349     Meloni   \n",
       "1     Pd imbarazzante. Oggi se la prende col Ministr...   3702     Meloni   \n",
       "2     Cosa intendono? Inviteranno alla sovversione d...   1661     Meloni   \n",
       "3     Com'è mai possibile che questo soggetto si tro...   1371     Meloni   \n",
       "4     Colpo di scena nella telenovela del centrosini...   2995     Meloni   \n",
       "...                                                 ...    ...        ...   \n",
       "9601  Maggioranza risicatissima.\\nConte ha la maggio...    141       Lupi   \n",
       "9602  Altro che responsabili e #avanticonConte, con ...     53       Lupi   \n",
       "9603  Oltre al dannato Covid, oggi c’è un altro viru...     15       Lupi   \n",
       "9604  L'improvvisazione, le liti, l'incertezza di qu...     57       Lupi   \n",
       "9605  L'agonia del Governo rischia di mandare ancora...     44       Lupi   \n",
       "\n",
       "     party  ideology_num label_id  \n",
       "0      FdI             3      1.0  \n",
       "1      FdI             3      1.0  \n",
       "2      FdI             3      1.0  \n",
       "3      FdI             3      1.0  \n",
       "4      FdI             3      1.0  \n",
       "...    ...           ...      ...  \n",
       "9601   NcI             3      1.0  \n",
       "9602   NcI             3      0.0  \n",
       "9603   NcI             3      1.0  \n",
       "9604   NcI             3      1.0  \n",
       "9605   NcI             3      1.0  \n",
       "\n",
       "[9606 rows x 9 columns]"
      ]
     },
     "execution_count": 38,
     "metadata": {},
     "output_type": "execute_result"
    }
   ],
   "source": [
    "final[final['label_id'] != 'unknown']"
   ]
  },
  {
   "cell_type": "code",
   "execution_count": 37,
   "id": "ad78b956",
   "metadata": {},
   "outputs": [
    {
     "data": {
      "text/html": [
       "<div>\n",
       "<style scoped>\n",
       "    .dataframe tbody tr th:only-of-type {\n",
       "        vertical-align: middle;\n",
       "    }\n",
       "\n",
       "    .dataframe tbody tr th {\n",
       "        vertical-align: top;\n",
       "    }\n",
       "\n",
       "    .dataframe thead th {\n",
       "        text-align: right;\n",
       "    }\n",
       "</style>\n",
       "<table border=\"1\" class=\"dataframe\">\n",
       "  <thead>\n",
       "    <tr style=\"text-align: right;\">\n",
       "      <th></th>\n",
       "      <th>Unnamed: 0</th>\n",
       "      <th>Date</th>\n",
       "      <th>ID</th>\n",
       "      <th>Content</th>\n",
       "      <th>Likes</th>\n",
       "      <th>politician</th>\n",
       "      <th>party</th>\n",
       "      <th>ideology_num</th>\n",
       "      <th>label_id</th>\n",
       "    </tr>\n",
       "  </thead>\n",
       "  <tbody>\n",
       "    <tr>\n",
       "      <th>0</th>\n",
       "      <td>0</td>\n",
       "      <td>2022-09-22 13:47:33+00:00</td>\n",
       "      <td>1572945698181586945</td>\n",
       "      <td>Ormai Letta e il Pd hanno detto di tutto contr...</td>\n",
       "      <td>2349</td>\n",
       "      <td>Meloni</td>\n",
       "      <td>FdI</td>\n",
       "      <td>3</td>\n",
       "      <td>1.0</td>\n",
       "    </tr>\n",
       "    <tr>\n",
       "      <th>1</th>\n",
       "      <td>1</td>\n",
       "      <td>2022-09-21 12:19:11+00:00</td>\n",
       "      <td>1572561076071591936</td>\n",
       "      <td>Pd imbarazzante. Oggi se la prende col Ministr...</td>\n",
       "      <td>3702</td>\n",
       "      <td>Meloni</td>\n",
       "      <td>FdI</td>\n",
       "      <td>3</td>\n",
       "      <td>1.0</td>\n",
       "    </tr>\n",
       "    <tr>\n",
       "      <th>2</th>\n",
       "      <td>2</td>\n",
       "      <td>2022-09-11 19:36:41+00:00</td>\n",
       "      <td>1569047296272207874</td>\n",
       "      <td>Cosa intendono? Inviteranno alla sovversione d...</td>\n",
       "      <td>1661</td>\n",
       "      <td>Meloni</td>\n",
       "      <td>FdI</td>\n",
       "      <td>3</td>\n",
       "      <td>1.0</td>\n",
       "    </tr>\n",
       "    <tr>\n",
       "      <th>3</th>\n",
       "      <td>3</td>\n",
       "      <td>2022-08-09 20:38:08+00:00</td>\n",
       "      <td>1557103962754539520</td>\n",
       "      <td>Com'è mai possibile che questo soggetto si tro...</td>\n",
       "      <td>1371</td>\n",
       "      <td>Meloni</td>\n",
       "      <td>FdI</td>\n",
       "      <td>3</td>\n",
       "      <td>1.0</td>\n",
       "    </tr>\n",
       "    <tr>\n",
       "      <th>4</th>\n",
       "      <td>4</td>\n",
       "      <td>2022-08-07 14:02:07+00:00</td>\n",
       "      <td>1556279522194079749</td>\n",
       "      <td>Colpo di scena nella telenovela del centrosini...</td>\n",
       "      <td>2995</td>\n",
       "      <td>Meloni</td>\n",
       "      <td>FdI</td>\n",
       "      <td>3</td>\n",
       "      <td>1.0</td>\n",
       "    </tr>\n",
       "  </tbody>\n",
       "</table>\n",
       "</div>"
      ],
      "text/plain": [
       "   Unnamed: 0                       Date                   ID  \\\n",
       "0           0  2022-09-22 13:47:33+00:00  1572945698181586945   \n",
       "1           1  2022-09-21 12:19:11+00:00  1572561076071591936   \n",
       "2           2  2022-09-11 19:36:41+00:00  1569047296272207874   \n",
       "3           3  2022-08-09 20:38:08+00:00  1557103962754539520   \n",
       "4           4  2022-08-07 14:02:07+00:00  1556279522194079749   \n",
       "\n",
       "                                             Content  Likes politician party  \\\n",
       "0  Ormai Letta e il Pd hanno detto di tutto contr...   2349     Meloni   FdI   \n",
       "1  Pd imbarazzante. Oggi se la prende col Ministr...   3702     Meloni   FdI   \n",
       "2  Cosa intendono? Inviteranno alla sovversione d...   1661     Meloni   FdI   \n",
       "3  Com'è mai possibile che questo soggetto si tro...   1371     Meloni   FdI   \n",
       "4  Colpo di scena nella telenovela del centrosini...   2995     Meloni   FdI   \n",
       "\n",
       "   ideology_num label_id  \n",
       "0             3      1.0  \n",
       "1             3      1.0  \n",
       "2             3      1.0  \n",
       "3             3      1.0  \n",
       "4             3      1.0  "
      ]
     },
     "execution_count": 37,
     "metadata": {},
     "output_type": "execute_result"
    }
   ],
   "source": [
    "final.head()"
   ]
  },
  {
   "cell_type": "code",
   "execution_count": 45,
   "id": "600a2f61",
   "metadata": {},
   "outputs": [],
   "source": [
    "df = pd.read_csv('baseline_b_copy_bea.csv')"
   ]
  },
  {
   "cell_type": "code",
   "execution_count": 46,
   "id": "a1eca411",
   "metadata": {},
   "outputs": [
    {
     "data": {
      "text/html": [
       "<div>\n",
       "<style scoped>\n",
       "    .dataframe tbody tr th:only-of-type {\n",
       "        vertical-align: middle;\n",
       "    }\n",
       "\n",
       "    .dataframe tbody tr th {\n",
       "        vertical-align: top;\n",
       "    }\n",
       "\n",
       "    .dataframe thead th {\n",
       "        text-align: right;\n",
       "    }\n",
       "</style>\n",
       "<table border=\"1\" class=\"dataframe\">\n",
       "  <thead>\n",
       "    <tr style=\"text-align: right;\">\n",
       "      <th></th>\n",
       "      <th>generated_tweets</th>\n",
       "      <th>Macro</th>\n",
       "    </tr>\n",
       "  </thead>\n",
       "  <tbody>\n",
       "    <tr>\n",
       "      <th>0</th>\n",
       "      <td>\\nCitazione: \"L'amore è una cosa semplice\" - W...</td>\n",
       "      <td>5</td>\n",
       "    </tr>\n",
       "    <tr>\n",
       "      <th>1</th>\n",
       "      <td>\\nSoggetto: Non è questo il luogo per parlare ...</td>\n",
       "      <td>0</td>\n",
       "    </tr>\n",
       "    <tr>\n",
       "      <th>2</th>\n",
       "      <td>\\nNumero del messaggio in cui è stata citata l...</td>\n",
       "      <td>0</td>\n",
       "    </tr>\n",
       "    <tr>\n",
       "      <th>3</th>\n",
       "      <td>\\nCritica a uno Stato, una Costituzione o un G...</td>\n",
       "      <td>0</td>\n",
       "    </tr>\n",
       "    <tr>\n",
       "      <th>4</th>\n",
       "      <td>\\nSinistro: Europa, Italia.\\nPresidente del Co...</td>\n",
       "      <td>2</td>\n",
       "    </tr>\n",
       "  </tbody>\n",
       "</table>\n",
       "</div>"
      ],
      "text/plain": [
       "                                    generated_tweets  Macro\n",
       "0  \\nCitazione: \"L'amore è una cosa semplice\" - W...      5\n",
       "1  \\nSoggetto: Non è questo il luogo per parlare ...      0\n",
       "2  \\nNumero del messaggio in cui è stata citata l...      0\n",
       "3  \\nCritica a uno Stato, una Costituzione o un G...      0\n",
       "4  \\nSinistro: Europa, Italia.\\nPresidente del Co...      2"
      ]
     },
     "execution_count": 46,
     "metadata": {},
     "output_type": "execute_result"
    }
   ],
   "source": [
    "df.head()"
   ]
  },
  {
   "cell_type": "code",
   "execution_count": 47,
   "id": "cd8149d4",
   "metadata": {},
   "outputs": [],
   "source": [
    "df = df.rename(columns={'generated_tweets': 'content', 'Macro':'topic'})"
   ]
  },
  {
   "cell_type": "code",
   "execution_count": 48,
   "id": "276f6d30",
   "metadata": {},
   "outputs": [],
   "source": [
    "df.to_csv('baseline_b_copy_bea.csv')"
   ]
  },
  {
   "cell_type": "code",
   "execution_count": 50,
   "id": "627a448f",
   "metadata": {},
   "outputs": [
    {
     "data": {
      "text/plain": [
       "Index(['content', 'topic'], dtype='object')"
      ]
     },
     "execution_count": 50,
     "metadata": {},
     "output_type": "execute_result"
    }
   ],
   "source": [
    "df.columns"
   ]
  },
  {
   "cell_type": "code",
   "execution_count": 51,
   "id": "373cd5c9",
   "metadata": {},
   "outputs": [],
   "source": [
    "data = pd.read_csv('fine_tune_data.csv')"
   ]
  },
  {
   "cell_type": "code",
   "execution_count": 53,
   "id": "3debed2d",
   "metadata": {},
   "outputs": [],
   "source": [
    "data_right = data[data['Party'] == 'Destra']"
   ]
  },
  {
   "cell_type": "code",
   "execution_count": 54,
   "id": "f17167aa",
   "metadata": {},
   "outputs": [],
   "source": [
    "data_left = data[data['Party'] == 'Sinistra']"
   ]
  },
  {
   "cell_type": "code",
   "execution_count": 60,
   "id": "b34b1e12",
   "metadata": {},
   "outputs": [
    {
     "data": {
      "text/html": [
       "<div>\n",
       "<style scoped>\n",
       "    .dataframe tbody tr th:only-of-type {\n",
       "        vertical-align: middle;\n",
       "    }\n",
       "\n",
       "    .dataframe tbody tr th {\n",
       "        vertical-align: top;\n",
       "    }\n",
       "\n",
       "    .dataframe thead th {\n",
       "        text-align: right;\n",
       "    }\n",
       "</style>\n",
       "<table border=\"1\" class=\"dataframe\">\n",
       "  <thead>\n",
       "    <tr style=\"text-align: right;\">\n",
       "      <th></th>\n",
       "      <th>Content</th>\n",
       "      <th>Party</th>\n",
       "      <th>Dominant_Topic</th>\n",
       "      <th>Macro_Topic</th>\n",
       "      <th>Topic_Words</th>\n",
       "      <th>processed_tweet</th>\n",
       "      <th>Sentiment</th>\n",
       "    </tr>\n",
       "  </thead>\n",
       "  <tbody>\n",
       "    <tr>\n",
       "      <th>7783</th>\n",
       "      <td>A 47 anni dall’omicidio di Sergio Ramelli, uno...</td>\n",
       "      <td>Sinistra</td>\n",
       "      <td>Indipendenza giudiziaria e integrità legale</td>\n",
       "      <td>Governance e posizionamento politico</td>\n",
       "      <td>tanto grazie bello grande lavoro litalia tutto...</td>\n",
       "      <td>['anno', 'dallomicidio', 'Sergio', 'ramello', ...</td>\n",
       "      <td>Generico</td>\n",
       "    </tr>\n",
       "    <tr>\n",
       "      <th>7784</th>\n",
       "      <td>Ho predisposto, ma non lo presenterò io perché...</td>\n",
       "      <td>Sinistra</td>\n",
       "      <td>Indipendenza giudiziaria e integrità legale</td>\n",
       "      <td>Governance e posizionamento politico</td>\n",
       "      <td>tanto grazie bello grande lavoro litalia tutto...</td>\n",
       "      <td>['presidente', 'senato', 'gruppo', 'senatore',...</td>\n",
       "      <td>Generico</td>\n",
       "    </tr>\n",
       "    <tr>\n",
       "      <th>7785</th>\n",
       "      <td>Auspico che lo spirito del Teatro alla Scala i...</td>\n",
       "      <td>Sinistra</td>\n",
       "      <td>Diritti dei lavoratori e tutele occupazionali</td>\n",
       "      <td>Relazioni internazionali e valori progressisti</td>\n",
       "      <td>libertà diritto democrazia dovere politica per...</td>\n",
       "      <td>['auspico', 'spirito', 'teatro', 'scala', 'tut...</td>\n",
       "      <td>Generico</td>\n",
       "    </tr>\n",
       "    <tr>\n",
       "      <th>7786</th>\n",
       "      <td>Trovo inaccettabile l'attacco rivolto all'euro...</td>\n",
       "      <td>Sinistra</td>\n",
       "      <td>Legislazione climatica e leadership politica</td>\n",
       "      <td>Governance e posizionamento politico</td>\n",
       "      <td>drago governo parlamento presidente conte legg...</td>\n",
       "      <td>['trovo', 'inaccettabile', 'lattacco', 'pina',...</td>\n",
       "      <td>Generico</td>\n",
       "    </tr>\n",
       "    <tr>\n",
       "      <th>7787</th>\n",
       "      <td>Da mesi assistiamo ad una pericolosa escalatio...</td>\n",
       "      <td>Sinistra</td>\n",
       "      <td>Legislazione climatica e leadership politica</td>\n",
       "      <td>Governance e posizionamento politico</td>\n",
       "      <td>drago governo parlamento presidente conte legg...</td>\n",
       "      <td>['mese', 'pericoloso', 'escalation', 'minaccia...</td>\n",
       "      <td>Generico</td>\n",
       "    </tr>\n",
       "  </tbody>\n",
       "</table>\n",
       "</div>"
      ],
      "text/plain": [
       "                                                Content     Party  \\\n",
       "7783  A 47 anni dall’omicidio di Sergio Ramelli, uno...  Sinistra   \n",
       "7784  Ho predisposto, ma non lo presenterò io perché...  Sinistra   \n",
       "7785  Auspico che lo spirito del Teatro alla Scala i...  Sinistra   \n",
       "7786  Trovo inaccettabile l'attacco rivolto all'euro...  Sinistra   \n",
       "7787  Da mesi assistiamo ad una pericolosa escalatio...  Sinistra   \n",
       "\n",
       "                                     Dominant_Topic  \\\n",
       "7783    Indipendenza giudiziaria e integrità legale   \n",
       "7784    Indipendenza giudiziaria e integrità legale   \n",
       "7785  Diritti dei lavoratori e tutele occupazionali   \n",
       "7786   Legislazione climatica e leadership politica   \n",
       "7787   Legislazione climatica e leadership politica   \n",
       "\n",
       "                                         Macro_Topic  \\\n",
       "7783            Governance e posizionamento politico   \n",
       "7784            Governance e posizionamento politico   \n",
       "7785  Relazioni internazionali e valori progressisti   \n",
       "7786            Governance e posizionamento politico   \n",
       "7787            Governance e posizionamento politico   \n",
       "\n",
       "                                            Topic_Words  \\\n",
       "7783  tanto grazie bello grande lavoro litalia tutto...   \n",
       "7784  tanto grazie bello grande lavoro litalia tutto...   \n",
       "7785  libertà diritto democrazia dovere politica per...   \n",
       "7786  drago governo parlamento presidente conte legg...   \n",
       "7787  drago governo parlamento presidente conte legg...   \n",
       "\n",
       "                                        processed_tweet Sentiment  \n",
       "7783  ['anno', 'dallomicidio', 'Sergio', 'ramello', ...  Generico  \n",
       "7784  ['presidente', 'senato', 'gruppo', 'senatore',...  Generico  \n",
       "7785  ['auspico', 'spirito', 'teatro', 'scala', 'tut...  Generico  \n",
       "7786  ['trovo', 'inaccettabile', 'lattacco', 'pina',...  Generico  \n",
       "7787  ['mese', 'pericoloso', 'escalation', 'minaccia...  Generico  "
      ]
     },
     "execution_count": 60,
     "metadata": {},
     "output_type": "execute_result"
    }
   ],
   "source": [
    "data_left.head()"
   ]
  },
  {
   "cell_type": "code",
   "execution_count": 57,
   "id": "bafcef0b",
   "metadata": {},
   "outputs": [
    {
     "data": {
      "text/plain": [
       "(7783, 7)"
      ]
     },
     "execution_count": 57,
     "metadata": {},
     "output_type": "execute_result"
    }
   ],
   "source": [
    "data_right.shape"
   ]
  },
  {
   "cell_type": "code",
   "execution_count": 69,
   "id": "b53b63be",
   "metadata": {},
   "outputs": [
    {
     "ename": "KeyError",
     "evalue": "\"['Party', 'Dominant_Topic', 'Topic_Words', 'processed_tweet', 'Sentiment'] not found in axis\"",
     "output_type": "error",
     "traceback": [
      "\u001b[0;31m---------------------------------------------------------------------------\u001b[0m",
      "\u001b[0;31mKeyError\u001b[0m                                  Traceback (most recent call last)",
      "Cell \u001b[0;32mIn[69], line 1\u001b[0m\n\u001b[0;32m----> 1\u001b[0m \u001b[43mdata_left\u001b[49m\u001b[38;5;241;43m.\u001b[39;49m\u001b[43mdrop\u001b[49m\u001b[43m(\u001b[49m\u001b[43mcolumns\u001b[49m\u001b[38;5;241;43m=\u001b[39;49m\u001b[43m[\u001b[49m\u001b[38;5;124;43m'\u001b[39;49m\u001b[38;5;124;43mParty\u001b[39;49m\u001b[38;5;124;43m'\u001b[39;49m\u001b[43m,\u001b[49m\u001b[43m \u001b[49m\u001b[38;5;124;43m'\u001b[39;49m\u001b[38;5;124;43mDominant_Topic\u001b[39;49m\u001b[38;5;124;43m'\u001b[39;49m\u001b[43m,\u001b[49m\u001b[43m \u001b[49m\u001b[38;5;124;43m'\u001b[39;49m\u001b[38;5;124;43mTopic_Words\u001b[39;49m\u001b[38;5;124;43m'\u001b[39;49m\u001b[43m,\u001b[49m\u001b[43m \u001b[49m\u001b[38;5;124;43m'\u001b[39;49m\u001b[38;5;124;43mprocessed_tweet\u001b[39;49m\u001b[38;5;124;43m'\u001b[39;49m\u001b[43m,\u001b[49m\u001b[43m \u001b[49m\u001b[38;5;124;43m'\u001b[39;49m\u001b[38;5;124;43mSentiment\u001b[39;49m\u001b[38;5;124;43m'\u001b[39;49m\u001b[43m]\u001b[49m\u001b[43m,\u001b[49m\u001b[43m \u001b[49m\u001b[43minplace\u001b[49m\u001b[38;5;241;43m=\u001b[39;49m\u001b[38;5;28;43;01mTrue\u001b[39;49;00m\u001b[43m)\u001b[49m\n",
      "File \u001b[0;32m~/.local/lib/python3.9/site-packages/pandas/core/frame.py:5581\u001b[0m, in \u001b[0;36mDataFrame.drop\u001b[0;34m(self, labels, axis, index, columns, level, inplace, errors)\u001b[0m\n\u001b[1;32m   5433\u001b[0m \u001b[38;5;28;01mdef\u001b[39;00m\u001b[38;5;250m \u001b[39m\u001b[38;5;21mdrop\u001b[39m(\n\u001b[1;32m   5434\u001b[0m     \u001b[38;5;28mself\u001b[39m,\n\u001b[1;32m   5435\u001b[0m     labels: IndexLabel \u001b[38;5;241m|\u001b[39m \u001b[38;5;28;01mNone\u001b[39;00m \u001b[38;5;241m=\u001b[39m \u001b[38;5;28;01mNone\u001b[39;00m,\n\u001b[0;32m   (...)\u001b[0m\n\u001b[1;32m   5442\u001b[0m     errors: IgnoreRaise \u001b[38;5;241m=\u001b[39m \u001b[38;5;124m\"\u001b[39m\u001b[38;5;124mraise\u001b[39m\u001b[38;5;124m\"\u001b[39m,\n\u001b[1;32m   5443\u001b[0m ) \u001b[38;5;241m-\u001b[39m\u001b[38;5;241m>\u001b[39m DataFrame \u001b[38;5;241m|\u001b[39m \u001b[38;5;28;01mNone\u001b[39;00m:\n\u001b[1;32m   5444\u001b[0m \u001b[38;5;250m    \u001b[39m\u001b[38;5;124;03m\"\"\"\u001b[39;00m\n\u001b[1;32m   5445\u001b[0m \u001b[38;5;124;03m    Drop specified labels from rows or columns.\u001b[39;00m\n\u001b[1;32m   5446\u001b[0m \n\u001b[0;32m   (...)\u001b[0m\n\u001b[1;32m   5579\u001b[0m \u001b[38;5;124;03m            weight  1.0     0.8\u001b[39;00m\n\u001b[1;32m   5580\u001b[0m \u001b[38;5;124;03m    \"\"\"\u001b[39;00m\n\u001b[0;32m-> 5581\u001b[0m     \u001b[38;5;28;01mreturn\u001b[39;00m \u001b[38;5;28;43msuper\u001b[39;49m\u001b[43m(\u001b[49m\u001b[43m)\u001b[49m\u001b[38;5;241;43m.\u001b[39;49m\u001b[43mdrop\u001b[49m\u001b[43m(\u001b[49m\n\u001b[1;32m   5582\u001b[0m \u001b[43m        \u001b[49m\u001b[43mlabels\u001b[49m\u001b[38;5;241;43m=\u001b[39;49m\u001b[43mlabels\u001b[49m\u001b[43m,\u001b[49m\n\u001b[1;32m   5583\u001b[0m \u001b[43m        \u001b[49m\u001b[43maxis\u001b[49m\u001b[38;5;241;43m=\u001b[39;49m\u001b[43maxis\u001b[49m\u001b[43m,\u001b[49m\n\u001b[1;32m   5584\u001b[0m \u001b[43m        \u001b[49m\u001b[43mindex\u001b[49m\u001b[38;5;241;43m=\u001b[39;49m\u001b[43mindex\u001b[49m\u001b[43m,\u001b[49m\n\u001b[1;32m   5585\u001b[0m \u001b[43m        \u001b[49m\u001b[43mcolumns\u001b[49m\u001b[38;5;241;43m=\u001b[39;49m\u001b[43mcolumns\u001b[49m\u001b[43m,\u001b[49m\n\u001b[1;32m   5586\u001b[0m \u001b[43m        \u001b[49m\u001b[43mlevel\u001b[49m\u001b[38;5;241;43m=\u001b[39;49m\u001b[43mlevel\u001b[49m\u001b[43m,\u001b[49m\n\u001b[1;32m   5587\u001b[0m \u001b[43m        \u001b[49m\u001b[43minplace\u001b[49m\u001b[38;5;241;43m=\u001b[39;49m\u001b[43minplace\u001b[49m\u001b[43m,\u001b[49m\n\u001b[1;32m   5588\u001b[0m \u001b[43m        \u001b[49m\u001b[43merrors\u001b[49m\u001b[38;5;241;43m=\u001b[39;49m\u001b[43merrors\u001b[49m\u001b[43m,\u001b[49m\n\u001b[1;32m   5589\u001b[0m \u001b[43m    \u001b[49m\u001b[43m)\u001b[49m\n",
      "File \u001b[0;32m~/.local/lib/python3.9/site-packages/pandas/core/generic.py:4788\u001b[0m, in \u001b[0;36mNDFrame.drop\u001b[0;34m(self, labels, axis, index, columns, level, inplace, errors)\u001b[0m\n\u001b[1;32m   4786\u001b[0m \u001b[38;5;28;01mfor\u001b[39;00m axis, labels \u001b[38;5;129;01min\u001b[39;00m axes\u001b[38;5;241m.\u001b[39mitems():\n\u001b[1;32m   4787\u001b[0m     \u001b[38;5;28;01mif\u001b[39;00m labels \u001b[38;5;129;01mis\u001b[39;00m \u001b[38;5;129;01mnot\u001b[39;00m \u001b[38;5;28;01mNone\u001b[39;00m:\n\u001b[0;32m-> 4788\u001b[0m         obj \u001b[38;5;241m=\u001b[39m \u001b[43mobj\u001b[49m\u001b[38;5;241;43m.\u001b[39;49m\u001b[43m_drop_axis\u001b[49m\u001b[43m(\u001b[49m\u001b[43mlabels\u001b[49m\u001b[43m,\u001b[49m\u001b[43m \u001b[49m\u001b[43maxis\u001b[49m\u001b[43m,\u001b[49m\u001b[43m \u001b[49m\u001b[43mlevel\u001b[49m\u001b[38;5;241;43m=\u001b[39;49m\u001b[43mlevel\u001b[49m\u001b[43m,\u001b[49m\u001b[43m \u001b[49m\u001b[43merrors\u001b[49m\u001b[38;5;241;43m=\u001b[39;49m\u001b[43merrors\u001b[49m\u001b[43m)\u001b[49m\n\u001b[1;32m   4790\u001b[0m \u001b[38;5;28;01mif\u001b[39;00m inplace:\n\u001b[1;32m   4791\u001b[0m     \u001b[38;5;28mself\u001b[39m\u001b[38;5;241m.\u001b[39m_update_inplace(obj)\n",
      "File \u001b[0;32m~/.local/lib/python3.9/site-packages/pandas/core/generic.py:4830\u001b[0m, in \u001b[0;36mNDFrame._drop_axis\u001b[0;34m(self, labels, axis, level, errors, only_slice)\u001b[0m\n\u001b[1;32m   4828\u001b[0m         new_axis \u001b[38;5;241m=\u001b[39m axis\u001b[38;5;241m.\u001b[39mdrop(labels, level\u001b[38;5;241m=\u001b[39mlevel, errors\u001b[38;5;241m=\u001b[39merrors)\n\u001b[1;32m   4829\u001b[0m     \u001b[38;5;28;01melse\u001b[39;00m:\n\u001b[0;32m-> 4830\u001b[0m         new_axis \u001b[38;5;241m=\u001b[39m \u001b[43maxis\u001b[49m\u001b[38;5;241;43m.\u001b[39;49m\u001b[43mdrop\u001b[49m\u001b[43m(\u001b[49m\u001b[43mlabels\u001b[49m\u001b[43m,\u001b[49m\u001b[43m \u001b[49m\u001b[43merrors\u001b[49m\u001b[38;5;241;43m=\u001b[39;49m\u001b[43merrors\u001b[49m\u001b[43m)\u001b[49m\n\u001b[1;32m   4831\u001b[0m     indexer \u001b[38;5;241m=\u001b[39m axis\u001b[38;5;241m.\u001b[39mget_indexer(new_axis)\n\u001b[1;32m   4833\u001b[0m \u001b[38;5;66;03m# Case for non-unique axis\u001b[39;00m\n\u001b[1;32m   4834\u001b[0m \u001b[38;5;28;01melse\u001b[39;00m:\n",
      "File \u001b[0;32m~/.local/lib/python3.9/site-packages/pandas/core/indexes/base.py:7070\u001b[0m, in \u001b[0;36mIndex.drop\u001b[0;34m(self, labels, errors)\u001b[0m\n\u001b[1;32m   7068\u001b[0m \u001b[38;5;28;01mif\u001b[39;00m mask\u001b[38;5;241m.\u001b[39many():\n\u001b[1;32m   7069\u001b[0m     \u001b[38;5;28;01mif\u001b[39;00m errors \u001b[38;5;241m!=\u001b[39m \u001b[38;5;124m\"\u001b[39m\u001b[38;5;124mignore\u001b[39m\u001b[38;5;124m\"\u001b[39m:\n\u001b[0;32m-> 7070\u001b[0m         \u001b[38;5;28;01mraise\u001b[39;00m \u001b[38;5;167;01mKeyError\u001b[39;00m(\u001b[38;5;124mf\u001b[39m\u001b[38;5;124m\"\u001b[39m\u001b[38;5;132;01m{\u001b[39;00mlabels[mask]\u001b[38;5;241m.\u001b[39mtolist()\u001b[38;5;132;01m}\u001b[39;00m\u001b[38;5;124m not found in axis\u001b[39m\u001b[38;5;124m\"\u001b[39m)\n\u001b[1;32m   7071\u001b[0m     indexer \u001b[38;5;241m=\u001b[39m indexer[\u001b[38;5;241m~\u001b[39mmask]\n\u001b[1;32m   7072\u001b[0m \u001b[38;5;28;01mreturn\u001b[39;00m \u001b[38;5;28mself\u001b[39m\u001b[38;5;241m.\u001b[39mdelete(indexer)\n",
      "\u001b[0;31mKeyError\u001b[0m: \"['Party', 'Dominant_Topic', 'Topic_Words', 'processed_tweet', 'Sentiment'] not found in axis\""
     ]
    }
   ],
   "source": [
    "data_left.drop(columns=['Party', 'Dominant_Topic', 'Topic_Words', 'processed_tweet', 'Sentiment'], inplace=True)"
   ]
  },
  {
   "cell_type": "code",
   "execution_count": 67,
   "id": "7746ab69",
   "metadata": {},
   "outputs": [
    {
     "name": "stderr",
     "output_type": "stream",
     "text": [
      "/tmp/ipykernel_2108/3812181993.py:1: SettingWithCopyWarning: \n",
      "A value is trying to be set on a copy of a slice from a DataFrame\n",
      "\n",
      "See the caveats in the documentation: https://pandas.pydata.org/pandas-docs/stable/user_guide/indexing.html#returning-a-view-versus-a-copy\n",
      "  data_right.rename(columns={'Content': 'content', 'Macro_Topic':'topic'}, inplace=True)\n"
     ]
    }
   ],
   "source": [
    "data_right.rename(columns={'Content': 'content', 'Macro_Topic':'topic'}, inplace=True)"
   ]
  },
  {
   "cell_type": "code",
   "execution_count": 70,
   "id": "089205fb",
   "metadata": {},
   "outputs": [],
   "source": [
    "data_left.to_csv('train_left.csv')"
   ]
  },
  {
   "cell_type": "code",
   "execution_count": null,
   "id": "95a04edf",
   "metadata": {},
   "outputs": [],
   "source": []
  }
 ],
 "metadata": {
  "kernelspec": {
   "display_name": "Python 3",
   "language": "python",
   "name": "python3"
  },
  "language_info": {
   "codemirror_mode": {
    "name": "ipython",
    "version": 3
   },
   "file_extension": ".py",
   "mimetype": "text/x-python",
   "name": "python",
   "nbconvert_exporter": "python",
   "pygments_lexer": "ipython3",
   "version": "3.9.2"
  }
 },
 "nbformat": 4,
 "nbformat_minor": 5
}
