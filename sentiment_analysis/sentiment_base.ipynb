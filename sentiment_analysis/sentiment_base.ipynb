{
 "cells": [
  {
   "cell_type": "markdown",
   "metadata": {},
   "source": [
    "### Data Import"
   ]
  },
  {
   "cell_type": "code",
   "execution_count": 17,
   "metadata": {},
   "outputs": [],
   "source": [
    "import torch\n",
    "import pandas as pd\n",
    "import numpy as np\n",
    "from transformers import AutoTokenizer, AutoModelForSequenceClassification\n",
    "from transformers import XLMRobertaTokenizer\n",
    "import pyLDAvis.gensim_models as gensimvis\n",
    "import torch\n",
    "from tqdm import tqdm\n",
    "import torch.nn.functional as F\n",
    "from scipy.special import softmax\n",
    "import re\n",
    "\n"
   ]
  },
  {
   "cell_type": "markdown",
   "metadata": {},
   "source": [
    "### RoBERTa pre-trained on Twitter"
   ]
  },
  {
   "cell_type": "markdown",
   "metadata": {},
   "source": [
    "As a first try, we want to use a pre-trained model called XLM-Roberta-base that is trained on ~198M multilingual tweets (among which Italian) and we implement the version for sentiment analysis.\n",
    "\n",
    "Source: https://arxiv.org/abs/2104.12250\n",
    "https://huggingface.co/cardiffnlp/twitter-xlm-roberta-base-sentiment"
   ]
  },
  {
   "cell_type": "code",
   "execution_count": null,
   "metadata": {},
   "outputs": [],
   "source": [
    "MODEL = \"cardiffnlp/twitter-xlm-roberta-base-sentiment\"\n",
    "\n",
    "tokenizer = XLMRobertaTokenizer.from_pretrained(MODEL)\n",
    "model = AutoModelForSequenceClassification.from_pretrained(MODEL)\n",
    "model.eval()\n",
    "# Define labels\n",
    "labels = ['negative', 'neutral', 'positive']"
   ]
  },
  {
   "cell_type": "code",
   "execution_count": 5,
   "metadata": {},
   "outputs": [],
   "source": [
    "politicians_cleaned = pd.read_csv('../politicians_data/politicians_classified.csv')"
   ]
  },
  {
   "cell_type": "code",
   "execution_count": 14,
   "metadata": {},
   "outputs": [],
   "source": [
    "# Twitter-specific preprocessing\n",
    "def clean_tweet(text):\n",
    "    text = str(text)\n",
    "    text = re.sub(r\"http\\S+|www.\\S+\", \"\", text)      # Remove URLs\n",
    "    text = re.sub(r\"@\\w+\", \"@user\", text)            # Replace mentions\n",
    "    text = re.sub(r\"#\", \"\", text)                    # Remove hashtag symbols\n",
    "    text = re.sub(r\"\\s+\", \" \", text).strip()         # Remove extra spaces\n",
    "    return text.lower()"
   ]
  },
  {
   "cell_type": "code",
   "execution_count": 19,
   "metadata": {},
   "outputs": [],
   "source": [
    "# Sentiment analysis function (CPU version)\n",
    "def get_sentiment(text):\n",
    "    text = clean_tweet(text)\n",
    "    encoded_input = tokenizer(text, return_tensors='pt', truncation=True, max_length=128)\n",
    "    with torch.no_grad():\n",
    "        output = model(**encoded_input)\n",
    "        scores = F.softmax(output.logits, dim=1)[0]\n",
    "\n",
    "    label = labels[torch.argmax(scores).item()]\n",
    "    return {\n",
    "        'label': label,\n",
    "        'scores': {labels[i]: float(scores[i]) for i in range(len(labels))}\n",
    "    }\n",
    "\n",
    "\n"
   ]
  },
  {
   "cell_type": "code",
   "execution_count": 23,
   "metadata": {},
   "outputs": [
    {
     "name": "stderr",
     "output_type": "stream",
     "text": [
      "Analyzing sentiment: 100%|██████████| 17245/17245 [12:02<00:00, 23.88it/s]\n"
     ]
    }
   ],
   "source": [
    "# Apply sentiment analysis with progress bar\n",
    "tqdm.pandas(desc=\"Analyzing sentiment\")\n",
    "roberta_result = politicians_cleaned['Content'].progress_apply(get_sentiment)\n"
   ]
  },
  {
   "cell_type": "code",
   "execution_count": 34,
   "metadata": {},
   "outputs": [],
   "source": [
    "roberta_result= roberta_result.to_dict()"
   ]
  },
  {
   "cell_type": "code",
   "execution_count": 35,
   "metadata": {},
   "outputs": [
    {
     "data": {
      "text/html": [
       "<div>\n",
       "<style scoped>\n",
       "    .dataframe tbody tr th:only-of-type {\n",
       "        vertical-align: middle;\n",
       "    }\n",
       "\n",
       "    .dataframe tbody tr th {\n",
       "        vertical-align: top;\n",
       "    }\n",
       "\n",
       "    .dataframe thead th {\n",
       "        text-align: right;\n",
       "    }\n",
       "</style>\n",
       "<table border=\"1\" class=\"dataframe\">\n",
       "  <thead>\n",
       "    <tr style=\"text-align: right;\">\n",
       "      <th></th>\n",
       "      <th>label</th>\n",
       "    </tr>\n",
       "  </thead>\n",
       "  <tbody>\n",
       "    <tr>\n",
       "      <th>0</th>\n",
       "      <td>negative</td>\n",
       "    </tr>\n",
       "    <tr>\n",
       "      <th>1</th>\n",
       "      <td>negative</td>\n",
       "    </tr>\n",
       "    <tr>\n",
       "      <th>2</th>\n",
       "      <td>negative</td>\n",
       "    </tr>\n",
       "    <tr>\n",
       "      <th>3</th>\n",
       "      <td>negative</td>\n",
       "    </tr>\n",
       "    <tr>\n",
       "      <th>4</th>\n",
       "      <td>negative</td>\n",
       "    </tr>\n",
       "    <tr>\n",
       "      <th>...</th>\n",
       "      <td>...</td>\n",
       "    </tr>\n",
       "    <tr>\n",
       "      <th>17240</th>\n",
       "      <td>negative</td>\n",
       "    </tr>\n",
       "    <tr>\n",
       "      <th>17241</th>\n",
       "      <td>positive</td>\n",
       "    </tr>\n",
       "    <tr>\n",
       "      <th>17242</th>\n",
       "      <td>positive</td>\n",
       "    </tr>\n",
       "    <tr>\n",
       "      <th>17243</th>\n",
       "      <td>positive</td>\n",
       "    </tr>\n",
       "    <tr>\n",
       "      <th>17244</th>\n",
       "      <td>positive</td>\n",
       "    </tr>\n",
       "  </tbody>\n",
       "</table>\n",
       "<p>17245 rows × 1 columns</p>\n",
       "</div>"
      ],
      "text/plain": [
       "          label\n",
       "0      negative\n",
       "1      negative\n",
       "2      negative\n",
       "3      negative\n",
       "4      negative\n",
       "...         ...\n",
       "17240  negative\n",
       "17241  positive\n",
       "17242  positive\n",
       "17243  positive\n",
       "17244  positive\n",
       "\n",
       "[17245 rows x 1 columns]"
      ]
     },
     "execution_count": 35,
     "metadata": {},
     "output_type": "execute_result"
    }
   ],
   "source": [
    "roberta_result_df = pd.DataFrame.from_dict(roberta_result, orient='index', columns=['label'])\n",
    "roberta_result_df"
   ]
  },
  {
   "cell_type": "code",
   "execution_count": 36,
   "metadata": {},
   "outputs": [],
   "source": [
    "roberta_sentiment = politicians_cleaned[['ID', 'Content', 'politician', 'party']].copy()\n",
    "roberta_sentiment['label'] = roberta_result_df['label']"
   ]
  },
  {
   "cell_type": "code",
   "execution_count": 38,
   "metadata": {},
   "outputs": [
    {
     "data": {
      "text/plain": [
       "label\n",
       "positive    10333\n",
       "negative     5144\n",
       "neutral      1768\n",
       "Name: count, dtype: int64"
      ]
     },
     "execution_count": 38,
     "metadata": {},
     "output_type": "execute_result"
    }
   ],
   "source": [
    "roberta_sentiment['label'].value_counts()"
   ]
  },
  {
   "cell_type": "code",
   "execution_count": 39,
   "metadata": {},
   "outputs": [
    {
     "name": "stdout",
     "output_type": "stream",
     "text": [
      "Sample negative tweets:\n",
      "Tweet 1: Vaccinarsi è una scelta che protegge noi stessi e le persone a cui vogliamo bene. Per questo ben venga il #greenpass.\n",
      "Ma il governo faccia anche di più: più tracciamento, più mezzi pubblici in sicurezza, meno alunni per classe https://t.co/ABQ2e7jygt\n",
      "\n",
      "Tweet 2: Il voto utile non esiste. Ci sono 4 coalizioni e la vittoria di questa destra poco seria e sfascista si può fermare eccome. L’unica vera rivoluzione che serve a questo paese è quella della serietà e del buon governo.\n",
      "\n",
      "A #Brescia per la presentazione dei nostri candidati. https://t.co/yBjsBMWhj0\n",
      "\n",
      "Tweet 3: Grazie a tutti coloro che in questa calda domenica sono venuti e stanno venendo a firmare i #referendumgiustizia, un’occasione di democrazia e libertà che va al di là degli schieramenti politici. Si può firmare tutta estate in tutti i Municipi italiani 🇮🇹 Un saluto da Fregene! https://t.co/U7JKEN4fsh\n",
      "\n",
      "Tweet 4: Piena solidarietà a @sbonaccini. Vai avanti Stefano! Siamo con te.\n",
      "\n",
      "Tweet 5: Siamo il centro e rappresentiamo con orgoglio la grande famiglia del @EPPGroup in Italia. Ogni consenso in più per noi rafforzerà il profilo moderato e centrista della coalizione. \n",
      "Il servizio di Studio aperto. https://t.co/g6IfGIbZWu\n",
      "\n",
      "\n",
      "\n",
      "Sample positive tweets:\n",
      "Tweet 1: Elena, Resta il fatto che da ottobre Raggi è cresciuta nei sondaggi perché nessuno sta parlando di Roma. Tutti parliamo di cose di cui ai romani non frega nulla. E andare avanti così fino a luglio è assurdo. Aggiungici polemiche tra candidati e la frittata è fatta.\n",
      "\n",
      "Tweet 2: Con le sue regole attuali (unanimità e veti nazionali) UE non regge le nuove sfide nei campi della politica estera, dell’energia, del sociale. Per evitare 🇪🇺 inefficace e lenta ci vuole una #ConvenzioneEuropea che cambi le regole e tolga l’unanimità. È ora il #momentum per farlo.\n",
      "\n",
      "Tweet 3: «Sono solo, non riesco a stare in piedi. Vi prego aiutatemi». Così due poliziotti di Livorno si precipitano a casa di Alfredo, 86enne malato che non mangiava da giorni, fanno la spesa e gli cucinano un piatto pasta. Un gesto che riempie il cuore di chi soffre la solitudine. Bravi https://t.co/RofID15j4U\n",
      "\n",
      "Tweet 4: Altro che allarme democratico, qui c’è un concreto rischio di galleggiamento. Vaghi accenni su politica energetica, poco o nulla su scuola, cultura e sanità. Bene su RDC e posizionamento internazionale dell’Italia. Bella la parte sulle donne. Il resto è fuffa.\n",
      "\n",
      "Tweet 5: Cosimo Damiano Bologna non ce l’ha fatta: picchiato a morte per aver tentato di difendere un'amica da uno stalker, che ora dovrà rispondere anche del reato di omicidio preterintenzionale.\n",
      "Un uomo coraggioso che ha deciso di non girarsi dall’altra parte. Che la terra ti sia lieve. https://t.co/TM22Aa81Dl\n",
      "\n",
      "\n",
      "\n",
      "Sample neutral tweets:\n",
      "Tweet 1: Certo. Il tema è quando acquisirla e quando invece aprire la mente alla conoscenza culturale. Attenzione il problema non è solo l’educazione istituzionale, ma anche la lontananza dalla cultura umanistica.\n",
      "\n",
      "Tweet 2: Con @forza_italia ed il centro-destra di governo c’è il  #cambiodipasso. Entro maggio,dove si può,cambieranno le regole del #coprifuoco\n",
      "\n",
      "Tweet 3: La Lega è al lavoro sulla #FlatTax, loro ancora oggi tirano in ballo la patrimoniale. Il 25 settembre li mandiamo tutti a casa!\n",
      "#25settembrevotoLega https://t.co/KW5ML0fj23\n",
      "\n",
      "Tweet 4: @FabSor12 @Azione_it Molto. Vuol dire che sosteniamo la persona ma non la coalizione politica\n",
      "\n",
      "Tweet 5: Vaccino, tampone o Green Pass per entrare in bar e ristoranti?\n",
      "Non scherziamo.\n",
      "\n",
      "\n",
      "\n"
     ]
    }
   ],
   "source": [
    "# print a sample of 5 'Content' per each sentiment label\n",
    "for label in roberta_sentiment['label'].unique():\n",
    "    print(f\"Sample {label} tweets:\")\n",
    "    samples = roberta_sentiment[roberta_sentiment['label'] == label]['Content'].sample(5, random_state=42).to_list()\n",
    "    for n,s in enumerate(samples):\n",
    "        print(f\"Tweet {n+1}: {s}\\n\")\n",
    "    print(\"\\n\")"
   ]
  },
  {
   "cell_type": "markdown",
   "metadata": {},
   "source": [
    "We are not much happy with the results because, over these 15 instances, it correctly classified at most 4 tweets. So we will try to implement another model."
   ]
  },
  {
   "cell_type": "markdown",
   "metadata": {},
   "source": [
    "## Model trained only on italian tweets"
   ]
  },
  {
   "cell_type": "markdown",
   "metadata": {},
   "source": [
    "As a second shot, we apply a pre-trained model based on UmBERTo which has been fine-tuned precisely on Italian tweets and again there is one version made for sentiment analysis."
   ]
  },
  {
   "cell_type": "code",
   "execution_count": null,
   "metadata": {},
   "outputs": [],
   "source": [
    "model_name = \"MilaNLProc/feel-it-italian-emotion\"\n",
    "tokenizer = AutoTokenizer.from_pretrained(model_name)\n",
    "model = AutoModelForSequenceClassification.from_pretrained(model_name)\n",
    "\n",
    "def italian_sentiment(text):\n",
    "    text = clean_tweet(text)\n",
    "    encoded_input = tokenizer(text, return_tensors='pt', truncation=True)\n",
    "    with torch.no_grad():\n",
    "        output = model(**encoded_input)\n",
    "        scores = F.softmax(output.logits, dim=1)[0]\n",
    "    labels = ['fear', 'joy', 'sadness', 'anger']\n",
    "    label = labels[torch.argmax(scores).item()]\n",
    "    return {\n",
    "        'label': label,\n",
    "        'scores': {labels[i]: float(scores[i]) for i in range(len(labels))}\n",
    "    }\n",
    "\n"
   ]
  },
  {
   "cell_type": "code",
   "execution_count": null,
   "metadata": {},
   "outputs": [],
   "source": [
    "feelit_result = politicians_cleaned['Content'].apply(italian_sentiment)"
   ]
  },
  {
   "cell_type": "code",
   "execution_count": 30,
   "metadata": {},
   "outputs": [],
   "source": [
    "feelit_result = feelit_result.to_dict()"
   ]
  },
  {
   "cell_type": "code",
   "execution_count": 31,
   "metadata": {},
   "outputs": [
    {
     "data": {
      "text/html": [
       "<div>\n",
       "<style scoped>\n",
       "    .dataframe tbody tr th:only-of-type {\n",
       "        vertical-align: middle;\n",
       "    }\n",
       "\n",
       "    .dataframe tbody tr th {\n",
       "        vertical-align: top;\n",
       "    }\n",
       "\n",
       "    .dataframe thead th {\n",
       "        text-align: right;\n",
       "    }\n",
       "</style>\n",
       "<table border=\"1\" class=\"dataframe\">\n",
       "  <thead>\n",
       "    <tr style=\"text-align: right;\">\n",
       "      <th></th>\n",
       "      <th>label</th>\n",
       "      <th>scores</th>\n",
       "    </tr>\n",
       "  </thead>\n",
       "  <tbody>\n",
       "    <tr>\n",
       "      <th>0</th>\n",
       "      <td>negative</td>\n",
       "      <td>{'positive': 0.000249743927270174, 'negative':...</td>\n",
       "    </tr>\n",
       "    <tr>\n",
       "      <th>1</th>\n",
       "      <td>negative</td>\n",
       "      <td>{'positive': 0.001125097624026239, 'negative':...</td>\n",
       "    </tr>\n",
       "    <tr>\n",
       "      <th>2</th>\n",
       "      <td>negative</td>\n",
       "      <td>{'positive': 0.0031859937589615583, 'negative'...</td>\n",
       "    </tr>\n",
       "    <tr>\n",
       "      <th>3</th>\n",
       "      <td>positive</td>\n",
       "      <td>{'positive': 0.9997900128364563, 'negative': 0...</td>\n",
       "    </tr>\n",
       "    <tr>\n",
       "      <th>4</th>\n",
       "      <td>positive</td>\n",
       "      <td>{'positive': 0.9927362203598022, 'negative': 0...</td>\n",
       "    </tr>\n",
       "    <tr>\n",
       "      <th>...</th>\n",
       "      <td>...</td>\n",
       "      <td>...</td>\n",
       "    </tr>\n",
       "    <tr>\n",
       "      <th>17240</th>\n",
       "      <td>positive</td>\n",
       "      <td>{'positive': 0.9997599720954895, 'negative': 0...</td>\n",
       "    </tr>\n",
       "    <tr>\n",
       "      <th>17241</th>\n",
       "      <td>positive</td>\n",
       "      <td>{'positive': 0.9997979998588562, 'negative': 0...</td>\n",
       "    </tr>\n",
       "    <tr>\n",
       "      <th>17242</th>\n",
       "      <td>positive</td>\n",
       "      <td>{'positive': 0.9997934699058533, 'negative': 0...</td>\n",
       "    </tr>\n",
       "    <tr>\n",
       "      <th>17243</th>\n",
       "      <td>positive</td>\n",
       "      <td>{'positive': 0.9997965693473816, 'negative': 0...</td>\n",
       "    </tr>\n",
       "    <tr>\n",
       "      <th>17244</th>\n",
       "      <td>positive</td>\n",
       "      <td>{'positive': 0.9997969269752502, 'negative': 0...</td>\n",
       "    </tr>\n",
       "  </tbody>\n",
       "</table>\n",
       "<p>17245 rows × 2 columns</p>\n",
       "</div>"
      ],
      "text/plain": [
       "          label                                             scores\n",
       "0      negative  {'positive': 0.000249743927270174, 'negative':...\n",
       "1      negative  {'positive': 0.001125097624026239, 'negative':...\n",
       "2      negative  {'positive': 0.0031859937589615583, 'negative'...\n",
       "3      positive  {'positive': 0.9997900128364563, 'negative': 0...\n",
       "4      positive  {'positive': 0.9927362203598022, 'negative': 0...\n",
       "...         ...                                                ...\n",
       "17240  positive  {'positive': 0.9997599720954895, 'negative': 0...\n",
       "17241  positive  {'positive': 0.9997979998588562, 'negative': 0...\n",
       "17242  positive  {'positive': 0.9997934699058533, 'negative': 0...\n",
       "17243  positive  {'positive': 0.9997965693473816, 'negative': 0...\n",
       "17244  positive  {'positive': 0.9997969269752502, 'negative': 0...\n",
       "\n",
       "[17245 rows x 2 columns]"
      ]
     },
     "execution_count": 31,
     "metadata": {},
     "output_type": "execute_result"
    }
   ],
   "source": [
    "feelit_df = pd.DataFrame.from_dict(feelit_result, orient='index')\n",
    "feelit_df"
   ]
  },
  {
   "cell_type": "code",
   "execution_count": 32,
   "metadata": {},
   "outputs": [],
   "source": [
    "feelit_sentiment = politicians_cleaned[['ID', 'Content', 'politician', 'party']].copy()\n",
    "feelit_sentiment['label'] = feelit_df['label']"
   ]
  },
  {
   "cell_type": "code",
   "execution_count": 33,
   "metadata": {},
   "outputs": [
    {
     "data": {
      "text/plain": [
       "label\n",
       "positive    14035\n",
       "negative     3210\n",
       "Name: count, dtype: int64"
      ]
     },
     "execution_count": 33,
     "metadata": {},
     "output_type": "execute_result"
    }
   ],
   "source": [
    "feelit_sentiment['label'].value_counts()"
   ]
  },
  {
   "cell_type": "code",
   "execution_count": 35,
   "metadata": {},
   "outputs": [
    {
     "name": "stdout",
     "output_type": "stream",
     "text": [
      "Sample negative tweets:\n",
      "Tweet 1: Oggi, con la fine dello stato d'emergenza, si conclude l'incarico del Generale Figliuolo. Il suo lavoro alla guida della campagna vaccinale ha rappresentato un punto di svolta nella lotta al Covid. Era il cambio di passo che @forza_italia voleva al governo. Lo ringraziamo!\n",
      "\n",
      "Tweet 2: @R__Pizzi @CalendaSindaco 700 per la precisione.\n",
      "\n",
      "Tweet 3: Andiamo avanti. \n",
      "Per un paese più giusto, più verde e più libero.\n",
      "\n",
      "#verdiesinistra #sinistraitaliana #giustizia https://t.co/aJ0exX0Uqa\n",
      "\n",
      "Tweet 4: Caso #Open. Per la quinta volta la Cassazione critica i PM fiorentini. Niente risarcisce il dolore di questi mesi ma è un giorno di speranza: quando parla la giustizia, tace il giustizialismo\n",
      "https://t.co/z78DwFACC5 https://t.co/VrOM2YbbrE\n",
      "\n",
      "Tweet 5: Buon lavoro al Presidente rieletto Rebelo de Sousa e complimenti per lo straordinario risultato ad André Ventura di Chega 🇵🇹, alleato europeo della Lega, al suo esordio.\n",
      "P.s. Se in #Portogallo il Covid non ferma la Democrazia, perché dovrebbe farlo in Italia?🇮🇹\n",
      "#Presidenciais2021 https://t.co/jqgMqVZahG\n",
      "\n",
      "\n",
      "\n",
      "Sample positive tweets:\n",
      "Tweet 1: I dati reali smentiscono la propaganda filogovernativa https://t.co/ZeCWWPCM3z\n",
      "\n",
      "Tweet 2: Le nuove norme #Brunetta per i #concorsi pubblici sono ingiuste\n",
      "Un colpo a centinaia di migliaia di giovani che non si possono permettere i #master. Draghi corregga subito\n",
      "\n",
      "https://t.co/vrdtWSB484\n",
      "\n",
      "Tweet 3: Niente più blacklist e multe sul fatturato per le aziende che delocalizzano dopo aver preso fondi pubblici. \n",
      "Queste le anticipazioni sulla bozza del #DecretoAntiDelocalizzazioni.\n",
      "È uno scherzo? Smettiamola di prendere in giro lavoratori e lavoratrici.\n",
      "#lavoro #diritti https://t.co/LFAljqCIAM\n",
      "\n",
      "Tweet 4: ISTAT: il dato dell'inflazione annua rimane molto alto, intorno all'8%. Chiunque sarà in Parlamento dal prossimo #25settembre troverà una delle crisi più drammatiche per la classe media e per le famiglie. Servono persone preparate, che offrono soluzioni e non slogan #TerzoPolo\n",
      "\n",
      "Tweet 5: La libertà esiste perché esistono dei limiti. Altrimenti è prevaricazione del forte sul debole. Nella vita, come in politica, non c'è bisogno di supereroi ma di ritrovare il senso di comunità. \n",
      "Intervista a @Libero_official su \"La libertà che non libera\": https://t.co/bJPkOSTVPk https://t.co/KWjPCWL78G\n",
      "\n",
      "\n",
      "\n"
     ]
    }
   ],
   "source": [
    "# print a sample of 5 'Content' per each sentiment label\n",
    "for label in feelit_sentiment['label'].unique():\n",
    "    print(f\"Sample {label} tweets:\")\n",
    "    samples = feelit_sentiment[feelit_sentiment['label'] == label]['Content'].sample(5, random_state=42).to_list()\n",
    "    for n,s in enumerate(samples):\n",
    "        print(f\"Tweet {n+1}: {s}\\n\")\n",
    "    print(\"\\n\")"
   ]
  }
 ],
 "metadata": {
  "kernelspec": {
   "display_name": "base",
   "language": "python",
   "name": "python3"
  },
  "language_info": {
   "codemirror_mode": {
    "name": "ipython",
    "version": 3
   },
   "file_extension": ".py",
   "mimetype": "text/x-python",
   "name": "python",
   "nbconvert_exporter": "python",
   "pygments_lexer": "ipython3",
   "version": "3.12.4"
  }
 },
 "nbformat": 4,
 "nbformat_minor": 2
}
