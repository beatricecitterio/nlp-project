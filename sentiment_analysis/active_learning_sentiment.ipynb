{
 "cells": [
  {
   "cell_type": "markdown",
   "id": "3e5807f8",
   "metadata": {},
   "source": [
    "# **Sentiment Analysis II - Active Learning**\n",
    "So far we have tried:\n",
    "- roberta pre trained\n",
    "- zero shot learning\n",
    "- Vader on translated tweets\n",
    "\n",
    "Issue: none of them works well (not good classification and very imbalanced data)."
   ]
  },
  {
   "cell_type": "code",
   "execution_count": null,
   "id": "fd11a4e2",
   "metadata": {},
   "outputs": [],
   "source": [
    "import pandas as pd\n",
    "import numpy as np\n",
    "import os\n",
    "import matplotlib.pyplot as plt\n",
    "import seaborn as sns\n",
    "from torch.utils.data import DataLoader\n",
    "from tqdm import tqdm\n",
    "import numpy as np\n",
    "import pandas as pd\n",
    "from sklearn.model_selection import train_test_split\n",
    "\n",
    "from transformers import AutoTokenizer, AutoModelForSequenceClassification, Trainer, TrainingArguments\n",
    "import torch"
   ]
  },
  {
   "cell_type": "code",
   "execution_count": 2,
   "id": "faf610ea",
   "metadata": {},
   "outputs": [],
   "source": [
    "os.environ['WANDB_DISABLED'] = 'true'"
   ]
  },
  {
   "cell_type": "markdown",
   "id": "306c758d",
   "metadata": {},
   "source": [
    "## **Load the Data**"
   ]
  },
  {
   "cell_type": "code",
   "execution_count": 15,
   "id": "75772cd7",
   "metadata": {},
   "outputs": [],
   "source": [
    "politicians_cleaned = pd.read_csv('politicians_classified.csv')\n",
    "data = politicians_cleaned.drop(columns=['Unnamed: 0', 'classification'])"
   ]
  },
  {
   "cell_type": "code",
   "execution_count": 3,
   "id": "7fc3bca5",
   "metadata": {},
   "outputs": [],
   "source": [
    "labeled_data = pd.read_csv('labeled_tweets_with_tone.csv')"
   ]
  },
  {
   "cell_type": "markdown",
   "id": "132053d8",
   "metadata": {},
   "source": [
    "## **Active Learning**\n",
    "Active learning is a technique used to minimize labeling effort by selectively choosing which examples a human should label next.\n",
    "How it works:\n",
    "- Start with a small labeled set (e.g., 200 tweets).\n",
    "- Train an initial model (using transfer learning).\n",
    "- Use that model to predict on the unlabeled tweets.\n",
    "- Select the most uncertain predictions (e.g., low confidence margin between classes).\n",
    "- Manually label these tweets (they’re the most informative).\n",
    "- Retrain the model with the new labeled data.\n",
    "- Repeat \n",
    "Goal: Reach high model performance with far fewer labels than random sampling would require"
   ]
  },
  {
   "cell_type": "markdown",
   "id": "fb677ede",
   "metadata": {},
   "source": [
    "SET OF LABELS:\n",
    "\n",
    "    'Call to Action / Propaganda': 0,\n",
    "\n",
    "    'Critical / Angry': 1,\n",
    "\n",
    "    'Neutral / Informational': 2,\n",
    "\n",
    "    'Supportive / Affirmative / Celebratory': 4"
   ]
  },
  {
   "cell_type": "markdown",
   "id": "874a8569",
   "metadata": {},
   "source": [
    "We start with 200 manually labeled tweets stored in labeled data."
   ]
  },
  {
   "cell_type": "code",
   "execution_count": null,
   "id": "059f45df",
   "metadata": {},
   "outputs": [],
   "source": [
    "unlabeled_data = data[~data['Content'].isin(labeled_data['Content'])]"
   ]
  },
  {
   "cell_type": "markdown",
   "id": "60c64fac",
   "metadata": {},
   "source": [
    "### **Fine Tune**"
   ]
  },
  {
   "cell_type": "code",
   "execution_count": null,
   "id": "18a4d8e5",
   "metadata": {},
   "outputs": [],
   "source": [
    "model_name = \"dbmdz/bert-base-italian-uncased\"\n",
    "tokenizer = AutoTokenizer.from_pretrained(model_name)\n"
   ]
  },
  {
   "cell_type": "code",
   "execution_count": 19,
   "id": "ef0fb119",
   "metadata": {},
   "outputs": [
    {
     "name": "stderr",
     "output_type": "stream",
     "text": [
      "Map:   0%|          | 0/700 [00:00<?, ? examples/s]"
     ]
    },
    {
     "name": "stderr",
     "output_type": "stream",
     "text": [
      "Map: 100%|██████████| 700/700 [00:00<00:00, 2847.84 examples/s]\n"
     ]
    }
   ],
   "source": [
    "label_list = labeled_data['tone_label'].unique()\n",
    "label2id = {label: idx for idx, label in enumerate(label_list)}\n",
    "id2label = {idx: label for label, idx in label2id.items()}\n",
    "\n",
    "labeled_data['label_id'] = labeled_data['tone_label'].map(label2id)\n",
    "\n",
    "from datasets import Dataset\n",
    "\n",
    "train_dataset = Dataset.from_pandas(labeled_data)\n",
    "\n",
    "def tokenize_function(examples):\n",
    "    return tokenizer(examples['Content'], padding=\"max_length\", truncation=True)\n",
    "\n",
    "train_dataset = train_dataset.map(tokenize_function, batched=True)\n",
    "train_dataset = train_dataset.rename_column(\"label_id\", \"labels\")\n",
    "\n",
    "columns_to_remove = [col for col in train_dataset.column_names if col not in ['input_ids', 'attention_mask', 'labels']]\n",
    "train_dataset = train_dataset.remove_columns(columns_to_remove)\n",
    "\n",
    "train_dataset.set_format(type='torch', columns=['input_ids', 'attention_mask', 'labels'])\n"
   ]
  },
  {
   "cell_type": "code",
   "execution_count": 20,
   "id": "6316b1aa",
   "metadata": {},
   "outputs": [
    {
     "name": "stderr",
     "output_type": "stream",
     "text": [
      "Some weights of BertForSequenceClassification were not initialized from the model checkpoint at dbmdz/bert-base-italian-uncased and are newly initialized: ['classifier.bias', 'classifier.weight']\n",
      "You should probably TRAIN this model on a down-stream task to be able to use it for predictions and inference.\n"
     ]
    }
   ],
   "source": [
    "model = AutoModelForSequenceClassification.from_pretrained(\n",
    "    model_name,\n",
    "    num_labels=len(label_list),\n",
    "    id2label=id2label,\n",
    "    label2id=label2id\n",
    ")"
   ]
  },
  {
   "cell_type": "code",
   "execution_count": 21,
   "id": "87acc5f6",
   "metadata": {},
   "outputs": [
    {
     "name": "stderr",
     "output_type": "stream",
     "text": [
      "huggingface/tokenizers: The current process just got forked, after parallelism has already been used. Disabling parallelism to avoid deadlocks...\n",
      "To disable this warning, you can either:\n",
      "\t- Avoid using `tokenizers` before the fork if possible\n",
      "\t- Explicitly set the environment variable TOKENIZERS_PARALLELISM=(true | false)\n",
      "huggingface/tokenizers: The current process just got forked, after parallelism has already been used. Disabling parallelism to avoid deadlocks...\n",
      "To disable this warning, you can either:\n",
      "\t- Avoid using `tokenizers` before the fork if possible\n",
      "\t- Explicitly set the environment variable TOKENIZERS_PARALLELISM=(true | false)\n",
      "huggingface/tokenizers: The current process just got forked, after parallelism has already been used. Disabling parallelism to avoid deadlocks...\n",
      "To disable this warning, you can either:\n",
      "\t- Avoid using `tokenizers` before the fork if possible\n",
      "\t- Explicitly set the environment variable TOKENIZERS_PARALLELISM=(true | false)\n",
      "Using the `WANDB_DISABLED` environment variable is deprecated and will be removed in v5. Use the --report_to flag to control the integrations used for logging result (for instance --report_to none).\n"
     ]
    },
    {
     "name": "stdout",
     "output_type": "stream",
     "text": [
      "Starting fine-tuning on labeled data...\n"
     ]
    },
    {
     "data": {
      "text/html": [
       "\n",
       "    <div>\n",
       "      \n",
       "      <progress value='264' max='264' style='width:300px; height:20px; vertical-align: middle;'></progress>\n",
       "      [264/264 03:06, Epoch 3/3]\n",
       "    </div>\n",
       "    <table border=\"1\" class=\"dataframe\">\n",
       "  <thead>\n",
       " <tr style=\"text-align: left;\">\n",
       "      <th>Step</th>\n",
       "      <th>Training Loss</th>\n",
       "    </tr>\n",
       "  </thead>\n",
       "  <tbody>\n",
       "    <tr>\n",
       "      <td>10</td>\n",
       "      <td>1.534200</td>\n",
       "    </tr>\n",
       "    <tr>\n",
       "      <td>20</td>\n",
       "      <td>1.592300</td>\n",
       "    </tr>\n",
       "    <tr>\n",
       "      <td>30</td>\n",
       "      <td>1.500000</td>\n",
       "    </tr>\n",
       "    <tr>\n",
       "      <td>40</td>\n",
       "      <td>1.451900</td>\n",
       "    </tr>\n",
       "    <tr>\n",
       "      <td>50</td>\n",
       "      <td>1.442400</td>\n",
       "    </tr>\n",
       "    <tr>\n",
       "      <td>60</td>\n",
       "      <td>1.556800</td>\n",
       "    </tr>\n",
       "    <tr>\n",
       "      <td>70</td>\n",
       "      <td>1.456300</td>\n",
       "    </tr>\n",
       "    <tr>\n",
       "      <td>80</td>\n",
       "      <td>1.487100</td>\n",
       "    </tr>\n",
       "    <tr>\n",
       "      <td>90</td>\n",
       "      <td>1.465000</td>\n",
       "    </tr>\n",
       "    <tr>\n",
       "      <td>100</td>\n",
       "      <td>1.398300</td>\n",
       "    </tr>\n",
       "    <tr>\n",
       "      <td>110</td>\n",
       "      <td>1.281400</td>\n",
       "    </tr>\n",
       "    <tr>\n",
       "      <td>120</td>\n",
       "      <td>1.302900</td>\n",
       "    </tr>\n",
       "    <tr>\n",
       "      <td>130</td>\n",
       "      <td>1.260200</td>\n",
       "    </tr>\n",
       "    <tr>\n",
       "      <td>140</td>\n",
       "      <td>1.219100</td>\n",
       "    </tr>\n",
       "    <tr>\n",
       "      <td>150</td>\n",
       "      <td>1.227900</td>\n",
       "    </tr>\n",
       "    <tr>\n",
       "      <td>160</td>\n",
       "      <td>1.135100</td>\n",
       "    </tr>\n",
       "    <tr>\n",
       "      <td>170</td>\n",
       "      <td>1.187600</td>\n",
       "    </tr>\n",
       "    <tr>\n",
       "      <td>180</td>\n",
       "      <td>0.884800</td>\n",
       "    </tr>\n",
       "    <tr>\n",
       "      <td>190</td>\n",
       "      <td>0.804200</td>\n",
       "    </tr>\n",
       "    <tr>\n",
       "      <td>200</td>\n",
       "      <td>0.693600</td>\n",
       "    </tr>\n",
       "    <tr>\n",
       "      <td>210</td>\n",
       "      <td>0.662800</td>\n",
       "    </tr>\n",
       "    <tr>\n",
       "      <td>220</td>\n",
       "      <td>0.809400</td>\n",
       "    </tr>\n",
       "    <tr>\n",
       "      <td>230</td>\n",
       "      <td>0.798200</td>\n",
       "    </tr>\n",
       "    <tr>\n",
       "      <td>240</td>\n",
       "      <td>0.699700</td>\n",
       "    </tr>\n",
       "    <tr>\n",
       "      <td>250</td>\n",
       "      <td>0.744000</td>\n",
       "    </tr>\n",
       "    <tr>\n",
       "      <td>260</td>\n",
       "      <td>0.578900</td>\n",
       "    </tr>\n",
       "  </tbody>\n",
       "</table><p>"
      ],
      "text/plain": [
       "<IPython.core.display.HTML object>"
      ]
     },
     "metadata": {},
     "output_type": "display_data"
    },
    {
     "data": {
      "text/plain": [
       "TrainOutput(global_step=264, training_loss=1.1528323563662441, metrics={'train_runtime': 187.2258, 'train_samples_per_second': 11.216, 'train_steps_per_second': 1.41, 'total_flos': 552548099174400.0, 'train_loss': 1.1528323563662441, 'epoch': 3.0})"
      ]
     },
     "execution_count": 21,
     "metadata": {},
     "output_type": "execute_result"
    }
   ],
   "source": [
    "training_args = TrainingArguments(\n",
    "    output_dir=\"./results\",\n",
    "    num_train_epochs=3,\n",
    "    per_device_train_batch_size=8,\n",
    "    logging_steps=10,\n",
    "    save_steps=100,\n",
    "    logging_dir=\"./logs\",\n",
    ")\n",
    "\n",
    "trainer = Trainer(\n",
    "    model=model,\n",
    "    args=training_args,\n",
    "    train_dataset=train_dataset,\n",
    ")\n",
    "\n",
    "print(\"Starting fine-tuning on labeled data...\")\n",
    "trainer.train()\n"
   ]
  },
  {
   "cell_type": "code",
   "execution_count": null,
   "id": "b6b18fbd",
   "metadata": {},
   "outputs": [
    {
     "name": "stderr",
     "output_type": "stream",
     "text": [
      "Map:   0%|          | 0/5000 [00:00<?, ? examples/s]"
     ]
    },
    {
     "name": "stderr",
     "output_type": "stream",
     "text": [
      "Map: 100%|██████████| 5000/5000 [00:02<00:00, 2035.28 examples/s]\n"
     ]
    },
    {
     "name": "stdout",
     "output_type": "stream",
     "text": [
      "Performing inference on 5000 sampled tweets...\n"
     ]
    },
    {
     "name": "stderr",
     "output_type": "stream",
     "text": [
      "100%|██████████| 313/313 [02:31<00:00,  2.06it/s]\n"
     ]
    }
   ],
   "source": [
    "\n",
    "device = torch.device(\"cuda\" if torch.cuda.is_available() else \"cpu\")\n",
    "model.to(device)\n",
    "\n",
    "# SAMPLE SUBSET FOR FASTER INFERENCE\n",
    "subset_size = 5000\n",
    "sampled_unlabeled_data = unlabeled_data.sample(n=subset_size).reset_index(drop=True)\n",
    "inference_dataset = Dataset.from_pandas(sampled_unlabeled_data)\n",
    "inference_dataset = inference_dataset.map(tokenize_function, batched=True)\n",
    "inference_dataset.set_format(type='torch', columns=['input_ids', 'attention_mask'])\n",
    "inference_loader = DataLoader(inference_dataset, batch_size=16)\n",
    "model.eval()\n",
    "all_probs = []\n",
    "all_pred_labels = []  \n",
    "\n",
    "print(f\"Performing inference on {subset_size} sampled tweets...\")\n",
    "with torch.no_grad():\n",
    "    for batch in tqdm(inference_loader):\n",
    "        batch = {key: value.to(device) for key, value in batch.items()}\n",
    "        outputs = model(input_ids=batch['input_ids'], attention_mask=batch['attention_mask'])\n",
    "        probs = torch.nn.functional.softmax(outputs.logits, dim=-1)\n",
    "        max_probs, predicted = probs.max(dim=-1) \n",
    "        all_probs.extend(max_probs.cpu().numpy())\n",
    "        all_pred_labels.extend(predicted.cpu().numpy())  \n",
    "\n",
    "\n"
   ]
  },
  {
   "cell_type": "code",
   "execution_count": null,
   "id": "72d68068",
   "metadata": {},
   "outputs": [
    {
     "name": "stdout",
     "output_type": "stream",
     "text": [
      "\n",
      "10 Most Certain Predictions:\n",
      "1. Predicted: Critical / Angry (confidence: 0.9291)\n",
      "   Tweet: @ErranteItaliano Siamo disabituati a ragionamenti complessi. E infatti tu non rispondi sul merito. D...\n",
      "\n",
      "2. Predicted: Critical / Angry (confidence: 0.9285)\n",
      "   Tweet: Le allodole e lo specchio distorto dei Partiti. Come destra e sinistra stanno prendendo in giro i ci...\n",
      "\n",
      "3. Predicted: Critical / Angry (confidence: 0.9276)\n",
      "   Tweet: Più dei cinghiali quello che trovo indegno è l’apertura contemporanea e a casaccio di cantieri nell’...\n",
      "\n",
      "4. Predicted: Critical / Angry (confidence: 0.9266)\n",
      "   Tweet: Ecco il vergognoso risultato di norme folli che - in determinati casi - rasentano la disumanità. Il ...\n",
      "\n",
      "5. Predicted: Critical / Angry (confidence: 0.9265)\n",
      "   Tweet: Le votazioni iniziano con quasi 2h di ritardo. Prima bloccati a aspettare le FOTOCOPIE,\n",
      "poi la maggi...\n",
      "\n",
      "6. Predicted: Critical / Angry (confidence: 0.9260)\n",
      "   Tweet: La sinistra odia le piscine. E reprime la libertà di nuotare. Il perché non è dato conoscerlo, sarà ...\n",
      "\n",
      "7. Predicted: Critical / Angry (confidence: 0.9256)\n",
      "   Tweet: Truffatori e furbetti, migliaia dei quali stranieri: anche sul reddito di cittadinanza si cambia! ht...\n",
      "\n",
      "8. Predicted: Critical / Angry (confidence: 0.9256)\n",
      "   Tweet: Noi siamo una Repubblica democratica fondata sul lavoro, non sui sussidi. A forza di assistenzialism...\n",
      "\n",
      "9. Predicted: Critical / Angry (confidence: 0.9256)\n",
      "   Tweet: La verità è che la Confindustria ha portato a casa il grosso  dei risultati: licenziano via whatsapp...\n",
      "\n",
      "10. Predicted: Critical / Angry (confidence: 0.9252)\n",
      "   Tweet: L'Agenda Draghi è ciò che serve al Paese. Gli inconsolabili che rimpiangono Conte fanno del male al ...\n",
      "\n"
     ]
    }
   ],
   "source": [
    "uncertainties = 1 - np.array(all_probs)\n",
    "uncertain_indices = np.argsort(uncertainties)[-100:]\n",
    "uncertain_samples = sampled_unlabeled_data.iloc[uncertain_indices] \n",
    "\n",
    "certain_indices = np.argsort(uncertainties)[:10] \n",
    "certain_samples = sampled_unlabeled_data.iloc[certain_indices]\n",
    "\n",
    "print(\"\\n10 Most Certain Predictions:\")\n",
    "for i, (idx, row) in enumerate(certain_samples.iterrows()):\n",
    "    predicted_label_id = all_pred_labels[certain_indices[i]]\n",
    "    confidence = all_probs[certain_indices[i]]\n",
    "    \n",
    "    label_name = id2label[predicted_label_id]\n",
    "    \n",
    "    if 'content' in row:\n",
    "        tweet_content = row['content']\n",
    "    elif 'text' in row:\n",
    "        tweet_content = row['text']\n",
    "    else:\n",
    "        text_columns = [col for col in row.index if any(x in col.lower() for x in ['content', 'text', 'tweet'])]\n",
    "        tweet_content = row[text_columns[0]] if text_columns else \"Content not found\"\n",
    "    \n",
    "    tweet_display = tweet_content[:100] + \"...\" if len(tweet_content) > 100 else tweet_content\n",
    "    \n",
    "    print(f\"{i+1}. Predicted: {label_name} (confidence: {confidence:.4f})\")\n",
    "    print(f\"   Tweet: {tweet_display}\")\n",
    "    print()"
   ]
  },
  {
   "cell_type": "code",
   "execution_count": null,
   "id": "f3b8e0ec",
   "metadata": {},
   "outputs": [
    {
     "name": "stdout",
     "output_type": "stream",
     "text": [
      "\n",
      "Average uncertainty over unlabeled data: 0.3551\n"
     ]
    }
   ],
   "source": [
    "average_uncertainty = np.mean(uncertainties)\n",
    "n_labeled = len(labeled_data)\n",
    "\n",
    "print(f\"\\nAverage uncertainty over unlabeled data: {average_uncertainty:.4f}\")\n",
    "\n",
    "log_line = f\"Labeled samples: {n_labeled}, Average uncertainty: {average_uncertainty:.4f}\\n\"\n",
    "with open('uncertainty_tracking.txt', 'a') as f:\n",
    "    f.write(log_line)"
   ]
  },
  {
   "cell_type": "code",
   "execution_count": 25,
   "id": "45e7f142",
   "metadata": {},
   "outputs": [],
   "source": [
    "uncertain_samples.to_csv('next_batch_to_label.csv', index=False)"
   ]
  },
  {
   "cell_type": "markdown",
   "id": "64f3156f",
   "metadata": {},
   "source": [
    "Once we get here, we should label the next batch using <code>interactive_labeling.py</code>. Then repeat the script from the start. "
   ]
  },
  {
   "cell_type": "markdown",
   "id": "83070e97",
   "metadata": {},
   "source": [
    "Once we reach 700 labeled samples, the uncertainty has significantly dropped so we stop. Now, we perform inference on the whole corpus."
   ]
  },
  {
   "cell_type": "code",
   "execution_count": null,
   "id": "35184e84",
   "metadata": {},
   "outputs": [
    {
     "name": "stderr",
     "output_type": "stream",
     "text": [
      "Map:   0%|          | 0/16545 [00:00<?, ? examples/s]"
     ]
    },
    {
     "name": "stderr",
     "output_type": "stream",
     "text": [
      "Map: 100%|██████████| 16545/16545 [00:05<00:00, 2959.99 examples/s]\n"
     ]
    },
    {
     "name": "stdout",
     "output_type": "stream",
     "text": [
      "Performing inference on 16545 tweets...\n"
     ]
    },
    {
     "name": "stderr",
     "output_type": "stream",
     "text": [
      "100%|██████████| 1035/1035 [08:23<00:00,  2.06it/s]"
     ]
    },
    {
     "name": "stdout",
     "output_type": "stream",
     "text": [
      "\n",
      "Number of pseudo-labeled tweets with >90% confidence: 578\n"
     ]
    },
    {
     "name": "stderr",
     "output_type": "stream",
     "text": [
      "\n"
     ]
    }
   ],
   "source": [
    "inference_dataset = Dataset.from_pandas(unlabeled_data.reset_index(drop=True))\n",
    "\n",
    "inference_dataset = inference_dataset.map(tokenize_function, batched=True)\n",
    "inference_dataset.set_format(type='torch', columns=['input_ids', 'attention_mask'])\n",
    "\n",
    "inference_loader = DataLoader(inference_dataset, batch_size=16)\n",
    "\n",
    "model.eval()\n",
    "all_probs = []\n",
    "all_pred_labels = []\n",
    "\n",
    "print(f\"Performing inference on {len(unlabeled_data)} tweets...\")\n",
    "with torch.no_grad():\n",
    "    for batch in tqdm(inference_loader):\n",
    "        batch = {key: value.to(device) for key, value in batch.items()}\n",
    "        outputs = model(input_ids=batch['input_ids'], attention_mask=batch['attention_mask'])\n",
    "        probs = torch.nn.functional.softmax(outputs.logits, dim=-1)\n",
    "        max_probs, predicted = probs.max(dim=-1)\n",
    "        all_probs.extend(max_probs.cpu().numpy())\n",
    "        all_pred_labels.extend(predicted.cpu().numpy())\n",
    "\n",
    "inference_results = unlabeled_data.copy()\n",
    "inference_results['predicted_label'] = all_pred_labels\n",
    "inference_results['confidence'] = all_probs\n",
    "\n",
    "pseudo_labeled_data = inference_results[inference_results['confidence'] >= 0.9].reset_index(drop=True)\n",
    "\n",
    "print(f\"\\nNumber of pseudo-labeled tweets with >90% confidence: {len(pseudo_labeled_data)}\")\n"
   ]
  },
  {
   "cell_type": "code",
   "execution_count": 27,
   "id": "f7c7655f",
   "metadata": {},
   "outputs": [
    {
     "name": "stdout",
     "output_type": "stream",
     "text": [
      "\n",
      "Average uncertainty over full data: 0.3539\n"
     ]
    }
   ],
   "source": [
    "uncertainties = 1 - np.array(all_probs)\n",
    "average_uncertainty = np.mean(uncertainties)\n",
    "\n",
    "print(f\"\\nAverage uncertainty over full data: {average_uncertainty:.4f}\")"
   ]
  },
  {
   "cell_type": "code",
   "execution_count": 28,
   "id": "70372aac",
   "metadata": {},
   "outputs": [],
   "source": [
    "training_data = pseudo_labeled_data.drop(columns='confidence').rename(columns={'predicted_label':'label_id'})"
   ]
  },
  {
   "cell_type": "code",
   "execution_count": 29,
   "id": "a3c8e4c6",
   "metadata": {},
   "outputs": [],
   "source": [
    "new_train_data = pd.concat([training_data, labeled_data.drop(columns='tone_label')])"
   ]
  },
  {
   "cell_type": "markdown",
   "id": "4c95c585",
   "metadata": {},
   "source": [
    "Now we repeat training on the whole file."
   ]
  },
  {
   "cell_type": "code",
   "execution_count": 31,
   "id": "7337873e",
   "metadata": {},
   "outputs": [
    {
     "name": "stderr",
     "output_type": "stream",
     "text": [
      "Map:   0%|          | 0/1278 [00:00<?, ? examples/s]"
     ]
    },
    {
     "name": "stderr",
     "output_type": "stream",
     "text": [
      "Map: 100%|██████████| 1278/1278 [00:00<00:00, 2793.23 examples/s]\n"
     ]
    }
   ],
   "source": [
    "label_list = new_train_data['label_id'].unique()\n",
    "\n",
    "from datasets import Dataset\n",
    "\n",
    "train_dataset = Dataset.from_pandas(new_train_data)\n",
    "\n",
    "def tokenize_function(examples):\n",
    "    return tokenizer(examples['Content'], padding=\"max_length\", truncation=True)\n",
    "\n",
    "train_dataset = train_dataset.map(tokenize_function, batched=True)\n",
    "train_dataset = train_dataset.rename_column(\"label_id\", \"labels\")\n",
    "\n",
    "columns_to_remove = [col for col in train_dataset.column_names if col not in ['input_ids', 'attention_mask', 'labels']]\n",
    "train_dataset = train_dataset.remove_columns(columns_to_remove)\n",
    "\n",
    "train_dataset.set_format(type='torch', columns=['input_ids', 'attention_mask', 'labels'])\n"
   ]
  },
  {
   "cell_type": "markdown",
   "id": "2bcef248",
   "metadata": {},
   "source": [
    "## **Final Step**"
   ]
  },
  {
   "cell_type": "code",
   "execution_count": null,
   "id": "f482744b",
   "metadata": {},
   "outputs": [
    {
     "name": "stderr",
     "output_type": "stream",
     "text": [
      "Some weights of BertForSequenceClassification were not initialized from the model checkpoint at dbmdz/bert-base-italian-uncased and are newly initialized: ['classifier.bias', 'classifier.weight']\n",
      "You should probably TRAIN this model on a down-stream task to be able to use it for predictions and inference.\n",
      "huggingface/tokenizers: The current process just got forked, after parallelism has already been used. Disabling parallelism to avoid deadlocks...\n",
      "To disable this warning, you can either:\n",
      "\t- Avoid using `tokenizers` before the fork if possible\n",
      "\t- Explicitly set the environment variable TOKENIZERS_PARALLELISM=(true | false)\n",
      "Using the `WANDB_DISABLED` environment variable is deprecated and will be removed in v5. Use the --report_to flag to control the integrations used for logging result (for instance --report_to none).\n"
     ]
    },
    {
     "name": "stdout",
     "output_type": "stream",
     "text": [
      "Starting fine-tuning on labeled data...\n"
     ]
    },
    {
     "data": {
      "text/html": [
       "\n",
       "    <div>\n",
       "      \n",
       "      <progress value='480' max='480' style='width:300px; height:20px; vertical-align: middle;'></progress>\n",
       "      [480/480 06:17, Epoch 3/3]\n",
       "    </div>\n",
       "    <table border=\"1\" class=\"dataframe\">\n",
       "  <thead>\n",
       " <tr style=\"text-align: left;\">\n",
       "      <th>Step</th>\n",
       "      <th>Training Loss</th>\n",
       "    </tr>\n",
       "  </thead>\n",
       "  <tbody>\n",
       "    <tr>\n",
       "      <td>50</td>\n",
       "      <td>1.295700</td>\n",
       "    </tr>\n",
       "    <tr>\n",
       "      <td>100</td>\n",
       "      <td>0.997400</td>\n",
       "    </tr>\n",
       "    <tr>\n",
       "      <td>150</td>\n",
       "      <td>0.825700</td>\n",
       "    </tr>\n",
       "    <tr>\n",
       "      <td>200</td>\n",
       "      <td>0.745400</td>\n",
       "    </tr>\n",
       "    <tr>\n",
       "      <td>250</td>\n",
       "      <td>0.639100</td>\n",
       "    </tr>\n",
       "    <tr>\n",
       "      <td>300</td>\n",
       "      <td>0.612400</td>\n",
       "    </tr>\n",
       "    <tr>\n",
       "      <td>350</td>\n",
       "      <td>0.453300</td>\n",
       "    </tr>\n",
       "    <tr>\n",
       "      <td>400</td>\n",
       "      <td>0.331200</td>\n",
       "    </tr>\n",
       "    <tr>\n",
       "      <td>450</td>\n",
       "      <td>0.360000</td>\n",
       "    </tr>\n",
       "  </tbody>\n",
       "</table><p>"
      ],
      "text/plain": [
       "<IPython.core.display.HTML object>"
      ]
     },
     "metadata": {},
     "output_type": "display_data"
    },
    {
     "data": {
      "text/plain": [
       "TrainOutput(global_step=480, training_loss=0.674830025434494, metrics={'train_runtime': 377.8819, 'train_samples_per_second': 10.146, 'train_steps_per_second': 1.27, 'total_flos': 1008794958206976.0, 'train_loss': 0.674830025434494, 'epoch': 3.0})"
      ]
     },
     "execution_count": 32,
     "metadata": {},
     "output_type": "execute_result"
    }
   ],
   "source": [
    "label_list = labeled_data['tone_label'].unique()\n",
    "\n",
    "model = AutoModelForSequenceClassification.from_pretrained(\n",
    "    model_name,\n",
    "    num_labels=len(label_list),\n",
    "    id2label=id2label,\n",
    "    label2id=label2id\n",
    ")\n",
    "training_args = TrainingArguments(\n",
    "    output_dir=\"./results\",\n",
    "    num_train_epochs=3,\n",
    "    per_device_train_batch_size=8,\n",
    "    logging_steps=50,\n",
    "    save_steps=100,\n",
    "    save_total_limit=2, \n",
    "    logging_dir=\"./logs\",\n",
    ")\n",
    "\n",
    "trainer = Trainer(\n",
    "    model=model,\n",
    "    args=training_args,\n",
    "    train_dataset=train_dataset,\n",
    ")\n",
    "\n",
    "print(\"Starting fine-tuning on labeled data...\")\n",
    "trainer.train()\n"
   ]
  },
  {
   "cell_type": "markdown",
   "id": "faa15a26",
   "metadata": {},
   "source": [
    "Finally, we perform inference on the whole data using the trained model above and we keep only samples with confidence higher than 80%"
   ]
  },
  {
   "cell_type": "code",
   "execution_count": 33,
   "id": "c6ed4b13",
   "metadata": {},
   "outputs": [
    {
     "name": "stderr",
     "output_type": "stream",
     "text": [
      "Map: 100%|██████████| 15967/15967 [00:05<00:00, 3017.70 examples/s]\n"
     ]
    },
    {
     "name": "stdout",
     "output_type": "stream",
     "text": [
      "Performing inference on 15967 tweets...\n"
     ]
    },
    {
     "name": "stderr",
     "output_type": "stream",
     "text": [
      "100%|██████████| 998/998 [08:05<00:00,  2.06it/s]\n"
     ]
    }
   ],
   "source": [
    "unlabeled_data = data[~data['Content'].isin(new_train_data['Content'])]\n",
    "inference_dataset = Dataset.from_pandas(unlabeled_data.reset_index(drop=True))\n",
    "\n",
    "inference_dataset = inference_dataset.map(tokenize_function, batched=True)\n",
    "inference_dataset.set_format(type='torch', columns=['input_ids', 'attention_mask'])\n",
    "\n",
    "inference_loader = DataLoader(inference_dataset, batch_size=16)\n",
    "\n",
    "model.eval()\n",
    "all_probs = []\n",
    "all_pred_labels = []\n",
    "\n",
    "print(f\"Performing inference on {len(unlabeled_data)} tweets...\")\n",
    "with torch.no_grad():\n",
    "    for batch in tqdm(inference_loader):\n",
    "        batch = {key: value.to(device) for key, value in batch.items()}\n",
    "        outputs = model(input_ids=batch['input_ids'], attention_mask=batch['attention_mask'])\n",
    "        probs = torch.nn.functional.softmax(outputs.logits, dim=-1)\n",
    "        max_probs, predicted = probs.max(dim=-1)\n",
    "        all_probs.extend(max_probs.cpu().numpy())\n",
    "        all_pred_labels.extend(predicted.cpu().numpy())\n",
    "\n",
    "inference_results = unlabeled_data.copy()\n",
    "inference_results['predicted_label'] = all_pred_labels\n",
    "inference_results['confidence'] = all_probs"
   ]
  },
  {
   "cell_type": "code",
   "execution_count": 34,
   "id": "ea0f8128",
   "metadata": {},
   "outputs": [
    {
     "name": "stdout",
     "output_type": "stream",
     "text": [
      "\n",
      "Average uncertainty over full data with additional pseudo_labeled_examples: 0.2215\n"
     ]
    }
   ],
   "source": [
    "uncertainties = 1 - np.array(all_probs)\n",
    "average_uncertainty = np.mean(uncertainties)\n",
    "\n",
    "print(f\"\\nAverage uncertainty over full data with additional pseudo_labeled_examples: {average_uncertainty:.4f}\")"
   ]
  },
  {
   "cell_type": "code",
   "execution_count": 70,
   "id": "75c2020c",
   "metadata": {},
   "outputs": [
    {
     "data": {
      "image/png": "[encoded data removed]",
      "text/plain": [
       "<Figure size 800x400 with 1 Axes>"
      ]
     },
     "metadata": {},
     "output_type": "display_data"
    }
   ],
   "source": [
    "plt.figure(figsize=(8, 4))\n",
    "\n",
    "sns.histplot(inference_results['confidence'], bins=20, kde=True)\n",
    "\n",
    "plt.title('Distribution of Confidence Values', fontsize=10)\n",
    "plt.xlabel('Confidence', fontsize=10)\n",
    "plt.ylabel('Frequency', fontsize=10)\n",
    "\n",
    "plt.grid(axis='y', alpha=0.3)\n",
    "plt.tight_layout()\n",
    "plt.show()\n"
   ]
  },
  {
   "cell_type": "code",
   "execution_count": null,
   "id": "98cb6377",
   "metadata": {},
   "outputs": [
    {
     "name": "stdout",
     "output_type": "stream",
     "text": [
      "\n",
      "Number of pseudo-labeled tweets with >80% confidence: 8328\n"
     ]
    }
   ],
   "source": [
    "predicted_data = inference_results[inference_results['confidence'] >= 0.80].reset_index(drop=True)\n",
    "print(f\"\\nNumber of pseudo-labeled tweets with >80% confidence: {len(predicted_data)}\")"
   ]
  },
  {
   "cell_type": "code",
   "execution_count": 81,
   "id": "1501a389",
   "metadata": {},
   "outputs": [],
   "source": [
    "final_labeled_df = pd.concat([new_train_data, predicted_data.rename(columns={'predicted_label':'label_id'})\n",
    "                              .drop(columns='confidence')]) "
   ]
  },
  {
   "cell_type": "code",
   "execution_count": 83,
   "id": "be5def8f",
   "metadata": {},
   "outputs": [],
   "source": [
    "unlabeled_data = data[~data['Content'].isin(final_labeled_df['Content'])]\n",
    "final_df = pd.concat([final_labeled_df, unlabeled_data])"
   ]
  },
  {
   "cell_type": "code",
   "execution_count": null,
   "id": "32355d9c",
   "metadata": {},
   "outputs": [
    {
     "name": "stdout",
     "output_type": "stream",
     "text": [
      "\n",
      "Counts of each mapped value:\n",
      "label_id\n",
      "unknown    7639\n",
      "1.0        5697\n",
      "0.0        1754\n",
      "3.0        1249\n",
      "2.0         906\n",
      "Name: count, dtype: int64\n"
     ]
    }
   ],
   "source": [
    "mapping = {\n",
    "    1.0: 1,\n",
    "    0.0: 0,\n",
    "    2.0: 2,\n",
    "    3.0: 3,\n",
    "    4.0: 3\n",
    "    }\n",
    "\n",
    "final_df['label_id'] = final_df['label_id'].map(mapping)\n",
    "\n",
    "final_df['label_id'] = final_df['label_id'].fillna('unknown')\n",
    "\n",
    "print(\"\\nCounts of each mapped value:\")\n",
    "print(final_df['label_id'].value_counts(dropna=False))\n"
   ]
  },
  {
   "cell_type": "code",
   "execution_count": 91,
   "id": "4e637b8e",
   "metadata": {},
   "outputs": [],
   "source": [
    "final_df.to_csv('final_tone_labeled_data.csv')"
   ]
  }
 ],
 "metadata": {
  "kernelspec": {
   "display_name": "Python 3",
   "language": "python",
   "name": "python3"
  },
  "language_info": {
   "codemirror_mode": {
    "name": "ipython",
    "version": 3
   },
   "file_extension": ".py",
   "mimetype": "text/x-python",
   "name": "python",
   "nbconvert_exporter": "python",
   "pygments_lexer": "ipython3",
   "version": "3.9.2"
  }
 },
 "nbformat": 4,
 "nbformat_minor": 5
}
