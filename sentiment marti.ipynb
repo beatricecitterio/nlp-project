{
 "cells": [
  {
   "cell_type": "code",
   "execution_count": 1,
   "metadata": {},
   "outputs": [],
   "source": [
    "import torch\n",
    "import pandas as pd\n",
    "import numpy as np\n",
    "from transformers import AutoModelForSequenceClassification\n",
    "from transformers import TFAutoModelForSequenceClassification\n",
    "from transformers import AutoTokenizer\n",
    "import numpy as np\n",
    "from scipy.special import softmax\n",
    "import csv\n",
    "import urllib.request\n",
    "import pandas as pd\n",
    "import numpy as np\n",
    "from nltk.corpus import stopwords\n",
    "from nltk.tokenize import word_tokenize\n",
    "import gensim\n",
    "from gensim import corpora\n",
    "from gensim.models.ldamodel import LdaModel\n",
    "from nltk.corpus import stopwords\n",
    "from langdetect import detect\n",
    "import re\n",
    "import re\n",
    "import nltk\n",
    "from nltk.corpus import stopwords\n",
    "from nltk.stem import WordNetLemmatizer\n",
    "from langdetect import detect\n",
    "import spacy\n",
    "from tqdm import tqdm\n",
    "import pyLDAvis.gensim_models as gensimvis\n",
    "import pickle \n",
    "import pyLDAvis\n",
    "import os"
   ]
  },
  {
   "cell_type": "markdown",
   "metadata": {},
   "source": [
    "### RoBERTa pre-trained on Twitter"
   ]
  },
  {
   "cell_type": "code",
   "execution_count": 2,
   "metadata": {},
   "outputs": [],
   "source": [
    "MODEL = \"cardiffnlp/twitter-roberta-base-sentiment\"\n",
    "tokenizer = AutoTokenizer.from_pretrained(MODEL)\n",
    "model = AutoModelForSequenceClassification.from_pretrained(MODEL)\n",
    "model.eval()  # Set to evaluation mode\n",
    "\n",
    "# Define labels\n",
    "labels = ['negative', 'neutral', 'positive']"
   ]
  },
  {
   "cell_type": "code",
   "execution_count": 3,
   "metadata": {},
   "outputs": [],
   "source": [
    "def get_sentiment(text):\n",
    "    # Preprocess text\n",
    "    encoded_input = tokenizer(text, return_tensors='pt', truncation=True)\n",
    "    with torch.no_grad():\n",
    "        output = model(**encoded_input)\n",
    "    scores = output.logits[0].numpy()\n",
    "    scores = torch.nn.functional.softmax(torch.tensor(scores), dim=0)\n",
    "    return labels[scores.argmax()], scores.numpy()\n"
   ]
  },
  {
   "cell_type": "markdown",
   "metadata": {},
   "source": [
    "---\n",
    "\n",
    "## Roberta on cleaned dataset"
   ]
  },
  {
   "cell_type": "code",
   "execution_count": 4,
   "metadata": {},
   "outputs": [],
   "source": [
    "politicians_cleaned = pd.read_csv('politicians_data/politicians_classified.csv')"
   ]
  },
  {
   "cell_type": "code",
   "execution_count": 5,
   "metadata": {},
   "outputs": [
    {
     "name": "stderr",
     "output_type": "stream",
     "text": [
      "[nltk_data] Downloading package stopwords to\n",
      "[nltk_data]     /Users/martinaserandrei/nltk_data...\n",
      "[nltk_data]   Package stopwords is already up-to-date!\n",
      "[nltk_data] Downloading package punkt to\n",
      "[nltk_data]     /Users/martinaserandrei/nltk_data...\n",
      "[nltk_data]   Package punkt is already up-to-date!\n",
      "[nltk_data] Downloading package wordnet to\n",
      "[nltk_data]     /Users/martinaserandrei/nltk_data...\n",
      "[nltk_data]   Package wordnet is already up-to-date!\n",
      "Processing tweets: 100%|██████████| 17245/17245 [00:00<00:00, 242350.68it/s]\n"
     ]
    }
   ],
   "source": [
    "# Download NLTK resources\n",
    "nltk.download('stopwords')\n",
    "nltk.download('punkt')\n",
    "nltk.download('wordnet')\n",
    "\n",
    "# Load stopwords\n",
    "stop_words_italian = set(stopwords.words('italian'))\n",
    "stop_words_english = set(stopwords.words('english'))\n",
    "lemmatizer = WordNetLemmatizer()\n",
    "\n",
    "# Load spaCy models for Italian and English\n",
    "# You need to install these models first using:\n",
    "nlp_it = spacy.load('it_core_news_sm')\n",
    "nlp_en = spacy.load('en_core_web_sm')\n",
    "\n",
    "def preprocess_text(text):\n",
    "    text = re.sub(r'[^a-zA-Z\\s]', '', text)  # Remove special characters\n",
    "    text = text.lower()  # Convert to lowercase\n",
    "    return text\n",
    "\n",
    "# Apply preprocessing to the tweets\n",
    "politicians_tweets = politicians_cleaned['Content']\n",
    "\n",
    "# Method 1: Using tqdm with apply (simpler)\n",
    "tqdm.pandas(desc=\"Processing tweets\")\n",
    "politicians_cleaned['processed_tweet'] = politicians_tweets.progress_apply(lambda x: preprocess_text(x))\n"
   ]
  },
  {
   "cell_type": "code",
   "execution_count": 28,
   "metadata": {},
   "outputs": [],
   "source": [
    "sentiment_results2 = politicians_cleaned['processed_tweet'].apply(get_sentiment)"
   ]
  },
  {
   "cell_type": "code",
   "execution_count": 29,
   "metadata": {},
   "outputs": [
    {
     "data": {
      "text/html": [
       "<div>\n",
       "<style scoped>\n",
       "    .dataframe tbody tr th:only-of-type {\n",
       "        vertical-align: middle;\n",
       "    }\n",
       "\n",
       "    .dataframe tbody tr th {\n",
       "        vertical-align: top;\n",
       "    }\n",
       "\n",
       "    .dataframe thead th {\n",
       "        text-align: right;\n",
       "    }\n",
       "</style>\n",
       "<table border=\"1\" class=\"dataframe\">\n",
       "  <thead>\n",
       "    <tr style=\"text-align: right;\">\n",
       "      <th></th>\n",
       "      <th>roberta_sentiment</th>\n",
       "      <th>negative</th>\n",
       "      <th>neutral</th>\n",
       "      <th>positive</th>\n",
       "    </tr>\n",
       "  </thead>\n",
       "  <tbody>\n",
       "    <tr>\n",
       "      <th>0</th>\n",
       "      <td>positive</td>\n",
       "      <td>0.001159</td>\n",
       "      <td>0.025998</td>\n",
       "      <td>0.972843</td>\n",
       "    </tr>\n",
       "    <tr>\n",
       "      <th>1</th>\n",
       "      <td>neutral</td>\n",
       "      <td>0.063336</td>\n",
       "      <td>0.862081</td>\n",
       "      <td>0.074583</td>\n",
       "    </tr>\n",
       "    <tr>\n",
       "      <th>2</th>\n",
       "      <td>neutral</td>\n",
       "      <td>0.071610</td>\n",
       "      <td>0.885653</td>\n",
       "      <td>0.042737</td>\n",
       "    </tr>\n",
       "    <tr>\n",
       "      <th>3</th>\n",
       "      <td>neutral</td>\n",
       "      <td>0.088932</td>\n",
       "      <td>0.837134</td>\n",
       "      <td>0.073934</td>\n",
       "    </tr>\n",
       "    <tr>\n",
       "      <th>4</th>\n",
       "      <td>neutral</td>\n",
       "      <td>0.094576</td>\n",
       "      <td>0.865722</td>\n",
       "      <td>0.039702</td>\n",
       "    </tr>\n",
       "    <tr>\n",
       "      <th>...</th>\n",
       "      <td>...</td>\n",
       "      <td>...</td>\n",
       "      <td>...</td>\n",
       "      <td>...</td>\n",
       "    </tr>\n",
       "    <tr>\n",
       "      <th>17240</th>\n",
       "      <td>neutral</td>\n",
       "      <td>0.122503</td>\n",
       "      <td>0.824101</td>\n",
       "      <td>0.053396</td>\n",
       "    </tr>\n",
       "    <tr>\n",
       "      <th>17241</th>\n",
       "      <td>neutral</td>\n",
       "      <td>0.205459</td>\n",
       "      <td>0.757824</td>\n",
       "      <td>0.036717</td>\n",
       "    </tr>\n",
       "    <tr>\n",
       "      <th>17242</th>\n",
       "      <td>neutral</td>\n",
       "      <td>0.163984</td>\n",
       "      <td>0.791811</td>\n",
       "      <td>0.044205</td>\n",
       "    </tr>\n",
       "    <tr>\n",
       "      <th>17243</th>\n",
       "      <td>neutral</td>\n",
       "      <td>0.142545</td>\n",
       "      <td>0.806770</td>\n",
       "      <td>0.050686</td>\n",
       "    </tr>\n",
       "    <tr>\n",
       "      <th>17244</th>\n",
       "      <td>neutral</td>\n",
       "      <td>0.145209</td>\n",
       "      <td>0.812808</td>\n",
       "      <td>0.041982</td>\n",
       "    </tr>\n",
       "  </tbody>\n",
       "</table>\n",
       "<p>17245 rows × 4 columns</p>\n",
       "</div>"
      ],
      "text/plain": [
       "      roberta_sentiment  negative   neutral  positive\n",
       "0              positive  0.001159  0.025998  0.972843\n",
       "1               neutral  0.063336  0.862081  0.074583\n",
       "2               neutral  0.071610  0.885653  0.042737\n",
       "3               neutral  0.088932  0.837134  0.073934\n",
       "4               neutral  0.094576  0.865722  0.039702\n",
       "...                 ...       ...       ...       ...\n",
       "17240           neutral  0.122503  0.824101  0.053396\n",
       "17241           neutral  0.205459  0.757824  0.036717\n",
       "17242           neutral  0.163984  0.791811  0.044205\n",
       "17243           neutral  0.142545  0.806770  0.050686\n",
       "17244           neutral  0.145209  0.812808  0.041982\n",
       "\n",
       "[17245 rows x 4 columns]"
      ]
     },
     "execution_count": 29,
     "metadata": {},
     "output_type": "execute_result"
    }
   ],
   "source": [
    "# Create a DataFrame with the results keeping the index\n",
    "roberta_df2 = pd.DataFrame(sentiment_results2.tolist(), index=politicians_cleaned.index, columns=['roberta_sentiment', 'scores'])\n",
    "roberta_df2['scores'] = roberta_df2['scores'].apply(lambda x: x.tolist())\n",
    "# create a new column with each score\n",
    "roberta_df2[['negative', 'neutral', 'positive']] = pd.DataFrame(roberta_df2['scores'].tolist(), index=roberta_df2.index)\n",
    "roberta_df2. drop(columns=['scores'], inplace=True)\n",
    "roberta_df2"
   ]
  },
  {
   "cell_type": "code",
   "execution_count": 30,
   "metadata": {},
   "outputs": [],
   "source": [
    "politicians_cleaned['roberta_sentiment'] = roberta_df2['roberta_sentiment']"
   ]
  },
  {
   "cell_type": "code",
   "execution_count": 31,
   "metadata": {},
   "outputs": [
    {
     "data": {
      "text/plain": [
       "roberta_sentiment\n",
       "neutral     17070\n",
       "positive      135\n",
       "negative       40\n",
       "Name: count, dtype: int64"
      ]
     },
     "execution_count": 31,
     "metadata": {},
     "output_type": "execute_result"
    }
   ],
   "source": [
    "# count the number of tweets for each sentiment\n",
    "politicians_cleaned['roberta_sentiment'].value_counts()"
   ]
  },
  {
   "cell_type": "markdown",
   "metadata": {},
   "source": [
    "## Trying another model for italian tweets"
   ]
  },
  {
   "cell_type": "code",
   "execution_count": 6,
   "metadata": {},
   "outputs": [],
   "source": [
    "from transformers import AutoTokenizer, AutoModelForSequenceClassification\n",
    "from scipy.special import softmax\n",
    "import torch\n",
    "\n",
    "# Carica il modello italiano\n",
    "model_name = \"MilaNLProc/feel-it-italian-sentiment\"\n",
    "tokenizer = AutoTokenizer.from_pretrained(model_name)\n",
    "model = AutoModelForSequenceClassification.from_pretrained(model_name)\n",
    "\n",
    "# Funzione di analisi\n",
    "def italian_sentiment(text):\n",
    "    encoded_input = tokenizer(text, return_tensors='pt', truncation=True)\n",
    "    with torch.no_grad():\n",
    "        output = model(**encoded_input)\n",
    "    scores = output.logits[0].detach().numpy()\n",
    "    scores = softmax(scores)\n",
    "    labels = ['negative', 'neutral', 'positive']\n",
    "    return labels[scores.argmax()], dict(zip(labels, scores.round(3)))\n"
   ]
  },
  {
   "cell_type": "code",
   "execution_count": 8,
   "metadata": {},
   "outputs": [
    {
     "name": "stderr",
     "output_type": "stream",
     "text": [
      "Asking to truncate to max_length but no maximum length is provided and the model has no predefined maximum length. Default to no truncation.\n"
     ]
    },
    {
     "data": {
      "application/vnd.jupyter.widget-view+json": {
       "model_id": "25d7b9ff75564cbfb0e2b4b5cdfede07",
       "version_major": 2,
       "version_minor": 0
      },
      "text/plain": [
       "model.safetensors:   0%|          | 0.00/443M [00:00<?, ?B/s]"
      ]
     },
     "metadata": {},
     "output_type": "display_data"
    }
   ],
   "source": [
    "sampled_tweets = politicians_cleaned.sample(n=1000, random_state=42)\n",
    "# Apply Italian sentiment analysis\n",
    "ita_sample = sampled_tweets['Content'].apply(italian_sentiment)"
   ]
  },
  {
   "cell_type": "code",
   "execution_count": 9,
   "metadata": {},
   "outputs": [
    {
     "data": {
      "text/html": [
       "<div>\n",
       "<style scoped>\n",
       "    .dataframe tbody tr th:only-of-type {\n",
       "        vertical-align: middle;\n",
       "    }\n",
       "\n",
       "    .dataframe tbody tr th {\n",
       "        vertical-align: top;\n",
       "    }\n",
       "\n",
       "    .dataframe thead th {\n",
       "        text-align: right;\n",
       "    }\n",
       "</style>\n",
       "<table border=\"1\" class=\"dataframe\">\n",
       "  <thead>\n",
       "    <tr style=\"text-align: right;\">\n",
       "      <th></th>\n",
       "      <th>ita_sentiment</th>\n",
       "      <th>scores</th>\n",
       "    </tr>\n",
       "  </thead>\n",
       "  <tbody>\n",
       "    <tr>\n",
       "      <th>101</th>\n",
       "      <td>neutral</td>\n",
       "      <td>{'negative': 0.001, 'neutral': 0.999}</td>\n",
       "    </tr>\n",
       "    <tr>\n",
       "      <th>7501</th>\n",
       "      <td>negative</td>\n",
       "      <td>{'negative': 1.0, 'neutral': 0.0}</td>\n",
       "    </tr>\n",
       "    <tr>\n",
       "      <th>8437</th>\n",
       "      <td>negative</td>\n",
       "      <td>{'negative': 1.0, 'neutral': 0.0}</td>\n",
       "    </tr>\n",
       "    <tr>\n",
       "      <th>217</th>\n",
       "      <td>negative</td>\n",
       "      <td>{'negative': 1.0, 'neutral': 0.0}</td>\n",
       "    </tr>\n",
       "    <tr>\n",
       "      <th>14866</th>\n",
       "      <td>negative</td>\n",
       "      <td>{'negative': 0.999, 'neutral': 0.001}</td>\n",
       "    </tr>\n",
       "    <tr>\n",
       "      <th>...</th>\n",
       "      <td>...</td>\n",
       "      <td>...</td>\n",
       "    </tr>\n",
       "    <tr>\n",
       "      <th>9798</th>\n",
       "      <td>negative</td>\n",
       "      <td>{'negative': 1.0, 'neutral': 0.0}</td>\n",
       "    </tr>\n",
       "    <tr>\n",
       "      <th>3421</th>\n",
       "      <td>negative</td>\n",
       "      <td>{'negative': 1.0, 'neutral': 0.0}</td>\n",
       "    </tr>\n",
       "    <tr>\n",
       "      <th>14328</th>\n",
       "      <td>neutral</td>\n",
       "      <td>{'negative': 0.141, 'neutral': 0.859}</td>\n",
       "    </tr>\n",
       "    <tr>\n",
       "      <th>5133</th>\n",
       "      <td>negative</td>\n",
       "      <td>{'negative': 1.0, 'neutral': 0.0}</td>\n",
       "    </tr>\n",
       "    <tr>\n",
       "      <th>3269</th>\n",
       "      <td>negative</td>\n",
       "      <td>{'negative': 1.0, 'neutral': 0.0}</td>\n",
       "    </tr>\n",
       "  </tbody>\n",
       "</table>\n",
       "<p>1000 rows × 2 columns</p>\n",
       "</div>"
      ],
      "text/plain": [
       "      ita_sentiment                                 scores\n",
       "101         neutral  {'negative': 0.001, 'neutral': 0.999}\n",
       "7501       negative      {'negative': 1.0, 'neutral': 0.0}\n",
       "8437       negative      {'negative': 1.0, 'neutral': 0.0}\n",
       "217        negative      {'negative': 1.0, 'neutral': 0.0}\n",
       "14866      negative  {'negative': 0.999, 'neutral': 0.001}\n",
       "...             ...                                    ...\n",
       "9798       negative      {'negative': 1.0, 'neutral': 0.0}\n",
       "3421       negative      {'negative': 1.0, 'neutral': 0.0}\n",
       "14328       neutral  {'negative': 0.141, 'neutral': 0.859}\n",
       "5133       negative      {'negative': 1.0, 'neutral': 0.0}\n",
       "3269       negative      {'negative': 1.0, 'neutral': 0.0}\n",
       "\n",
       "[1000 rows x 2 columns]"
      ]
     },
     "execution_count": 9,
     "metadata": {},
     "output_type": "execute_result"
    }
   ],
   "source": [
    "# Create a DataFrame with the results keeping the index\n",
    "ita_df = pd.DataFrame(ita_sample.tolist(), index=sampled_tweets.index, columns=['ita_sentiment', 'scores'])\n",
    "# create a new column with each score\n",
    "ita_df[['negative', 'neutral', 'positive']] = pd.DataFrame(ita_df['scores'].apply(lambda x: [x['neg'], x['neu'], x['pos'], x['compound']]).tolist(), index=ita_df.index)\n",
    "ita_df.drop(columns=['scores'], inplace=True)\n",
    "ita_df"
   ]
  },
  {
   "cell_type": "code",
   "execution_count": null,
   "metadata": {},
   "outputs": [],
   "source": [
    "sentiment_ita = politicians_cleaned['Content'].apply(italian_sentiment)"
   ]
  },
  {
   "cell_type": "markdown",
   "metadata": {},
   "source": [
    "---\n",
    "\n",
    "## Zero-shot learning"
   ]
  },
  {
   "cell_type": "code",
   "execution_count": 8,
   "metadata": {},
   "outputs": [
    {
     "name": "stderr",
     "output_type": "stream",
     "text": [
      "Device set to use mps:0\n"
     ]
    },
    {
     "name": "stdout",
     "output_type": "stream",
     "text": [
      "{'sequence': 'Non sono contento di come sta andando la situazione politica', 'labels': ['negative', 'neutral', 'positive'], 'scores': [0.9891007542610168, 0.005554403178393841, 0.005344857927411795]}\n"
     ]
    }
   ],
   "source": [
    "from transformers import pipeline\n",
    "\n",
    "# Load zero-shot classifier\n",
    "classifier = pipeline(\"zero-shot-classification\", model=\"facebook/bart-large-mnli\")\n",
    "\n",
    "# Define your custom labels\n",
    "labels = [\"positive\", \"neutral\", \"negative\"]\n",
    "\n",
    "# Example tweet\n",
    "text = \"Non sono contento di come sta andando la situazione politica\"\n",
    "\n",
    "# Apply zero-shot\n",
    "result = classifier(text, candidate_labels=labels)\n",
    "print(result)\n"
   ]
  },
  {
   "cell_type": "code",
   "execution_count": 39,
   "metadata": {},
   "outputs": [],
   "source": [
    "sampled_tweets = politicians_cleaned.sample(n=1000, random_state=42)\n",
    "# Apply zero-shot classification\n",
    "zero_shot_sample = sampled_tweets['Content'].apply(lambda x: classifier(x, candidate_labels=labels))"
   ]
  },
  {
   "cell_type": "code",
   "execution_count": null,
   "metadata": {},
   "outputs": [],
   "source": [
    "zero_shot_sample= zero_shot_sample.to_dict()"
   ]
  },
  {
   "cell_type": "code",
   "execution_count": 58,
   "metadata": {},
   "outputs": [
    {
     "data": {
      "text/html": [
       "<div>\n",
       "<style scoped>\n",
       "    .dataframe tbody tr th:only-of-type {\n",
       "        vertical-align: middle;\n",
       "    }\n",
       "\n",
       "    .dataframe tbody tr th {\n",
       "        vertical-align: top;\n",
       "    }\n",
       "\n",
       "    .dataframe thead th {\n",
       "        text-align: right;\n",
       "    }\n",
       "</style>\n",
       "<table border=\"1\" class=\"dataframe\">\n",
       "  <thead>\n",
       "    <tr style=\"text-align: right;\">\n",
       "      <th></th>\n",
       "      <th>sequence</th>\n",
       "      <th>labels</th>\n",
       "    </tr>\n",
       "  </thead>\n",
       "  <tbody>\n",
       "    <tr>\n",
       "      <th>101</th>\n",
       "      <td>Alla fine di questa avventura a me interesserà...</td>\n",
       "      <td>positive</td>\n",
       "    </tr>\n",
       "    <tr>\n",
       "      <th>7501</th>\n",
       "      <td>#Salvini: Ho ricordato all’avvocato Conte che ...</td>\n",
       "      <td>negative</td>\n",
       "    </tr>\n",
       "    <tr>\n",
       "      <th>8437</th>\n",
       "      <td>Dobbiamo spingere sulla ripartenza. Dobbiamo c...</td>\n",
       "      <td>positive</td>\n",
       "    </tr>\n",
       "    <tr>\n",
       "      <th>217</th>\n",
       "      <td>Si mettano l’animo in pace: il #25settembre, s...</td>\n",
       "      <td>negative</td>\n",
       "    </tr>\n",
       "    <tr>\n",
       "      <th>14866</th>\n",
       "      <td>L’#Ucraina nella #UE? Per le scelte e la stori...</td>\n",
       "      <td>negative</td>\n",
       "    </tr>\n",
       "    <tr>\n",
       "      <th>...</th>\n",
       "      <td>...</td>\n",
       "      <td>...</td>\n",
       "    </tr>\n",
       "    <tr>\n",
       "      <th>9798</th>\n",
       "      <td>Zanda si ricordi che ancora tre giorni fa ripr...</td>\n",
       "      <td>negative</td>\n",
       "    </tr>\n",
       "    <tr>\n",
       "      <th>3421</th>\n",
       "      <td>.@berlusconi assolto a Siena nel processo Ruby...</td>\n",
       "      <td>negative</td>\n",
       "    </tr>\n",
       "    <tr>\n",
       "      <th>14328</th>\n",
       "      <td>A due anni dall'uscita della sentenza della Co...</td>\n",
       "      <td>negative</td>\n",
       "    </tr>\n",
       "    <tr>\n",
       "      <th>5133</th>\n",
       "      <td>Mentre in Italia la “giustizia” mette in galer...</td>\n",
       "      <td>negative</td>\n",
       "    </tr>\n",
       "    <tr>\n",
       "      <th>3269</th>\n",
       "      <td>Relazione per rafforzare l’Europa nella lotta ...</td>\n",
       "      <td>negative</td>\n",
       "    </tr>\n",
       "  </tbody>\n",
       "</table>\n",
       "<p>1000 rows × 2 columns</p>\n",
       "</div>"
      ],
      "text/plain": [
       "                                                sequence    labels\n",
       "101    Alla fine di questa avventura a me interesserà...  positive\n",
       "7501   #Salvini: Ho ricordato all’avvocato Conte che ...  negative\n",
       "8437   Dobbiamo spingere sulla ripartenza. Dobbiamo c...  positive\n",
       "217    Si mettano l’animo in pace: il #25settembre, s...  negative\n",
       "14866  L’#Ucraina nella #UE? Per le scelte e la stori...  negative\n",
       "...                                                  ...       ...\n",
       "9798   Zanda si ricordi che ancora tre giorni fa ripr...  negative\n",
       "3421   .@berlusconi assolto a Siena nel processo Ruby...  negative\n",
       "14328  A due anni dall'uscita della sentenza della Co...  negative\n",
       "5133   Mentre in Italia la “giustizia” mette in galer...  negative\n",
       "3269   Relazione per rafforzare l’Europa nella lotta ...  negative\n",
       "\n",
       "[1000 rows x 2 columns]"
      ]
     },
     "execution_count": 58,
     "metadata": {},
     "output_type": "execute_result"
    }
   ],
   "source": [
    "# Create a DataFrame with the results keeping the index\n",
    "zero_shot_df = pd.DataFrame.from_dict(zero_shot_sample, orient='index')\n",
    "zero_shot_df['tweets'] = sampled_tweets['Content']\n",
    "zero_shot_df.drop(columns=['tweets', 'scores'], inplace=True)\n",
    "zero_shot_df['labels'] = zero_shot_df['labels'].apply(lambda x: x[0])\n",
    "zero_shot_df"
   ]
  },
  {
   "cell_type": "code",
   "execution_count": 9,
   "metadata": {},
   "outputs": [],
   "source": [
    "# using the zero-shot classifier\n",
    "zero_shot = politicians_cleaned['Content'].apply(lambda x: classifier(x, candidate_labels=labels))\n",
    "\n",
    "zero_shot_df1= zero_shot.to_dict()"
   ]
  },
  {
   "cell_type": "code",
   "execution_count": 10,
   "metadata": {},
   "outputs": [
    {
     "data": {
      "text/html": [
       "<div>\n",
       "<style scoped>\n",
       "    .dataframe tbody tr th:only-of-type {\n",
       "        vertical-align: middle;\n",
       "    }\n",
       "\n",
       "    .dataframe tbody tr th {\n",
       "        vertical-align: top;\n",
       "    }\n",
       "\n",
       "    .dataframe thead th {\n",
       "        text-align: right;\n",
       "    }\n",
       "</style>\n",
       "<table border=\"1\" class=\"dataframe\">\n",
       "  <thead>\n",
       "    <tr style=\"text-align: right;\">\n",
       "      <th></th>\n",
       "      <th>sequence</th>\n",
       "      <th>labels</th>\n",
       "    </tr>\n",
       "  </thead>\n",
       "  <tbody>\n",
       "    <tr>\n",
       "      <th>0</th>\n",
       "      <td>Congratulations to @netanyahu on the formation...</td>\n",
       "      <td>positive</td>\n",
       "    </tr>\n",
       "    <tr>\n",
       "      <th>1</th>\n",
       "      <td>Vogliamo restituire a questa Nazione l’ottimis...</td>\n",
       "      <td>negative</td>\n",
       "    </tr>\n",
       "    <tr>\n",
       "      <th>2</th>\n",
       "      <td>Cordiale conversazione telefonica con @Zelensk...</td>\n",
       "      <td>positive</td>\n",
       "    </tr>\n",
       "    <tr>\n",
       "      <th>3</th>\n",
       "      <td>Franco Frattini era un uomo garbato e intellig...</td>\n",
       "      <td>negative</td>\n",
       "    </tr>\n",
       "    <tr>\n",
       "      <th>4</th>\n",
       "      <td>Proteggere la libertà religiosa è un obiettivo...</td>\n",
       "      <td>positive</td>\n",
       "    </tr>\n",
       "    <tr>\n",
       "      <th>...</th>\n",
       "      <td>...</td>\n",
       "      <td>...</td>\n",
       "    </tr>\n",
       "    <tr>\n",
       "      <th>17240</th>\n",
       "      <td>Conte o va al Quirinale o viene in aula subito...</td>\n",
       "      <td>negative</td>\n",
       "    </tr>\n",
       "    <tr>\n",
       "      <th>17241</th>\n",
       "      <td>Oltre al dannato Covid, oggi c’è un altro viru...</td>\n",
       "      <td>negative</td>\n",
       "    </tr>\n",
       "    <tr>\n",
       "      <th>17242</th>\n",
       "      <td>L'improvvisazione, le liti, l'incertezza di qu...</td>\n",
       "      <td>negative</td>\n",
       "    </tr>\n",
       "    <tr>\n",
       "      <th>17243</th>\n",
       "      <td>La situazione sta diventando insostenibile e i...</td>\n",
       "      <td>negative</td>\n",
       "    </tr>\n",
       "    <tr>\n",
       "      <th>17244</th>\n",
       "      <td>L'agonia del Governo rischia di mandare ancora...</td>\n",
       "      <td>negative</td>\n",
       "    </tr>\n",
       "  </tbody>\n",
       "</table>\n",
       "<p>17245 rows × 2 columns</p>\n",
       "</div>"
      ],
      "text/plain": [
       "                                                sequence    labels\n",
       "0      Congratulations to @netanyahu on the formation...  positive\n",
       "1      Vogliamo restituire a questa Nazione l’ottimis...  negative\n",
       "2      Cordiale conversazione telefonica con @Zelensk...  positive\n",
       "3      Franco Frattini era un uomo garbato e intellig...  negative\n",
       "4      Proteggere la libertà religiosa è un obiettivo...  positive\n",
       "...                                                  ...       ...\n",
       "17240  Conte o va al Quirinale o viene in aula subito...  negative\n",
       "17241  Oltre al dannato Covid, oggi c’è un altro viru...  negative\n",
       "17242  L'improvvisazione, le liti, l'incertezza di qu...  negative\n",
       "17243  La situazione sta diventando insostenibile e i...  negative\n",
       "17244  L'agonia del Governo rischia di mandare ancora...  negative\n",
       "\n",
       "[17245 rows x 2 columns]"
      ]
     },
     "execution_count": 10,
     "metadata": {},
     "output_type": "execute_result"
    }
   ],
   "source": [
    "# Create a DataFrame with the results keeping the index\n",
    "zero_shot_df1 = pd.DataFrame.from_dict(zero_shot_df1, orient='index')\n",
    "zero_shot_df1.drop(columns=['scores'], inplace=True)\n",
    "\n",
    "\n",
    "zero_shot_df1['labels'] = zero_shot_df1['labels'].apply(lambda x: x[0])\n",
    "zero_shot_df1"
   ]
  },
  {
   "cell_type": "code",
   "execution_count": 11,
   "metadata": {},
   "outputs": [
    {
     "data": {
      "text/plain": [
       "labels\n",
       "negative    11888\n",
       "positive     5149\n",
       "neutral       208\n",
       "Name: count, dtype: int64"
      ]
     },
     "execution_count": 11,
     "metadata": {},
     "output_type": "execute_result"
    }
   ],
   "source": [
    "zero_shot_df1['labels'].value_counts()"
   ]
  },
  {
   "cell_type": "code",
   "execution_count": 64,
   "metadata": {},
   "outputs": [],
   "source": [
    "# using the zero-shot classifier\n",
    "zero_shot = politicians_cleaned['processed_tweet'].apply(lambda x: classifier(x, candidate_labels=labels))\n",
    "\n",
    "zero_shot_df1= zero_shot.to_dict()"
   ]
  },
  {
   "cell_type": "code",
   "execution_count": 65,
   "metadata": {},
   "outputs": [
    {
     "data": {
      "text/html": [
       "<div>\n",
       "<style scoped>\n",
       "    .dataframe tbody tr th:only-of-type {\n",
       "        vertical-align: middle;\n",
       "    }\n",
       "\n",
       "    .dataframe tbody tr th {\n",
       "        vertical-align: top;\n",
       "    }\n",
       "\n",
       "    .dataframe thead th {\n",
       "        text-align: right;\n",
       "    }\n",
       "</style>\n",
       "<table border=\"1\" class=\"dataframe\">\n",
       "  <thead>\n",
       "    <tr style=\"text-align: right;\">\n",
       "      <th></th>\n",
       "      <th>sequence</th>\n",
       "      <th>labels</th>\n",
       "    </tr>\n",
       "  </thead>\n",
       "  <tbody>\n",
       "    <tr>\n",
       "      <th>0</th>\n",
       "      <td>congratulations to netanyahu on the formation ...</td>\n",
       "      <td>positive</td>\n",
       "    </tr>\n",
       "    <tr>\n",
       "      <th>1</th>\n",
       "      <td>vogliamo restituire a questa nazione lottimism...</td>\n",
       "      <td>negative</td>\n",
       "    </tr>\n",
       "    <tr>\n",
       "      <th>2</th>\n",
       "      <td>cordiale conversazione telefonica con zelensky...</td>\n",
       "      <td>negative</td>\n",
       "    </tr>\n",
       "    <tr>\n",
       "      <th>3</th>\n",
       "      <td>franco frattini era un uomo garbato e intellig...</td>\n",
       "      <td>positive</td>\n",
       "    </tr>\n",
       "    <tr>\n",
       "      <th>4</th>\n",
       "      <td>proteggere la libert religiosa  un obiettivo m...</td>\n",
       "      <td>positive</td>\n",
       "    </tr>\n",
       "    <tr>\n",
       "      <th>...</th>\n",
       "      <td>...</td>\n",
       "      <td>...</td>\n",
       "    </tr>\n",
       "    <tr>\n",
       "      <th>17240</th>\n",
       "      <td>conte o va al quirinale o viene in aula subito...</td>\n",
       "      <td>negative</td>\n",
       "    </tr>\n",
       "    <tr>\n",
       "      <th>17241</th>\n",
       "      <td>oltre al dannato covid oggi c un altro virus c...</td>\n",
       "      <td>negative</td>\n",
       "    </tr>\n",
       "    <tr>\n",
       "      <th>17242</th>\n",
       "      <td>limprovvisazione le liti lincertezza di questo...</td>\n",
       "      <td>negative</td>\n",
       "    </tr>\n",
       "    <tr>\n",
       "      <th>17243</th>\n",
       "      <td>la situazione sta diventando insostenibile e i...</td>\n",
       "      <td>negative</td>\n",
       "    </tr>\n",
       "    <tr>\n",
       "      <th>17244</th>\n",
       "      <td>lagonia del governo rischia di mandare ancora ...</td>\n",
       "      <td>negative</td>\n",
       "    </tr>\n",
       "  </tbody>\n",
       "</table>\n",
       "<p>17245 rows × 2 columns</p>\n",
       "</div>"
      ],
      "text/plain": [
       "                                                sequence    labels\n",
       "0      congratulations to netanyahu on the formation ...  positive\n",
       "1      vogliamo restituire a questa nazione lottimism...  negative\n",
       "2      cordiale conversazione telefonica con zelensky...  negative\n",
       "3      franco frattini era un uomo garbato e intellig...  positive\n",
       "4      proteggere la libert religiosa  un obiettivo m...  positive\n",
       "...                                                  ...       ...\n",
       "17240  conte o va al quirinale o viene in aula subito...  negative\n",
       "17241  oltre al dannato covid oggi c un altro virus c...  negative\n",
       "17242  limprovvisazione le liti lincertezza di questo...  negative\n",
       "17243  la situazione sta diventando insostenibile e i...  negative\n",
       "17244  lagonia del governo rischia di mandare ancora ...  negative\n",
       "\n",
       "[17245 rows x 2 columns]"
      ]
     },
     "execution_count": 65,
     "metadata": {},
     "output_type": "execute_result"
    }
   ],
   "source": [
    "# Create a DataFrame with the results keeping the index\n",
    "zero_shot_df1 = pd.DataFrame.from_dict(zero_shot_df1, orient='index')\n",
    "zero_shot_df1.drop(columns=['scores'], inplace=True)\n",
    "\n",
    "\n",
    "zero_shot_df1['labels'] = zero_shot_df1['labels'].apply(lambda x: x[0])\n",
    "zero_shot_df1"
   ]
  },
  {
   "cell_type": "code",
   "execution_count": 66,
   "metadata": {},
   "outputs": [
    {
     "data": {
      "text/plain": [
       "labels\n",
       "negative    12743\n",
       "positive     4213\n",
       "neutral       289\n",
       "Name: count, dtype: int64"
      ]
     },
     "execution_count": 66,
     "metadata": {},
     "output_type": "execute_result"
    }
   ],
   "source": [
    "zero_shot_df1['labels'].value_counts()"
   ]
  },
  {
   "cell_type": "markdown",
   "metadata": {},
   "source": [
    "---\n",
    "\n",
    "## Vader on translated tweets"
   ]
  },
  {
   "cell_type": "code",
   "execution_count": 12,
   "metadata": {},
   "outputs": [],
   "source": [
    "from langdetect import detect\n",
    "from vaderSentiment.vaderSentiment import SentimentIntensityAnalyzer\n",
    "from deep_translator import GoogleTranslator\n",
    "import pandas as pd\n",
    "\n",
    "analyzer = SentimentIntensityAnalyzer()\n",
    "\n",
    "def analyze_multilingual_sentiment(text):\n",
    "    try:\n",
    "        lang = detect(text)\n",
    "        if lang == 'en':\n",
    "            text_en = text\n",
    "        elif lang == 'it':\n",
    "            text_en = GoogleTranslator(source='it', target='en').translate(text)\n",
    "        else:\n",
    "            return 'unsupported', {\"neg\": 0, \"neu\": 0, \"pos\": 0, \"compound\": 0}\n",
    "        \n",
    "        scores = analyzer.polarity_scores(text_en)\n",
    "        compound = scores['compound']\n",
    "        if compound >= 0.05:\n",
    "            sentiment = 'positive'\n",
    "        elif compound <= -0.05:\n",
    "            sentiment = 'negative'\n",
    "        else:\n",
    "            sentiment = 'neutral'\n",
    "        return sentiment, scores\n",
    "    except Exception as e:\n",
    "        return \"error\", {\"neg\": 0, \"neu\": 0, \"pos\": 0, \"compound\": 0}\n"
   ]
  },
  {
   "cell_type": "code",
   "execution_count": 13,
   "metadata": {},
   "outputs": [],
   "source": [
    "sampled = politicians_cleaned.sample(n=1000, random_state=42)\n"
   ]
  },
  {
   "cell_type": "code",
   "execution_count": 14,
   "metadata": {},
   "outputs": [],
   "source": [
    "\n",
    "results = sampled['Content'].apply(analyze_multilingual_sentiment)\n"
   ]
  },
  {
   "cell_type": "code",
   "execution_count": 16,
   "metadata": {},
   "outputs": [],
   "source": [
    "\n",
    "sampled['vader_sentiment'], vader_scores = zip(*results)\n",
    "vader_df = pd.DataFrame(vader_scores)\n",
    "sampled = pd.concat([sampled.reset_index(drop=True), vader_df.reset_index(drop=True)], axis=1)\n",
    "\n",
    "final = sampled[['Content', 'vader_sentiment']]"
   ]
  },
  {
   "cell_type": "code",
   "execution_count": null,
   "metadata": {},
   "outputs": [],
   "source": []
  },
  {
   "cell_type": "code",
   "execution_count": null,
   "metadata": {},
   "outputs": [],
   "source": [
    "results = politicians_cleaned['processed_tweet'].apply(analyze_multilingual_sentiment)"
   ]
  },
  {
   "cell_type": "code",
   "execution_count": null,
   "metadata": {},
   "outputs": [],
   "source": [
    "politicians_cleaned['vader_sentiment'], vader_scores = zip(*results)\n",
    "vader_df = pd.DataFrame(vader_scores)\n",
    "politicians_cleaned = pd.concat([politicians_cleaned.reset_index(drop=True), vader_df.reset_index(drop=True)], axis=1)\n",
    "\n",
    "print(politicians_cleaned[['Content', 'vader_sentiment']].head())"
   ]
  },
  {
   "cell_type": "code",
   "execution_count": null,
   "metadata": {},
   "outputs": [],
   "source": [
    "politicians_cleaned['vader_sentiment'].value_counts()"
   ]
  }
 ],
 "metadata": {
  "kernelspec": {
   "display_name": "base",
   "language": "python",
   "name": "python3"
  },
  "language_info": {
   "codemirror_mode": {
    "name": "ipython",
    "version": 3
   },
   "file_extension": ".py",
   "mimetype": "text/x-python",
   "name": "python",
   "nbconvert_exporter": "python",
   "pygments_lexer": "ipython3",
   "version": "3.12.4"
  }
 },
 "nbformat": 4,
 "nbformat_minor": 2
}
