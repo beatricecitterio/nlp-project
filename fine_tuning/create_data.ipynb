{
 "cells": [
  {
   "cell_type": "code",
   "execution_count": 9,
   "id": "f398b33e",
   "metadata": {},
   "outputs": [],
   "source": [
    "import json\n",
    "import os\n",
    "import pandas as pd\n",
    "os.chdir('../politicians_data')"
   ]
  },
  {
   "cell_type": "code",
   "execution_count": 10,
   "id": "9d819524",
   "metadata": {},
   "outputs": [],
   "source": [
    "topics_right = pd.read_csv('topics_right.csv')\n",
    "# in topics_right 'TopicNumber' contains the label of the topic. Use it as key in a dictionary and as value the column 'TopicWords'\n",
    "# the result is a dictionary where the key is the topic number and the value is the topic words\n",
    "topics_dict = {}\n",
    "for index, row in topics_right.iterrows():\n",
    "    topic_number = row['TopicNumber']\n",
    "    topic_words = row['TopicName']\n",
    "    topics_dict[topic_number] = topic_words\n",
    "\n",
    "topics_to_topics = {}\n",
    "# create a dictionary where the key is the topic number and the value is the macro topic\n",
    "for index, row in topics_right.iterrows():\n",
    "    topic_number = row['TopicNumber']\n",
    "    macro_topic = row['MacroTopic']\n",
    "    topics_to_topics[topic_number] = macro_topic\n",
    "\n",
    "topics_to_words = {}\n",
    "# create a dictionary where the key is the topic number and the value is the topic words\n",
    "for index, row in topics_right.iterrows():\n",
    "    topic_number = row['TopicNumber']\n",
    "    topic_words = row['Keywords']\n",
    "    topics_to_words[topic_number] = topic_words"
   ]
  },
  {
   "cell_type": "code",
   "execution_count": 11,
   "id": "1a6a367b",
   "metadata": {},
   "outputs": [],
   "source": [
    "tweets_right = pd.read_csv('right_wing.csv')\n",
    "\n",
    "#Create a new dataframe with the following columns from tweets_right: 'Content', 'Party' (set all to 'right'), 'Dominant_Topic'\n",
    "# and then replace the 'Dominant_Topic' with the corresponding topic words from topics_dict\n",
    "tweets_right['Party'] = 'Destra'\n",
    "tweets_right['Macro_Topic'] = tweets_right['Dominant_Topic'].map(topics_to_topics)\n",
    "tweets_right['Topic_Words'] = tweets_right['Dominant_Topic'].map(topics_to_words)\n",
    "tweets_right['Dominant_Topic'] = tweets_right['Dominant_Topic'].map(topics_dict)\n",
    "tweets_right = tweets_right[['Content', 'Party', 'Dominant_Topic', 'Macro_Topic', 'Topic_Words']]\n"
   ]
  },
  {
   "cell_type": "code",
   "execution_count": 12,
   "id": "f02ef9ed",
   "metadata": {},
   "outputs": [],
   "source": [
    "# do the same for tweets_left\n",
    "tweets_left = pd.read_csv('left_wing.csv')\n",
    "# recreate all the dictionaries for the left wing tweets\n",
    "topics_left = pd.read_csv('topics_left.csv')\n",
    "topics_dict = {}\n",
    "for index, row in topics_left.iterrows():\n",
    "    topic_number = row['TopicNumber']\n",
    "    topic_words = row['TopicName']\n",
    "    topics_dict[topic_number] = topic_words\n",
    "\n",
    "topics_to_topics = {}\n",
    "for index, row in topics_left.iterrows():\n",
    "    topic_number = row['TopicNumber']\n",
    "    macro_topic = row['MacroTopic']\n",
    "    topics_to_topics[topic_number] = macro_topic\n",
    "\n",
    "topics_to_words = {}\n",
    "for index, row in topics_left.iterrows():\n",
    "    topic_number = row['TopicNumber']\n",
    "    topic_words = row['Keywords']\n",
    "    topics_to_words[topic_number] = topic_words\n",
    "\n",
    "#Create a new dataframe with the following columns from tweets_left: 'Content', 'Party' (set all to 'left'), 'Dominant_Topic'\n",
    "# and then replace the 'Dominant_Topic' with the corresponding topic words from topics_dict\n",
    "tweets_left['Party'] = 'Sinistra'\n",
    "tweets_left['Macro_Topic'] = tweets_left['Dominant_Topic'].map(topics_to_topics)\n",
    "tweets_left['Topic_Words'] = tweets_left['Dominant_Topic'].map(topics_to_words)\n",
    "tweets_left['Dominant_Topic'] = tweets_left['Dominant_Topic'].map(topics_dict)\n",
    "tweets_left = tweets_left[['Content', 'Party', 'Dominant_Topic', 'Macro_Topic', 'Topic_Words']]\n"
   ]
  },
  {
   "cell_type": "code",
   "execution_count": 13,
   "id": "fab322ab",
   "metadata": {},
   "outputs": [],
   "source": [
    "# concatenate the two dataframes\n",
    "tweets = pd.concat([tweets_right, tweets_left], ignore_index=True)"
   ]
  },
  {
   "cell_type": "code",
   "execution_count": 14,
   "id": "fc654979",
   "metadata": {},
   "outputs": [],
   "source": [
    "# export the dataframe to a csv file\n",
    "tweets.to_csv('fine_tune_data.csv', index=False)"
   ]
  }
 ],
 "metadata": {
  "kernelspec": {
   "display_name": "myenv",
   "language": "python",
   "name": "python3"
  },
  "language_info": {
   "codemirror_mode": {
    "name": "ipython",
    "version": 3
   },
   "file_extension": ".py",
   "mimetype": "text/x-python",
   "name": "python",
   "nbconvert_exporter": "python",
   "pygments_lexer": "ipython3",
   "version": "3.12.9"
  }
 },
 "nbformat": 4,
 "nbformat_minor": 5
}
