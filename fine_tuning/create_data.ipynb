{
 "cells": [
  {
   "cell_type": "code",
   "execution_count": 1,
   "id": "f398b33e",
   "metadata": {},
   "outputs": [],
   "source": [
    "import json\n",
    "import os\n",
    "import pandas as pd\n",
    "os.chdir('../politicians_data')"
   ]
  },
  {
   "cell_type": "code",
   "execution_count": 4,
   "id": "9d819524",
   "metadata": {},
   "outputs": [],
   "source": [
    "topics_right = pd.read_csv('topics_right.csv')\n",
    "# in topics_right 'TopicNumber' contains the label of the topic. Use it as key in a dictionary and as value the column 'TopicWords'\n",
    "# the result is a dictionary where the key is the topic number and the value is the topic words\n",
    "topics_dict = {}\n",
    "for index, row in topics_right.iterrows():\n",
    "    topic_number = row['TopicNumber']\n",
    "    topic_words = row['TopicWords']\n",
    "    topics_dict[topic_number] = topic_words"
   ]
  },
  {
   "cell_type": "code",
   "execution_count": null,
   "id": "1a6a367b",
   "metadata": {},
   "outputs": [],
   "source": [
    "tweets_right = pd.read_csv('right_wing.csv')\n",
    "\n",
    "#Create a new dataframe with the following columns from tweets_right: 'Content', 'Party' (set all to 'right'), 'Dominant_Topic'\n",
    "# and then replace the 'Dominant_Topic' with the corresponding topic words from topics_dict\n",
    "tweets_right['Party'] = 'right'\n",
    "tweets_right['Dominant_Topic'] = tweets_right['Dominant_Topic'].map(topics_dict)\n",
    "tweets_right = tweets_right[['Content', 'Party', 'Dominant_Topic']]\n",
    "\n",
    "# Change "
   ]
  }
 ],
 "metadata": {
  "kernelspec": {
   "display_name": "myenv",
   "language": "python",
   "name": "python3"
  },
  "language_info": {
   "codemirror_mode": {
    "name": "ipython",
    "version": 3
   },
   "file_extension": ".py",
   "mimetype": "text/x-python",
   "name": "python",
   "nbconvert_exporter": "python",
   "pygments_lexer": "ipython3",
   "version": "3.12.9"
  }
 },
 "nbformat": 4,
 "nbformat_minor": 5
}
